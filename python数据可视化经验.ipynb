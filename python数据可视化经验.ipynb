{
 "cells": [
  {
   "cell_type": "code",
   "execution_count": null,
   "metadata": {},
   "outputs": [],
   "source": [
    "# "
   ]
  },
  {
   "cell_type": "code",
   "execution_count": 1,
   "metadata": {},
   "outputs": [],
   "source": [
    "import re"
   ]
  },
  {
   "cell_type": "code",
   "execution_count": 1,
   "metadata": {},
   "outputs": [],
   "source": [
    "import numpy as np\n",
    "import matplotlib.pyplot as plt\n",
    "from mpl_toolkits.mplot3d import Axes3D"
   ]
  },
  {
   "cell_type": "code",
   "execution_count": 23,
   "metadata": {},
   "outputs": [],
   "source": [
    "from sklearn import decomposition\n",
    "from sklearn import datasets"
   ]
  },
  {
   "cell_type": "code",
   "execution_count": null,
   "metadata": {},
   "outputs": [],
   "source": [
    "np.random.seed(5)\n",
    "\n",
    "centers = [[1, 1], [-1, -1], [1, -1]]\n",
    "iris = datasets.load_iris()\n",
    "X = iris.data\n",
    "y = iris.target\n",
    "\n",
    "fig = plt.figure(1, figsize=(4, 3))\n",
    "plt.clf()\n",
    "ax = Axes3D(fig, rect=[0, 0, .95, 1], elev=48, azim=134)\n",
    "\n",
    "plt.cla()\n",
    "pca = decomposition.PCA(n_components=3)\n",
    "pca.fit(X)\n",
    "X = pca.transform(X)\n",
    "\n",
    "for name, label in [('Setosa', 0), ('Versicolour', 1), ('Virginica', 2)]:\n",
    "    ax.text3D(X[y == label, 0].mean(),\n",
    "              X[y == label, 1].mean() + 1.5,\n",
    "              X[y == label, 2].mean(), name,\n",
    "              horizontalalignment='center',\n",
    "              bbox=dict(alpha=.5, edgecolor='w', facecolor='w'))\n",
    "# Reorder the labels to have colors matching the cluster results\n",
    "y = np.choose(y, [1, 2, 0]).astype(np.float)\n",
    "ax.scatter(X[:, 0], X[:, 1], X[:, 2], c=y, cmap=plt.cm.nipy_spectral,\n",
    "           edgecolor='k')\n",
    "\n",
    "ax.w_xaxis.set_ticklabels([])\n",
    "ax.w_yaxis.set_ticklabels([])\n",
    "ax.w_zaxis.set_ticklabels([])\n",
    "\n",
    "plt.show()"
   ]
  },
  {
   "cell_type": "markdown",
   "metadata": {},
   "source": [
    "## F19FTSCCWLJ0172_RRBkdnM Analysis"
   ]
  },
  {
   "cell_type": "code",
   "execution_count": 1,
   "metadata": {},
   "outputs": [],
   "source": [
    "import numpy as np\n",
    "import pandas as pd\n",
    "import matplotlib.pyplot as plt"
   ]
  },
  {
   "cell_type": "code",
   "execution_count": 2,
   "metadata": {},
   "outputs": [],
   "source": [
    "ab = pd.read_table('A_B-CFP.info.addpv',header=None,names=['GO term','Annotation','t1','t2','t3','t4','PV'])"
   ]
  },
  {
   "cell_type": "code",
   "execution_count": 3,
   "metadata": {},
   "outputs": [
    {
     "data": {
      "text/html": [
       "<div>\n",
       "<style scoped>\n",
       "    .dataframe tbody tr th:only-of-type {\n",
       "        vertical-align: middle;\n",
       "    }\n",
       "\n",
       "    .dataframe tbody tr th {\n",
       "        vertical-align: top;\n",
       "    }\n",
       "\n",
       "    .dataframe thead th {\n",
       "        text-align: right;\n",
       "    }\n",
       "</style>\n",
       "<table border=\"1\" class=\"dataframe\">\n",
       "  <thead>\n",
       "    <tr style=\"text-align: right;\">\n",
       "      <th></th>\n",
       "      <th>GO term</th>\n",
       "      <th>Annotation</th>\n",
       "      <th>t1</th>\n",
       "      <th>t2</th>\n",
       "      <th>t3</th>\n",
       "      <th>t4</th>\n",
       "      <th>PV</th>\n",
       "    </tr>\n",
       "  </thead>\n",
       "  <tbody>\n",
       "    <tr>\n",
       "      <th>0</th>\n",
       "      <td>GO:0031234</td>\n",
       "      <td>extrinsic component of cytoplasmic side of pla...</td>\n",
       "      <td>3</td>\n",
       "      <td>49</td>\n",
       "      <td>94</td>\n",
       "      <td>16781</td>\n",
       "      <td>0.003290</td>\n",
       "    </tr>\n",
       "    <tr>\n",
       "      <th>1</th>\n",
       "      <td>GO:0019897</td>\n",
       "      <td>extrinsic component of plasma membrane</td>\n",
       "      <td>3</td>\n",
       "      <td>49</td>\n",
       "      <td>133</td>\n",
       "      <td>16781</td>\n",
       "      <td>0.008361</td>\n",
       "    </tr>\n",
       "    <tr>\n",
       "      <th>2</th>\n",
       "      <td>GO:0055037</td>\n",
       "      <td>recycling endosome</td>\n",
       "      <td>3</td>\n",
       "      <td>49</td>\n",
       "      <td>142</td>\n",
       "      <td>16781</td>\n",
       "      <td>0.009940</td>\n",
       "    </tr>\n",
       "    <tr>\n",
       "      <th>3</th>\n",
       "      <td>GO:0009898</td>\n",
       "      <td>cytoplasmic side of plasma membrane</td>\n",
       "      <td>3</td>\n",
       "      <td>49</td>\n",
       "      <td>156</td>\n",
       "      <td>16781</td>\n",
       "      <td>0.012716</td>\n",
       "    </tr>\n",
       "    <tr>\n",
       "      <th>4</th>\n",
       "      <td>GO:0055038</td>\n",
       "      <td>recycling endosome membrane</td>\n",
       "      <td>2</td>\n",
       "      <td>49</td>\n",
       "      <td>54</td>\n",
       "      <td>16781</td>\n",
       "      <td>0.012412</td>\n",
       "    </tr>\n",
       "  </tbody>\n",
       "</table>\n",
       "</div>"
      ],
      "text/plain": [
       "      GO term                                         Annotation  t1  t2   t3  \\\n",
       "0  GO:0031234  extrinsic component of cytoplasmic side of pla...   3  49   94   \n",
       "1  GO:0019897             extrinsic component of plasma membrane   3  49  133   \n",
       "2  GO:0055037                                 recycling endosome   3  49  142   \n",
       "3  GO:0009898                cytoplasmic side of plasma membrane   3  49  156   \n",
       "4  GO:0055038                        recycling endosome membrane   2  49   54   \n",
       "\n",
       "      t4        PV  \n",
       "0  16781  0.003290  \n",
       "1  16781  0.008361  \n",
       "2  16781  0.009940  \n",
       "3  16781  0.012716  \n",
       "4  16781  0.012412  "
      ]
     },
     "execution_count": 3,
     "metadata": {},
     "output_type": "execute_result"
    }
   ],
   "source": [
    "ab.head()"
   ]
  },
  {
   "cell_type": "code",
   "execution_count": 4,
   "metadata": {},
   "outputs": [],
   "source": [
    "cd = pd.read_table('C_D-CFP.info.addpv',header=None,names=['GO term','Annotation','t1','t2','t3','t4','PV'])"
   ]
  },
  {
   "cell_type": "code",
   "execution_count": 5,
   "metadata": {},
   "outputs": [
    {
     "data": {
      "text/html": [
       "<div>\n",
       "<style scoped>\n",
       "    .dataframe tbody tr th:only-of-type {\n",
       "        vertical-align: middle;\n",
       "    }\n",
       "\n",
       "    .dataframe tbody tr th {\n",
       "        vertical-align: top;\n",
       "    }\n",
       "\n",
       "    .dataframe thead th {\n",
       "        text-align: right;\n",
       "    }\n",
       "</style>\n",
       "<table border=\"1\" class=\"dataframe\">\n",
       "  <thead>\n",
       "    <tr style=\"text-align: right;\">\n",
       "      <th></th>\n",
       "      <th>GO term</th>\n",
       "      <th>Annotation</th>\n",
       "      <th>t1</th>\n",
       "      <th>t2</th>\n",
       "      <th>t3</th>\n",
       "      <th>t4</th>\n",
       "      <th>PV</th>\n",
       "    </tr>\n",
       "  </thead>\n",
       "  <tbody>\n",
       "    <tr>\n",
       "      <th>0</th>\n",
       "      <td>GO:0005887</td>\n",
       "      <td>integral component of plasma membrane</td>\n",
       "      <td>3</td>\n",
       "      <td>5</td>\n",
       "      <td>1508</td>\n",
       "      <td>16781</td>\n",
       "      <td>0.022947</td>\n",
       "    </tr>\n",
       "    <tr>\n",
       "      <th>1</th>\n",
       "      <td>GO:0031226</td>\n",
       "      <td>intrinsic component of plasma membrane</td>\n",
       "      <td>3</td>\n",
       "      <td>5</td>\n",
       "      <td>1565</td>\n",
       "      <td>16781</td>\n",
       "      <td>0.025125</td>\n",
       "    </tr>\n",
       "    <tr>\n",
       "      <th>2</th>\n",
       "      <td>GO:0044459</td>\n",
       "      <td>plasma membrane part</td>\n",
       "      <td>3</td>\n",
       "      <td>5</td>\n",
       "      <td>2492</td>\n",
       "      <td>16781</td>\n",
       "      <td>0.073368</td>\n",
       "    </tr>\n",
       "    <tr>\n",
       "      <th>3</th>\n",
       "      <td>GO:0005886</td>\n",
       "      <td>plasma membrane</td>\n",
       "      <td>3</td>\n",
       "      <td>5</td>\n",
       "      <td>4856</td>\n",
       "      <td>16781</td>\n",
       "      <td>0.389998</td>\n",
       "    </tr>\n",
       "    <tr>\n",
       "      <th>4</th>\n",
       "      <td>GO:0071944</td>\n",
       "      <td>cell periphery</td>\n",
       "      <td>3</td>\n",
       "      <td>5</td>\n",
       "      <td>4958</td>\n",
       "      <td>16781</td>\n",
       "      <td>0.393847</td>\n",
       "    </tr>\n",
       "  </tbody>\n",
       "</table>\n",
       "</div>"
      ],
      "text/plain": [
       "      GO term                              Annotation  t1  t2    t3     t4  \\\n",
       "0  GO:0005887   integral component of plasma membrane   3   5  1508  16781   \n",
       "1  GO:0031226  intrinsic component of plasma membrane   3   5  1565  16781   \n",
       "2  GO:0044459                    plasma membrane part   3   5  2492  16781   \n",
       "3  GO:0005886                         plasma membrane   3   5  4856  16781   \n",
       "4  GO:0071944                          cell periphery   3   5  4958  16781   \n",
       "\n",
       "         PV  \n",
       "0  0.022947  \n",
       "1  0.025125  \n",
       "2  0.073368  \n",
       "3  0.389998  \n",
       "4  0.393847  "
      ]
     },
     "execution_count": 5,
     "metadata": {},
     "output_type": "execute_result"
    }
   ],
   "source": [
    "cd.head()"
   ]
  },
  {
   "cell_type": "code",
   "execution_count": 7,
   "metadata": {},
   "outputs": [],
   "source": [
    "abcd_merge = ab.merge(cd,how='outer',on='GO term')"
   ]
  },
  {
   "cell_type": "code",
   "execution_count": 9,
   "metadata": {},
   "outputs": [
    {
     "data": {
      "text/html": [
       "<div>\n",
       "<style scoped>\n",
       "    .dataframe tbody tr th:only-of-type {\n",
       "        vertical-align: middle;\n",
       "    }\n",
       "\n",
       "    .dataframe tbody tr th {\n",
       "        vertical-align: top;\n",
       "    }\n",
       "\n",
       "    .dataframe thead th {\n",
       "        text-align: right;\n",
       "    }\n",
       "</style>\n",
       "<table border=\"1\" class=\"dataframe\">\n",
       "  <thead>\n",
       "    <tr style=\"text-align: right;\">\n",
       "      <th></th>\n",
       "      <th>GO term</th>\n",
       "      <th>Annotation_x</th>\n",
       "      <th>t1_x</th>\n",
       "      <th>t2_x</th>\n",
       "      <th>t3_x</th>\n",
       "      <th>t4_x</th>\n",
       "      <th>PV_x</th>\n",
       "      <th>Annotation_y</th>\n",
       "      <th>t1_y</th>\n",
       "      <th>t2_y</th>\n",
       "      <th>t3_y</th>\n",
       "      <th>t4_y</th>\n",
       "      <th>PV_y</th>\n",
       "    </tr>\n",
       "  </thead>\n",
       "  <tbody>\n",
       "    <tr>\n",
       "      <th>0</th>\n",
       "      <td>GO:0031234</td>\n",
       "      <td>extrinsic component of cytoplasmic side of pla...</td>\n",
       "      <td>3.0</td>\n",
       "      <td>49.0</td>\n",
       "      <td>94.0</td>\n",
       "      <td>16781.0</td>\n",
       "      <td>0.003290</td>\n",
       "      <td>NaN</td>\n",
       "      <td>NaN</td>\n",
       "      <td>NaN</td>\n",
       "      <td>NaN</td>\n",
       "      <td>NaN</td>\n",
       "      <td>NaN</td>\n",
       "    </tr>\n",
       "    <tr>\n",
       "      <th>1</th>\n",
       "      <td>GO:0019897</td>\n",
       "      <td>extrinsic component of plasma membrane</td>\n",
       "      <td>3.0</td>\n",
       "      <td>49.0</td>\n",
       "      <td>133.0</td>\n",
       "      <td>16781.0</td>\n",
       "      <td>0.008361</td>\n",
       "      <td>NaN</td>\n",
       "      <td>NaN</td>\n",
       "      <td>NaN</td>\n",
       "      <td>NaN</td>\n",
       "      <td>NaN</td>\n",
       "      <td>NaN</td>\n",
       "    </tr>\n",
       "    <tr>\n",
       "      <th>2</th>\n",
       "      <td>GO:0055037</td>\n",
       "      <td>recycling endosome</td>\n",
       "      <td>3.0</td>\n",
       "      <td>49.0</td>\n",
       "      <td>142.0</td>\n",
       "      <td>16781.0</td>\n",
       "      <td>0.009940</td>\n",
       "      <td>NaN</td>\n",
       "      <td>NaN</td>\n",
       "      <td>NaN</td>\n",
       "      <td>NaN</td>\n",
       "      <td>NaN</td>\n",
       "      <td>NaN</td>\n",
       "    </tr>\n",
       "    <tr>\n",
       "      <th>3</th>\n",
       "      <td>GO:0009898</td>\n",
       "      <td>cytoplasmic side of plasma membrane</td>\n",
       "      <td>3.0</td>\n",
       "      <td>49.0</td>\n",
       "      <td>156.0</td>\n",
       "      <td>16781.0</td>\n",
       "      <td>0.012716</td>\n",
       "      <td>NaN</td>\n",
       "      <td>NaN</td>\n",
       "      <td>NaN</td>\n",
       "      <td>NaN</td>\n",
       "      <td>NaN</td>\n",
       "      <td>NaN</td>\n",
       "    </tr>\n",
       "    <tr>\n",
       "      <th>4</th>\n",
       "      <td>GO:0055038</td>\n",
       "      <td>recycling endosome membrane</td>\n",
       "      <td>2.0</td>\n",
       "      <td>49.0</td>\n",
       "      <td>54.0</td>\n",
       "      <td>16781.0</td>\n",
       "      <td>0.012412</td>\n",
       "      <td>NaN</td>\n",
       "      <td>NaN</td>\n",
       "      <td>NaN</td>\n",
       "      <td>NaN</td>\n",
       "      <td>NaN</td>\n",
       "      <td>NaN</td>\n",
       "    </tr>\n",
       "  </tbody>\n",
       "</table>\n",
       "</div>"
      ],
      "text/plain": [
       "      GO term                                       Annotation_x  t1_x  t2_x  \\\n",
       "0  GO:0031234  extrinsic component of cytoplasmic side of pla...   3.0  49.0   \n",
       "1  GO:0019897             extrinsic component of plasma membrane   3.0  49.0   \n",
       "2  GO:0055037                                 recycling endosome   3.0  49.0   \n",
       "3  GO:0009898                cytoplasmic side of plasma membrane   3.0  49.0   \n",
       "4  GO:0055038                        recycling endosome membrane   2.0  49.0   \n",
       "\n",
       "    t3_x     t4_x      PV_x Annotation_y  t1_y  t2_y  t3_y  t4_y  PV_y  \n",
       "0   94.0  16781.0  0.003290          NaN   NaN   NaN   NaN   NaN   NaN  \n",
       "1  133.0  16781.0  0.008361          NaN   NaN   NaN   NaN   NaN   NaN  \n",
       "2  142.0  16781.0  0.009940          NaN   NaN   NaN   NaN   NaN   NaN  \n",
       "3  156.0  16781.0  0.012716          NaN   NaN   NaN   NaN   NaN   NaN  \n",
       "4   54.0  16781.0  0.012412          NaN   NaN   NaN   NaN   NaN   NaN  "
      ]
     },
     "execution_count": 9,
     "metadata": {},
     "output_type": "execute_result"
    }
   ],
   "source": [
    "abcd_merge.head()"
   ]
  },
  {
   "cell_type": "code",
   "execution_count": 13,
   "metadata": {},
   "outputs": [],
   "source": [
    "abcd_merge_t1 = abcd_merge.query('(PV_x<=0.05) | (PV_y <=0.05)')[['GO term','Annotation_x','Annotation_y','PV_x','PV_y']]"
   ]
  },
  {
   "cell_type": "code",
   "execution_count": 14,
   "metadata": {},
   "outputs": [
    {
     "data": {
      "text/html": [
       "<div>\n",
       "<style scoped>\n",
       "    .dataframe tbody tr th:only-of-type {\n",
       "        vertical-align: middle;\n",
       "    }\n",
       "\n",
       "    .dataframe tbody tr th {\n",
       "        vertical-align: top;\n",
       "    }\n",
       "\n",
       "    .dataframe thead th {\n",
       "        text-align: right;\n",
       "    }\n",
       "</style>\n",
       "<table border=\"1\" class=\"dataframe\">\n",
       "  <thead>\n",
       "    <tr style=\"text-align: right;\">\n",
       "      <th></th>\n",
       "      <th>GO term</th>\n",
       "      <th>Annotation_x</th>\n",
       "      <th>Annotation_y</th>\n",
       "      <th>PV_x</th>\n",
       "      <th>PV_y</th>\n",
       "    </tr>\n",
       "  </thead>\n",
       "  <tbody>\n",
       "    <tr>\n",
       "      <th>0</th>\n",
       "      <td>GO:0031234</td>\n",
       "      <td>extrinsic component of cytoplasmic side of pla...</td>\n",
       "      <td>NaN</td>\n",
       "      <td>0.003290</td>\n",
       "      <td>NaN</td>\n",
       "    </tr>\n",
       "    <tr>\n",
       "      <th>1</th>\n",
       "      <td>GO:0019897</td>\n",
       "      <td>extrinsic component of plasma membrane</td>\n",
       "      <td>NaN</td>\n",
       "      <td>0.008361</td>\n",
       "      <td>NaN</td>\n",
       "    </tr>\n",
       "    <tr>\n",
       "      <th>2</th>\n",
       "      <td>GO:0055037</td>\n",
       "      <td>recycling endosome</td>\n",
       "      <td>NaN</td>\n",
       "      <td>0.009940</td>\n",
       "      <td>NaN</td>\n",
       "    </tr>\n",
       "    <tr>\n",
       "      <th>3</th>\n",
       "      <td>GO:0009898</td>\n",
       "      <td>cytoplasmic side of plasma membrane</td>\n",
       "      <td>NaN</td>\n",
       "      <td>0.012716</td>\n",
       "      <td>NaN</td>\n",
       "    </tr>\n",
       "    <tr>\n",
       "      <th>4</th>\n",
       "      <td>GO:0055038</td>\n",
       "      <td>recycling endosome membrane</td>\n",
       "      <td>NaN</td>\n",
       "      <td>0.012412</td>\n",
       "      <td>NaN</td>\n",
       "    </tr>\n",
       "  </tbody>\n",
       "</table>\n",
       "</div>"
      ],
      "text/plain": [
       "      GO term                                       Annotation_x Annotation_y  \\\n",
       "0  GO:0031234  extrinsic component of cytoplasmic side of pla...          NaN   \n",
       "1  GO:0019897             extrinsic component of plasma membrane          NaN   \n",
       "2  GO:0055037                                 recycling endosome          NaN   \n",
       "3  GO:0009898                cytoplasmic side of plasma membrane          NaN   \n",
       "4  GO:0055038                        recycling endosome membrane          NaN   \n",
       "\n",
       "       PV_x  PV_y  \n",
       "0  0.003290   NaN  \n",
       "1  0.008361   NaN  \n",
       "2  0.009940   NaN  \n",
       "3  0.012716   NaN  \n",
       "4  0.012412   NaN  "
      ]
     },
     "execution_count": 14,
     "metadata": {},
     "output_type": "execute_result"
    }
   ],
   "source": [
    "abcd_merge_t1.head()"
   ]
  },
  {
   "cell_type": "code",
   "execution_count": 20,
   "metadata": {},
   "outputs": [],
   "source": [
    "abcd_merge_t1.PV_y.fillna(value=1,inplace=True)"
   ]
  },
  {
   "cell_type": "code",
   "execution_count": 22,
   "metadata": {},
   "outputs": [],
   "source": [
    "abcd_merge_t1.PV_x.fillna(value=1,inplace=True)"
   ]
  },
  {
   "cell_type": "code",
   "execution_count": 23,
   "metadata": {},
   "outputs": [
    {
     "data": {
      "text/html": [
       "<div>\n",
       "<style scoped>\n",
       "    .dataframe tbody tr th:only-of-type {\n",
       "        vertical-align: middle;\n",
       "    }\n",
       "\n",
       "    .dataframe tbody tr th {\n",
       "        vertical-align: top;\n",
       "    }\n",
       "\n",
       "    .dataframe thead th {\n",
       "        text-align: right;\n",
       "    }\n",
       "</style>\n",
       "<table border=\"1\" class=\"dataframe\">\n",
       "  <thead>\n",
       "    <tr style=\"text-align: right;\">\n",
       "      <th></th>\n",
       "      <th>GO term</th>\n",
       "      <th>Annotation_x</th>\n",
       "      <th>Annotation_y</th>\n",
       "      <th>PV_x</th>\n",
       "      <th>PV_y</th>\n",
       "    </tr>\n",
       "  </thead>\n",
       "  <tbody>\n",
       "    <tr>\n",
       "      <th>0</th>\n",
       "      <td>GO:0031234</td>\n",
       "      <td>extrinsic component of cytoplasmic side of pla...</td>\n",
       "      <td>NaN</td>\n",
       "      <td>0.003290</td>\n",
       "      <td>1.0</td>\n",
       "    </tr>\n",
       "    <tr>\n",
       "      <th>1</th>\n",
       "      <td>GO:0019897</td>\n",
       "      <td>extrinsic component of plasma membrane</td>\n",
       "      <td>NaN</td>\n",
       "      <td>0.008361</td>\n",
       "      <td>1.0</td>\n",
       "    </tr>\n",
       "    <tr>\n",
       "      <th>2</th>\n",
       "      <td>GO:0055037</td>\n",
       "      <td>recycling endosome</td>\n",
       "      <td>NaN</td>\n",
       "      <td>0.009940</td>\n",
       "      <td>1.0</td>\n",
       "    </tr>\n",
       "    <tr>\n",
       "      <th>3</th>\n",
       "      <td>GO:0009898</td>\n",
       "      <td>cytoplasmic side of plasma membrane</td>\n",
       "      <td>NaN</td>\n",
       "      <td>0.012716</td>\n",
       "      <td>1.0</td>\n",
       "    </tr>\n",
       "    <tr>\n",
       "      <th>4</th>\n",
       "      <td>GO:0055038</td>\n",
       "      <td>recycling endosome membrane</td>\n",
       "      <td>NaN</td>\n",
       "      <td>0.012412</td>\n",
       "      <td>1.0</td>\n",
       "    </tr>\n",
       "  </tbody>\n",
       "</table>\n",
       "</div>"
      ],
      "text/plain": [
       "      GO term                                       Annotation_x Annotation_y  \\\n",
       "0  GO:0031234  extrinsic component of cytoplasmic side of pla...          NaN   \n",
       "1  GO:0019897             extrinsic component of plasma membrane          NaN   \n",
       "2  GO:0055037                                 recycling endosome          NaN   \n",
       "3  GO:0009898                cytoplasmic side of plasma membrane          NaN   \n",
       "4  GO:0055038                        recycling endosome membrane          NaN   \n",
       "\n",
       "       PV_x  PV_y  \n",
       "0  0.003290   1.0  \n",
       "1  0.008361   1.0  \n",
       "2  0.009940   1.0  \n",
       "3  0.012716   1.0  \n",
       "4  0.012412   1.0  "
      ]
     },
     "execution_count": 23,
     "metadata": {},
     "output_type": "execute_result"
    }
   ],
   "source": [
    "abcd_merge_t1.head()"
   ]
  },
  {
   "cell_type": "code",
   "execution_count": null,
   "metadata": {
    "scrolled": true
   },
   "outputs": [],
   "source": [
    "=df[df['features_1'].isnull()][‘name’] "
   ]
  },
  {
   "cell_type": "code",
   "execution_count": 37,
   "metadata": {},
   "outputs": [],
   "source": [
    "abcd_merge_t1.loc[abcd_merge_t1['Annotation_x'].isnull(),'Annotation_x'] = abcd_merge_t1.loc[abcd_merge_t1['Annotation_x'].isnull(),'Annotation_y'].values[0]"
   ]
  },
  {
   "cell_type": "code",
   "execution_count": 40,
   "metadata": {},
   "outputs": [
    {
     "data": {
      "text/html": [
       "<div>\n",
       "<style scoped>\n",
       "    .dataframe tbody tr th:only-of-type {\n",
       "        vertical-align: middle;\n",
       "    }\n",
       "\n",
       "    .dataframe tbody tr th {\n",
       "        vertical-align: top;\n",
       "    }\n",
       "\n",
       "    .dataframe thead th {\n",
       "        text-align: right;\n",
       "    }\n",
       "</style>\n",
       "<table border=\"1\" class=\"dataframe\">\n",
       "  <thead>\n",
       "    <tr style=\"text-align: right;\">\n",
       "      <th></th>\n",
       "      <th>GO term</th>\n",
       "      <th>Annotation_x</th>\n",
       "      <th>Annotation_y</th>\n",
       "      <th>PV_x</th>\n",
       "      <th>PV_y</th>\n",
       "    </tr>\n",
       "  </thead>\n",
       "  <tbody>\n",
       "    <tr>\n",
       "      <th>0</th>\n",
       "      <td>GO:0031234</td>\n",
       "      <td>extrinsic component of cytoplasmic side of pla...</td>\n",
       "      <td>NaN</td>\n",
       "      <td>0.003290</td>\n",
       "      <td>1.0</td>\n",
       "    </tr>\n",
       "    <tr>\n",
       "      <th>1</th>\n",
       "      <td>GO:0019897</td>\n",
       "      <td>extrinsic component of plasma membrane</td>\n",
       "      <td>NaN</td>\n",
       "      <td>0.008361</td>\n",
       "      <td>1.0</td>\n",
       "    </tr>\n",
       "    <tr>\n",
       "      <th>2</th>\n",
       "      <td>GO:0055037</td>\n",
       "      <td>recycling endosome</td>\n",
       "      <td>NaN</td>\n",
       "      <td>0.009940</td>\n",
       "      <td>1.0</td>\n",
       "    </tr>\n",
       "    <tr>\n",
       "      <th>3</th>\n",
       "      <td>GO:0009898</td>\n",
       "      <td>cytoplasmic side of plasma membrane</td>\n",
       "      <td>NaN</td>\n",
       "      <td>0.012716</td>\n",
       "      <td>1.0</td>\n",
       "    </tr>\n",
       "    <tr>\n",
       "      <th>4</th>\n",
       "      <td>GO:0055038</td>\n",
       "      <td>recycling endosome membrane</td>\n",
       "      <td>NaN</td>\n",
       "      <td>0.012412</td>\n",
       "      <td>1.0</td>\n",
       "    </tr>\n",
       "  </tbody>\n",
       "</table>\n",
       "</div>"
      ],
      "text/plain": [
       "      GO term                                       Annotation_x Annotation_y  \\\n",
       "0  GO:0031234  extrinsic component of cytoplasmic side of pla...          NaN   \n",
       "1  GO:0019897             extrinsic component of plasma membrane          NaN   \n",
       "2  GO:0055037                                 recycling endosome          NaN   \n",
       "3  GO:0009898                cytoplasmic side of plasma membrane          NaN   \n",
       "4  GO:0055038                        recycling endosome membrane          NaN   \n",
       "\n",
       "       PV_x  PV_y  \n",
       "0  0.003290   1.0  \n",
       "1  0.008361   1.0  \n",
       "2  0.009940   1.0  \n",
       "3  0.012716   1.0  \n",
       "4  0.012412   1.0  "
      ]
     },
     "execution_count": 40,
     "metadata": {},
     "output_type": "execute_result"
    }
   ],
   "source": [
    "abcd_merge_t1.head()"
   ]
  },
  {
   "cell_type": "code",
   "execution_count": 49,
   "metadata": {},
   "outputs": [],
   "source": [
    "new_abc = pd.DataFrame()"
   ]
  },
  {
   "cell_type": "code",
   "execution_count": 51,
   "metadata": {},
   "outputs": [],
   "source": [
    "new_abc['A_B_all'] = -np.log10(abcd_merge_t1.PV_x.values)"
   ]
  },
  {
   "cell_type": "code",
   "execution_count": 52,
   "metadata": {},
   "outputs": [],
   "source": [
    "new_abc['C_D_all'] = -np.log10(abcd_merge_t1.PV_y.values)"
   ]
  },
  {
   "cell_type": "code",
   "execution_count": 53,
   "metadata": {},
   "outputs": [],
   "source": [
    "new_abc.index = abcd_merge_t1.Annotation_x.values"
   ]
  },
  {
   "cell_type": "code",
   "execution_count": 54,
   "metadata": {},
   "outputs": [
    {
     "data": {
      "text/html": [
       "<div>\n",
       "<style scoped>\n",
       "    .dataframe tbody tr th:only-of-type {\n",
       "        vertical-align: middle;\n",
       "    }\n",
       "\n",
       "    .dataframe tbody tr th {\n",
       "        vertical-align: top;\n",
       "    }\n",
       "\n",
       "    .dataframe thead th {\n",
       "        text-align: right;\n",
       "    }\n",
       "</style>\n",
       "<table border=\"1\" class=\"dataframe\">\n",
       "  <thead>\n",
       "    <tr style=\"text-align: right;\">\n",
       "      <th></th>\n",
       "      <th>A_B_all</th>\n",
       "      <th>C_D_all</th>\n",
       "    </tr>\n",
       "  </thead>\n",
       "  <tbody>\n",
       "    <tr>\n",
       "      <th>extrinsic component of cytoplasmic side of plasma membrane</th>\n",
       "      <td>2.482831</td>\n",
       "      <td>-0.000000</td>\n",
       "    </tr>\n",
       "    <tr>\n",
       "      <th>extrinsic component of plasma membrane</th>\n",
       "      <td>2.077722</td>\n",
       "      <td>-0.000000</td>\n",
       "    </tr>\n",
       "    <tr>\n",
       "      <th>recycling endosome</th>\n",
       "      <td>2.002609</td>\n",
       "      <td>-0.000000</td>\n",
       "    </tr>\n",
       "    <tr>\n",
       "      <th>cytoplasmic side of plasma membrane</th>\n",
       "      <td>1.895651</td>\n",
       "      <td>-0.000000</td>\n",
       "    </tr>\n",
       "    <tr>\n",
       "      <th>recycling endosome membrane</th>\n",
       "      <td>1.906144</td>\n",
       "      <td>-0.000000</td>\n",
       "    </tr>\n",
       "    <tr>\n",
       "      <th>cytoplasmic side of membrane</th>\n",
       "      <td>1.792358</td>\n",
       "      <td>-0.000000</td>\n",
       "    </tr>\n",
       "    <tr>\n",
       "      <th>cell-cell contact zone</th>\n",
       "      <td>1.809121</td>\n",
       "      <td>-0.000000</td>\n",
       "    </tr>\n",
       "    <tr>\n",
       "      <th>sperm flagellum</th>\n",
       "      <td>1.625158</td>\n",
       "      <td>-0.000000</td>\n",
       "    </tr>\n",
       "    <tr>\n",
       "      <th>9+2 motile cilium</th>\n",
       "      <td>1.625158</td>\n",
       "      <td>-0.000000</td>\n",
       "    </tr>\n",
       "    <tr>\n",
       "      <th>peptidase complex</th>\n",
       "      <td>1.575891</td>\n",
       "      <td>-0.000000</td>\n",
       "    </tr>\n",
       "    <tr>\n",
       "      <th>cell projection part</th>\n",
       "      <td>1.439726</td>\n",
       "      <td>-0.000000</td>\n",
       "    </tr>\n",
       "    <tr>\n",
       "      <th>plasma membrane bounded cell projection part</th>\n",
       "      <td>1.439726</td>\n",
       "      <td>-0.000000</td>\n",
       "    </tr>\n",
       "    <tr>\n",
       "      <th>specific granule membrane</th>\n",
       "      <td>1.538737</td>\n",
       "      <td>-0.000000</td>\n",
       "    </tr>\n",
       "    <tr>\n",
       "      <th>ciliary part</th>\n",
       "      <td>1.470818</td>\n",
       "      <td>-0.000000</td>\n",
       "    </tr>\n",
       "    <tr>\n",
       "      <th>filopodium</th>\n",
       "      <td>1.512070</td>\n",
       "      <td>-0.000000</td>\n",
       "    </tr>\n",
       "    <tr>\n",
       "      <th>cell cortex</th>\n",
       "      <td>1.458834</td>\n",
       "      <td>-0.000000</td>\n",
       "    </tr>\n",
       "    <tr>\n",
       "      <th>microtubule cytoskeleton</th>\n",
       "      <td>1.345241</td>\n",
       "      <td>-0.000000</td>\n",
       "    </tr>\n",
       "    <tr>\n",
       "      <th>side of membrane</th>\n",
       "      <td>1.415621</td>\n",
       "      <td>-0.000000</td>\n",
       "    </tr>\n",
       "    <tr>\n",
       "      <th>extrinsic component of membrane</th>\n",
       "      <td>1.436169</td>\n",
       "      <td>-0.000000</td>\n",
       "    </tr>\n",
       "    <tr>\n",
       "      <th>ciliary basal body</th>\n",
       "      <td>1.356007</td>\n",
       "      <td>-0.000000</td>\n",
       "    </tr>\n",
       "    <tr>\n",
       "      <th>axon terminus</th>\n",
       "      <td>1.342157</td>\n",
       "      <td>-0.000000</td>\n",
       "    </tr>\n",
       "    <tr>\n",
       "      <th>integral component of plasma membrane</th>\n",
       "      <td>0.647835</td>\n",
       "      <td>1.639265</td>\n",
       "    </tr>\n",
       "    <tr>\n",
       "      <th>intrinsic component of plasma membrane</th>\n",
       "      <td>0.480317</td>\n",
       "      <td>1.599898</td>\n",
       "    </tr>\n",
       "    <tr>\n",
       "      <th>nucleocytoplasmic transporter activity</th>\n",
       "      <td>2.719561</td>\n",
       "      <td>-0.000000</td>\n",
       "    </tr>\n",
       "    <tr>\n",
       "      <th>RNA polymerase II distal enhancer sequence-specific DNA binding</th>\n",
       "      <td>1.828099</td>\n",
       "      <td>-0.000000</td>\n",
       "    </tr>\n",
       "    <tr>\n",
       "      <th>enhancer sequence-specific DNA binding</th>\n",
       "      <td>1.604155</td>\n",
       "      <td>-0.000000</td>\n",
       "    </tr>\n",
       "    <tr>\n",
       "      <th>enhancer binding</th>\n",
       "      <td>1.513343</td>\n",
       "      <td>-0.000000</td>\n",
       "    </tr>\n",
       "    <tr>\n",
       "      <th>lipid binding</th>\n",
       "      <td>1.362846</td>\n",
       "      <td>-0.000000</td>\n",
       "    </tr>\n",
       "    <tr>\n",
       "      <th>ion channel binding</th>\n",
       "      <td>1.410215</td>\n",
       "      <td>-0.000000</td>\n",
       "    </tr>\n",
       "    <tr>\n",
       "      <th>neural precursor cell proliferation</th>\n",
       "      <td>2.901725</td>\n",
       "      <td>-0.000000</td>\n",
       "    </tr>\n",
       "    <tr>\n",
       "      <th>...</th>\n",
       "      <td>...</td>\n",
       "      <td>...</td>\n",
       "    </tr>\n",
       "    <tr>\n",
       "      <th>negative regulation of autophagy</th>\n",
       "      <td>1.811320</td>\n",
       "      <td>-0.000000</td>\n",
       "    </tr>\n",
       "    <tr>\n",
       "      <th>central nervous system neuron development</th>\n",
       "      <td>1.745835</td>\n",
       "      <td>-0.000000</td>\n",
       "    </tr>\n",
       "    <tr>\n",
       "      <th>positive regulation of cytoskeleton organization</th>\n",
       "      <td>1.720355</td>\n",
       "      <td>-0.000000</td>\n",
       "    </tr>\n",
       "    <tr>\n",
       "      <th>diencephalon development</th>\n",
       "      <td>1.709104</td>\n",
       "      <td>-0.000000</td>\n",
       "    </tr>\n",
       "    <tr>\n",
       "      <th>smoothened signaling pathway</th>\n",
       "      <td>1.662772</td>\n",
       "      <td>-0.000000</td>\n",
       "    </tr>\n",
       "    <tr>\n",
       "      <th>negative regulation of developmental growth</th>\n",
       "      <td>1.662772</td>\n",
       "      <td>-0.000000</td>\n",
       "    </tr>\n",
       "    <tr>\n",
       "      <th>negative regulation of cell morphogenesis involved in differentiation</th>\n",
       "      <td>1.640644</td>\n",
       "      <td>-0.000000</td>\n",
       "    </tr>\n",
       "    <tr>\n",
       "      <th>negative regulation of cellular catabolic process</th>\n",
       "      <td>1.617801</td>\n",
       "      <td>-0.000000</td>\n",
       "    </tr>\n",
       "    <tr>\n",
       "      <th>hippocampus development</th>\n",
       "      <td>1.608645</td>\n",
       "      <td>-0.000000</td>\n",
       "    </tr>\n",
       "    <tr>\n",
       "      <th>cell fate commitment</th>\n",
       "      <td>1.578602</td>\n",
       "      <td>-0.000000</td>\n",
       "    </tr>\n",
       "    <tr>\n",
       "      <th>supramolecular fiber organization</th>\n",
       "      <td>1.535144</td>\n",
       "      <td>-0.000000</td>\n",
       "    </tr>\n",
       "    <tr>\n",
       "      <th>microtubule-based process</th>\n",
       "      <td>1.505555</td>\n",
       "      <td>-0.000000</td>\n",
       "    </tr>\n",
       "    <tr>\n",
       "      <th>protein phosphorylation</th>\n",
       "      <td>1.475246</td>\n",
       "      <td>-0.000000</td>\n",
       "    </tr>\n",
       "    <tr>\n",
       "      <th>microtubule cytoskeleton organization</th>\n",
       "      <td>1.524046</td>\n",
       "      <td>-0.000000</td>\n",
       "    </tr>\n",
       "    <tr>\n",
       "      <th>regulation of extent of cell growth</th>\n",
       "      <td>1.568039</td>\n",
       "      <td>-0.000000</td>\n",
       "    </tr>\n",
       "    <tr>\n",
       "      <th>negative regulation of growth</th>\n",
       "      <td>1.540988</td>\n",
       "      <td>-0.000000</td>\n",
       "    </tr>\n",
       "    <tr>\n",
       "      <th>cytokinesis</th>\n",
       "      <td>1.548552</td>\n",
       "      <td>-0.000000</td>\n",
       "    </tr>\n",
       "    <tr>\n",
       "      <th>toll-like receptor signaling pathway</th>\n",
       "      <td>1.529575</td>\n",
       "      <td>-0.000000</td>\n",
       "    </tr>\n",
       "    <tr>\n",
       "      <th>axon guidance</th>\n",
       "      <td>1.499805</td>\n",
       "      <td>-0.000000</td>\n",
       "    </tr>\n",
       "    <tr>\n",
       "      <th>neuron projection guidance</th>\n",
       "      <td>1.489794</td>\n",
       "      <td>-0.000000</td>\n",
       "    </tr>\n",
       "    <tr>\n",
       "      <th>telencephalon development</th>\n",
       "      <td>1.455608</td>\n",
       "      <td>-0.000000</td>\n",
       "    </tr>\n",
       "    <tr>\n",
       "      <th>negative regulation of catabolic process</th>\n",
       "      <td>1.399893</td>\n",
       "      <td>-0.000000</td>\n",
       "    </tr>\n",
       "    <tr>\n",
       "      <th>positive regulation of translation</th>\n",
       "      <td>1.417134</td>\n",
       "      <td>-0.000000</td>\n",
       "    </tr>\n",
       "    <tr>\n",
       "      <th>limbic system development</th>\n",
       "      <td>1.409181</td>\n",
       "      <td>-0.000000</td>\n",
       "    </tr>\n",
       "    <tr>\n",
       "      <th>pattern recognition receptor signaling pathway</th>\n",
       "      <td>1.393540</td>\n",
       "      <td>-0.000000</td>\n",
       "    </tr>\n",
       "    <tr>\n",
       "      <th>regulation of cytoskeleton organization</th>\n",
       "      <td>1.345587</td>\n",
       "      <td>-0.000000</td>\n",
       "    </tr>\n",
       "    <tr>\n",
       "      <th>cerebral cortex development</th>\n",
       "      <td>1.355909</td>\n",
       "      <td>-0.000000</td>\n",
       "    </tr>\n",
       "    <tr>\n",
       "      <th>neuron migration</th>\n",
       "      <td>1.327214</td>\n",
       "      <td>-0.000000</td>\n",
       "    </tr>\n",
       "    <tr>\n",
       "      <th>cellular homeostasis</th>\n",
       "      <td>0.527005</td>\n",
       "      <td>1.551426</td>\n",
       "    </tr>\n",
       "    <tr>\n",
       "      <th>response to drug</th>\n",
       "      <td>-0.000000</td>\n",
       "      <td>1.487504</td>\n",
       "    </tr>\n",
       "  </tbody>\n",
       "</table>\n",
       "<p>78 rows × 2 columns</p>\n",
       "</div>"
      ],
      "text/plain": [
       "                                                     A_B_all   C_D_all\n",
       "extrinsic component of cytoplasmic side of plas...  2.482831 -0.000000\n",
       "extrinsic component of plasma membrane              2.077722 -0.000000\n",
       "recycling endosome                                  2.002609 -0.000000\n",
       "cytoplasmic side of plasma membrane                 1.895651 -0.000000\n",
       "recycling endosome membrane                         1.906144 -0.000000\n",
       "...                                                      ...       ...\n",
       "regulation of cytoskeleton organization             1.345587 -0.000000\n",
       "cerebral cortex development                         1.355909 -0.000000\n",
       "neuron migration                                    1.327214 -0.000000\n",
       "cellular homeostasis                                0.527005  1.551426\n",
       "response to drug                                   -0.000000  1.487504\n",
       "\n",
       "[78 rows x 2 columns]"
      ]
     },
     "execution_count": 54,
     "metadata": {},
     "output_type": "execute_result"
    }
   ],
   "source": [
    "new_abc"
   ]
  },
  {
   "cell_type": "code",
   "execution_count": 63,
   "metadata": {},
   "outputs": [],
   "source": [
    "import seaborn as sns"
   ]
  },
  {
   "cell_type": "code",
   "execution_count": 104,
   "metadata": {},
   "outputs": [
    {
     "data": {
      "image/png": "[encoded data removed]",
      "text/plain": [
       "<Figure size 432x1440 with 2 Axes>"
      ]
     },
     "metadata": {
      "needs_background": "light"
     },
     "output_type": "display_data"
    }
   ],
   "source": [
    "f, ax = plt.subplots(figsize=(6, 20))\n",
    "sns.heatmap(new_abc, ax=ax)\n",
    "ax.text(2.8,50,\"-Log10(Fisher' exact test p value)\",fontsize=30,rotation=90)\n",
    "cbar = ax.collections[0].colorbar\n",
    "# here set the labelsize by 20\n",
    "cbar.ax.tick_params(labelsize=20)\n",
    "plt.savefig('ABCD-gene_GO_PV_heatmap.pdf',dpi=300,bbox_inches='tight')\n",
    "plt.show()"
   ]
  },
  {
   "cell_type": "code",
   "execution_count": 89,
   "metadata": {},
   "outputs": [],
   "source": [
    "ax.text?"
   ]
  },
  {
   "cell_type": "code",
   "execution_count": 105,
   "metadata": {},
   "outputs": [],
   "source": [
    "from sklearn.datasets import load_boston"
   ]
  },
  {
   "cell_type": "code",
   "execution_count": 106,
   "metadata": {},
   "outputs": [],
   "source": [
    "boston = load_boston()"
   ]
  },
  {
   "cell_type": "code",
   "execution_count": 110,
   "metadata": {},
   "outputs": [
    {
     "data": {
      "text/plain": [
       "array(['CRIM', 'ZN', 'INDUS', 'CHAS', 'NOX', 'RM', 'AGE', 'DIS', 'RAD',\n",
       "       'TAX', 'PTRATIO', 'B', 'LSTAT'], dtype='<U7')"
      ]
     },
     "execution_count": 110,
     "metadata": {},
     "output_type": "execute_result"
    }
   ],
   "source": [
    "boston.feature_names"
   ]
  },
  {
   "cell_type": "code",
   "execution_count": 126,
   "metadata": {},
   "outputs": [
    {
     "data": {
      "text/plain": [
       "33543"
      ]
     },
     "execution_count": 126,
     "metadata": {},
     "output_type": "execute_result"
    }
   ],
   "source": [
    "genomesize = 335432867"
   ]
  },
  {
   "cell_type": "code",
   "execution_count": 138,
   "metadata": {},
   "outputs": [],
   "source": [
    "genomesize = 405432867\n",
    "winsize = int(round(genomesize / 10**9,1) * 100000)"
   ]
  },
  {
   "cell_type": "code",
   "execution_count": 129,
   "metadata": {},
   "outputs": [
    {
     "data": {
      "text/plain": [
       "0.34"
      ]
     },
     "execution_count": 129,
     "metadata": {},
     "output_type": "execute_result"
    }
   ],
   "source": [
    "round(genomesize / 10**9,2)"
   ]
  },
  {
   "cell_type": "code",
   "execution_count": 139,
   "metadata": {},
   "outputs": [
    {
     "data": {
      "text/plain": [
       "'txt'"
      ]
     },
     "execution_count": 139,
     "metadata": {},
     "output_type": "execute_result"
    }
   ],
   "source": [
    "a = 'hello.aaa.vv.txt'\n",
    "a.split('.')[-1]"
   ]
  },
  {
   "cell_type": "code",
   "execution_count": 1,
   "metadata": {},
   "outputs": [],
   "source": [
    "import numpy as np"
   ]
  },
  {
   "cell_type": "code",
   "execution_count": 12,
   "metadata": {},
   "outputs": [],
   "source": [
    "import matplotlib.pyplot as plt"
   ]
  },
  {
   "cell_type": "code",
   "execution_count": 2,
   "metadata": {},
   "outputs": [],
   "source": [
    "np.random.seed(42)\n",
    "x = np.random.randn(100)\n",
    "\n",
    "# compute a histogram by hand\n",
    "bins = np.linspace(-5, 5, 20)\n",
    "counts = np.zeros_like(bins)\n",
    "\n",
    "# find the appropriate bin for each x\n",
    "i = np.searchsorted(bins, x)\n",
    "\n",
    "# add 1 to each of these bins\n",
    "np.add.at(counts, i, 1)"
   ]
  },
  {
   "cell_type": "code",
   "execution_count": 7,
   "metadata": {},
   "outputs": [
    {
     "data": {
      "text/plain": [
       "array([ 0.49671415, -0.1382643 ,  0.64768854,  1.52302986, -0.23415337,\n",
       "       -0.23413696,  1.57921282,  0.76743473, -0.46947439,  0.54256004,\n",
       "       -0.46341769, -0.46572975,  0.24196227, -1.91328024, -1.72491783,\n",
       "       -0.56228753, -1.01283112,  0.31424733, -0.90802408, -1.4123037 ,\n",
       "        1.46564877, -0.2257763 ,  0.0675282 , -1.42474819, -0.54438272,\n",
       "        0.11092259, -1.15099358,  0.37569802, -0.60063869, -0.29169375,\n",
       "       -0.60170661,  1.85227818, -0.01349722, -1.05771093,  0.82254491,\n",
       "       -1.22084365,  0.2088636 , -1.95967012, -1.32818605,  0.19686124,\n",
       "        0.73846658,  0.17136828, -0.11564828, -0.3011037 , -1.47852199,\n",
       "       -0.71984421, -0.46063877,  1.05712223,  0.34361829, -1.76304016,\n",
       "        0.32408397, -0.38508228, -0.676922  ,  0.61167629,  1.03099952,\n",
       "        0.93128012, -0.83921752, -0.30921238,  0.33126343,  0.97554513,\n",
       "       -0.47917424, -0.18565898, -1.10633497, -1.19620662,  0.81252582,\n",
       "        1.35624003, -0.07201012,  1.0035329 ,  0.36163603, -0.64511975,\n",
       "        0.36139561,  1.53803657, -0.03582604,  1.56464366, -2.6197451 ,\n",
       "        0.8219025 ,  0.08704707, -0.29900735,  0.09176078, -1.98756891,\n",
       "       -0.21967189,  0.35711257,  1.47789404, -0.51827022, -0.8084936 ,\n",
       "       -0.50175704,  0.91540212,  0.32875111, -0.5297602 ,  0.51326743,\n",
       "        0.09707755,  0.96864499, -0.70205309, -0.32766215, -0.39210815,\n",
       "       -1.46351495,  0.29612028,  0.26105527,  0.00511346, -0.23458713])"
      ]
     },
     "execution_count": 7,
     "metadata": {},
     "output_type": "execute_result"
    }
   ],
   "source": [
    "x"
   ]
  },
  {
   "cell_type": "code",
   "execution_count": 14,
   "metadata": {},
   "outputs": [
    {
     "name": "stderr",
     "output_type": "stream",
     "text": [
      "e:\\tf\\lib\\site-packages\\ipykernel_launcher.py:2: MatplotlibDeprecationWarning: Passing the drawstyle with the linestyle as a single string is deprecated since Matplotlib 3.1 and support will be removed in 3.3; please pass the drawstyle separately using the drawstyle keyword argument to Line2D or set_drawstyle() method (or ds/set_ds()).\n",
      "  \n"
     ]
    },
    {
     "data": {
      "image/png": "[encoded data removed]",
      "text/plain": [
       "<Figure size 432x288 with 1 Axes>"
      ]
     },
     "metadata": {
      "needs_background": "light"
     },
     "output_type": "display_data"
    }
   ],
   "source": [
    "# plot the results\n",
    "plt.plot(bins, counts, linestyle='steps')\n",
    "plt.show()"
   ]
  },
  {
   "cell_type": "code",
   "execution_count": 40,
   "metadata": {},
   "outputs": [],
   "source": [
    "np.random.seed(1)\n",
    "x = np.random.randint(1,10,10)\n",
    "bins = np.array([1,3,6,10])\n",
    "counts = np.zeros_like(bins)"
   ]
  },
  {
   "cell_type": "code",
   "execution_count": 41,
   "metadata": {},
   "outputs": [],
   "source": [
    "i = np.searchsorted(bins, x, side='right')\n",
    "\n",
    "# add 1 to each of these bins\n",
    "np.add.at(counts, i, 1)\n"
   ]
  },
  {
   "cell_type": "code",
   "execution_count": 42,
   "metadata": {},
   "outputs": [
    {
     "data": {
      "text/plain": [
       "array([6, 9, 6, 1, 1, 2, 8, 7, 3, 5])"
      ]
     },
     "execution_count": 42,
     "metadata": {},
     "output_type": "execute_result"
    }
   ],
   "source": [
    "x"
   ]
  },
  {
   "cell_type": "code",
   "execution_count": 43,
   "metadata": {},
   "outputs": [
    {
     "data": {
      "text/plain": [
       "array([0, 3, 2, 5])"
      ]
     },
     "execution_count": 43,
     "metadata": {},
     "output_type": "execute_result"
    }
   ],
   "source": [
    "counts"
   ]
  },
  {
   "cell_type": "code",
   "execution_count": 29,
   "metadata": {},
   "outputs": [
    {
     "data": {
      "text/plain": [
       "28"
      ]
     },
     "execution_count": 29,
     "metadata": {},
     "output_type": "execute_result"
    }
   ],
   "source": [
    "len(x[(x<=6) & (x>3)])"
   ]
  },
  {
   "cell_type": "code",
   "execution_count": 36,
   "metadata": {},
   "outputs": [],
   "source": [
    "np.searchsorted?"
   ]
  },
  {
   "cell_type": "code",
   "execution_count": 45,
   "metadata": {},
   "outputs": [],
   "source": [
    "aaa = np.arange(1,10,2)"
   ]
  },
  {
   "cell_type": "code",
   "execution_count": 54,
   "metadata": {},
   "outputs": [],
   "source": [
    "aaa = bins\n",
    "bbb = counts[1:]"
   ]
  },
  {
   "cell_type": "code",
   "execution_count": 55,
   "metadata": {},
   "outputs": [
    {
     "data": {
      "text/plain": [
       "array([ 1,  3,  6, 10])"
      ]
     },
     "execution_count": 55,
     "metadata": {},
     "output_type": "execute_result"
    }
   ],
   "source": [
    "aaa"
   ]
  },
  {
   "cell_type": "code",
   "execution_count": 56,
   "metadata": {},
   "outputs": [
    {
     "data": {
      "text/plain": [
       "array([3, 2, 5])"
      ]
     },
     "execution_count": 56,
     "metadata": {},
     "output_type": "execute_result"
    }
   ],
   "source": [
    "bbb"
   ]
  },
  {
   "cell_type": "code",
   "execution_count": 57,
   "metadata": {},
   "outputs": [
    {
     "name": "stdout",
     "output_type": "stream",
     "text": [
      "1\t3\t3\n",
      "3\t6\t2\n",
      "6\t10\t5\n"
     ]
    }
   ],
   "source": [
    "for i in range(len(bbb)):\n",
    "    print('{}\\t{}\\t{}'.format(aaa[i],aaa[i+1],bbb[i]))"
   ]
  },
  {
   "cell_type": "code",
   "execution_count": 59,
   "metadata": {},
   "outputs": [
    {
     "data": {
      "text/plain": [
       "2.0"
      ]
     },
     "execution_count": 59,
     "metadata": {},
     "output_type": "execute_result"
    }
   ],
   "source": [
    "np.log2(4)"
   ]
  },
  {
   "cell_type": "code",
   "execution_count": 24,
   "metadata": {},
   "outputs": [],
   "source": [
    "import matplotlib.pyplot as plt\n",
    "import numpy as np\n",
    "import matplotlib as mpl"
   ]
  },
  {
   "cell_type": "code",
   "execution_count": 36,
   "metadata": {},
   "outputs": [],
   "source": [
    "def RGB_to_Hex(rgb):\n",
    "    RGB = rgb.split(',')            # 将RGB格式划分开来\n",
    "    color = '#'\n",
    "    for i in RGB:\n",
    "        num = int(i)\n",
    "        # 将R、G、B分别转化为16进制拼接转换并大写  hex() 函数用于将10进制整数转换成16进制，以字符串形式表示\n",
    "        color += str(hex(num))[-2:].replace('x', '0').upper()\n",
    "    return color"
   ]
  },
  {
   "cell_type": "code",
   "execution_count": 39,
   "metadata": {},
   "outputs": [],
   "source": [
    "RGB_X_cor = ['158,1,66',\n",
    "'213,62,79',\n",
    "'244,109,67',\n",
    "'253,174,97',\n",
    "'254,224,139',\n",
    "'230,245,152',\n",
    "'171,221,164',\n",
    "'102,194,165',\n",
    "'50,136,189',\n",
    "'94,79,162']"
   ]
  },
  {
   "cell_type": "code",
   "execution_count": 40,
   "metadata": {},
   "outputs": [
    {
     "name": "stdout",
     "output_type": "stream",
     "text": [
      "#9E0142\n",
      "#D53E4F\n",
      "#F46D43\n",
      "#FDAE61\n",
      "#FEE08B\n",
      "#E6F598\n",
      "#ABDDA4\n",
      "#66C2A5\n",
      "#3288BD\n",
      "#5E4FA2\n"
     ]
    }
   ],
   "source": [
    "HEX_X_cor = [RGB_to_Hex(i) for i in RGB_X_cor]"
   ]
  },
  {
   "cell_type": "code",
   "execution_count": 58,
   "metadata": {},
   "outputs": [
    {
     "data": {
      "image/png": "[encoded data removed]",
      "text/plain": [
       "<Figure size 432x288 with 1 Axes>"
      ]
     },
     "metadata": {
      "needs_background": "light"
     },
     "output_type": "display_data"
    }
   ],
   "source": [
    "fig , ax = plt.subplots()\n",
    "\n",
    "ax.plot([1,3],[2,4],color='#5E4FA2')\n",
    "\n",
    "plt.show()"
   ]
  },
  {
   "cell_type": "code",
   "execution_count": 55,
   "metadata": {
    "scrolled": true
   },
   "outputs": [
    {
     "data": {
      "image/png": "[encoded data removed]",
      "text/plain": [
       "<Figure size 432x288 with 2 Axes>"
      ]
     },
     "metadata": {
      "needs_background": "light"
     },
     "output_type": "display_data"
    }
   ],
   "source": [
    "# create dummy invisible image\n",
    "# (use the colormap you want to have on the colorbar)\n",
    "cmap = mpl.colors.ListedColormap(HEX_X_cor)\n",
    "img = plt.imshow(np.array([[0,100]]), cmap=cmap)\n",
    "pl.gca().set_visible(False)\n",
    "cb= plt.colorbar(orientation=\"horizontal\")\n",
    "#horizontal vertical\n",
    "cb.set_label('Methylation Level (%)',fontsize=25)\n",
    "cb.ax.tick_params(labelsize=20)\n",
    "#\n",
    "plt.savefig('Circos_legends.png',dpi=300,bbox_inches='tight')\n",
    "#\n",
    "plt.show()"
   ]
  },
  {
   "cell_type": "code",
   "execution_count": 21,
   "metadata": {},
   "outputs": [
    {
     "data": {
      "image/png": "[encoded data removed]",
      "text/plain": [
       "<Figure size 648x108 with 2 Axes>"
      ]
     },
     "metadata": {
      "needs_background": "light"
     },
     "output_type": "display_data"
    }
   ],
   "source": [
    "import pylab as pl\n",
    "import numpy as np\n",
    "\n",
    "a = np.array([[0,1]])\n",
    "pl.figure(figsize=(9, 1.5))\n",
    "img = pl.imshow(a, cmap=\"Blues\")\n",
    "pl.gca().set_visible(False)\n",
    "cax = pl.axes([0.1, 0.2, 0.8, 0.6])\n",
    "pl.colorbar(orientation=\"horizontal\", cax=cax)\n",
    "\n",
    "plt.show()"
   ]
  },
  {
   "cell_type": "code",
   "execution_count": null,
   "metadata": {},
   "outputs": [],
   "source": [
    "a = {'A':'hhh','B':}"
   ]
  },
  {
   "cell_type": "code",
   "execution_count": 3,
   "metadata": {},
   "outputs": [],
   "source": [
    "b = [1,2,[\"A\",\"B\"]]\n",
    "c,d,e = b"
   ]
  },
  {
   "cell_type": "code",
   "execution_count": 4,
   "metadata": {},
   "outputs": [
    {
     "name": "stdout",
     "output_type": "stream",
     "text": [
      "1 2 ['A', 'B']\n"
     ]
    }
   ],
   "source": [
    "print(c,d,e)"
   ]
  },
  {
   "cell_type": "code",
   "execution_count": 5,
   "metadata": {},
   "outputs": [
    {
     "ename": "KeyError",
     "evalue": "'Target'",
     "output_type": "error",
     "traceback": [
      "\u001b[1;31m---------------------------------------------------------------------------\u001b[0m",
      "\u001b[1;31mKeyError\u001b[0m                                  Traceback (most recent call last)",
      "\u001b[1;32m<ipython-input-5-034c94ae297f>\u001b[0m in \u001b[0;36m<module>\u001b[1;34m\u001b[0m\n\u001b[0;32m      2\u001b[0m \u001b[0mconf_dic\u001b[0m \u001b[1;33m=\u001b[0m \u001b[1;33m{\u001b[0m\u001b[1;34m'ProjectType'\u001b[0m\u001b[1;33m:\u001b[0m\u001b[1;34m\"RRBS\"\u001b[0m\u001b[1;33m}\u001b[0m\u001b[1;33m\u001b[0m\u001b[1;33m\u001b[0m\u001b[0m\n\u001b[0;32m      3\u001b[0m \u001b[0mdb_dic\u001b[0m \u001b[1;33m=\u001b[0m \u001b[1;33m{\u001b[0m\u001b[1;34m'MethyAndCout'\u001b[0m\u001b[1;33m:\u001b[0m\u001b[1;33m{\u001b[0m\u001b[1;34m'Bismark'\u001b[0m\u001b[1;33m:\u001b[0m\u001b[1;34m'xxxxx'\u001b[0m\u001b[1;33m}\u001b[0m\u001b[1;33m,\u001b[0m\u001b[1;34m'Alignment'\u001b[0m\u001b[1;33m:\u001b[0m\u001b[1;33m{\u001b[0m\u001b[1;34m'Bismark'\u001b[0m\u001b[1;33m:\u001b[0m\u001b[1;34m'xxxx'\u001b[0m\u001b[1;33m}\u001b[0m\u001b[1;33m}\u001b[0m\u001b[1;33m\u001b[0m\u001b[1;33m\u001b[0m\u001b[0m\n\u001b[1;32m----> 4\u001b[1;33m \u001b[1;32mif\u001b[0m \u001b[0mconf_dic\u001b[0m\u001b[1;33m[\u001b[0m\u001b[0mPT\u001b[0m\u001b[1;33m]\u001b[0m \u001b[1;33m!=\u001b[0m \u001b[1;34m\"WGBS\"\u001b[0m \u001b[1;32mand\u001b[0m \u001b[1;33m(\u001b[0m\u001b[0mdb_dic\u001b[0m\u001b[1;33m[\u001b[0m\u001b[1;34m\"MethyAndCout\"\u001b[0m\u001b[1;33m]\u001b[0m\u001b[1;33m[\u001b[0m\u001b[1;34m\"Target\"\u001b[0m\u001b[1;33m]\u001b[0m \u001b[1;33m==\u001b[0m \u001b[1;32mNone\u001b[0m \u001b[1;32mor\u001b[0m \u001b[0mdb_dic\u001b[0m\u001b[1;33m[\u001b[0m\u001b[1;34m\"Alignment\"\u001b[0m\u001b[1;33m]\u001b[0m\u001b[1;33m[\u001b[0m\u001b[1;34m\"Target\"\u001b[0m\u001b[1;33m]\u001b[0m \u001b[1;33m==\u001b[0m \u001b[1;32mNone\u001b[0m \u001b[1;32mor\u001b[0m \u001b[1;34m\"Target\"\u001b[0m \u001b[1;32mnot\u001b[0m \u001b[1;32min\u001b[0m \u001b[0mdb_dic\u001b[0m\u001b[1;33m[\u001b[0m\u001b[1;34m\"MethyAndCout\"\u001b[0m\u001b[1;33m]\u001b[0m\u001b[1;33m.\u001b[0m\u001b[0mkeys\u001b[0m\u001b[1;33m(\u001b[0m\u001b[1;33m)\u001b[0m \u001b[1;32mor\u001b[0m \u001b[1;34m\"Target\"\u001b[0m \u001b[1;32mnot\u001b[0m \u001b[1;32min\u001b[0m \u001b[0mdb_dic\u001b[0m\u001b[1;33m[\u001b[0m\u001b[1;34m\"Alignment\"\u001b[0m\u001b[1;33m]\u001b[0m\u001b[1;33m.\u001b[0m\u001b[0mkeys\u001b[0m\u001b[1;33m(\u001b[0m\u001b[1;33m)\u001b[0m\u001b[1;33m)\u001b[0m\u001b[1;33m:\u001b[0m\u001b[1;33m\u001b[0m\u001b[1;33m\u001b[0m\u001b[0m\n\u001b[0m\u001b[0;32m      5\u001b[0m     \u001b[0mprint\u001b[0m\u001b[1;33m(\u001b[0m\u001b[1;34m'ok'\u001b[0m\u001b[1;33m)\u001b[0m\u001b[1;33m\u001b[0m\u001b[1;33m\u001b[0m\u001b[0m\n\u001b[0;32m      6\u001b[0m \u001b[1;32melse\u001b[0m\u001b[1;33m:\u001b[0m\u001b[1;33m\u001b[0m\u001b[1;33m\u001b[0m\u001b[0m\n",
      "\u001b[1;31mKeyError\u001b[0m: 'Target'"
     ]
    }
   ],
   "source": [
    "PT = \"ProjectType\"\n",
    "conf_dic = {'ProjectType':\"RRBS\"}\n",
    "db_dic = {'MethyAndCout':{'Bismark':'xxxxx'},'Alignment':{'Bismark':'xxxx'}}\n",
    "if conf_dic[PT] != \"WGBS\":\n",
    "    (db_dic[\"MethyAndCout\"][\"Target\"] == None or db_dic[\"Alignment\"][\"Target\"] == None or \"Target\" not in db_dic[\"MethyAndCout\"].keys() or \"Target\" not in db_dic[\"Alignment\"].keys()):\n",
    "    print('ok')\n",
    "else:\n",
    "    print('eee')"
   ]
  },
  {
   "cell_type": "code",
   "execution_count": 7,
   "metadata": {},
   "outputs": [
    {
     "ename": "KeyError",
     "evalue": "'Target'",
     "output_type": "error",
     "traceback": [
      "\u001b[1;31m---------------------------------------------------------------------------\u001b[0m",
      "\u001b[1;31mKeyError\u001b[0m                                  Traceback (most recent call last)",
      "\u001b[1;32m<ipython-input-7-ee283613573d>\u001b[0m in \u001b[0;36m<module>\u001b[1;34m\u001b[0m\n\u001b[1;32m----> 1\u001b[1;33m \u001b[0mdb_dic\u001b[0m\u001b[1;33m[\u001b[0m\u001b[1;34m\"MethyAndCout\"\u001b[0m\u001b[1;33m]\u001b[0m\u001b[1;33m[\u001b[0m\u001b[1;34m\"Target\"\u001b[0m\u001b[1;33m]\u001b[0m\u001b[1;33m\u001b[0m\u001b[1;33m\u001b[0m\u001b[0m\n\u001b[0m",
      "\u001b[1;31mKeyError\u001b[0m: 'Target'"
     ]
    }
   ],
   "source": [
    "db_dic[\"MethyAndCout\"][\"Target\"]"
   ]
  },
  {
   "cell_type": "code",
   "execution_count": 8,
   "metadata": {},
   "outputs": [],
   "source": [
    "import yaml"
   ]
  },
  {
   "cell_type": "code",
   "execution_count": 11,
   "metadata": {},
   "outputs": [],
   "source": [
    "Raw_QC = {'QC_Q20':85,'QC_Adapter':95}\n",
    "a = yaml.dump(Raw_QC)"
   ]
  },
  {
   "cell_type": "code",
   "execution_count": 13,
   "metadata": {},
   "outputs": [
    {
     "data": {
      "text/plain": [
       "'QC_Adapter: 95\\nQC_Q20: 85\\n'"
      ]
     },
     "execution_count": 13,
     "metadata": {},
     "output_type": "execute_result"
    }
   ],
   "source": [
    "a"
   ]
  },
  {
   "cell_type": "code",
   "execution_count": 14,
   "metadata": {},
   "outputs": [
    {
     "name": "stdout",
     "output_type": "stream",
     "text": [
      "QC_Adapter: 95\n",
      "QC_Q20: 85\n",
      "\n"
     ]
    }
   ],
   "source": [
    "print(a)"
   ]
  },
  {
   "cell_type": "code",
   "execution_count": 15,
   "metadata": {},
   "outputs": [
    {
     "name": "stdout",
     "output_type": "stream",
     "text": [
      "/home/chengjiawen1/software/Python3/bin/python3 A/B/get_shell.pl -config C -data_list D -outdir E\n"
     ]
    }
   ],
   "source": [
    "RawQC_shell_scr = \"/home/chengjiawen1/software/Python3/bin/python3 {pipline_bin_abspath}/{flag}/get_shell.pl \\\n",
    "-config {flag_conf} \\\n",
    "-data_list {rawdata_list_abspath} \\\n",
    "-outdir {outdir_abspath}\".format(pipline_bin_abspath=pipline_bin_abspath,\n",
    "                                 flag=flag,flag_conf=flag_conf,\n",
    "                                 rawdata_list_abspath=rawdata_list_abspath,\n",
    "                                 outdir_abspath=outdir_abspath)\n",
    "print(RawQC_shell_scr)"
   ]
  },
  {
   "cell_type": "code",
   "execution_count": 16,
   "metadata": {},
   "outputs": [],
   "source": [
    "a = \"/home/chengjiawen1/software/Python3/bin/python3\"\n",
    "def hello():\n",
    "    print(a)\n",
    "    print(\"Hello def\")\n",
    "def bb():\n",
    "    print(a)\n",
    "    print(\"bb def\")\n",
    "def main():\n",
    "    hello()\n",
    "    bb()\n",
    "    print(a)\n",
    "    print(\"END\")"
   ]
  },
  {
   "cell_type": "code",
   "execution_count": 17,
   "metadata": {},
   "outputs": [
    {
     "name": "stdout",
     "output_type": "stream",
     "text": [
      "/home/chengjiawen1/software/Python3/bin/python3\n",
      "Hello def\n",
      "/home/chengjiawen1/software/Python3/bin/python3\n",
      "bb def\n",
      "/home/chengjiawen1/software/Python3/bin/python3\n",
      "END\n"
     ]
    }
   ],
   "source": [
    "main()"
   ]
  },
  {
   "cell_type": "code",
   "execution_count": 18,
   "metadata": {},
   "outputs": [
    {
     "data": {
      "text/plain": [
       "'a b c'"
      ]
     },
     "execution_count": 18,
     "metadata": {},
     "output_type": "execute_result"
    }
   ],
   "source": [
    "a = ['a','b','c']\n",
    "' '.join(a)"
   ]
  },
  {
   "cell_type": "code",
   "execution_count": 4,
   "metadata": {},
   "outputs": [
    {
     "name": "stdout",
     "output_type": "stream",
     "text": [
      "arg1 One\n",
      "arg2 2\n",
      "arg3 3\n"
     ]
    }
   ],
   "source": [
    "def test_args(arg1,arg2,arg3):\n",
    "    print(\"arg1\",arg1)\n",
    "    print(\"arg2\",arg2)    \n",
    "    print(\"arg3\",arg3)\n",
    "args = (\"One\",2,3)\n",
    "test_args(*args)"
   ]
  },
  {
   "cell_type": "code",
   "execution_count": 7,
   "metadata": {},
   "outputs": [
    {
     "name": "stdout",
     "output_type": "stream",
     "text": [
      "arg1 10\n",
      "arg2 40\n",
      "arg3 Hello\n"
     ]
    }
   ],
   "source": [
    "kwargs = {\"arg1\":10,\"arg2\":40,\"arg3\":\"Hello\"}\n",
    "test_args(**kwargs)"
   ]
  },
  {
   "cell_type": "code",
   "execution_count": 8,
   "metadata": {},
   "outputs": [
    {
     "name": "stdout",
     "output_type": "stream",
     "text": [
      "Hello CJW\n",
      "Hello Oocarain\n",
      "Hello Paprika\n"
     ]
    }
   ],
   "source": [
    "def hello(*args):\n",
    "    for i in args:\n",
    "        print(f'Hello {i}')\n",
    "names = ['CJW','Oocarain','Paprika']\n",
    "hello(*names)"
   ]
  },
  {
   "cell_type": "code",
   "execution_count": 9,
   "metadata": {},
   "outputs": [],
   "source": [
    "def fibon(n):\n",
    "    a = b = 1\n",
    "    for i in range(n):\n",
    "        yield a\n",
    "        a , b = b, a+b"
   ]
  },
  {
   "cell_type": "code",
   "execution_count": 14,
   "metadata": {},
   "outputs": [],
   "source": [
    "def gene():\n",
    "    for i in range(5):\n",
    "        yield i"
   ]
  },
  {
   "cell_type": "code",
   "execution_count": 15,
   "metadata": {},
   "outputs": [],
   "source": [
    "mg = gene()"
   ]
  },
  {
   "cell_type": "code",
   "execution_count": 16,
   "metadata": {},
   "outputs": [
    {
     "name": "stdout",
     "output_type": "stream",
     "text": [
      "0\n"
     ]
    }
   ],
   "source": [
    "print(next(mg))"
   ]
  },
  {
   "cell_type": "code",
   "execution_count": 17,
   "metadata": {},
   "outputs": [
    {
     "name": "stdout",
     "output_type": "stream",
     "text": [
      "1\n"
     ]
    }
   ],
   "source": [
    "print(next(mg))"
   ]
  },
  {
   "cell_type": "code",
   "execution_count": 22,
   "metadata": {},
   "outputs": [],
   "source": [
    "mystr = \"ChengJiaWen\"\n",
    "my_iter = iter(mystr)"
   ]
  },
  {
   "cell_type": "code",
   "execution_count": 23,
   "metadata": {},
   "outputs": [
    {
     "name": "stdout",
     "output_type": "stream",
     "text": [
      "C\n",
      "h\n",
      "e\n",
      "n\n",
      "g\n",
      "J\n",
      "i\n",
      "a\n",
      "W\n",
      "e\n",
      "n\n"
     ]
    }
   ],
   "source": [
    "for i in range(len(mystr)):\n",
    "    print(next(my_iter))"
   ]
  },
  {
   "cell_type": "code",
   "execution_count": 25,
   "metadata": {},
   "outputs": [],
   "source": [
    "def add(x):\n",
    "    return (x+1)\n",
    "def multiply(x):\n",
    "    return (2*x+1)\n",
    "funcs = [add,multiply]"
   ]
  },
  {
   "cell_type": "code",
   "execution_count": 26,
   "metadata": {},
   "outputs": [
    {
     "name": "stdout",
     "output_type": "stream",
     "text": [
      "[1, 1]\n",
      "[2, 3]\n",
      "[3, 5]\n",
      "[4, 7]\n",
      "[5, 9]\n"
     ]
    }
   ],
   "source": [
    "for i in range(5):\n",
    "    value = map(lambda x: x(i),funcs)\n",
    "    print(list(value))"
   ]
  },
  {
   "cell_type": "code",
   "execution_count": 27,
   "metadata": {},
   "outputs": [
    {
     "name": "stdout",
     "output_type": "stream",
     "text": [
      "hello oocarain\n"
     ]
    }
   ],
   "source": [
    "print(\"hello\"\n",
    "     \" oocarain\")"
   ]
  },
  {
   "cell_type": "code",
   "execution_count": 1,
   "metadata": {},
   "outputs": [],
   "source": [
    "import re"
   ]
  },
  {
   "cell_type": "code",
   "execution_count": 13,
   "metadata": {},
   "outputs": [
    {
     "name": "stdout",
     "output_type": "stream",
     "text": [
      "abc\n"
     ]
    }
   ],
   "source": [
    "s = 'abc'\n",
    "m = re.match(r'>.*',s)\n",
    "if m:\n",
    "    print(m.group())\n",
    "else:\n",
    "    print(s)"
   ]
  },
  {
   "cell_type": "code",
   "execution_count": 14,
   "metadata": {},
   "outputs": [
    {
     "data": {
      "text/plain": [
       "'abc'"
      ]
     },
     "execution_count": 14,
     "metadata": {},
     "output_type": "execute_result"
    }
   ],
   "source": [
    "a = '>abc'\n",
    "a[1:]"
   ]
  },
  {
   "cell_type": "code",
   "execution_count": 2,
   "metadata": {},
   "outputs": [],
   "source": [
    "import re"
   ]
  },
  {
   "cell_type": "code",
   "execution_count": 62,
   "metadata": {},
   "outputs": [],
   "source": [
    "a = \"ID=Pav_sc0000551.1_g020.1.ok;Note=PREDICTED: importin-11 isoform X2\""
   ]
  },
  {
   "cell_type": "code",
   "execution_count": 63,
   "metadata": {},
   "outputs": [],
   "source": [
    "geneid = re.findall(r'ID=(Pav_sc\\d{7}.\\d_g\\d{3}.\\d.[mkbr]{2})',a)"
   ]
  },
  {
   "cell_type": "code",
   "execution_count": 67,
   "metadata": {},
   "outputs": [
    {
     "name": "stdout",
     "output_type": "stream",
     "text": [
      "k\n"
     ]
    }
   ],
   "source": [
    "if geneid:\n",
    "    print('nk')\n",
    "else:\n",
    "    print('k')"
   ]
  },
  {
   "cell_type": "code",
   "execution_count": 41,
   "metadata": {},
   "outputs": [],
   "source": [
    "b = [[1,100],[200,300],[350,380]]\n"
   ]
  },
  {
   "cell_type": "code",
   "execution_count": 39,
   "metadata": {},
   "outputs": [],
   "source": [
    "def deal(alist,strand):\n",
    "    s_cds = ''\n",
    "    s_intron = ''\n",
    "    s_cds_ls = []\n",
    "    s_intron_ls = []\n",
    "    for i in alist[1:-1]:\n",
    "        s_cds_ls.append(str(i[0])+'-'+str(i[1]))\n",
    "    if strand == '+':\n",
    "        for i in range(1,len(alist)-1):\n",
    "            s_intron_ls.append(str(alist[i][1]+1)+'-'+str(alist[i+1][0]-1))\n",
    "    elif strand == '-':\n",
    "        for i in range(0,len(alist)-2):\n",
    "            s_intron_ls.append(str(alist[i][1]+1)+'-'+str(alist[i+1][0]-1))\n",
    "    if strand == '-':\n",
    "        s_cds_ls =  s_cds_ls[::-1]\n",
    "        s_intron_ls = s_intron_ls[::-1]\n",
    "    s_cds = ','.join(s_cds_ls)\n",
    "    s_intron = ','.join(s_intron_ls)\n",
    "    return [s_cds,s_intron]"
   ]
  },
  {
   "cell_type": "code",
   "execution_count": 68,
   "metadata": {},
   "outputs": [
    {
     "data": {
      "text/plain": [
       "['CP_A000001']"
      ]
     },
     "execution_count": 68,
     "metadata": {},
     "output_type": "execute_result"
    }
   ],
   "source": [
    "detail = 'ID=CP_A000001;Source=MAKER1:DHR008627.1,MAKER2:DH008396.1;'\n",
    "re.findall(r'ID=(CP_[AB]\\d{6});',detail)"
   ]
  },
  {
   "cell_type": "code",
   "execution_count": 71,
   "metadata": {},
   "outputs": [
    {
     "data": {
      "text/plain": [
       "['CP_A000001']"
      ]
     },
     "execution_count": 71,
     "metadata": {},
     "output_type": "execute_result"
    }
   ],
   "source": [
    "detail = 'Parent=CP_A000001;'\n",
    "cds_parent = re.findall(r'Parent=(CP_[AB]\\d{6});',detail)\n",
    "cds_parent"
   ]
  },
  {
   "cell_type": "code",
   "execution_count": null,
   "metadata": {},
   "outputs": [],
   "source": []
  },
  {
   "cell_type": "code",
   "execution_count": 2,
   "metadata": {},
   "outputs": [
    {
     "data": {
      "text/plain": [
       "4"
      ]
     },
     "execution_count": 2,
     "metadata": {},
     "output_type": "execute_result"
    }
   ],
   "source": [
    "range(5)[-1]"
   ]
  },
  {
   "cell_type": "code",
   "execution_count": 5,
   "metadata": {},
   "outputs": [
    {
     "name": "stdout",
     "output_type": "stream",
     "text": [
      "ok\n",
      "7\n"
     ]
    }
   ],
   "source": [
    "def hel(a,b=1,c=2):\n",
    "    print(a)\n",
    "    print(b+c)\n",
    "hel('ok',b=2,c=5)"
   ]
  },
  {
   "cell_type": "code",
   "execution_count": 22,
   "metadata": {},
   "outputs": [
    {
     "name": "stdout",
     "output_type": "stream",
     "text": [
      "asdas\n",
      "5 adas \"HHH\"\n",
      "abc\tabc\n",
      "cheng ====\n",
      "{}\n",
      "\n",
      "asdas\n",
      "5 adas \"HHH\"\n",
      "abc\tabc\n",
      "cheng ====\n",
      "{}\n",
      "\n",
      "asdas\n",
      "5 adas \"HHH\"\n",
      "abc\tabc\n",
      "cheng ====\n",
      "{}\n",
      "\n",
      "asdas\n",
      "5 adas \"HHH\"\n",
      "abc\tabc\n",
      "cheng ====\n",
      "{}\n",
      "\n",
      "asdas\n",
      "5 adas \"HHH\"\n",
      "abc\tabc\n",
      "cheng ====\n",
      "{}\n",
      "\n"
     ]
    }
   ],
   "source": [
    "b = 5\n",
    "c = 'cheng'\n",
    "for i in range(5):\n",
    "    a = '''asdas\n",
    "{} adas \"HHH\"\n",
    "abc\\tabc\n",
    "{} ====\n",
    "{{}}\n",
    "'''.format(b,c)\n",
    "    print(a)"
   ]
  },
  {
   "cell_type": "code",
   "execution_count": 12,
   "metadata": {},
   "outputs": [
    {
     "data": {
      "text/plain": [
       "10"
      ]
     },
     "execution_count": 12,
     "metadata": {},
     "output_type": "execute_result"
    }
   ],
   "source": [
    "int('10CPU'.replace('CPU',''))"
   ]
  },
  {
   "cell_type": "code",
   "execution_count": 38,
   "metadata": {},
   "outputs": [
    {
     "name": "stdout",
     "output_type": "stream",
     "text": [
      "ooo ' ' \"#\" \\t bbb ///\n"
     ]
    }
   ],
   "source": [
    "a = 'ooo'\n",
    "print(f'{a} \\' \\' \"#\" \\\\t bbb ///')"
   ]
  },
  {
   "cell_type": "code",
   "execution_count": 42,
   "metadata": {},
   "outputs": [
    {
     "data": {
      "text/plain": [
       "'a.b'"
      ]
     },
     "execution_count": 42,
     "metadata": {},
     "output_type": "execute_result"
    }
   ],
   "source": [
    "a='a.b.c'\n",
    "'.'.join(a.split('.')[:-1])"
   ]
  },
  {
   "cell_type": "code",
   "execution_count": 50,
   "metadata": {},
   "outputs": [
    {
     "ename": "TypeError",
     "evalue": "range() takes no keyword arguments",
     "output_type": "error",
     "traceback": [
      "\u001b[1;31m---------------------------------------------------------------------------\u001b[0m",
      "\u001b[1;31mTypeError\u001b[0m                                 Traceback (most recent call last)",
      "\u001b[1;32m<ipython-input-50-974fbf9b0001>\u001b[0m in \u001b[0;36m<module>\u001b[1;34m\u001b[0m\n\u001b[0;32m      2\u001b[0m \u001b[0ma\u001b[0m\u001b[1;33m.\u001b[0m\u001b[0mappend\u001b[0m\u001b[1;33m(\u001b[0m\u001b[1;36m1\u001b[0m\u001b[1;33m)\u001b[0m\u001b[1;33m\u001b[0m\u001b[1;33m\u001b[0m\u001b[0m\n\u001b[0;32m      3\u001b[0m \u001b[1;33m\u001b[0m\u001b[0m\n\u001b[1;32m----> 4\u001b[1;33m \u001b[1;32mfor\u001b[0m \u001b[0mi\u001b[0m \u001b[1;32min\u001b[0m \u001b[0mrange\u001b[0m\u001b[1;33m(\u001b[0m\u001b[0mlen\u001b[0m\u001b[1;33m(\u001b[0m\u001b[0ma\u001b[0m\u001b[1;33m)\u001b[0m\u001b[1;33m,\u001b[0m\u001b[0mstep\u001b[0m\u001b[1;33m=\u001b[0m\u001b[1;36m3\u001b[0m\u001b[1;33m)\u001b[0m\u001b[1;33m:\u001b[0m\u001b[1;33m\u001b[0m\u001b[1;33m\u001b[0m\u001b[0m\n\u001b[0m\u001b[0;32m      5\u001b[0m     \u001b[0mprint\u001b[0m\u001b[1;33m(\u001b[0m\u001b[0ma\u001b[0m\u001b[1;33m[\u001b[0m\u001b[0mi\u001b[0m\u001b[1;33m]\u001b[0m\u001b[1;33m)\u001b[0m\u001b[1;33m\u001b[0m\u001b[1;33m\u001b[0m\u001b[0m\n",
      "\u001b[1;31mTypeError\u001b[0m: range() takes no keyword arguments"
     ]
    }
   ],
   "source": [
    "a = ['a','b','m']\n",
    "a.append(1)\n",
    "\n",
    "for i in range(len(a),step=3):\n",
    "    print(a[i])"
   ]
  },
  {
   "cell_type": "code",
   "execution_count": 52,
   "metadata": {},
   "outputs": [],
   "source": [
    "import numpy as np"
   ]
  },
  {
   "cell_type": "code",
   "execution_count": 56,
   "metadata": {},
   "outputs": [
    {
     "name": "stdout",
     "output_type": "stream",
     "text": [
      "a\n",
      "1\n"
     ]
    }
   ],
   "source": [
    "for i in np.arange(len(a),step=3):\n",
    "    print(a[i])"
   ]
  },
  {
   "cell_type": "code",
   "execution_count": 59,
   "metadata": {},
   "outputs": [
    {
     "data": {
      "text/plain": [
       "[5, 4, 3, 2]"
      ]
     },
     "execution_count": 59,
     "metadata": {},
     "output_type": "execute_result"
    }
   ],
   "source": [
    "[1,2,3,4,5][1:][::-1]"
   ]
  },
  {
   "cell_type": "code",
   "execution_count": 60,
   "metadata": {},
   "outputs": [],
   "source": [
    "import pandas as pd"
   ]
  },
  {
   "cell_type": "code",
   "execution_count": 65,
   "metadata": {},
   "outputs": [],
   "source": [
    "a = pd.DataFrame({'A':['aa','bb','cc'],'B':[1,2,3,]})\n",
    "b = pd.DataFrame({'A':['aa','aa','bb','cc','cc','dd'],'B':['Hello','KKK','LLL','OOO','PPP','ZZZ']})"
   ]
  },
  {
   "cell_type": "code",
   "execution_count": 62,
   "metadata": {},
   "outputs": [
    {
     "data": {
      "text/html": [
       "<div>\n",
       "<style scoped>\n",
       "    .dataframe tbody tr th:only-of-type {\n",
       "        vertical-align: middle;\n",
       "    }\n",
       "\n",
       "    .dataframe tbody tr th {\n",
       "        vertical-align: top;\n",
       "    }\n",
       "\n",
       "    .dataframe thead th {\n",
       "        text-align: right;\n",
       "    }\n",
       "</style>\n",
       "<table border=\"1\" class=\"dataframe\">\n",
       "  <thead>\n",
       "    <tr style=\"text-align: right;\">\n",
       "      <th></th>\n",
       "      <th>A</th>\n",
       "      <th>B</th>\n",
       "    </tr>\n",
       "  </thead>\n",
       "  <tbody>\n",
       "    <tr>\n",
       "      <th>0</th>\n",
       "      <td>aa</td>\n",
       "      <td>1</td>\n",
       "    </tr>\n",
       "    <tr>\n",
       "      <th>1</th>\n",
       "      <td>bb</td>\n",
       "      <td>2</td>\n",
       "    </tr>\n",
       "    <tr>\n",
       "      <th>2</th>\n",
       "      <td>cc</td>\n",
       "      <td>3</td>\n",
       "    </tr>\n",
       "    <tr>\n",
       "      <th>3</th>\n",
       "      <td>dd</td>\n",
       "      <td>4</td>\n",
       "    </tr>\n",
       "  </tbody>\n",
       "</table>\n",
       "</div>"
      ],
      "text/plain": [
       "    A  B\n",
       "0  aa  1\n",
       "1  bb  2\n",
       "2  cc  3\n",
       "3  dd  4"
      ]
     },
     "execution_count": 62,
     "metadata": {},
     "output_type": "execute_result"
    }
   ],
   "source": [
    "a"
   ]
  },
  {
   "cell_type": "code",
   "execution_count": 63,
   "metadata": {},
   "outputs": [
    {
     "data": {
      "text/html": [
       "<div>\n",
       "<style scoped>\n",
       "    .dataframe tbody tr th:only-of-type {\n",
       "        vertical-align: middle;\n",
       "    }\n",
       "\n",
       "    .dataframe tbody tr th {\n",
       "        vertical-align: top;\n",
       "    }\n",
       "\n",
       "    .dataframe thead th {\n",
       "        text-align: right;\n",
       "    }\n",
       "</style>\n",
       "<table border=\"1\" class=\"dataframe\">\n",
       "  <thead>\n",
       "    <tr style=\"text-align: right;\">\n",
       "      <th></th>\n",
       "      <th>A</th>\n",
       "      <th>B</th>\n",
       "    </tr>\n",
       "  </thead>\n",
       "  <tbody>\n",
       "    <tr>\n",
       "      <th>0</th>\n",
       "      <td>aa</td>\n",
       "      <td>Hello</td>\n",
       "    </tr>\n",
       "    <tr>\n",
       "      <th>1</th>\n",
       "      <td>aa</td>\n",
       "      <td>KKK</td>\n",
       "    </tr>\n",
       "    <tr>\n",
       "      <th>2</th>\n",
       "      <td>bb</td>\n",
       "      <td>LLL</td>\n",
       "    </tr>\n",
       "    <tr>\n",
       "      <th>3</th>\n",
       "      <td>cc</td>\n",
       "      <td>OOO</td>\n",
       "    </tr>\n",
       "    <tr>\n",
       "      <th>4</th>\n",
       "      <td>cc</td>\n",
       "      <td>PPP</td>\n",
       "    </tr>\n",
       "    <tr>\n",
       "      <th>5</th>\n",
       "      <td>dd</td>\n",
       "      <td>ZZZ</td>\n",
       "    </tr>\n",
       "  </tbody>\n",
       "</table>\n",
       "</div>"
      ],
      "text/plain": [
       "    A      B\n",
       "0  aa  Hello\n",
       "1  aa    KKK\n",
       "2  bb    LLL\n",
       "3  cc    OOO\n",
       "4  cc    PPP\n",
       "5  dd    ZZZ"
      ]
     },
     "execution_count": 63,
     "metadata": {},
     "output_type": "execute_result"
    }
   ],
   "source": [
    "b"
   ]
  },
  {
   "cell_type": "code",
   "execution_count": 68,
   "metadata": {},
   "outputs": [
    {
     "data": {
      "text/html": [
       "<div>\n",
       "<style scoped>\n",
       "    .dataframe tbody tr th:only-of-type {\n",
       "        vertical-align: middle;\n",
       "    }\n",
       "\n",
       "    .dataframe tbody tr th {\n",
       "        vertical-align: top;\n",
       "    }\n",
       "\n",
       "    .dataframe thead th {\n",
       "        text-align: right;\n",
       "    }\n",
       "</style>\n",
       "<table border=\"1\" class=\"dataframe\">\n",
       "  <thead>\n",
       "    <tr style=\"text-align: right;\">\n",
       "      <th></th>\n",
       "      <th>A</th>\n",
       "      <th>B_x</th>\n",
       "      <th>B_y</th>\n",
       "    </tr>\n",
       "  </thead>\n",
       "  <tbody>\n",
       "    <tr>\n",
       "      <th>0</th>\n",
       "      <td>aa</td>\n",
       "      <td>1</td>\n",
       "      <td>Hello</td>\n",
       "    </tr>\n",
       "    <tr>\n",
       "      <th>1</th>\n",
       "      <td>aa</td>\n",
       "      <td>1</td>\n",
       "      <td>KKK</td>\n",
       "    </tr>\n",
       "    <tr>\n",
       "      <th>2</th>\n",
       "      <td>bb</td>\n",
       "      <td>2</td>\n",
       "      <td>LLL</td>\n",
       "    </tr>\n",
       "    <tr>\n",
       "      <th>3</th>\n",
       "      <td>cc</td>\n",
       "      <td>3</td>\n",
       "      <td>OOO</td>\n",
       "    </tr>\n",
       "    <tr>\n",
       "      <th>4</th>\n",
       "      <td>cc</td>\n",
       "      <td>3</td>\n",
       "      <td>PPP</td>\n",
       "    </tr>\n",
       "  </tbody>\n",
       "</table>\n",
       "</div>"
      ],
      "text/plain": [
       "    A  B_x    B_y\n",
       "0  aa    1  Hello\n",
       "1  aa    1    KKK\n",
       "2  bb    2    LLL\n",
       "3  cc    3    OOO\n",
       "4  cc    3    PPP"
      ]
     },
     "execution_count": 68,
     "metadata": {},
     "output_type": "execute_result"
    }
   ],
   "source": [
    "pd.merge(a,b,how='inner',on='A')"
   ]
  },
  {
   "cell_type": "code",
   "execution_count": 72,
   "metadata": {},
   "outputs": [
    {
     "name": "stdout",
     "output_type": "stream",
     "text": [
      "XXX XXX && \\\n",
      "grep -v \"#\" XXX | sed 's/;/\\t/g' | cut -f 1,4,5,9,10,11,12,13,14,15,16,18,19 | perl -pe 's/(\\t[^\\t]*?=)/\\t/g' | sed 's/gain/Hyper/' | sed 's/loss/Hypo/' | awk '{print $1\"_\"$2\"_\"$3,$1,$2,$3,$4,$5,$6,$7,$8,$9,$10,$11,$12,$13}' OFS=\"\\t\" > XXXX && \\\n",
      "\n"
     ]
    }
   ],
   "source": [
    "Rscript = 'XXX'\n",
    "str_r_scr_path = 'XXX'\n",
    "str_out_DMR_file = 'XXX'\n",
    "str_fmt_out_DMR_file = 'XXXX'\n",
    "scr1_cont = f'{Rscript} {str_r_scr_path} && \\\\\\n\\\n",
    "grep -v \"#\" {str_out_DMR_file} | sed \\'s/;/\\\\t/g\\' | cut -f 1,4,5,9,10,11,12,13,14,15,16,18,19 | perl -pe \\'s/(\\\\t[^\\\\t]*?=)/\\\\t/g\\' | sed \\'s/gain/Hyper/\\' | sed \\'s/loss/Hypo/\\' | \\\n",
    "awk \\'{{print $1\"_\"$2\"_\"$3,$1,$2,$3,$4,$5,$6,$7,$8,$9,$10,$11,$12,$13}}\\' OFS=\"\\\\t\" > {str_fmt_out_DMR_file} && \\\\\\n'\n",
    "print(scr1_cont)"
   ]
  },
  {
   "cell_type": "code",
   "execution_count": 73,
   "metadata": {},
   "outputs": [
    {
     "data": {
      "text/plain": [
       "['a', 'a', 'ab']"
      ]
     },
     "execution_count": 73,
     "metadata": {},
     "output_type": "execute_result"
    }
   ],
   "source": [
    "a='a,a,ab'\n",
    "a.split(',')"
   ]
  },
  {
   "cell_type": "code",
   "execution_count": 74,
   "metadata": {},
   "outputs": [
    {
     "data": {
      "text/plain": [
       "['C1', 'C2', 'C3', 'T1', 'T2', 'T3']"
      ]
     },
     "execution_count": 74,
     "metadata": {},
     "output_type": "execute_result"
    }
   ],
   "source": [
    "a = ['Control','Treat',['C1','C2','C3'],['T1','T2','T3']]\n",
    "a[2] + a[3]"
   ]
  },
  {
   "cell_type": "code",
   "execution_count": 86,
   "metadata": {},
   "outputs": [
    {
     "data": {
      "text/plain": [
       "[{'a', 'b'}, {'a', 'c'}, {'a', 'd'}]"
      ]
     },
     "execution_count": 86,
     "metadata": {},
     "output_type": "execute_result"
    }
   ],
   "source": [
    "a = {'a':'1','b':'2'}\n",
    "b = {'a':'1','c':'2'}\n",
    "d = {'a':'3','d':'5'}\n",
    "c = [set(a.keys()),set(b.keys()),set(d.keys())]\n",
    "c"
   ]
  },
  {
   "cell_type": "code",
   "execution_count": 87,
   "metadata": {},
   "outputs": [],
   "source": [
    "def myintersect(aset,bset):\n",
    "    return aset.intersection(bset)"
   ]
  },
  {
   "cell_type": "code",
   "execution_count": 91,
   "metadata": {},
   "outputs": [],
   "source": [
    "from functools import reduce"
   ]
  },
  {
   "cell_type": "code",
   "execution_count": 92,
   "metadata": {},
   "outputs": [
    {
     "data": {
      "text/plain": [
       "['a']"
      ]
     },
     "execution_count": 92,
     "metadata": {},
     "output_type": "execute_result"
    }
   ],
   "source": [
    "list(reduce(myintersect,c))"
   ]
  },
  {
   "cell_type": "code",
   "execution_count": 94,
   "metadata": {},
   "outputs": [
    {
     "name": "stdout",
     "output_type": "stream",
     "text": [
      "[{'b': 'haha'}, {'b': 'haha'}]\n"
     ]
    }
   ],
   "source": [
    "c = [{},{}]\n",
    "for i in range(2):\n",
    "    if 'b' not in c[i].keys():\n",
    "        c[i]['b'] = 'haha'\n",
    "print(c)"
   ]
  },
  {
   "cell_type": "code",
   "execution_count": 101,
   "metadata": {},
   "outputs": [
    {
     "data": {
      "text/plain": [
       "{1: {}, 2: {}}"
      ]
     },
     "execution_count": 101,
     "metadata": {},
     "output_type": "execute_result"
    }
   ],
   "source": [
    "a = {1:{},2:{}}\n",
    "a"
   ]
  },
  {
   "cell_type": "code",
   "execution_count": null,
   "metadata": {},
   "outputs": [],
   "source": [
    "# "
   ]
  },
  {
   "cell_type": "code",
   "execution_count": 1,
   "metadata": {},
   "outputs": [],
   "source": [
    "import pandas as pd\n",
    "import numpy as np"
   ]
  },
  {
   "cell_type": "code",
   "execution_count": 2,
   "metadata": {},
   "outputs": [
    {
     "data": {
      "text/html": [
       "<div>\n",
       "<style scoped>\n",
       "    .dataframe tbody tr th:only-of-type {\n",
       "        vertical-align: middle;\n",
       "    }\n",
       "\n",
       "    .dataframe tbody tr th {\n",
       "        vertical-align: top;\n",
       "    }\n",
       "\n",
       "    .dataframe thead th {\n",
       "        text-align: right;\n",
       "    }\n",
       "</style>\n",
       "<table border=\"1\" class=\"dataframe\">\n",
       "  <thead>\n",
       "    <tr style=\"text-align: right;\">\n",
       "      <th></th>\n",
       "      <th>Sample ID</th>\n",
       "      <th>Fragment Length(bp)</th>\n",
       "      <th>Sequencing Strategy</th>\n",
       "      <th>Clean Reads Number</th>\n",
       "      <th>Clean Data Size(bp)</th>\n",
       "      <th>Clean Rate(%)</th>\n",
       "    </tr>\n",
       "  </thead>\n",
       "  <tbody>\n",
       "    <tr>\n",
       "      <th>0</th>\n",
       "      <td>C_1</td>\n",
       "      <td>100~500bp</td>\n",
       "      <td>PE100</td>\n",
       "      <td>167108674</td>\n",
       "      <td>16710867400</td>\n",
       "      <td>94.98</td>\n",
       "    </tr>\n",
       "    <tr>\n",
       "      <th>1</th>\n",
       "      <td>C_2</td>\n",
       "      <td>100~500bp</td>\n",
       "      <td>PE100</td>\n",
       "      <td>165329290</td>\n",
       "      <td>16532929000</td>\n",
       "      <td>93.27</td>\n",
       "    </tr>\n",
       "    <tr>\n",
       "      <th>2</th>\n",
       "      <td>C_3</td>\n",
       "      <td>100~500bp</td>\n",
       "      <td>PE100</td>\n",
       "      <td>174133642</td>\n",
       "      <td>17413364200</td>\n",
       "      <td>94.27</td>\n",
       "    </tr>\n",
       "    <tr>\n",
       "      <th>3</th>\n",
       "      <td>CS_1</td>\n",
       "      <td>100~500bp</td>\n",
       "      <td>PE100</td>\n",
       "      <td>176477210</td>\n",
       "      <td>17647721000</td>\n",
       "      <td>94.36</td>\n",
       "    </tr>\n",
       "    <tr>\n",
       "      <th>4</th>\n",
       "      <td>CS_2</td>\n",
       "      <td>100~500bp</td>\n",
       "      <td>PE100</td>\n",
       "      <td>163540690</td>\n",
       "      <td>16354069000</td>\n",
       "      <td>94.54</td>\n",
       "    </tr>\n",
       "  </tbody>\n",
       "</table>\n",
       "</div>"
      ],
      "text/plain": [
       "  Sample ID Fragment Length(bp) Sequencing Strategy  Clean Reads Number  \\\n",
       "0       C_1           100~500bp               PE100           167108674   \n",
       "1       C_2           100~500bp               PE100           165329290   \n",
       "2       C_3           100~500bp               PE100           174133642   \n",
       "3      CS_1           100~500bp               PE100           176477210   \n",
       "4      CS_2           100~500bp               PE100           163540690   \n",
       "\n",
       "   Clean Data Size(bp)  Clean Rate(%)  \n",
       "0          16710867400          94.98  \n",
       "1          16532929000          93.27  \n",
       "2          17413364200          94.27  \n",
       "3          17647721000          94.36  \n",
       "4          16354069000          94.54  "
      ]
     },
     "execution_count": 2,
     "metadata": {},
     "output_type": "execute_result"
    }
   ],
   "source": [
    "df = pd.read_csv('Clean_Data_size.xls',sep='\\t')\n",
    "df.head()"
   ]
  },
  {
   "cell_type": "code",
   "execution_count": 7,
   "metadata": {},
   "outputs": [],
   "source": [
    "df[\"Clean Reads Number\"] = np.around(df[\"Clean Reads Number\"].values / (10 ** 6), decimals=2)\n",
    "df[\"Clean Data Size(bp)\"] = np.around(df[\"Clean Data Size(bp)\"].values / (10 ** 9), decimals=2)"
   ]
  },
  {
   "cell_type": "code",
   "execution_count": 8,
   "metadata": {},
   "outputs": [
    {
     "data": {
      "text/html": [
       "<div>\n",
       "<style scoped>\n",
       "    .dataframe tbody tr th:only-of-type {\n",
       "        vertical-align: middle;\n",
       "    }\n",
       "\n",
       "    .dataframe tbody tr th {\n",
       "        vertical-align: top;\n",
       "    }\n",
       "\n",
       "    .dataframe thead th {\n",
       "        text-align: right;\n",
       "    }\n",
       "</style>\n",
       "<table border=\"1\" class=\"dataframe\">\n",
       "  <thead>\n",
       "    <tr style=\"text-align: right;\">\n",
       "      <th></th>\n",
       "      <th>Sample ID</th>\n",
       "      <th>Fragment Length(bp)</th>\n",
       "      <th>Sequencing Strategy</th>\n",
       "      <th>Clean Reads Number</th>\n",
       "      <th>Clean Data Size(bp)</th>\n",
       "      <th>Clean Rate(%)</th>\n",
       "    </tr>\n",
       "  </thead>\n",
       "  <tbody>\n",
       "    <tr>\n",
       "      <th>0</th>\n",
       "      <td>C_1</td>\n",
       "      <td>100~500bp</td>\n",
       "      <td>PE100</td>\n",
       "      <td>167.11</td>\n",
       "      <td>16.71</td>\n",
       "      <td>94.98</td>\n",
       "    </tr>\n",
       "    <tr>\n",
       "      <th>1</th>\n",
       "      <td>C_2</td>\n",
       "      <td>100~500bp</td>\n",
       "      <td>PE100</td>\n",
       "      <td>165.33</td>\n",
       "      <td>16.53</td>\n",
       "      <td>93.27</td>\n",
       "    </tr>\n",
       "    <tr>\n",
       "      <th>2</th>\n",
       "      <td>C_3</td>\n",
       "      <td>100~500bp</td>\n",
       "      <td>PE100</td>\n",
       "      <td>174.13</td>\n",
       "      <td>17.41</td>\n",
       "      <td>94.27</td>\n",
       "    </tr>\n",
       "    <tr>\n",
       "      <th>3</th>\n",
       "      <td>CS_1</td>\n",
       "      <td>100~500bp</td>\n",
       "      <td>PE100</td>\n",
       "      <td>176.48</td>\n",
       "      <td>17.65</td>\n",
       "      <td>94.36</td>\n",
       "    </tr>\n",
       "    <tr>\n",
       "      <th>4</th>\n",
       "      <td>CS_2</td>\n",
       "      <td>100~500bp</td>\n",
       "      <td>PE100</td>\n",
       "      <td>163.54</td>\n",
       "      <td>16.35</td>\n",
       "      <td>94.54</td>\n",
       "    </tr>\n",
       "    <tr>\n",
       "      <th>5</th>\n",
       "      <td>CS_3</td>\n",
       "      <td>100~500bp</td>\n",
       "      <td>PE100</td>\n",
       "      <td>183.62</td>\n",
       "      <td>18.36</td>\n",
       "      <td>95.31</td>\n",
       "    </tr>\n",
       "    <tr>\n",
       "      <th>6</th>\n",
       "      <td>J_1</td>\n",
       "      <td>100~500bp</td>\n",
       "      <td>PE100</td>\n",
       "      <td>150.84</td>\n",
       "      <td>15.08</td>\n",
       "      <td>92.94</td>\n",
       "    </tr>\n",
       "    <tr>\n",
       "      <th>7</th>\n",
       "      <td>J_2</td>\n",
       "      <td>100~500bp</td>\n",
       "      <td>PE100</td>\n",
       "      <td>171.94</td>\n",
       "      <td>17.19</td>\n",
       "      <td>94.21</td>\n",
       "    </tr>\n",
       "    <tr>\n",
       "      <th>8</th>\n",
       "      <td>J_3</td>\n",
       "      <td>100~500bp</td>\n",
       "      <td>PE100</td>\n",
       "      <td>172.76</td>\n",
       "      <td>17.28</td>\n",
       "      <td>93.61</td>\n",
       "    </tr>\n",
       "    <tr>\n",
       "      <th>9</th>\n",
       "      <td>JS_1</td>\n",
       "      <td>100~500bp</td>\n",
       "      <td>PE100</td>\n",
       "      <td>159.30</td>\n",
       "      <td>15.93</td>\n",
       "      <td>92.17</td>\n",
       "    </tr>\n",
       "    <tr>\n",
       "      <th>10</th>\n",
       "      <td>JS_2</td>\n",
       "      <td>100~500bp</td>\n",
       "      <td>PE100</td>\n",
       "      <td>176.75</td>\n",
       "      <td>17.67</td>\n",
       "      <td>94.10</td>\n",
       "    </tr>\n",
       "    <tr>\n",
       "      <th>11</th>\n",
       "      <td>JS_3</td>\n",
       "      <td>100~500bp</td>\n",
       "      <td>PE100</td>\n",
       "      <td>153.95</td>\n",
       "      <td>15.40</td>\n",
       "      <td>92.01</td>\n",
       "    </tr>\n",
       "  </tbody>\n",
       "</table>\n",
       "</div>"
      ],
      "text/plain": [
       "   Sample ID Fragment Length(bp) Sequencing Strategy  Clean Reads Number  \\\n",
       "0        C_1           100~500bp               PE100              167.11   \n",
       "1        C_2           100~500bp               PE100              165.33   \n",
       "2        C_3           100~500bp               PE100              174.13   \n",
       "3       CS_1           100~500bp               PE100              176.48   \n",
       "4       CS_2           100~500bp               PE100              163.54   \n",
       "5       CS_3           100~500bp               PE100              183.62   \n",
       "6        J_1           100~500bp               PE100              150.84   \n",
       "7        J_2           100~500bp               PE100              171.94   \n",
       "8        J_3           100~500bp               PE100              172.76   \n",
       "9       JS_1           100~500bp               PE100              159.30   \n",
       "10      JS_2           100~500bp               PE100              176.75   \n",
       "11      JS_3           100~500bp               PE100              153.95   \n",
       "\n",
       "    Clean Data Size(bp)  Clean Rate(%)  \n",
       "0                 16.71          94.98  \n",
       "1                 16.53          93.27  \n",
       "2                 17.41          94.27  \n",
       "3                 17.65          94.36  \n",
       "4                 16.35          94.54  \n",
       "5                 18.36          95.31  \n",
       "6                 15.08          92.94  \n",
       "7                 17.19          94.21  \n",
       "8                 17.28          93.61  \n",
       "9                 15.93          92.17  \n",
       "10                17.67          94.10  \n",
       "11                15.40          92.01  "
      ]
     },
     "execution_count": 8,
     "metadata": {},
     "output_type": "execute_result"
    }
   ],
   "source": [
    "df"
   ]
  },
  {
   "cell_type": "code",
   "execution_count": 1,
   "metadata": {},
   "outputs": [
    {
     "name": "stdout",
     "output_type": "stream",
     "text": [
      "awk '$15==\"UP3K\"{print $16}' /A/B/MutiDatailAnnoElement.All.CG.ooo_vs_xxx.gDMR.txt | sort | uniq | sed '1i\\gene_id' > gDMRInUP3KRelatedGenes.CG.ooo_vs_xxx.txt\n"
     ]
    }
   ],
   "source": [
    "str_anno_DMR_dir='/A/B'\n",
    "ctx='CG'\n",
    "vsname='ooo_vs_xxx'\n",
    "a=f'awk \\'$15==\"UP3K\"{{print $16}}\\' {str_anno_DMR_dir}/MutiDatailAnnoElement.All.{ctx}.{vsname}.gDMR.txt | sort | uniq | sed \\'1i\\\\gene_id\\' > gDMRInUP3KRelatedGenes.{ctx}.{vsname}.txt'\n",
    "print(a)"
   ]
  },
  {
   "cell_type": "code",
   "execution_count": 2,
   "metadata": {},
   "outputs": [
    {
     "name": "stdout",
     "output_type": "stream",
     "text": [
      "hello\n"
     ]
    }
   ],
   "source": [
    "print('hello')"
   ]
  },
  {
   "cell_type": "code",
   "execution_count": 1,
   "metadata": {},
   "outputs": [],
   "source": [
    "import json"
   ]
  },
  {
   "cell_type": "code",
   "execution_count": 8,
   "metadata": {},
   "outputs": [],
   "source": [
    "a = {'chr1:1301-1500':{'11121(AbTxC)':{'XMtxxc.1':'3UTR','XMtxxc.1':'exon3','XMtxxc.2':'intron2'},'TE0012':'chr1:1000-2000','CGI1231':'chr1:1400-1500'},\n",
    "    }"
   ]
  },
  {
   "cell_type": "code",
   "execution_count": 9,
   "metadata": {},
   "outputs": [
    {
     "name": "stdout",
     "output_type": "stream",
     "text": [
      "{'chr1:1301-1500': {'11121(AbTxC)': {'XMtxxc.1': 'exon3', 'XMtxxc.2': 'intron2'}, 'TE0012': 'chr1:1000-2000', 'CGI1231': 'chr1:1400-1500'}}\n"
     ]
    }
   ],
   "source": [
    "print(a)"
   ]
  },
  {
   "cell_type": "code",
   "execution_count": 14,
   "metadata": {},
   "outputs": [
    {
     "name": "stdout",
     "output_type": "stream",
     "text": [
      "{\n",
      "    \"chr1:1301-1500\":{\n",
      "        \"11121(AbTxC)\":{\n",
      "            \"XMtxxc.1\":\"exon3\",\n",
      "            \"XMtxxc.2\":\"intron2\"\n",
      "        },\n",
      "        \"CGI1231\":\"chr1:1400-1500\",\n",
      "        \"TE0012\":\"chr1:1000-2000\"\n",
      "    }\n",
      "}\n"
     ]
    }
   ],
   "source": [
    "print(json.dumps(a,sort_keys=True, indent=4, separators=(',',':')))"
   ]
  },
  {
   "cell_type": "code",
   "execution_count": 15,
   "metadata": {},
   "outputs": [],
   "source": [
    "b = json.dumps(a,sort_keys=True, indent=4, separators=(',',':'))\n",
    "with open('test-json-dump.txt','w') as f:\n",
    "    print(b,file=f)"
   ]
  },
  {
   "cell_type": "code",
   "execution_count": 22,
   "metadata": {},
   "outputs": [],
   "source": [
    "a = {'tvs':'AAAA'}\n",
    "try:\n",
    "    print(a['gvs'])\n",
    "except:\n",
    "    pass"
   ]
  },
  {
   "cell_type": "code",
   "execution_count": 20,
   "metadata": {},
   "outputs": [
    {
     "data": {
      "text/plain": [
       "'AAAA'"
      ]
     },
     "execution_count": 20,
     "metadata": {},
     "output_type": "execute_result"
    }
   ],
   "source": [
    "aa = {'tvs':'AAAA'}\n",
    "aa['tvs']"
   ]
  },
  {
   "cell_type": "code",
   "execution_count": 23,
   "metadata": {},
   "outputs": [
    {
     "name": "stdout",
     "output_type": "stream",
     "text": [
      "ooo\tooo\n"
     ]
    }
   ],
   "source": [
    "hh = 'ooo'\n",
    "print('{name}\\t{name}'.format(name=hh))"
   ]
  },
  {
   "cell_type": "code",
   "execution_count": 24,
   "metadata": {},
   "outputs": [],
   "source": [
    "import yaml\n"
   ]
  },
  {
   "cell_type": "code",
   "execution_count": 27,
   "metadata": {},
   "outputs": [
    {
     "name": "stdout",
     "output_type": "stream",
     "text": [
      "A: BVDSDFASDA\n",
      "B: OPUIIHJ\n",
      "A: BVDSDFASDA\n",
      "B: OPUIIHJ\n",
      "\n"
     ]
    }
   ],
   "source": [
    "print(yaml.dump({'A':'BVDSDFASDA','B':'OPUIIHJ'}) + yaml.dump({'A':'BVDSDFASDA','B':'OPUIIHJ'}))"
   ]
  },
  {
   "cell_type": "code",
   "execution_count": 29,
   "metadata": {},
   "outputs": [],
   "source": [
    "import pandas as pd"
   ]
  },
  {
   "cell_type": "code",
   "execution_count": 30,
   "metadata": {},
   "outputs": [
    {
     "data": {
      "text/html": [
       "<div>\n",
       "<style scoped>\n",
       "    .dataframe tbody tr th:only-of-type {\n",
       "        vertical-align: middle;\n",
       "    }\n",
       "\n",
       "    .dataframe tbody tr th {\n",
       "        vertical-align: top;\n",
       "    }\n",
       "\n",
       "    .dataframe thead th {\n",
       "        text-align: right;\n",
       "    }\n",
       "</style>\n",
       "<table border=\"1\" class=\"dataframe\">\n",
       "  <thead>\n",
       "    <tr style=\"text-align: right;\">\n",
       "      <th></th>\n",
       "      <th>Sample ID</th>\n",
       "      <th>Fragment Length(bp)</th>\n",
       "      <th>Sequencing Strategy</th>\n",
       "      <th>Clean Reads Number</th>\n",
       "      <th>Clean Data Size(bp)</th>\n",
       "      <th>Clean Rate(%)</th>\n",
       "    </tr>\n",
       "  </thead>\n",
       "  <tbody>\n",
       "    <tr>\n",
       "      <th>0</th>\n",
       "      <td>C_1</td>\n",
       "      <td>100~500bp</td>\n",
       "      <td>PE100</td>\n",
       "      <td>167108674</td>\n",
       "      <td>16710867400</td>\n",
       "      <td>94.98</td>\n",
       "    </tr>\n",
       "    <tr>\n",
       "      <th>1</th>\n",
       "      <td>C_2</td>\n",
       "      <td>100~500bp</td>\n",
       "      <td>PE100</td>\n",
       "      <td>165329290</td>\n",
       "      <td>16532929000</td>\n",
       "      <td>93.27</td>\n",
       "    </tr>\n",
       "    <tr>\n",
       "      <th>2</th>\n",
       "      <td>C_3</td>\n",
       "      <td>100~500bp</td>\n",
       "      <td>PE100</td>\n",
       "      <td>174133642</td>\n",
       "      <td>17413364200</td>\n",
       "      <td>94.27</td>\n",
       "    </tr>\n",
       "    <tr>\n",
       "      <th>3</th>\n",
       "      <td>CS_1</td>\n",
       "      <td>100~500bp</td>\n",
       "      <td>PE100</td>\n",
       "      <td>176477210</td>\n",
       "      <td>17647721000</td>\n",
       "      <td>94.36</td>\n",
       "    </tr>\n",
       "    <tr>\n",
       "      <th>4</th>\n",
       "      <td>CS_2</td>\n",
       "      <td>100~500bp</td>\n",
       "      <td>PE100</td>\n",
       "      <td>163540690</td>\n",
       "      <td>16354069000</td>\n",
       "      <td>94.54</td>\n",
       "    </tr>\n",
       "  </tbody>\n",
       "</table>\n",
       "</div>"
      ],
      "text/plain": [
       "  Sample ID Fragment Length(bp) Sequencing Strategy  Clean Reads Number  \\\n",
       "0       C_1           100~500bp               PE100           167108674   \n",
       "1       C_2           100~500bp               PE100           165329290   \n",
       "2       C_3           100~500bp               PE100           174133642   \n",
       "3      CS_1           100~500bp               PE100           176477210   \n",
       "4      CS_2           100~500bp               PE100           163540690   \n",
       "\n",
       "   Clean Data Size(bp)  Clean Rate(%)  \n",
       "0          16710867400          94.98  \n",
       "1          16532929000          93.27  \n",
       "2          17413364200          94.27  \n",
       "3          17647721000          94.36  \n",
       "4          16354069000          94.54  "
      ]
     },
     "execution_count": 30,
     "metadata": {},
     "output_type": "execute_result"
    }
   ],
   "source": [
    "df = pd.read_csv('Clean_Data_size.xls',sep='\\t')\n",
    "df.head()"
   ]
  },
  {
   "cell_type": "code",
   "execution_count": 32,
   "metadata": {},
   "outputs": [],
   "source": [
    "import seaborn as sns"
   ]
  },
  {
   "cell_type": "code",
   "execution_count": 33,
   "metadata": {},
   "outputs": [],
   "source": [
    "adf = sns.load_dataset('iris')"
   ]
  },
  {
   "cell_type": "code",
   "execution_count": 34,
   "metadata": {},
   "outputs": [
    {
     "data": {
      "text/html": [
       "<div>\n",
       "<style scoped>\n",
       "    .dataframe tbody tr th:only-of-type {\n",
       "        vertical-align: middle;\n",
       "    }\n",
       "\n",
       "    .dataframe tbody tr th {\n",
       "        vertical-align: top;\n",
       "    }\n",
       "\n",
       "    .dataframe thead th {\n",
       "        text-align: right;\n",
       "    }\n",
       "</style>\n",
       "<table border=\"1\" class=\"dataframe\">\n",
       "  <thead>\n",
       "    <tr style=\"text-align: right;\">\n",
       "      <th></th>\n",
       "      <th>sepal_length</th>\n",
       "      <th>sepal_width</th>\n",
       "      <th>petal_length</th>\n",
       "      <th>petal_width</th>\n",
       "      <th>species</th>\n",
       "    </tr>\n",
       "  </thead>\n",
       "  <tbody>\n",
       "    <tr>\n",
       "      <th>0</th>\n",
       "      <td>5.1</td>\n",
       "      <td>3.5</td>\n",
       "      <td>1.4</td>\n",
       "      <td>0.2</td>\n",
       "      <td>setosa</td>\n",
       "    </tr>\n",
       "    <tr>\n",
       "      <th>1</th>\n",
       "      <td>4.9</td>\n",
       "      <td>3.0</td>\n",
       "      <td>1.4</td>\n",
       "      <td>0.2</td>\n",
       "      <td>setosa</td>\n",
       "    </tr>\n",
       "    <tr>\n",
       "      <th>2</th>\n",
       "      <td>4.7</td>\n",
       "      <td>3.2</td>\n",
       "      <td>1.3</td>\n",
       "      <td>0.2</td>\n",
       "      <td>setosa</td>\n",
       "    </tr>\n",
       "    <tr>\n",
       "      <th>3</th>\n",
       "      <td>4.6</td>\n",
       "      <td>3.1</td>\n",
       "      <td>1.5</td>\n",
       "      <td>0.2</td>\n",
       "      <td>setosa</td>\n",
       "    </tr>\n",
       "    <tr>\n",
       "      <th>4</th>\n",
       "      <td>5.0</td>\n",
       "      <td>3.6</td>\n",
       "      <td>1.4</td>\n",
       "      <td>0.2</td>\n",
       "      <td>setosa</td>\n",
       "    </tr>\n",
       "  </tbody>\n",
       "</table>\n",
       "</div>"
      ],
      "text/plain": [
       "   sepal_length  sepal_width  petal_length  petal_width species\n",
       "0           5.1          3.5           1.4          0.2  setosa\n",
       "1           4.9          3.0           1.4          0.2  setosa\n",
       "2           4.7          3.2           1.3          0.2  setosa\n",
       "3           4.6          3.1           1.5          0.2  setosa\n",
       "4           5.0          3.6           1.4          0.2  setosa"
      ]
     },
     "execution_count": 34,
     "metadata": {},
     "output_type": "execute_result"
    }
   ],
   "source": [
    "adf.head()"
   ]
  },
  {
   "cell_type": "code",
   "execution_count": 35,
   "metadata": {
    "scrolled": true
   },
   "outputs": [
    {
     "data": {
      "text/html": [
       "<div>\n",
       "<style scoped>\n",
       "    .dataframe tbody tr th:only-of-type {\n",
       "        vertical-align: middle;\n",
       "    }\n",
       "\n",
       "    .dataframe tbody tr th {\n",
       "        vertical-align: top;\n",
       "    }\n",
       "\n",
       "    .dataframe thead th {\n",
       "        text-align: right;\n",
       "    }\n",
       "</style>\n",
       "<table border=\"1\" class=\"dataframe\">\n",
       "  <thead>\n",
       "    <tr style=\"text-align: right;\">\n",
       "      <th></th>\n",
       "      <th>sepal_length</th>\n",
       "      <th>sepal_width</th>\n",
       "      <th>petal_length</th>\n",
       "      <th>petal_width</th>\n",
       "      <th>species</th>\n",
       "    </tr>\n",
       "  </thead>\n",
       "  <tbody>\n",
       "    <tr>\n",
       "      <th>3</th>\n",
       "      <td>4.6</td>\n",
       "      <td>3.1</td>\n",
       "      <td>1.5</td>\n",
       "      <td>0.2</td>\n",
       "      <td>setosa</td>\n",
       "    </tr>\n",
       "    <tr>\n",
       "      <th>5</th>\n",
       "      <td>5.4</td>\n",
       "      <td>3.9</td>\n",
       "      <td>1.7</td>\n",
       "      <td>0.4</td>\n",
       "      <td>setosa</td>\n",
       "    </tr>\n",
       "    <tr>\n",
       "      <th>7</th>\n",
       "      <td>5.0</td>\n",
       "      <td>3.4</td>\n",
       "      <td>1.5</td>\n",
       "      <td>0.2</td>\n",
       "      <td>setosa</td>\n",
       "    </tr>\n",
       "    <tr>\n",
       "      <th>9</th>\n",
       "      <td>4.9</td>\n",
       "      <td>3.1</td>\n",
       "      <td>1.5</td>\n",
       "      <td>0.1</td>\n",
       "      <td>setosa</td>\n",
       "    </tr>\n",
       "    <tr>\n",
       "      <th>10</th>\n",
       "      <td>5.4</td>\n",
       "      <td>3.7</td>\n",
       "      <td>1.5</td>\n",
       "      <td>0.2</td>\n",
       "      <td>setosa</td>\n",
       "    </tr>\n",
       "    <tr>\n",
       "      <th>11</th>\n",
       "      <td>4.8</td>\n",
       "      <td>3.4</td>\n",
       "      <td>1.6</td>\n",
       "      <td>0.2</td>\n",
       "      <td>setosa</td>\n",
       "    </tr>\n",
       "    <tr>\n",
       "      <th>15</th>\n",
       "      <td>5.7</td>\n",
       "      <td>4.4</td>\n",
       "      <td>1.5</td>\n",
       "      <td>0.4</td>\n",
       "      <td>setosa</td>\n",
       "    </tr>\n",
       "    <tr>\n",
       "      <th>18</th>\n",
       "      <td>5.7</td>\n",
       "      <td>3.8</td>\n",
       "      <td>1.7</td>\n",
       "      <td>0.3</td>\n",
       "      <td>setosa</td>\n",
       "    </tr>\n",
       "    <tr>\n",
       "      <th>19</th>\n",
       "      <td>5.1</td>\n",
       "      <td>3.8</td>\n",
       "      <td>1.5</td>\n",
       "      <td>0.3</td>\n",
       "      <td>setosa</td>\n",
       "    </tr>\n",
       "    <tr>\n",
       "      <th>20</th>\n",
       "      <td>5.4</td>\n",
       "      <td>3.4</td>\n",
       "      <td>1.7</td>\n",
       "      <td>0.2</td>\n",
       "      <td>setosa</td>\n",
       "    </tr>\n",
       "    <tr>\n",
       "      <th>21</th>\n",
       "      <td>5.1</td>\n",
       "      <td>3.7</td>\n",
       "      <td>1.5</td>\n",
       "      <td>0.4</td>\n",
       "      <td>setosa</td>\n",
       "    </tr>\n",
       "    <tr>\n",
       "      <th>23</th>\n",
       "      <td>5.1</td>\n",
       "      <td>3.3</td>\n",
       "      <td>1.7</td>\n",
       "      <td>0.5</td>\n",
       "      <td>setosa</td>\n",
       "    </tr>\n",
       "    <tr>\n",
       "      <th>24</th>\n",
       "      <td>4.8</td>\n",
       "      <td>3.4</td>\n",
       "      <td>1.9</td>\n",
       "      <td>0.2</td>\n",
       "      <td>setosa</td>\n",
       "    </tr>\n",
       "    <tr>\n",
       "      <th>25</th>\n",
       "      <td>5.0</td>\n",
       "      <td>3.0</td>\n",
       "      <td>1.6</td>\n",
       "      <td>0.2</td>\n",
       "      <td>setosa</td>\n",
       "    </tr>\n",
       "    <tr>\n",
       "      <th>26</th>\n",
       "      <td>5.0</td>\n",
       "      <td>3.4</td>\n",
       "      <td>1.6</td>\n",
       "      <td>0.4</td>\n",
       "      <td>setosa</td>\n",
       "    </tr>\n",
       "    <tr>\n",
       "      <th>27</th>\n",
       "      <td>5.2</td>\n",
       "      <td>3.5</td>\n",
       "      <td>1.5</td>\n",
       "      <td>0.2</td>\n",
       "      <td>setosa</td>\n",
       "    </tr>\n",
       "    <tr>\n",
       "      <th>29</th>\n",
       "      <td>4.7</td>\n",
       "      <td>3.2</td>\n",
       "      <td>1.6</td>\n",
       "      <td>0.2</td>\n",
       "      <td>setosa</td>\n",
       "    </tr>\n",
       "    <tr>\n",
       "      <th>30</th>\n",
       "      <td>4.8</td>\n",
       "      <td>3.1</td>\n",
       "      <td>1.6</td>\n",
       "      <td>0.2</td>\n",
       "      <td>setosa</td>\n",
       "    </tr>\n",
       "    <tr>\n",
       "      <th>31</th>\n",
       "      <td>5.4</td>\n",
       "      <td>3.4</td>\n",
       "      <td>1.5</td>\n",
       "      <td>0.4</td>\n",
       "      <td>setosa</td>\n",
       "    </tr>\n",
       "    <tr>\n",
       "      <th>32</th>\n",
       "      <td>5.2</td>\n",
       "      <td>4.1</td>\n",
       "      <td>1.5</td>\n",
       "      <td>0.1</td>\n",
       "      <td>setosa</td>\n",
       "    </tr>\n",
       "    <tr>\n",
       "      <th>34</th>\n",
       "      <td>4.9</td>\n",
       "      <td>3.1</td>\n",
       "      <td>1.5</td>\n",
       "      <td>0.2</td>\n",
       "      <td>setosa</td>\n",
       "    </tr>\n",
       "    <tr>\n",
       "      <th>39</th>\n",
       "      <td>5.1</td>\n",
       "      <td>3.4</td>\n",
       "      <td>1.5</td>\n",
       "      <td>0.2</td>\n",
       "      <td>setosa</td>\n",
       "    </tr>\n",
       "    <tr>\n",
       "      <th>43</th>\n",
       "      <td>5.0</td>\n",
       "      <td>3.5</td>\n",
       "      <td>1.6</td>\n",
       "      <td>0.6</td>\n",
       "      <td>setosa</td>\n",
       "    </tr>\n",
       "    <tr>\n",
       "      <th>44</th>\n",
       "      <td>5.1</td>\n",
       "      <td>3.8</td>\n",
       "      <td>1.9</td>\n",
       "      <td>0.4</td>\n",
       "      <td>setosa</td>\n",
       "    </tr>\n",
       "    <tr>\n",
       "      <th>46</th>\n",
       "      <td>5.1</td>\n",
       "      <td>3.8</td>\n",
       "      <td>1.6</td>\n",
       "      <td>0.2</td>\n",
       "      <td>setosa</td>\n",
       "    </tr>\n",
       "    <tr>\n",
       "      <th>48</th>\n",
       "      <td>5.3</td>\n",
       "      <td>3.7</td>\n",
       "      <td>1.5</td>\n",
       "      <td>0.2</td>\n",
       "      <td>setosa</td>\n",
       "    </tr>\n",
       "  </tbody>\n",
       "</table>\n",
       "</div>"
      ],
      "text/plain": [
       "    sepal_length  sepal_width  petal_length  petal_width species\n",
       "3            4.6          3.1           1.5          0.2  setosa\n",
       "5            5.4          3.9           1.7          0.4  setosa\n",
       "7            5.0          3.4           1.5          0.2  setosa\n",
       "9            4.9          3.1           1.5          0.1  setosa\n",
       "10           5.4          3.7           1.5          0.2  setosa\n",
       "11           4.8          3.4           1.6          0.2  setosa\n",
       "15           5.7          4.4           1.5          0.4  setosa\n",
       "18           5.7          3.8           1.7          0.3  setosa\n",
       "19           5.1          3.8           1.5          0.3  setosa\n",
       "20           5.4          3.4           1.7          0.2  setosa\n",
       "21           5.1          3.7           1.5          0.4  setosa\n",
       "23           5.1          3.3           1.7          0.5  setosa\n",
       "24           4.8          3.4           1.9          0.2  setosa\n",
       "25           5.0          3.0           1.6          0.2  setosa\n",
       "26           5.0          3.4           1.6          0.4  setosa\n",
       "27           5.2          3.5           1.5          0.2  setosa\n",
       "29           4.7          3.2           1.6          0.2  setosa\n",
       "30           4.8          3.1           1.6          0.2  setosa\n",
       "31           5.4          3.4           1.5          0.4  setosa\n",
       "32           5.2          4.1           1.5          0.1  setosa\n",
       "34           4.9          3.1           1.5          0.2  setosa\n",
       "39           5.1          3.4           1.5          0.2  setosa\n",
       "43           5.0          3.5           1.6          0.6  setosa\n",
       "44           5.1          3.8           1.9          0.4  setosa\n",
       "46           5.1          3.8           1.6          0.2  setosa\n",
       "48           5.3          3.7           1.5          0.2  setosa"
      ]
     },
     "execution_count": 35,
     "metadata": {},
     "output_type": "execute_result"
    }
   ],
   "source": [
    "s = 'setosa'\n",
    "alength = 1.4\n",
    "adf.query('species==@s & \\\n",
    "        petal_length>@alength')"
   ]
  },
  {
   "cell_type": "code",
   "execution_count": 60,
   "metadata": {},
   "outputs": [],
   "source": [
    "df3 = pd.read_csv('v1904.anno.xls',sep='\\t',header=None,names=['tax_id','version','source','element','name','type','path'])"
   ]
  },
  {
   "cell_type": "code",
   "execution_count": 37,
   "metadata": {},
   "outputs": [
    {
     "data": {
      "text/html": [
       "<div>\n",
       "<style scoped>\n",
       "    .dataframe tbody tr th:only-of-type {\n",
       "        vertical-align: middle;\n",
       "    }\n",
       "\n",
       "    .dataframe tbody tr th {\n",
       "        vertical-align: top;\n",
       "    }\n",
       "\n",
       "    .dataframe thead th {\n",
       "        text-align: right;\n",
       "    }\n",
       "</style>\n",
       "<table border=\"1\" class=\"dataframe\">\n",
       "  <thead>\n",
       "    <tr style=\"text-align: right;\">\n",
       "      <th></th>\n",
       "      <th>tax_id</th>\n",
       "      <th>version</th>\n",
       "      <th>source</th>\n",
       "      <th>element</th>\n",
       "      <th>name</th>\n",
       "      <th>class</th>\n",
       "      <th>path</th>\n",
       "    </tr>\n",
       "  </thead>\n",
       "  <tbody>\n",
       "    <tr>\n",
       "      <th>0</th>\n",
       "      <td>10090</td>\n",
       "      <td>GCF_000001635.26_GRCm38.p6</td>\n",
       "      <td>NCBI</td>\n",
       "      <td>gene</td>\n",
       "      <td>annotation_merge</td>\n",
       "      <td>all_db</td>\n",
       "      <td>/ifswh1/BC_COM_P11/BioSysDB/v1904_anno/10090/N...</td>\n",
       "    </tr>\n",
       "    <tr>\n",
       "      <th>1</th>\n",
       "      <td>10090</td>\n",
       "      <td>GCF_000001635.26_GRCm38.p6</td>\n",
       "      <td>NCBI</td>\n",
       "      <td>gene</td>\n",
       "      <td>gene2term</td>\n",
       "      <td>cog</td>\n",
       "      <td>/ifswh1/BC_COM_P11/BioSysDB/v1904_anno/10090/N...</td>\n",
       "    </tr>\n",
       "    <tr>\n",
       "      <th>2</th>\n",
       "      <td>10090</td>\n",
       "      <td>GCF_000001635.26_GRCm38.p6</td>\n",
       "      <td>NCBI</td>\n",
       "      <td>gene</td>\n",
       "      <td>gene2term</td>\n",
       "      <td>eggnog</td>\n",
       "      <td>/ifswh1/BC_COM_P11/BioSysDB/v1904_anno/10090/N...</td>\n",
       "    </tr>\n",
       "    <tr>\n",
       "      <th>3</th>\n",
       "      <td>10090</td>\n",
       "      <td>GCF_000001635.26_GRCm38.p6</td>\n",
       "      <td>NCBI</td>\n",
       "      <td>gene</td>\n",
       "      <td>gene2term</td>\n",
       "      <td>go_C</td>\n",
       "      <td>/ifswh1/BC_COM_P11/BioSysDB/v1904_anno/10090/N...</td>\n",
       "    </tr>\n",
       "    <tr>\n",
       "      <th>4</th>\n",
       "      <td>10090</td>\n",
       "      <td>GCF_000001635.26_GRCm38.p6</td>\n",
       "      <td>NCBI</td>\n",
       "      <td>gene</td>\n",
       "      <td>gene2term</td>\n",
       "      <td>go_F</td>\n",
       "      <td>/ifswh1/BC_COM_P11/BioSysDB/v1904_anno/10090/N...</td>\n",
       "    </tr>\n",
       "  </tbody>\n",
       "</table>\n",
       "</div>"
      ],
      "text/plain": [
       "   tax_id                     version source element              name  \\\n",
       "0   10090  GCF_000001635.26_GRCm38.p6   NCBI    gene  annotation_merge   \n",
       "1   10090  GCF_000001635.26_GRCm38.p6   NCBI    gene         gene2term   \n",
       "2   10090  GCF_000001635.26_GRCm38.p6   NCBI    gene         gene2term   \n",
       "3   10090  GCF_000001635.26_GRCm38.p6   NCBI    gene         gene2term   \n",
       "4   10090  GCF_000001635.26_GRCm38.p6   NCBI    gene         gene2term   \n",
       "\n",
       "    class                                               path  \n",
       "0  all_db  /ifswh1/BC_COM_P11/BioSysDB/v1904_anno/10090/N...  \n",
       "1     cog  /ifswh1/BC_COM_P11/BioSysDB/v1904_anno/10090/N...  \n",
       "2  eggnog  /ifswh1/BC_COM_P11/BioSysDB/v1904_anno/10090/N...  \n",
       "3    go_C  /ifswh1/BC_COM_P11/BioSysDB/v1904_anno/10090/N...  \n",
       "4    go_F  /ifswh1/BC_COM_P11/BioSysDB/v1904_anno/10090/N...  "
      ]
     },
     "execution_count": 37,
     "metadata": {},
     "output_type": "execute_result"
    }
   ],
   "source": [
    "df3.head()"
   ]
  },
  {
   "cell_type": "code",
   "execution_count": 63,
   "metadata": {},
   "outputs": [
    {
     "data": {
      "text/plain": [
       "'/ifswh1/BC_COM_P11/BioSysDB/v1904_anno/10090/NCBI/GCF_000001635.26_GRCm38.p6/go_c.gene.gene2term.xls.gz'"
      ]
     },
     "execution_count": 63,
     "metadata": {},
     "output_type": "execute_result"
    }
   ],
   "source": [
    "Species_tax_id = \"10090\"\n",
    "Reference_version = 'GCF_000001635.26_GRCm38.p6'\n",
    "Reference_source = 'NCBI'\n",
    "myelement = 'gene'\n",
    "myname = 'gene2term'\n",
    "atype = \"go_C\"\n",
    "df3.query('tax_id==@Species_tax_id & \\\n",
    "            version==@Reference_version & \\\n",
    "            source==@Reference_source & \\\n",
    "            element==@myelement & \\\n",
    "            name==@myname & \\\n",
    "            type==@aclass').path.values[0]"
   ]
  },
  {
   "cell_type": "code",
   "execution_count": 2,
   "metadata": {},
   "outputs": [
    {
     "name": "stdout",
     "output_type": "stream",
     "text": [
      "awk '{if(NR==1){print $0}else{if(($5>=1 || $5<=-1) && ($7<=0.001)){print $0}}}' OFS=\"\\t\" /home/oocarain/A_vs_B_all_MAvalues.xls > /home/oocarain/A-vs-B_manorm_diffpeaks.filter.xls && \\\n",
      "sed '1d' /home/oocarain/A-vs-B_manorm_diffpeaks.filter.xls | cut -f 1-3 > /home/oocarain/A-vs-B_manorm_diffpeaks.filter.bed && \\\n",
      "\n"
     ]
    }
   ],
   "source": [
    "sample1 = 'A'\n",
    "sample2 = 'B'\n",
    "mvalue = 1\n",
    "pvalue = 0.001\n",
    "calldiffpeak_outdir = '/home/oocarain'\n",
    "scr2_cont = f\"awk '{{if(NR==1){{print $0}}else{{if(($5>={mvalue} || $5<=-{mvalue}) && ($7<={pvalue})){{print $0}}}}}}' OFS=\\\"\\\\t\\\" \\\n",
    "{calldiffpeak_outdir}/{sample1}_vs_{sample2}_all_MAvalues.xls > {calldiffpeak_outdir}/{sample1}-vs-{sample2}_manorm_diffpeaks.filter.xls && \\\\\\n\\\n",
    "sed '1d' {calldiffpeak_outdir}/{sample1}-vs-{sample2}_manorm_diffpeaks.filter.xls | cut -f 1-3 > {calldiffpeak_outdir}/{sample1}-vs-{sample2}_manorm_diffpeaks.filter.bed && \\\\\\n\"\n",
    "print(scr2_cont)"
   ]
  },
  {
   "cell_type": "code",
   "execution_count": 10,
   "metadata": {},
   "outputs": [
    {
     "name": "stdout",
     "output_type": "stream",
     "text": [
      "awk 'BEGIN{printf \"%s\\t%s\\t%s\\t%s\\t%s\\n\",\"GeneID\",\"Chr\",\"Start\",\"End\",\"Strand\"}{print $1\"_\"$2\"_\"$3,$1,$2,$3,\".\"}' OFS=\"\\t\" XXX\n"
     ]
    }
   ],
   "source": [
    "name='XXX'\n",
    "a = r'''awk 'BEGIN{printf \"%s\\t%s\\t%s\\t%s\\t%s\\n\",\"GeneID\",\"Chr\",\"Start\",\"End\",\"Strand\"}{print $1\"_\"$2\"_\"$3,$1,$2,$3,\".\"}' OFS=\"\\t\"''' + f' {name}'\n",
    "print(a)"
   ]
  },
  {
   "cell_type": "code",
   "execution_count": 1,
   "metadata": {},
   "outputs": [],
   "source": [
    "import sys"
   ]
  },
  {
   "cell_type": "code",
   "execution_count": 3,
   "metadata": {},
   "outputs": [
    {
     "name": "stdout",
     "output_type": "stream",
     "text": [
      "Requirement already satisfied: ray in c:\\python38\\lib\\site-packages (0.8.7)\n",
      "Requirement already satisfied: msgpack<2.0.0,>=1.0.0 in c:\\python38\\lib\\site-packages (from ray) (1.0.0)\n",
      "Requirement already satisfied: colorful in c:\\python38\\lib\\site-packages (from ray) (0.5.4)\n",
      "Requirement already satisfied: aioredis in c:\\python38\\lib\\site-packages (from ray) (1.3.1)\n",
      "Requirement already satisfied: py-spy>=0.2.0 in c:\\python38\\lib\\site-packages (from ray) (0.3.3)\n",
      "Requirement already satisfied: grpcio>=1.28.1 in c:\\python38\\lib\\site-packages (from ray) (1.31.0)\n",
      "Requirement already satisfied: google in c:\\python38\\lib\\site-packages (from ray) (3.0.0)\n",
      "Requirement already satisfied: aiohttp in c:\\python38\\lib\\site-packages (from ray) (3.6.2)\n",
      "Requirement already satisfied: requests in c:\\python38\\lib\\site-packages (from ray) (2.24.0)\n",
      "Requirement already satisfied: gpustat in c:\\python38\\lib\\site-packages (from ray) (0.6.0)\n",
      "Requirement already satisfied: jsonschema in c:\\python38\\lib\\site-packages (from ray) (3.2.0)\n",
      "Requirement already satisfied: opencensus in c:\\python38\\lib\\site-packages (from ray) (0.7.10)\n",
      "Requirement already satisfied: filelock in c:\\python38\\lib\\site-packages (from ray) (3.0.12)\n",
      "Requirement already satisfied: numpy>=1.16 in c:\\python38\\lib\\site-packages (from ray) (1.19.0)\n",
      "Requirement already satisfied: protobuf>=3.8.0 in c:\\python38\\lib\\site-packages (from ray) (3.12.4)\n",
      "Requirement already satisfied: click>=7.0 in c:\\python38\\lib\\site-packages (from ray) (7.1.2)\n",
      "Requirement already satisfied: prometheus-client>=0.7.1 in c:\\python38\\lib\\site-packages (from ray) (0.8.0)\n",
      "Requirement already satisfied: colorama in c:\\users\\chengjiawen1\\appdata\\roaming\\python\\python38\\site-packages (from ray) (0.4.3)\n",
      "Requirement already satisfied: redis<3.5.0,>=3.3.2 in c:\\python38\\lib\\site-packages (from ray) (3.4.1)\n",
      "Requirement already satisfied: pyyaml in c:\\python38\\lib\\site-packages (from ray) (5.3.1)\n",
      "Requirement already satisfied: hiredis in c:\\python38\\lib\\site-packages (from aioredis->ray) (1.1.0)\n",
      "Requirement already satisfied: async-timeout in c:\\python38\\lib\\site-packages (from aioredis->ray) (3.0.1)\n",
      "Requirement already satisfied: six>=1.5.2 in c:\\users\\chengjiawen1\\appdata\\roaming\\python\\python38\\site-packages (from grpcio>=1.28.1->ray) (1.15.0)\n",
      "Requirement already satisfied: beautifulsoup4 in c:\\python38\\lib\\site-packages (from google->ray) (4.9.1)\n",
      "Requirement already satisfied: multidict<5.0,>=4.5 in c:\\python38\\lib\\site-packages (from aiohttp->ray) (4.7.6)\n",
      "Requirement already satisfied: attrs>=17.3.0 in c:\\python38\\lib\\site-packages (from aiohttp->ray) (19.3.0)\n",
      "Requirement already satisfied: yarl<2.0,>=1.0 in c:\\python38\\lib\\site-packages (from aiohttp->ray) (1.5.1)\n",
      "Requirement already satisfied: chardet<4.0,>=2.0 in c:\\python38\\lib\\site-packages (from aiohttp->ray) (3.0.4)\n",
      "Requirement already satisfied: idna<3,>=2.5 in c:\\python38\\lib\\site-packages (from requests->ray) (2.10)\n",
      "Requirement already satisfied: certifi>=2017.4.17 in c:\\python38\\lib\\site-packages (from requests->ray) (2020.6.20)\n",
      "Requirement already satisfied: urllib3!=1.25.0,!=1.25.1,<1.26,>=1.21.1 in c:\\python38\\lib\\site-packages (from requests->ray) (1.25.10)\n",
      "Requirement already satisfied: nvidia-ml-py3>=7.352.0 in c:\\python38\\lib\\site-packages (from gpustat->ray) (7.352.0)\n",
      "Requirement already satisfied: psutil in c:\\python38\\lib\\site-packages (from gpustat->ray) (5.7.2)\n",
      "Requirement already satisfied: blessings>=1.6 in c:\\python38\\lib\\site-packages (from gpustat->ray) (1.7)\n",
      "Requirement already satisfied: setuptools in c:\\python38\\lib\\site-packages (from jsonschema->ray) (41.2.0)\n",
      "Requirement already satisfied: pyrsistent>=0.14.0 in c:\\python38\\lib\\site-packages (from jsonschema->ray) (0.16.0)\n",
      "Requirement already satisfied: google-api-core<2.0.0,>=1.0.0 in c:\\python38\\lib\\site-packages (from opencensus->ray) (1.22.1)\n",
      "Requirement already satisfied: opencensus-context==0.1.1 in c:\\python38\\lib\\site-packages (from opencensus->ray) (0.1.1)\n",
      "Requirement already satisfied: soupsieve>1.2 in c:\\python38\\lib\\site-packages (from beautifulsoup4->google->ray) (2.0.1)\n",
      "Requirement already satisfied: googleapis-common-protos<2.0dev,>=1.6.0 in c:\\python38\\lib\\site-packages (from google-api-core<2.0.0,>=1.0.0->opencensus->ray) (1.52.0)\n",
      "Requirement already satisfied: pytz in c:\\python38\\lib\\site-packages (from google-api-core<2.0.0,>=1.0.0->opencensus->ray) (2020.1)\n",
      "Requirement already satisfied: google-auth<2.0dev,>=1.19.1 in c:\\python38\\lib\\site-packages (from google-api-core<2.0.0,>=1.0.0->opencensus->ray) (1.20.1)\n",
      "Requirement already satisfied: cachetools<5.0,>=2.0.0 in c:\\python38\\lib\\site-packages (from google-auth<2.0dev,>=1.19.1->google-api-core<2.0.0,>=1.0.0->opencensus->ray) (4.1.1)\n",
      "Requirement already satisfied: rsa<5,>=3.1.4; python_version >= \"3.5\" in c:\\python38\\lib\\site-packages (from google-auth<2.0dev,>=1.19.1->google-api-core<2.0.0,>=1.0.0->opencensus->ray) (4.6)\n",
      "Requirement already satisfied: pyasn1-modules>=0.2.1 in c:\\python38\\lib\\site-packages (from google-auth<2.0dev,>=1.19.1->google-api-core<2.0.0,>=1.0.0->opencensus->ray) (0.2.8)\n",
      "Requirement already satisfied: pyasn1>=0.1.3 in c:\\python38\\lib\\site-packages (from rsa<5,>=3.1.4; python_version >= \"3.5\"->google-auth<2.0dev,>=1.19.1->google-api-core<2.0.0,>=1.0.0->opencensus->ray) (0.4.8)\n"
     ]
    },
    {
     "name": "stderr",
     "output_type": "stream",
     "text": [
      "WARNING: You are using pip version 19.2.3, however version 20.2.1 is available.\n",
      "You should consider upgrading via the 'python -m pip install --upgrade pip' command.\n"
     ]
    }
   ],
   "source": [
    "!pip install ray"
   ]
  },
  {
   "cell_type": "code",
   "execution_count": 1,
   "metadata": {},
   "outputs": [],
   "source": [
    "import numpy as np\n",
    "import pandas as pd\n",
    "import seaborn as sns"
   ]
  },
  {
   "cell_type": "code",
   "execution_count": 9,
   "metadata": {},
   "outputs": [],
   "source": [
    "import matplotlib.pyplot as plt"
   ]
  },
  {
   "cell_type": "code",
   "execution_count": 3,
   "metadata": {},
   "outputs": [
    {
     "data": {
      "text/html": [
       "<div>\n",
       "<style scoped>\n",
       "    .dataframe tbody tr th:only-of-type {\n",
       "        vertical-align: middle;\n",
       "    }\n",
       "\n",
       "    .dataframe tbody tr th {\n",
       "        vertical-align: top;\n",
       "    }\n",
       "\n",
       "    .dataframe thead th {\n",
       "        text-align: right;\n",
       "    }\n",
       "</style>\n",
       "<table border=\"1\" class=\"dataframe\">\n",
       "  <thead>\n",
       "    <tr style=\"text-align: right;\">\n",
       "      <th></th>\n",
       "      <th>工单号</th>\n",
       "      <th>发起时间</th>\n",
       "      <th>回复时间</th>\n",
       "      <th>回复时长（分钟）</th>\n",
       "      <th>业务类型</th>\n",
       "      <th>紧急</th>\n",
       "      <th>状态</th>\n",
       "      <th>订单号</th>\n",
       "      <th>服务单号</th>\n",
       "      <th>商品编号</th>\n",
       "      <th>...</th>\n",
       "      <th>首次发起内容</th>\n",
       "      <th>管理平台回复</th>\n",
       "      <th>关单时间</th>\n",
       "      <th>追加回复时间</th>\n",
       "      <th>处理结果</th>\n",
       "      <th>一级地址</th>\n",
       "      <th>二级地址</th>\n",
       "      <th>三级地址</th>\n",
       "      <th>是否生成罚单</th>\n",
       "      <th>转发次数</th>\n",
       "    </tr>\n",
       "  </thead>\n",
       "  <tbody>\n",
       "    <tr>\n",
       "      <th>0</th>\n",
       "      <td>C-064899</td>\n",
       "      <td>2020-08-01 00:10:33</td>\n",
       "      <td>2020-08-01 15:32:05</td>\n",
       "      <td>272.0</td>\n",
       "      <td>安维-超时催单</td>\n",
       "      <td>NaN</td>\n",
       "      <td>已关单</td>\n",
       "      <td>122540637875</td>\n",
       "      <td>56875248</td>\n",
       "      <td>7215122</td>\n",
       "      <td>...</td>\n",
       "      <td>无人联系上门</td>\n",
       "      <td>是</td>\n",
       "      <td>2020-08-03 16:37:09</td>\n",
       "      <td>NaN</td>\n",
       "      <td>NaN</td>\n",
       "      <td>广东</td>\n",
       "      <td>揭阳市</td>\n",
       "      <td>普宁市</td>\n",
       "      <td>是</td>\n",
       "      <td>0</td>\n",
       "    </tr>\n",
       "    <tr>\n",
       "      <th>1</th>\n",
       "      <td>C-064886</td>\n",
       "      <td>2020-08-01 00:12:28</td>\n",
       "      <td>2020-08-01 09:30:06</td>\n",
       "      <td>30.0</td>\n",
       "      <td>安维3C专用-维修后商品不能正常使用</td>\n",
       "      <td>NaN</td>\n",
       "      <td>已关单</td>\n",
       "      <td>129470205761</td>\n",
       "      <td>57428176</td>\n",
       "      <td>7750293</td>\n",
       "      <td>...</td>\n",
       "      <td>维修后使用异常-听筒无声，屏幕左下角出现白色斑点</td>\n",
       "      <td>否</td>\n",
       "      <td>2020-08-03 10:17:47</td>\n",
       "      <td>NaN</td>\n",
       "      <td>NaN</td>\n",
       "      <td>广东</td>\n",
       "      <td>东莞市</td>\n",
       "      <td>莞城街道</td>\n",
       "      <td>否</td>\n",
       "      <td>0</td>\n",
       "    </tr>\n",
       "    <tr>\n",
       "      <th>2</th>\n",
       "      <td>C-064887</td>\n",
       "      <td>2020-08-01 00:17:38</td>\n",
       "      <td>2020-08-01 08:34:58</td>\n",
       "      <td>0.0</td>\n",
       "      <td>安维-超时催单</td>\n",
       "      <td>NaN</td>\n",
       "      <td>已关单</td>\n",
       "      <td>123568255387</td>\n",
       "      <td>57398406</td>\n",
       "      <td>100010181832</td>\n",
       "      <td>...</td>\n",
       "      <td>上门不及时</td>\n",
       "      <td>否</td>\n",
       "      <td>2020-08-02 09:26:14</td>\n",
       "      <td>NaN</td>\n",
       "      <td>NaN</td>\n",
       "      <td>山东</td>\n",
       "      <td>青岛市</td>\n",
       "      <td>市北区</td>\n",
       "      <td>是</td>\n",
       "      <td>0</td>\n",
       "    </tr>\n",
       "    <tr>\n",
       "      <th>3</th>\n",
       "      <td>C-064888</td>\n",
       "      <td>2020-08-01 00:31:36</td>\n",
       "      <td>2020-08-01 09:32:36</td>\n",
       "      <td>33.0</td>\n",
       "      <td>安维-收费问题投诉</td>\n",
       "      <td>NaN</td>\n",
       "      <td>已关单</td>\n",
       "      <td>129322235203</td>\n",
       "      <td>57341763</td>\n",
       "      <td>100003137799</td>\n",
       "      <td>...</td>\n",
       "      <td>未按标准收费-第一、约好上午十点延迟至下午一点。第二、现场沟通有高空作业收费100。我们虽然...</td>\n",
       "      <td>否</td>\n",
       "      <td>2020-08-02 09:29:47</td>\n",
       "      <td>NaN</td>\n",
       "      <td>NaN</td>\n",
       "      <td>广东</td>\n",
       "      <td>深圳市</td>\n",
       "      <td>南山区</td>\n",
       "      <td>是</td>\n",
       "      <td>0</td>\n",
       "    </tr>\n",
       "    <tr>\n",
       "      <th>4</th>\n",
       "      <td>C-064900</td>\n",
       "      <td>2020-08-01 00:43:30</td>\n",
       "      <td>2020-08-01 09:07:20</td>\n",
       "      <td>7.0</td>\n",
       "      <td>安维-收费问题投诉</td>\n",
       "      <td>NaN</td>\n",
       "      <td>已关单</td>\n",
       "      <td>123645992094</td>\n",
       "      <td>57455593</td>\n",
       "      <td>100007232113</td>\n",
       "      <td>...</td>\n",
       "      <td>未按标准收费</td>\n",
       "      <td>否</td>\n",
       "      <td>2020-08-02 09:38:14</td>\n",
       "      <td>NaN</td>\n",
       "      <td>NaN</td>\n",
       "      <td>上海</td>\n",
       "      <td>浦东新区</td>\n",
       "      <td>城区</td>\n",
       "      <td>是</td>\n",
       "      <td>0</td>\n",
       "    </tr>\n",
       "  </tbody>\n",
       "</table>\n",
       "<p>5 rows × 35 columns</p>\n",
       "</div>"
      ],
      "text/plain": [
       "        工单号                 发起时间                 回复时间  回复时长（分钟）  \\\n",
       "0  C-064899  2020-08-01 00:10:33  2020-08-01 15:32:05     272.0   \n",
       "1  C-064886  2020-08-01 00:12:28  2020-08-01 09:30:06      30.0   \n",
       "2  C-064887  2020-08-01 00:17:38  2020-08-01 08:34:58       0.0   \n",
       "3  C-064888  2020-08-01 00:31:36  2020-08-01 09:32:36      33.0   \n",
       "4  C-064900  2020-08-01 00:43:30  2020-08-01 09:07:20       7.0   \n",
       "\n",
       "                 业务类型  紧急   状态           订单号      服务单号          商品编号  ...  \\\n",
       "0             安维-超时催单 NaN  已关单  122540637875  56875248       7215122  ...   \n",
       "1  安维3C专用-维修后商品不能正常使用 NaN  已关单  129470205761  57428176       7750293  ...   \n",
       "2             安维-超时催单 NaN  已关单  123568255387  57398406  100010181832  ...   \n",
       "3           安维-收费问题投诉 NaN  已关单  129322235203  57341763  100003137799  ...   \n",
       "4           安维-收费问题投诉 NaN  已关单  123645992094  57455593  100007232113  ...   \n",
       "\n",
       "                                              首次发起内容 管理平台回复  \\\n",
       "0                                             无人联系上门      是   \n",
       "1                           维修后使用异常-听筒无声，屏幕左下角出现白色斑点      否   \n",
       "2                                              上门不及时      否   \n",
       "3  未按标准收费-第一、约好上午十点延迟至下午一点。第二、现场沟通有高空作业收费100。我们虽然...      否   \n",
       "4                                             未按标准收费      否   \n",
       "\n",
       "                  关单时间 追加回复时间 处理结果 一级地址  二级地址  三级地址 是否生成罚单 转发次数  \n",
       "0  2020-08-03 16:37:09    NaN  NaN   广东   揭阳市   普宁市      是    0  \n",
       "1  2020-08-03 10:17:47    NaN  NaN   广东   东莞市  莞城街道      否    0  \n",
       "2  2020-08-02 09:26:14    NaN  NaN   山东   青岛市   市北区      是    0  \n",
       "3  2020-08-02 09:29:47    NaN  NaN   广东   深圳市   南山区      是    0  \n",
       "4  2020-08-02 09:38:14    NaN  NaN   上海  浦东新区    城区      是    0  \n",
       "\n",
       "[5 rows x 35 columns]"
      ]
     },
     "execution_count": 3,
     "metadata": {},
     "output_type": "execute_result"
    }
   ],
   "source": [
    "df_gd = pd.read_excel('gongdan8.xlsx')\n",
    "df_gd.head()"
   ]
  },
  {
   "cell_type": "code",
   "execution_count": 56,
   "metadata": {},
   "outputs": [],
   "source": [
    "def draw_hbarplot(df_gd,cur_col,outfile,outexcel,top=False,topn=20):\n",
    "    plt.rcParams['font.sans-serif']=['SimHei'] \n",
    "    vc = df_gd[cur_col].value_counts()\n",
    "    cur_df = pd.DataFrame({cur_col:vc.index.values,'数量':vc.values})\n",
    "    cur_df.to_excel(outexcel)\n",
    "    if top:\n",
    "        cur_df2 = cur_df.head(n=topn)\n",
    "    else:\n",
    "        cur_df2 = cur_df\n",
    "    fig,ax = plt.subplots(figsize=[12,12])\n",
    "    cur_ax = sns.barplot(x=\"数量\", y=cur_col, data=cur_df2,ax=ax)\n",
    "    cur_ax.set_ylabel(cur_col,fontsize=20)\n",
    "    cur_ax.set_xlabel('数量',fontsize=20)\n",
    "    plt.savefig(outfile,dpi=300,bbox_inches='tight')\n",
    "    plt.show()\n",
    "    return cur_ax"
   ]
  },
  {
   "cell_type": "code",
   "execution_count": 57,
   "metadata": {},
   "outputs": [
    {
     "data": {
      "image/png": "[encoded data removed]",
      "text/plain": [
       "<Figure size 864x864 with 1 Axes>"
      ]
     },
     "metadata": {},
     "output_type": "display_data"
    },
    {
     "data": {
      "text/plain": [
       "Text(50, 10, 'hello')"
      ]
     },
     "execution_count": 57,
     "metadata": {},
     "output_type": "execute_result"
    }
   ],
   "source": [
    "cur_ax = draw_hbarplot(df_gd,'一级地址','投诉排行_一级地址.png','投诉排行_一级地址.xlsx')"
   ]
  },
  {
   "cell_type": "code",
   "execution_count": 58,
   "metadata": {},
   "outputs": [
    {
     "data": {
      "image/png": "[encoded data removed]",
      "text/plain": [
       "<Figure size 864x864 with 1 Axes>"
      ]
     },
     "metadata": {},
     "output_type": "display_data"
    },
    {
     "data": {
      "text/plain": [
       "<matplotlib.axes._subplots.AxesSubplot at 0x1474c9f0>"
      ]
     },
     "execution_count": 58,
     "metadata": {},
     "output_type": "execute_result"
    }
   ],
   "source": [
    "draw_hbarplot(df_gd,'二级地址','投诉排行_二级地址.png','投诉排行_二级地址.xlsx',top=True)"
   ]
  },
  {
   "cell_type": "code",
   "execution_count": 59,
   "metadata": {},
   "outputs": [
    {
     "data": {
      "image/png": "[encoded data removed]",
      "text/plain": [
       "<Figure size 864x864 with 1 Axes>"
      ]
     },
     "metadata": {},
     "output_type": "display_data"
    },
    {
     "data": {
      "text/plain": [
       "<matplotlib.axes._subplots.AxesSubplot at 0x1479d630>"
      ]
     },
     "execution_count": 59,
     "metadata": {},
     "output_type": "execute_result"
    }
   ],
   "source": [
    "draw_hbarplot(df_gd,'三级地址','投诉排行_三级地址.png','投诉排行_三级地址.xlsx',top=True)"
   ]
  },
  {
   "cell_type": "code",
   "execution_count": 36,
   "metadata": {},
   "outputs": [],
   "source": [
    "tousu = df_gd['首次发起内容'].values"
   ]
  },
  {
   "cell_type": "code",
   "execution_count": 40,
   "metadata": {},
   "outputs": [],
   "source": [
    "tousu_ls = [str(i).split('-')[0] for i in tousu]"
   ]
  },
  {
   "cell_type": "code",
   "execution_count": 44,
   "metadata": {},
   "outputs": [
    {
     "data": {
      "text/html": [
       "<div>\n",
       "<style scoped>\n",
       "    .dataframe tbody tr th:only-of-type {\n",
       "        vertical-align: middle;\n",
       "    }\n",
       "\n",
       "    .dataframe tbody tr th {\n",
       "        vertical-align: top;\n",
       "    }\n",
       "\n",
       "    .dataframe thead th {\n",
       "        text-align: right;\n",
       "    }\n",
       "</style>\n",
       "<table border=\"1\" class=\"dataframe\">\n",
       "  <thead>\n",
       "    <tr style=\"text-align: right;\">\n",
       "      <th></th>\n",
       "      <th>投诉详情</th>\n",
       "    </tr>\n",
       "  </thead>\n",
       "  <tbody>\n",
       "    <tr>\n",
       "      <th>0</th>\n",
       "      <td>无人联系上门</td>\n",
       "    </tr>\n",
       "    <tr>\n",
       "      <th>1</th>\n",
       "      <td>维修后使用异常</td>\n",
       "    </tr>\n",
       "    <tr>\n",
       "      <th>2</th>\n",
       "      <td>上门不及时</td>\n",
       "    </tr>\n",
       "    <tr>\n",
       "      <th>3</th>\n",
       "      <td>未按标准收费</td>\n",
       "    </tr>\n",
       "    <tr>\n",
       "      <th>4</th>\n",
       "      <td>未按标准收费</td>\n",
       "    </tr>\n",
       "  </tbody>\n",
       "</table>\n",
       "</div>"
      ],
      "text/plain": [
       "      投诉详情\n",
       "0   无人联系上门\n",
       "1  维修后使用异常\n",
       "2    上门不及时\n",
       "3   未按标准收费\n",
       "4   未按标准收费"
      ]
     },
     "execution_count": 44,
     "metadata": {},
     "output_type": "execute_result"
    }
   ],
   "source": [
    "tousu_df = pd.DataFrame({'投诉详情':tousu_ls})\n",
    "tousu_df.head()"
   ]
  },
  {
   "cell_type": "code",
   "execution_count": 47,
   "metadata": {},
   "outputs": [
    {
     "data": {
      "text/plain": [
       "无人联系上门                                        1265\n",
       "上门不及时                                          728\n",
       "多次改约                                           608\n",
       "未服务操作完成                                        557\n",
       "服务不专业                                          537\n",
       "                                              ... \n",
       "师傅一直未上门安装，麻烦师傅尽快上门安装，客户现在情绪很激动                   1\n",
       "用户再次来电催促 请尽快联系上门安装  用户很生气 请加急处理                  1\n",
       "客户来电催师傅下午上门/加急联系                                 1\n",
       "尽快上门安装                                           1\n",
       "客户来电催促，麻烦尽快安排师傅上门拆机，客户要求今天上门，不想等，麻烦尽快安排，谢谢       1\n",
       "Name: 投诉详情, Length: 1130, dtype: int64"
      ]
     },
     "execution_count": 47,
     "metadata": {},
     "output_type": "execute_result"
    }
   ],
   "source": [
    "tousu_df['投诉详情'].value_counts()"
   ]
  },
  {
   "cell_type": "code",
   "execution_count": 63,
   "metadata": {},
   "outputs": [
    {
     "data": {
      "image/png": "[encoded data removed]",
      "text/plain": [
       "<Figure size 864x864 with 1 Axes>"
      ]
     },
     "metadata": {},
     "output_type": "display_data"
    },
    {
     "data": {
      "text/plain": [
       "Text(200, 2, 'Hello')"
      ]
     },
     "execution_count": 63,
     "metadata": {},
     "output_type": "execute_result"
    }
   ],
   "source": [
    "cur_ax = draw_hbarplot(tousu_df,'投诉详情','投诉详情排行榜Top12.png','投诉详情排行榜.xlsx',top=True,topn=12)\n",
    "cur_ax.text(200,2,'Hello',fontsize=20,ha=\"left\", va=\"top\", transform=ax.transAxes)"
   ]
  },
  {
   "cell_type": "code",
   "execution_count": null,
   "metadata": {},
   "outputs": [],
   "source": []
  },
  {
   "cell_type": "code",
   "execution_count": 102,
   "metadata": {},
   "outputs": [],
   "source": [
    "def draw_hbarplot_sec(df_gd,cur_col,outfile,top=False,topn=20,pad=10):\n",
    "    plt.rcParams['font.sans-serif']=['SimHei'] \n",
    "    vc = df_gd[cur_col].value_counts()\n",
    "    cur_df = pd.DataFrame({cur_col:vc.index.values,'数量':vc.values})\n",
    "    #cur_df.to_excel(outexcel)\n",
    "    if top:\n",
    "        cur_df2 = cur_df.head(n=topn)\n",
    "    else:\n",
    "        cur_df2 = cur_df\n",
    "    fig,ax = plt.subplots(figsize=[12,12])\n",
    "    y_pos = list(range(cur_df2.shape[0]))\n",
    "    ax.barh(y_pos, list(cur_df2.iloc[:,1].values)[::-1], align='center')\n",
    "    ax.set_ylabel(cur_col,fontsize=20)\n",
    "    ax.set_yticks(y_pos)\n",
    "    ax.set_yticklabels(list(cur_df2.iloc[:,0].values)[::-1],fontsize=15)\n",
    "    ax.set_xlabel('数量',fontsize=20)\n",
    "    \n",
    "    for i in y_pos:\n",
    "        x_value = list(cur_df2.iloc[:,1].values)[::-1][i]\n",
    "        x_pos = x_value + pad\n",
    "        ax.text(x_pos,i,str(x_value),fontsize=15,verticalalignment='center')\n",
    "    plt.savefig(outfile,dpi=300,bbox_inches='tight')\n",
    "    plt.show()"
   ]
  },
  {
   "cell_type": "code",
   "execution_count": 103,
   "metadata": {},
   "outputs": [
    {
     "data": {
      "image/png": "[encoded data removed]",
      "text/plain": [
       "<Figure size 864x864 with 1 Axes>"
      ]
     },
     "metadata": {},
     "output_type": "display_data"
    }
   ],
   "source": [
    "draw_hbarplot_sec(tousu_df,'投诉详情','v2.投诉详情排行榜Top12.png',top=True,topn=12)"
   ]
  },
  {
   "cell_type": "code",
   "execution_count": 104,
   "metadata": {},
   "outputs": [
    {
     "data": {
      "image/png": "[encoded data removed]",
      "text/plain": [
       "<Figure size 864x864 with 1 Axes>"
      ]
     },
     "metadata": {},
     "output_type": "display_data"
    }
   ],
   "source": [
    "draw_hbarplot_sec(df_gd,'一级地址','v2.投诉排行_一级地址.png')"
   ]
  },
  {
   "cell_type": "code",
   "execution_count": 105,
   "metadata": {},
   "outputs": [
    {
     "data": {
      "image/png": "[encoded data removed]",
      "text/plain": [
       "<Figure size 864x864 with 1 Axes>"
      ]
     },
     "metadata": {},
     "output_type": "display_data"
    }
   ],
   "source": [
    "draw_hbarplot_sec(df_gd,'二级地址','v2.投诉排行_二级地址.png',top=True,pad=1)"
   ]
  },
  {
   "cell_type": "code",
   "execution_count": 106,
   "metadata": {},
   "outputs": [
    {
     "data": {
      "image/png": "[encoded data removed]",
      "text/plain": [
       "<Figure size 864x864 with 1 Axes>"
      ]
     },
     "metadata": {},
     "output_type": "display_data"
    }
   ],
   "source": [
    "draw_hbarplot_sec(df_gd,'三级地址','v2.投诉排行_三级地址.png',top=True,pad=1)"
   ]
  },
  {
   "cell_type": "code",
   "execution_count": 11,
   "metadata": {},
   "outputs": [],
   "source": [
    "from matplotlib.pyplot import figure"
   ]
  },
  {
   "cell_type": "code",
   "execution_count": 19,
   "metadata": {},
   "outputs": [
    {
     "data": {
      "image/png": "[encoded data removed]",
      "text/plain": [
       "<Figure size 288x288 with 1 Axes>"
      ]
     },
     "metadata": {
      "needs_background": "light"
     },
     "output_type": "display_data"
    }
   ],
   "source": [
    "fig , ax = plt.subplots()\n",
    "\n",
    "ax.plot([1,2,3])\n",
    "\n",
    "fig = fig.set_size_inches(4,4)\n",
    "\n",
    "ax.set_xticks([1,2,3])\n",
    "ax.set_xticklabels(['A','B','C'])\n",
    "plt.show()"
   ]
  },
  {
   "cell_type": "code",
   "execution_count": 20,
   "metadata": {},
   "outputs": [],
   "source": [
    "import pandas as pd"
   ]
  },
  {
   "cell_type": "code",
   "execution_count": 21,
   "metadata": {},
   "outputs": [
    {
     "data": {
      "text/html": [
       "<div>\n",
       "<style scoped>\n",
       "    .dataframe tbody tr th:only-of-type {\n",
       "        vertical-align: middle;\n",
       "    }\n",
       "\n",
       "    .dataframe tbody tr th {\n",
       "        vertical-align: top;\n",
       "    }\n",
       "\n",
       "    .dataframe thead th {\n",
       "        text-align: right;\n",
       "    }\n",
       "</style>\n",
       "<table border=\"1\" class=\"dataframe\">\n",
       "  <thead>\n",
       "    <tr style=\"text-align: right;\">\n",
       "      <th></th>\n",
       "      <th>A</th>\n",
       "      <th>B</th>\n",
       "    </tr>\n",
       "  </thead>\n",
       "  <tbody>\n",
       "    <tr>\n",
       "      <th>0</th>\n",
       "      <td>1</td>\n",
       "      <td>4</td>\n",
       "    </tr>\n",
       "    <tr>\n",
       "      <th>1</th>\n",
       "      <td>2</td>\n",
       "      <td>2</td>\n",
       "    </tr>\n",
       "    <tr>\n",
       "      <th>2</th>\n",
       "      <td>3</td>\n",
       "      <td>5</td>\n",
       "    </tr>\n",
       "  </tbody>\n",
       "</table>\n",
       "</div>"
      ],
      "text/plain": [
       "   A  B\n",
       "0  1  4\n",
       "1  2  2\n",
       "2  3  5"
      ]
     },
     "execution_count": 21,
     "metadata": {},
     "output_type": "execute_result"
    }
   ],
   "source": [
    "df = pd.DataFrame({'A':[1,2,3],'B':[4,2,5]})\n",
    "df"
   ]
  },
  {
   "cell_type": "code",
   "execution_count": 26,
   "metadata": {},
   "outputs": [
    {
     "data": {
      "text/plain": [
       "3"
      ]
     },
     "execution_count": 26,
     "metadata": {},
     "output_type": "execute_result"
    }
   ],
   "source": [
    "df.shape[0]"
   ]
  },
  {
   "cell_type": "code",
   "execution_count": 7,
   "metadata": {},
   "outputs": [
    {
     "data": {
      "image/png": "[encoded data removed]",
      "text/plain": [
       "<Figure size 432x288 with 2 Axes>"
      ]
     },
     "metadata": {
      "needs_background": "light"
     },
     "output_type": "display_data"
    }
   ],
   "source": [
    "fig, axs = plt.subplots(2, 1)\n",
    "axs[0].plot(np.arange(0, 100000, 50))\n",
    "axs[0].set_ylabel('YLabel 0')\n",
    "axs[1].set_ylabel('YLabel 1')\n",
    "\n",
    "fig.align_ylabels()\n",
    "plt.show()"
   ]
  },
  {
   "cell_type": "markdown",
   "metadata": {},
   "source": [
    "## Altair test"
   ]
  },
  {
   "cell_type": "code",
   "execution_count": 76,
   "metadata": {},
   "outputs": [],
   "source": [
    "import altair as alt\n",
    "from vega_datasets import data\n",
    "import pandas as pd\n",
    "import numpy as np"
   ]
  },
  {
   "cell_type": "code",
   "execution_count": 30,
   "metadata": {},
   "outputs": [
    {
     "name": "stdout",
     "output_type": "stream",
     "text": [
      "e:\\software\\Python37\\python.exe\n",
      "3.7.4 (tags/v3.7.4:e09359112e, Jul  8 2019, 19:29:22) [MSC v.1916 32 bit (Intel)]\n",
      "sys.version_info(major=3, minor=7, micro=4, releaselevel='final', serial=0)\n"
     ]
    }
   ],
   "source": [
    "import sys\n",
    "print(sys.executable)\n",
    "print(sys.version)\n",
    "print(sys.version_info)"
   ]
  },
  {
   "cell_type": "code",
   "execution_count": 32,
   "metadata": {},
   "outputs": [
    {
     "data": {
      "text/html": [
       "<div>\n",
       "<style scoped>\n",
       "    .dataframe tbody tr th:only-of-type {\n",
       "        vertical-align: middle;\n",
       "    }\n",
       "\n",
       "    .dataframe tbody tr th {\n",
       "        vertical-align: top;\n",
       "    }\n",
       "\n",
       "    .dataframe thead th {\n",
       "        text-align: right;\n",
       "    }\n",
       "</style>\n",
       "<table border=\"1\" class=\"dataframe\">\n",
       "  <thead>\n",
       "    <tr style=\"text-align: right;\">\n",
       "      <th></th>\n",
       "      <th>Name</th>\n",
       "      <th>Miles_per_Gallon</th>\n",
       "      <th>Cylinders</th>\n",
       "      <th>Displacement</th>\n",
       "      <th>Horsepower</th>\n",
       "      <th>Weight_in_lbs</th>\n",
       "      <th>Acceleration</th>\n",
       "      <th>Year</th>\n",
       "      <th>Origin</th>\n",
       "    </tr>\n",
       "  </thead>\n",
       "  <tbody>\n",
       "    <tr>\n",
       "      <th>0</th>\n",
       "      <td>chevrolet chevelle malibu</td>\n",
       "      <td>18.0</td>\n",
       "      <td>8</td>\n",
       "      <td>307.0</td>\n",
       "      <td>130.0</td>\n",
       "      <td>3504</td>\n",
       "      <td>12.0</td>\n",
       "      <td>1970-01-01</td>\n",
       "      <td>USA</td>\n",
       "    </tr>\n",
       "    <tr>\n",
       "      <th>1</th>\n",
       "      <td>buick skylark 320</td>\n",
       "      <td>15.0</td>\n",
       "      <td>8</td>\n",
       "      <td>350.0</td>\n",
       "      <td>165.0</td>\n",
       "      <td>3693</td>\n",
       "      <td>11.5</td>\n",
       "      <td>1970-01-01</td>\n",
       "      <td>USA</td>\n",
       "    </tr>\n",
       "    <tr>\n",
       "      <th>2</th>\n",
       "      <td>plymouth satellite</td>\n",
       "      <td>18.0</td>\n",
       "      <td>8</td>\n",
       "      <td>318.0</td>\n",
       "      <td>150.0</td>\n",
       "      <td>3436</td>\n",
       "      <td>11.0</td>\n",
       "      <td>1970-01-01</td>\n",
       "      <td>USA</td>\n",
       "    </tr>\n",
       "    <tr>\n",
       "      <th>3</th>\n",
       "      <td>amc rebel sst</td>\n",
       "      <td>16.0</td>\n",
       "      <td>8</td>\n",
       "      <td>304.0</td>\n",
       "      <td>150.0</td>\n",
       "      <td>3433</td>\n",
       "      <td>12.0</td>\n",
       "      <td>1970-01-01</td>\n",
       "      <td>USA</td>\n",
       "    </tr>\n",
       "    <tr>\n",
       "      <th>4</th>\n",
       "      <td>ford torino</td>\n",
       "      <td>17.0</td>\n",
       "      <td>8</td>\n",
       "      <td>302.0</td>\n",
       "      <td>140.0</td>\n",
       "      <td>3449</td>\n",
       "      <td>10.5</td>\n",
       "      <td>1970-01-01</td>\n",
       "      <td>USA</td>\n",
       "    </tr>\n",
       "  </tbody>\n",
       "</table>\n",
       "</div>"
      ],
      "text/plain": [
       "                        Name  Miles_per_Gallon  Cylinders  Displacement  \\\n",
       "0  chevrolet chevelle malibu              18.0          8         307.0   \n",
       "1          buick skylark 320              15.0          8         350.0   \n",
       "2         plymouth satellite              18.0          8         318.0   \n",
       "3              amc rebel sst              16.0          8         304.0   \n",
       "4                ford torino              17.0          8         302.0   \n",
       "\n",
       "   Horsepower  Weight_in_lbs  Acceleration       Year Origin  \n",
       "0       130.0           3504          12.0 1970-01-01    USA  \n",
       "1       165.0           3693          11.5 1970-01-01    USA  \n",
       "2       150.0           3436          11.0 1970-01-01    USA  \n",
       "3       150.0           3433          12.0 1970-01-01    USA  \n",
       "4       140.0           3449          10.5 1970-01-01    USA  "
      ]
     },
     "execution_count": 32,
     "metadata": {},
     "output_type": "execute_result"
    }
   ],
   "source": [
    "source = data.cars()\n",
    "source.head()"
   ]
  },
  {
   "cell_type": "markdown",
   "metadata": {},
   "source": [
    "### mark_tick()"
   ]
  },
  {
   "cell_type": "code",
   "execution_count": 33,
   "metadata": {},
   "outputs": [
    {
     "data": {
      "text/html": [
       "\n",
       "<div id=\"altair-viz-0e59784d54bb4fb6a6acb6516aa85f20\"></div>\n",
       "<script type=\"text/javascript\">\n",
       "  (function(spec, embedOpt){\n",
       "    let outputDiv = document.currentScript.previousElementSibling;\n",
       "    if (outputDiv.id !== \"altair-viz-0e59784d54bb4fb6a6acb6516aa85f20\") {\n",
       "      outputDiv = document.getElementById(\"altair-viz-0e59784d54bb4fb6a6acb6516aa85f20\");\n",
       "    }\n",
       "    const paths = {\n",
       "      \"vega\": \"https://cdn.jsdelivr.net/npm//vega@5?noext\",\n",
       "      \"vega-lib\": \"https://cdn.jsdelivr.net/npm//vega-lib?noext\",\n",
       "      \"vega-lite\": \"https://cdn.jsdelivr.net/npm//vega-lite@4.8.1?noext\",\n",
       "      \"vega-embed\": \"https://cdn.jsdelivr.net/npm//vega-embed@6?noext\",\n",
       "    };\n",
       "\n",
       "    function loadScript(lib) {\n",
       "      return new Promise(function(resolve, reject) {\n",
       "        var s = document.createElement('script');\n",
       "        s.src = paths[lib];\n",
       "        s.async = true;\n",
       "        s.onload = () => resolve(paths[lib]);\n",
       "        s.onerror = () => reject(`Error loading script: ${paths[lib]}`);\n",
       "        document.getElementsByTagName(\"head\")[0].appendChild(s);\n",
       "      });\n",
       "    }\n",
       "\n",
       "    function showError(err) {\n",
       "      outputDiv.innerHTML = `<div class=\"error\" style=\"color:red;\">${err}</div>`;\n",
       "      throw err;\n",
       "    }\n",
       "\n",
       "    function displayChart(vegaEmbed) {\n",
       "      vegaEmbed(outputDiv, spec, embedOpt)\n",
       "        .catch(err => showError(`Javascript Error: ${err.message}<br>This usually means there's a typo in your chart specification. See the javascript console for the full traceback.`));\n",
       "    }\n",
       "\n",
       "    if(typeof define === \"function\" && define.amd) {\n",
       "      requirejs.config({paths});\n",
       "      require([\"vega-embed\"], displayChart, err => showError(`Error loading script: ${err.message}`));\n",
       "    } else if (typeof vegaEmbed === \"function\") {\n",
       "      displayChart(vegaEmbed);\n",
       "    } else {\n",
       "      loadScript(\"vega\")\n",
       "        .then(() => loadScript(\"vega-lite\"))\n",
       "        .then(() => loadScript(\"vega-embed\"))\n",
       "        .catch(showError)\n",
       "        .then(() => displayChart(vegaEmbed));\n",
       "    }\n",
       "  })({\"config\": {\"view\": {\"continuousWidth\": 400, \"continuousHeight\": 300}}, \"data\": {\"name\": \"data-f02450ab61490a1363517a0190416235\"}, \"mark\": \"tick\", \"encoding\": {\"x\": {\"type\": \"quantitative\", \"field\": \"Horsepower\"}, \"y\": {\"type\": \"ordinal\", \"field\": \"Cylinders\"}}, \"$schema\": \"https://vega.github.io/schema/vega-lite/v4.8.1.json\", \"datasets\": {\"data-f02450ab61490a1363517a0190416235\": [{\"Name\": \"chevrolet chevelle malibu\", \"Miles_per_Gallon\": 18.0, \"Cylinders\": 8, \"Displacement\": 307.0, \"Horsepower\": 130.0, \"Weight_in_lbs\": 3504, \"Acceleration\": 12.0, \"Year\": \"1970-01-01T00:00:00\", \"Origin\": \"USA\"}, {\"Name\": \"buick skylark 320\", \"Miles_per_Gallon\": 15.0, \"Cylinders\": 8, \"Displacement\": 350.0, \"Horsepower\": 165.0, \"Weight_in_lbs\": 3693, \"Acceleration\": 11.5, \"Year\": \"1970-01-01T00:00:00\", \"Origin\": \"USA\"}, {\"Name\": \"plymouth satellite\", \"Miles_per_Gallon\": 18.0, \"Cylinders\": 8, \"Displacement\": 318.0, \"Horsepower\": 150.0, \"Weight_in_lbs\": 3436, \"Acceleration\": 11.0, \"Year\": \"1970-01-01T00:00:00\", \"Origin\": \"USA\"}, {\"Name\": \"amc rebel sst\", \"Miles_per_Gallon\": 16.0, \"Cylinders\": 8, \"Displacement\": 304.0, \"Horsepower\": 150.0, \"Weight_in_lbs\": 3433, \"Acceleration\": 12.0, \"Year\": \"1970-01-01T00:00:00\", \"Origin\": \"USA\"}, {\"Name\": \"ford torino\", \"Miles_per_Gallon\": 17.0, \"Cylinders\": 8, \"Displacement\": 302.0, \"Horsepower\": 140.0, \"Weight_in_lbs\": 3449, \"Acceleration\": 10.5, \"Year\": \"1970-01-01T00:00:00\", \"Origin\": \"USA\"}, {\"Name\": \"ford galaxie 500\", \"Miles_per_Gallon\": 15.0, \"Cylinders\": 8, \"Displacement\": 429.0, \"Horsepower\": 198.0, \"Weight_in_lbs\": 4341, \"Acceleration\": 10.0, \"Year\": \"1970-01-01T00:00:00\", \"Origin\": \"USA\"}, {\"Name\": \"chevrolet impala\", \"Miles_per_Gallon\": 14.0, \"Cylinders\": 8, \"Displacement\": 454.0, \"Horsepower\": 220.0, \"Weight_in_lbs\": 4354, \"Acceleration\": 9.0, \"Year\": \"1970-01-01T00:00:00\", \"Origin\": \"USA\"}, {\"Name\": \"plymouth fury iii\", \"Miles_per_Gallon\": 14.0, \"Cylinders\": 8, \"Displacement\": 440.0, \"Horsepower\": 215.0, \"Weight_in_lbs\": 4312, \"Acceleration\": 8.5, \"Year\": \"1970-01-01T00:00:00\", \"Origin\": \"USA\"}, {\"Name\": \"pontiac catalina\", \"Miles_per_Gallon\": 14.0, \"Cylinders\": 8, \"Displacement\": 455.0, \"Horsepower\": 225.0, \"Weight_in_lbs\": 4425, \"Acceleration\": 10.0, \"Year\": \"1970-01-01T00:00:00\", \"Origin\": \"USA\"}, {\"Name\": \"amc ambassador dpl\", \"Miles_per_Gallon\": 15.0, \"Cylinders\": 8, \"Displacement\": 390.0, \"Horsepower\": 190.0, \"Weight_in_lbs\": 3850, \"Acceleration\": 8.5, \"Year\": \"1970-01-01T00:00:00\", \"Origin\": \"USA\"}, {\"Name\": \"citroen ds-21 pallas\", \"Miles_per_Gallon\": null, \"Cylinders\": 4, \"Displacement\": 133.0, \"Horsepower\": 115.0, \"Weight_in_lbs\": 3090, \"Acceleration\": 17.5, \"Year\": \"1970-01-01T00:00:00\", \"Origin\": \"Europe\"}, {\"Name\": \"chevrolet chevelle concours (sw)\", \"Miles_per_Gallon\": null, \"Cylinders\": 8, \"Displacement\": 350.0, \"Horsepower\": 165.0, \"Weight_in_lbs\": 4142, \"Acceleration\": 11.5, \"Year\": \"1970-01-01T00:00:00\", \"Origin\": \"USA\"}, {\"Name\": \"ford torino (sw)\", \"Miles_per_Gallon\": null, \"Cylinders\": 8, \"Displacement\": 351.0, \"Horsepower\": 153.0, \"Weight_in_lbs\": 4034, \"Acceleration\": 11.0, \"Year\": \"1970-01-01T00:00:00\", \"Origin\": \"USA\"}, {\"Name\": \"plymouth satellite (sw)\", \"Miles_per_Gallon\": null, \"Cylinders\": 8, \"Displacement\": 383.0, \"Horsepower\": 175.0, \"Weight_in_lbs\": 4166, \"Acceleration\": 10.5, \"Year\": \"1970-01-01T00:00:00\", \"Origin\": \"USA\"}, {\"Name\": \"amc rebel sst (sw)\", \"Miles_per_Gallon\": null, \"Cylinders\": 8, \"Displacement\": 360.0, \"Horsepower\": 175.0, \"Weight_in_lbs\": 3850, \"Acceleration\": 11.0, \"Year\": \"1970-01-01T00:00:00\", \"Origin\": \"USA\"}, {\"Name\": \"dodge challenger se\", \"Miles_per_Gallon\": 15.0, \"Cylinders\": 8, \"Displacement\": 383.0, \"Horsepower\": 170.0, \"Weight_in_lbs\": 3563, \"Acceleration\": 10.0, \"Year\": \"1970-01-01T00:00:00\", \"Origin\": \"USA\"}, {\"Name\": \"plymouth 'cuda 340\", \"Miles_per_Gallon\": 14.0, \"Cylinders\": 8, \"Displacement\": 340.0, \"Horsepower\": 160.0, \"Weight_in_lbs\": 3609, \"Acceleration\": 8.0, \"Year\": \"1970-01-01T00:00:00\", \"Origin\": \"USA\"}, {\"Name\": \"ford mustang boss 302\", \"Miles_per_Gallon\": null, \"Cylinders\": 8, \"Displacement\": 302.0, \"Horsepower\": 140.0, \"Weight_in_lbs\": 3353, \"Acceleration\": 8.0, \"Year\": \"1970-01-01T00:00:00\", \"Origin\": \"USA\"}, {\"Name\": \"chevrolet monte carlo\", \"Miles_per_Gallon\": 15.0, \"Cylinders\": 8, \"Displacement\": 400.0, \"Horsepower\": 150.0, \"Weight_in_lbs\": 3761, \"Acceleration\": 9.5, \"Year\": \"1970-01-01T00:00:00\", \"Origin\": \"USA\"}, {\"Name\": \"buick estate wagon (sw)\", \"Miles_per_Gallon\": 14.0, \"Cylinders\": 8, \"Displacement\": 455.0, \"Horsepower\": 225.0, \"Weight_in_lbs\": 3086, \"Acceleration\": 10.0, \"Year\": \"1970-01-01T00:00:00\", \"Origin\": \"USA\"}, {\"Name\": \"toyota corona mark ii\", \"Miles_per_Gallon\": 24.0, \"Cylinders\": 4, \"Displacement\": 113.0, \"Horsepower\": 95.0, \"Weight_in_lbs\": 2372, \"Acceleration\": 15.0, \"Year\": \"1970-01-01T00:00:00\", \"Origin\": \"Japan\"}, {\"Name\": \"plymouth duster\", \"Miles_per_Gallon\": 22.0, \"Cylinders\": 6, \"Displacement\": 198.0, \"Horsepower\": 95.0, \"Weight_in_lbs\": 2833, \"Acceleration\": 15.5, \"Year\": \"1970-01-01T00:00:00\", \"Origin\": \"USA\"}, {\"Name\": \"amc hornet\", \"Miles_per_Gallon\": 18.0, \"Cylinders\": 6, \"Displacement\": 199.0, \"Horsepower\": 97.0, \"Weight_in_lbs\": 2774, \"Acceleration\": 15.5, \"Year\": \"1970-01-01T00:00:00\", \"Origin\": \"USA\"}, {\"Name\": \"ford maverick\", \"Miles_per_Gallon\": 21.0, \"Cylinders\": 6, \"Displacement\": 200.0, \"Horsepower\": 85.0, \"Weight_in_lbs\": 2587, \"Acceleration\": 16.0, \"Year\": \"1970-01-01T00:00:00\", \"Origin\": \"USA\"}, {\"Name\": \"datsun pl510\", \"Miles_per_Gallon\": 27.0, \"Cylinders\": 4, \"Displacement\": 97.0, \"Horsepower\": 88.0, \"Weight_in_lbs\": 2130, \"Acceleration\": 14.5, \"Year\": \"1970-01-01T00:00:00\", \"Origin\": \"Japan\"}, {\"Name\": \"volkswagen 1131 deluxe sedan\", \"Miles_per_Gallon\": 26.0, \"Cylinders\": 4, \"Displacement\": 97.0, \"Horsepower\": 46.0, \"Weight_in_lbs\": 1835, \"Acceleration\": 20.5, \"Year\": \"1970-01-01T00:00:00\", \"Origin\": \"Europe\"}, {\"Name\": \"peugeot 504\", \"Miles_per_Gallon\": 25.0, \"Cylinders\": 4, \"Displacement\": 110.0, \"Horsepower\": 87.0, \"Weight_in_lbs\": 2672, \"Acceleration\": 17.5, \"Year\": \"1970-01-01T00:00:00\", \"Origin\": \"Europe\"}, {\"Name\": \"audi 100 ls\", \"Miles_per_Gallon\": 24.0, \"Cylinders\": 4, \"Displacement\": 107.0, \"Horsepower\": 90.0, \"Weight_in_lbs\": 2430, \"Acceleration\": 14.5, \"Year\": \"1970-01-01T00:00:00\", \"Origin\": \"Europe\"}, {\"Name\": \"saab 99e\", \"Miles_per_Gallon\": 25.0, \"Cylinders\": 4, \"Displacement\": 104.0, \"Horsepower\": 95.0, \"Weight_in_lbs\": 2375, \"Acceleration\": 17.5, \"Year\": \"1970-01-01T00:00:00\", \"Origin\": \"Europe\"}, {\"Name\": \"bmw 2002\", \"Miles_per_Gallon\": 26.0, \"Cylinders\": 4, \"Displacement\": 121.0, \"Horsepower\": 113.0, \"Weight_in_lbs\": 2234, \"Acceleration\": 12.5, \"Year\": \"1970-01-01T00:00:00\", \"Origin\": \"Europe\"}, {\"Name\": \"amc gremlin\", \"Miles_per_Gallon\": 21.0, \"Cylinders\": 6, \"Displacement\": 199.0, \"Horsepower\": 90.0, \"Weight_in_lbs\": 2648, \"Acceleration\": 15.0, \"Year\": \"1970-01-01T00:00:00\", \"Origin\": \"USA\"}, {\"Name\": \"ford f250\", \"Miles_per_Gallon\": 10.0, \"Cylinders\": 8, \"Displacement\": 360.0, \"Horsepower\": 215.0, \"Weight_in_lbs\": 4615, \"Acceleration\": 14.0, \"Year\": \"1970-01-01T00:00:00\", \"Origin\": \"USA\"}, {\"Name\": \"chevy c20\", \"Miles_per_Gallon\": 10.0, \"Cylinders\": 8, \"Displacement\": 307.0, \"Horsepower\": 200.0, \"Weight_in_lbs\": 4376, \"Acceleration\": 15.0, \"Year\": \"1970-01-01T00:00:00\", \"Origin\": \"USA\"}, {\"Name\": \"dodge d200\", \"Miles_per_Gallon\": 11.0, \"Cylinders\": 8, \"Displacement\": 318.0, \"Horsepower\": 210.0, \"Weight_in_lbs\": 4382, \"Acceleration\": 13.5, \"Year\": \"1970-01-01T00:00:00\", \"Origin\": \"USA\"}, {\"Name\": \"hi 1200d\", \"Miles_per_Gallon\": 9.0, \"Cylinders\": 8, \"Displacement\": 304.0, \"Horsepower\": 193.0, \"Weight_in_lbs\": 4732, \"Acceleration\": 18.5, \"Year\": \"1970-01-01T00:00:00\", \"Origin\": \"USA\"}, {\"Name\": \"datsun pl510\", \"Miles_per_Gallon\": 27.0, \"Cylinders\": 4, \"Displacement\": 97.0, \"Horsepower\": 88.0, \"Weight_in_lbs\": 2130, \"Acceleration\": 14.5, \"Year\": \"1971-01-01T00:00:00\", \"Origin\": \"Japan\"}, {\"Name\": \"chevrolet vega 2300\", \"Miles_per_Gallon\": 28.0, \"Cylinders\": 4, \"Displacement\": 140.0, \"Horsepower\": 90.0, \"Weight_in_lbs\": 2264, \"Acceleration\": 15.5, \"Year\": \"1971-01-01T00:00:00\", \"Origin\": \"USA\"}, {\"Name\": \"toyota corona\", \"Miles_per_Gallon\": 25.0, \"Cylinders\": 4, \"Displacement\": 113.0, \"Horsepower\": 95.0, \"Weight_in_lbs\": 2228, \"Acceleration\": 14.0, \"Year\": \"1971-01-01T00:00:00\", \"Origin\": \"Japan\"}, {\"Name\": \"ford pinto\", \"Miles_per_Gallon\": 25.0, \"Cylinders\": 4, \"Displacement\": 98.0, \"Horsepower\": null, \"Weight_in_lbs\": 2046, \"Acceleration\": 19.0, \"Year\": \"1971-01-01T00:00:00\", \"Origin\": \"USA\"}, {\"Name\": \"volkswagen super beetle 117\", \"Miles_per_Gallon\": null, \"Cylinders\": 4, \"Displacement\": 97.0, \"Horsepower\": 48.0, \"Weight_in_lbs\": 1978, \"Acceleration\": 20.0, \"Year\": \"1971-01-01T00:00:00\", \"Origin\": \"Europe\"}, {\"Name\": \"amc gremlin\", \"Miles_per_Gallon\": 19.0, \"Cylinders\": 6, \"Displacement\": 232.0, \"Horsepower\": 100.0, \"Weight_in_lbs\": 2634, \"Acceleration\": 13.0, \"Year\": \"1971-01-01T00:00:00\", \"Origin\": \"USA\"}, {\"Name\": \"plymouth satellite custom\", \"Miles_per_Gallon\": 16.0, \"Cylinders\": 6, \"Displacement\": 225.0, \"Horsepower\": 105.0, \"Weight_in_lbs\": 3439, \"Acceleration\": 15.5, \"Year\": \"1971-01-01T00:00:00\", \"Origin\": \"USA\"}, {\"Name\": \"chevrolet chevelle malibu\", \"Miles_per_Gallon\": 17.0, \"Cylinders\": 6, \"Displacement\": 250.0, \"Horsepower\": 100.0, \"Weight_in_lbs\": 3329, \"Acceleration\": 15.5, \"Year\": \"1971-01-01T00:00:00\", \"Origin\": \"USA\"}, {\"Name\": \"ford torino 500\", \"Miles_per_Gallon\": 19.0, \"Cylinders\": 6, \"Displacement\": 250.0, \"Horsepower\": 88.0, \"Weight_in_lbs\": 3302, \"Acceleration\": 15.5, \"Year\": \"1971-01-01T00:00:00\", \"Origin\": \"USA\"}, {\"Name\": \"amc matador\", \"Miles_per_Gallon\": 18.0, \"Cylinders\": 6, \"Displacement\": 232.0, \"Horsepower\": 100.0, \"Weight_in_lbs\": 3288, \"Acceleration\": 15.5, \"Year\": \"1971-01-01T00:00:00\", \"Origin\": \"USA\"}, {\"Name\": \"chevrolet impala\", \"Miles_per_Gallon\": 14.0, \"Cylinders\": 8, \"Displacement\": 350.0, \"Horsepower\": 165.0, \"Weight_in_lbs\": 4209, \"Acceleration\": 12.0, \"Year\": \"1971-01-01T00:00:00\", \"Origin\": \"USA\"}, {\"Name\": \"pontiac catalina brougham\", \"Miles_per_Gallon\": 14.0, \"Cylinders\": 8, \"Displacement\": 400.0, \"Horsepower\": 175.0, \"Weight_in_lbs\": 4464, \"Acceleration\": 11.5, \"Year\": \"1971-01-01T00:00:00\", \"Origin\": \"USA\"}, {\"Name\": \"ford galaxie 500\", \"Miles_per_Gallon\": 14.0, \"Cylinders\": 8, \"Displacement\": 351.0, \"Horsepower\": 153.0, \"Weight_in_lbs\": 4154, \"Acceleration\": 13.5, \"Year\": \"1971-01-01T00:00:00\", \"Origin\": \"USA\"}, {\"Name\": \"plymouth fury iii\", \"Miles_per_Gallon\": 14.0, \"Cylinders\": 8, \"Displacement\": 318.0, \"Horsepower\": 150.0, \"Weight_in_lbs\": 4096, \"Acceleration\": 13.0, \"Year\": \"1971-01-01T00:00:00\", \"Origin\": \"USA\"}, {\"Name\": \"dodge monaco (sw)\", \"Miles_per_Gallon\": 12.0, \"Cylinders\": 8, \"Displacement\": 383.0, \"Horsepower\": 180.0, \"Weight_in_lbs\": 4955, \"Acceleration\": 11.5, \"Year\": \"1971-01-01T00:00:00\", \"Origin\": \"USA\"}, {\"Name\": \"ford country squire (sw)\", \"Miles_per_Gallon\": 13.0, \"Cylinders\": 8, \"Displacement\": 400.0, \"Horsepower\": 170.0, \"Weight_in_lbs\": 4746, \"Acceleration\": 12.0, \"Year\": \"1971-01-01T00:00:00\", \"Origin\": \"USA\"}, {\"Name\": \"pontiac safari (sw)\", \"Miles_per_Gallon\": 13.0, \"Cylinders\": 8, \"Displacement\": 400.0, \"Horsepower\": 175.0, \"Weight_in_lbs\": 5140, \"Acceleration\": 12.0, \"Year\": \"1971-01-01T00:00:00\", \"Origin\": \"USA\"}, {\"Name\": \"amc hornet sportabout (sw)\", \"Miles_per_Gallon\": 18.0, \"Cylinders\": 6, \"Displacement\": 258.0, \"Horsepower\": 110.0, \"Weight_in_lbs\": 2962, \"Acceleration\": 13.5, \"Year\": \"1971-01-01T00:00:00\", \"Origin\": \"USA\"}, {\"Name\": \"chevrolet vega (sw)\", \"Miles_per_Gallon\": 22.0, \"Cylinders\": 4, \"Displacement\": 140.0, \"Horsepower\": 72.0, \"Weight_in_lbs\": 2408, \"Acceleration\": 19.0, \"Year\": \"1971-01-01T00:00:00\", \"Origin\": \"USA\"}, {\"Name\": \"pontiac firebird\", \"Miles_per_Gallon\": 19.0, \"Cylinders\": 6, \"Displacement\": 250.0, \"Horsepower\": 100.0, \"Weight_in_lbs\": 3282, \"Acceleration\": 15.0, \"Year\": \"1971-01-01T00:00:00\", \"Origin\": \"USA\"}, {\"Name\": \"ford mustang\", \"Miles_per_Gallon\": 18.0, \"Cylinders\": 6, \"Displacement\": 250.0, \"Horsepower\": 88.0, \"Weight_in_lbs\": 3139, \"Acceleration\": 14.5, \"Year\": \"1971-01-01T00:00:00\", \"Origin\": \"USA\"}, {\"Name\": \"mercury capri 2000\", \"Miles_per_Gallon\": 23.0, \"Cylinders\": 4, \"Displacement\": 122.0, \"Horsepower\": 86.0, \"Weight_in_lbs\": 2220, \"Acceleration\": 14.0, \"Year\": \"1971-01-01T00:00:00\", \"Origin\": \"USA\"}, {\"Name\": \"opel 1900\", \"Miles_per_Gallon\": 28.0, \"Cylinders\": 4, \"Displacement\": 116.0, \"Horsepower\": 90.0, \"Weight_in_lbs\": 2123, \"Acceleration\": 14.0, \"Year\": \"1971-01-01T00:00:00\", \"Origin\": \"Europe\"}, {\"Name\": \"peugeot 304\", \"Miles_per_Gallon\": 30.0, \"Cylinders\": 4, \"Displacement\": 79.0, \"Horsepower\": 70.0, \"Weight_in_lbs\": 2074, \"Acceleration\": 19.5, \"Year\": \"1971-01-01T00:00:00\", \"Origin\": \"Europe\"}, {\"Name\": \"fiat 124b\", \"Miles_per_Gallon\": 30.0, \"Cylinders\": 4, \"Displacement\": 88.0, \"Horsepower\": 76.0, \"Weight_in_lbs\": 2065, \"Acceleration\": 14.5, \"Year\": \"1971-01-01T00:00:00\", \"Origin\": \"Europe\"}, {\"Name\": \"toyota corolla 1200\", \"Miles_per_Gallon\": 31.0, \"Cylinders\": 4, \"Displacement\": 71.0, \"Horsepower\": 65.0, \"Weight_in_lbs\": 1773, \"Acceleration\": 19.0, \"Year\": \"1971-01-01T00:00:00\", \"Origin\": \"Japan\"}, {\"Name\": \"datsun 1200\", \"Miles_per_Gallon\": 35.0, \"Cylinders\": 4, \"Displacement\": 72.0, \"Horsepower\": 69.0, \"Weight_in_lbs\": 1613, \"Acceleration\": 18.0, \"Year\": \"1971-01-01T00:00:00\", \"Origin\": \"Japan\"}, {\"Name\": \"volkswagen model 111\", \"Miles_per_Gallon\": 27.0, \"Cylinders\": 4, \"Displacement\": 97.0, \"Horsepower\": 60.0, \"Weight_in_lbs\": 1834, \"Acceleration\": 19.0, \"Year\": \"1971-01-01T00:00:00\", \"Origin\": \"Europe\"}, {\"Name\": \"plymouth cricket\", \"Miles_per_Gallon\": 26.0, \"Cylinders\": 4, \"Displacement\": 91.0, \"Horsepower\": 70.0, \"Weight_in_lbs\": 1955, \"Acceleration\": 20.5, \"Year\": \"1971-01-01T00:00:00\", \"Origin\": \"USA\"}, {\"Name\": \"toyota corona hardtop\", \"Miles_per_Gallon\": 24.0, \"Cylinders\": 4, \"Displacement\": 113.0, \"Horsepower\": 95.0, \"Weight_in_lbs\": 2278, \"Acceleration\": 15.5, \"Year\": \"1972-01-01T00:00:00\", \"Origin\": \"Japan\"}, {\"Name\": \"dodge colt hardtop\", \"Miles_per_Gallon\": 25.0, \"Cylinders\": 4, \"Displacement\": 97.5, \"Horsepower\": 80.0, \"Weight_in_lbs\": 2126, \"Acceleration\": 17.0, \"Year\": \"1972-01-01T00:00:00\", \"Origin\": \"USA\"}, {\"Name\": \"volkswagen type 3\", \"Miles_per_Gallon\": 23.0, \"Cylinders\": 4, \"Displacement\": 97.0, \"Horsepower\": 54.0, \"Weight_in_lbs\": 2254, \"Acceleration\": 23.5, \"Year\": \"1972-01-01T00:00:00\", \"Origin\": \"Europe\"}, {\"Name\": \"chevrolet vega\", \"Miles_per_Gallon\": 20.0, \"Cylinders\": 4, \"Displacement\": 140.0, \"Horsepower\": 90.0, \"Weight_in_lbs\": 2408, \"Acceleration\": 19.5, \"Year\": \"1972-01-01T00:00:00\", \"Origin\": \"USA\"}, {\"Name\": \"ford pinto runabout\", \"Miles_per_Gallon\": 21.0, \"Cylinders\": 4, \"Displacement\": 122.0, \"Horsepower\": 86.0, \"Weight_in_lbs\": 2226, \"Acceleration\": 16.5, \"Year\": \"1972-01-01T00:00:00\", \"Origin\": \"USA\"}, {\"Name\": \"chevrolet impala\", \"Miles_per_Gallon\": 13.0, \"Cylinders\": 8, \"Displacement\": 350.0, \"Horsepower\": 165.0, \"Weight_in_lbs\": 4274, \"Acceleration\": 12.0, \"Year\": \"1972-01-01T00:00:00\", \"Origin\": \"USA\"}, {\"Name\": \"pontiac catalina\", \"Miles_per_Gallon\": 14.0, \"Cylinders\": 8, \"Displacement\": 400.0, \"Horsepower\": 175.0, \"Weight_in_lbs\": 4385, \"Acceleration\": 12.0, \"Year\": \"1972-01-01T00:00:00\", \"Origin\": \"USA\"}, {\"Name\": \"plymouth fury iii\", \"Miles_per_Gallon\": 15.0, \"Cylinders\": 8, \"Displacement\": 318.0, \"Horsepower\": 150.0, \"Weight_in_lbs\": 4135, \"Acceleration\": 13.5, \"Year\": \"1972-01-01T00:00:00\", \"Origin\": \"USA\"}, {\"Name\": \"ford galaxie 500\", \"Miles_per_Gallon\": 14.0, \"Cylinders\": 8, \"Displacement\": 351.0, \"Horsepower\": 153.0, \"Weight_in_lbs\": 4129, \"Acceleration\": 13.0, \"Year\": \"1972-01-01T00:00:00\", \"Origin\": \"USA\"}, {\"Name\": \"amc ambassador sst\", \"Miles_per_Gallon\": 17.0, \"Cylinders\": 8, \"Displacement\": 304.0, \"Horsepower\": 150.0, \"Weight_in_lbs\": 3672, \"Acceleration\": 11.5, \"Year\": \"1972-01-01T00:00:00\", \"Origin\": \"USA\"}, {\"Name\": \"mercury marquis\", \"Miles_per_Gallon\": 11.0, \"Cylinders\": 8, \"Displacement\": 429.0, \"Horsepower\": 208.0, \"Weight_in_lbs\": 4633, \"Acceleration\": 11.0, \"Year\": \"1972-01-01T00:00:00\", \"Origin\": \"USA\"}, {\"Name\": \"buick lesabre custom\", \"Miles_per_Gallon\": 13.0, \"Cylinders\": 8, \"Displacement\": 350.0, \"Horsepower\": 155.0, \"Weight_in_lbs\": 4502, \"Acceleration\": 13.5, \"Year\": \"1972-01-01T00:00:00\", \"Origin\": \"USA\"}, {\"Name\": \"oldsmobile delta 88 royale\", \"Miles_per_Gallon\": 12.0, \"Cylinders\": 8, \"Displacement\": 350.0, \"Horsepower\": 160.0, \"Weight_in_lbs\": 4456, \"Acceleration\": 13.5, \"Year\": \"1972-01-01T00:00:00\", \"Origin\": \"USA\"}, {\"Name\": \"chrysler newport royal\", \"Miles_per_Gallon\": 13.0, \"Cylinders\": 8, \"Displacement\": 400.0, \"Horsepower\": 190.0, \"Weight_in_lbs\": 4422, \"Acceleration\": 12.5, \"Year\": \"1972-01-01T00:00:00\", \"Origin\": \"USA\"}, {\"Name\": \"mazda rx2 coupe\", \"Miles_per_Gallon\": 19.0, \"Cylinders\": 3, \"Displacement\": 70.0, \"Horsepower\": 97.0, \"Weight_in_lbs\": 2330, \"Acceleration\": 13.5, \"Year\": \"1972-01-01T00:00:00\", \"Origin\": \"Japan\"}, {\"Name\": \"amc matador (sw)\", \"Miles_per_Gallon\": 15.0, \"Cylinders\": 8, \"Displacement\": 304.0, \"Horsepower\": 150.0, \"Weight_in_lbs\": 3892, \"Acceleration\": 12.5, \"Year\": \"1972-01-01T00:00:00\", \"Origin\": \"USA\"}, {\"Name\": \"chevrolet chevelle concours (sw)\", \"Miles_per_Gallon\": 13.0, \"Cylinders\": 8, \"Displacement\": 307.0, \"Horsepower\": 130.0, \"Weight_in_lbs\": 4098, \"Acceleration\": 14.0, \"Year\": \"1972-01-01T00:00:00\", \"Origin\": \"USA\"}, {\"Name\": \"ford gran torino (sw)\", \"Miles_per_Gallon\": 13.0, \"Cylinders\": 8, \"Displacement\": 302.0, \"Horsepower\": 140.0, \"Weight_in_lbs\": 4294, \"Acceleration\": 16.0, \"Year\": \"1972-01-01T00:00:00\", \"Origin\": \"USA\"}, {\"Name\": \"plymouth satellite custom (sw)\", \"Miles_per_Gallon\": 14.0, \"Cylinders\": 8, \"Displacement\": 318.0, \"Horsepower\": 150.0, \"Weight_in_lbs\": 4077, \"Acceleration\": 14.0, \"Year\": \"1972-01-01T00:00:00\", \"Origin\": \"USA\"}, {\"Name\": \"volvo 145e (sw)\", \"Miles_per_Gallon\": 18.0, \"Cylinders\": 4, \"Displacement\": 121.0, \"Horsepower\": 112.0, \"Weight_in_lbs\": 2933, \"Acceleration\": 14.5, \"Year\": \"1972-01-01T00:00:00\", \"Origin\": \"Europe\"}, {\"Name\": \"volkswagen 411 (sw)\", \"Miles_per_Gallon\": 22.0, \"Cylinders\": 4, \"Displacement\": 121.0, \"Horsepower\": 76.0, \"Weight_in_lbs\": 2511, \"Acceleration\": 18.0, \"Year\": \"1972-01-01T00:00:00\", \"Origin\": \"Europe\"}, {\"Name\": \"peugeot 504 (sw)\", \"Miles_per_Gallon\": 21.0, \"Cylinders\": 4, \"Displacement\": 120.0, \"Horsepower\": 87.0, \"Weight_in_lbs\": 2979, \"Acceleration\": 19.5, \"Year\": \"1972-01-01T00:00:00\", \"Origin\": \"Europe\"}, {\"Name\": \"renault 12 (sw)\", \"Miles_per_Gallon\": 26.0, \"Cylinders\": 4, \"Displacement\": 96.0, \"Horsepower\": 69.0, \"Weight_in_lbs\": 2189, \"Acceleration\": 18.0, \"Year\": \"1972-01-01T00:00:00\", \"Origin\": \"Europe\"}, {\"Name\": \"ford pinto (sw)\", \"Miles_per_Gallon\": 22.0, \"Cylinders\": 4, \"Displacement\": 122.0, \"Horsepower\": 86.0, \"Weight_in_lbs\": 2395, \"Acceleration\": 16.0, \"Year\": \"1972-01-01T00:00:00\", \"Origin\": \"USA\"}, {\"Name\": \"datsun 510 (sw)\", \"Miles_per_Gallon\": 28.0, \"Cylinders\": 4, \"Displacement\": 97.0, \"Horsepower\": 92.0, \"Weight_in_lbs\": 2288, \"Acceleration\": 17.0, \"Year\": \"1972-01-01T00:00:00\", \"Origin\": \"Japan\"}, {\"Name\": \"toyouta corona mark ii (sw)\", \"Miles_per_Gallon\": 23.0, \"Cylinders\": 4, \"Displacement\": 120.0, \"Horsepower\": 97.0, \"Weight_in_lbs\": 2506, \"Acceleration\": 14.5, \"Year\": \"1972-01-01T00:00:00\", \"Origin\": \"Japan\"}, {\"Name\": \"dodge colt (sw)\", \"Miles_per_Gallon\": 28.0, \"Cylinders\": 4, \"Displacement\": 98.0, \"Horsepower\": 80.0, \"Weight_in_lbs\": 2164, \"Acceleration\": 15.0, \"Year\": \"1972-01-01T00:00:00\", \"Origin\": \"USA\"}, {\"Name\": \"toyota corolla 1600 (sw)\", \"Miles_per_Gallon\": 27.0, \"Cylinders\": 4, \"Displacement\": 97.0, \"Horsepower\": 88.0, \"Weight_in_lbs\": 2100, \"Acceleration\": 16.5, \"Year\": \"1972-01-01T00:00:00\", \"Origin\": \"Japan\"}, {\"Name\": \"buick century 350\", \"Miles_per_Gallon\": 13.0, \"Cylinders\": 8, \"Displacement\": 350.0, \"Horsepower\": 175.0, \"Weight_in_lbs\": 4100, \"Acceleration\": 13.0, \"Year\": \"1973-01-01T00:00:00\", \"Origin\": \"USA\"}, {\"Name\": \"amc matador\", \"Miles_per_Gallon\": 14.0, \"Cylinders\": 8, \"Displacement\": 304.0, \"Horsepower\": 150.0, \"Weight_in_lbs\": 3672, \"Acceleration\": 11.5, \"Year\": \"1973-01-01T00:00:00\", \"Origin\": \"USA\"}, {\"Name\": \"chevrolet malibu\", \"Miles_per_Gallon\": 13.0, \"Cylinders\": 8, \"Displacement\": 350.0, \"Horsepower\": 145.0, \"Weight_in_lbs\": 3988, \"Acceleration\": 13.0, \"Year\": \"1973-01-01T00:00:00\", \"Origin\": \"USA\"}, {\"Name\": \"ford gran torino\", \"Miles_per_Gallon\": 14.0, \"Cylinders\": 8, \"Displacement\": 302.0, \"Horsepower\": 137.0, \"Weight_in_lbs\": 4042, \"Acceleration\": 14.5, \"Year\": \"1973-01-01T00:00:00\", \"Origin\": \"USA\"}, {\"Name\": \"dodge coronet custom\", \"Miles_per_Gallon\": 15.0, \"Cylinders\": 8, \"Displacement\": 318.0, \"Horsepower\": 150.0, \"Weight_in_lbs\": 3777, \"Acceleration\": 12.5, \"Year\": \"1973-01-01T00:00:00\", \"Origin\": \"USA\"}, {\"Name\": \"mercury marquis brougham\", \"Miles_per_Gallon\": 12.0, \"Cylinders\": 8, \"Displacement\": 429.0, \"Horsepower\": 198.0, \"Weight_in_lbs\": 4952, \"Acceleration\": 11.5, \"Year\": \"1973-01-01T00:00:00\", \"Origin\": \"USA\"}, {\"Name\": \"chevrolet caprice classic\", \"Miles_per_Gallon\": 13.0, \"Cylinders\": 8, \"Displacement\": 400.0, \"Horsepower\": 150.0, \"Weight_in_lbs\": 4464, \"Acceleration\": 12.0, \"Year\": \"1973-01-01T00:00:00\", \"Origin\": \"USA\"}, {\"Name\": \"ford ltd\", \"Miles_per_Gallon\": 13.0, \"Cylinders\": 8, \"Displacement\": 351.0, \"Horsepower\": 158.0, \"Weight_in_lbs\": 4363, \"Acceleration\": 13.0, \"Year\": \"1973-01-01T00:00:00\", \"Origin\": \"USA\"}, {\"Name\": \"plymouth fury gran sedan\", \"Miles_per_Gallon\": 14.0, \"Cylinders\": 8, \"Displacement\": 318.0, \"Horsepower\": 150.0, \"Weight_in_lbs\": 4237, \"Acceleration\": 14.5, \"Year\": \"1973-01-01T00:00:00\", \"Origin\": \"USA\"}, {\"Name\": \"chrysler new yorker brougham\", \"Miles_per_Gallon\": 13.0, \"Cylinders\": 8, \"Displacement\": 440.0, \"Horsepower\": 215.0, \"Weight_in_lbs\": 4735, \"Acceleration\": 11.0, \"Year\": \"1973-01-01T00:00:00\", \"Origin\": \"USA\"}, {\"Name\": \"buick electra 225 custom\", \"Miles_per_Gallon\": 12.0, \"Cylinders\": 8, \"Displacement\": 455.0, \"Horsepower\": 225.0, \"Weight_in_lbs\": 4951, \"Acceleration\": 11.0, \"Year\": \"1973-01-01T00:00:00\", \"Origin\": \"USA\"}, {\"Name\": \"amc ambassador brougham\", \"Miles_per_Gallon\": 13.0, \"Cylinders\": 8, \"Displacement\": 360.0, \"Horsepower\": 175.0, \"Weight_in_lbs\": 3821, \"Acceleration\": 11.0, \"Year\": \"1973-01-01T00:00:00\", \"Origin\": \"USA\"}, {\"Name\": \"plymouth valiant\", \"Miles_per_Gallon\": 18.0, \"Cylinders\": 6, \"Displacement\": 225.0, \"Horsepower\": 105.0, \"Weight_in_lbs\": 3121, \"Acceleration\": 16.5, \"Year\": \"1973-01-01T00:00:00\", \"Origin\": \"USA\"}, {\"Name\": \"chevrolet nova custom\", \"Miles_per_Gallon\": 16.0, \"Cylinders\": 6, \"Displacement\": 250.0, \"Horsepower\": 100.0, \"Weight_in_lbs\": 3278, \"Acceleration\": 18.0, \"Year\": \"1973-01-01T00:00:00\", \"Origin\": \"USA\"}, {\"Name\": \"amc hornet\", \"Miles_per_Gallon\": 18.0, \"Cylinders\": 6, \"Displacement\": 232.0, \"Horsepower\": 100.0, \"Weight_in_lbs\": 2945, \"Acceleration\": 16.0, \"Year\": \"1973-01-01T00:00:00\", \"Origin\": \"USA\"}, {\"Name\": \"ford maverick\", \"Miles_per_Gallon\": 18.0, \"Cylinders\": 6, \"Displacement\": 250.0, \"Horsepower\": 88.0, \"Weight_in_lbs\": 3021, \"Acceleration\": 16.5, \"Year\": \"1973-01-01T00:00:00\", \"Origin\": \"USA\"}, {\"Name\": \"plymouth duster\", \"Miles_per_Gallon\": 23.0, \"Cylinders\": 6, \"Displacement\": 198.0, \"Horsepower\": 95.0, \"Weight_in_lbs\": 2904, \"Acceleration\": 16.0, \"Year\": \"1973-01-01T00:00:00\", \"Origin\": \"USA\"}, {\"Name\": \"volkswagen super beetle\", \"Miles_per_Gallon\": 26.0, \"Cylinders\": 4, \"Displacement\": 97.0, \"Horsepower\": 46.0, \"Weight_in_lbs\": 1950, \"Acceleration\": 21.0, \"Year\": \"1973-01-01T00:00:00\", \"Origin\": \"Europe\"}, {\"Name\": \"chevrolet impala\", \"Miles_per_Gallon\": 11.0, \"Cylinders\": 8, \"Displacement\": 400.0, \"Horsepower\": 150.0, \"Weight_in_lbs\": 4997, \"Acceleration\": 14.0, \"Year\": \"1973-01-01T00:00:00\", \"Origin\": \"USA\"}, {\"Name\": \"ford country\", \"Miles_per_Gallon\": 12.0, \"Cylinders\": 8, \"Displacement\": 400.0, \"Horsepower\": 167.0, \"Weight_in_lbs\": 4906, \"Acceleration\": 12.5, \"Year\": \"1973-01-01T00:00:00\", \"Origin\": \"USA\"}, {\"Name\": \"plymouth custom suburb\", \"Miles_per_Gallon\": 13.0, \"Cylinders\": 8, \"Displacement\": 360.0, \"Horsepower\": 170.0, \"Weight_in_lbs\": 4654, \"Acceleration\": 13.0, \"Year\": \"1973-01-01T00:00:00\", \"Origin\": \"USA\"}, {\"Name\": \"oldsmobile vista cruiser\", \"Miles_per_Gallon\": 12.0, \"Cylinders\": 8, \"Displacement\": 350.0, \"Horsepower\": 180.0, \"Weight_in_lbs\": 4499, \"Acceleration\": 12.5, \"Year\": \"1973-01-01T00:00:00\", \"Origin\": \"USA\"}, {\"Name\": \"amc gremlin\", \"Miles_per_Gallon\": 18.0, \"Cylinders\": 6, \"Displacement\": 232.0, \"Horsepower\": 100.0, \"Weight_in_lbs\": 2789, \"Acceleration\": 15.0, \"Year\": \"1973-01-01T00:00:00\", \"Origin\": \"USA\"}, {\"Name\": \"toyota carina\", \"Miles_per_Gallon\": 20.0, \"Cylinders\": 4, \"Displacement\": 97.0, \"Horsepower\": 88.0, \"Weight_in_lbs\": 2279, \"Acceleration\": 19.0, \"Year\": \"1973-01-01T00:00:00\", \"Origin\": \"Japan\"}, {\"Name\": \"chevrolet vega\", \"Miles_per_Gallon\": 21.0, \"Cylinders\": 4, \"Displacement\": 140.0, \"Horsepower\": 72.0, \"Weight_in_lbs\": 2401, \"Acceleration\": 19.5, \"Year\": \"1973-01-01T00:00:00\", \"Origin\": \"USA\"}, {\"Name\": \"datsun 610\", \"Miles_per_Gallon\": 22.0, \"Cylinders\": 4, \"Displacement\": 108.0, \"Horsepower\": 94.0, \"Weight_in_lbs\": 2379, \"Acceleration\": 16.5, \"Year\": \"1973-01-01T00:00:00\", \"Origin\": \"Japan\"}, {\"Name\": \"maxda rx3\", \"Miles_per_Gallon\": 18.0, \"Cylinders\": 3, \"Displacement\": 70.0, \"Horsepower\": 90.0, \"Weight_in_lbs\": 2124, \"Acceleration\": 13.5, \"Year\": \"1973-01-01T00:00:00\", \"Origin\": \"Japan\"}, {\"Name\": \"ford pinto\", \"Miles_per_Gallon\": 19.0, \"Cylinders\": 4, \"Displacement\": 122.0, \"Horsepower\": 85.0, \"Weight_in_lbs\": 2310, \"Acceleration\": 18.5, \"Year\": \"1973-01-01T00:00:00\", \"Origin\": \"USA\"}, {\"Name\": \"mercury capri v6\", \"Miles_per_Gallon\": 21.0, \"Cylinders\": 6, \"Displacement\": 155.0, \"Horsepower\": 107.0, \"Weight_in_lbs\": 2472, \"Acceleration\": 14.0, \"Year\": \"1973-01-01T00:00:00\", \"Origin\": \"USA\"}, {\"Name\": \"fiat 124 sport coupe\", \"Miles_per_Gallon\": 26.0, \"Cylinders\": 4, \"Displacement\": 98.0, \"Horsepower\": 90.0, \"Weight_in_lbs\": 2265, \"Acceleration\": 15.5, \"Year\": \"1973-01-01T00:00:00\", \"Origin\": \"Europe\"}, {\"Name\": \"chevrolet monte carlo s\", \"Miles_per_Gallon\": 15.0, \"Cylinders\": 8, \"Displacement\": 350.0, \"Horsepower\": 145.0, \"Weight_in_lbs\": 4082, \"Acceleration\": 13.0, \"Year\": \"1973-01-01T00:00:00\", \"Origin\": \"USA\"}, {\"Name\": \"pontiac grand prix\", \"Miles_per_Gallon\": 16.0, \"Cylinders\": 8, \"Displacement\": 400.0, \"Horsepower\": 230.0, \"Weight_in_lbs\": 4278, \"Acceleration\": 9.5, \"Year\": \"1973-01-01T00:00:00\", \"Origin\": \"USA\"}, {\"Name\": \"fiat 128\", \"Miles_per_Gallon\": 29.0, \"Cylinders\": 4, \"Displacement\": 68.0, \"Horsepower\": 49.0, \"Weight_in_lbs\": 1867, \"Acceleration\": 19.5, \"Year\": \"1973-01-01T00:00:00\", \"Origin\": \"Europe\"}, {\"Name\": \"opel manta\", \"Miles_per_Gallon\": 24.0, \"Cylinders\": 4, \"Displacement\": 116.0, \"Horsepower\": 75.0, \"Weight_in_lbs\": 2158, \"Acceleration\": 15.5, \"Year\": \"1973-01-01T00:00:00\", \"Origin\": \"Europe\"}, {\"Name\": \"audi 100ls\", \"Miles_per_Gallon\": 20.0, \"Cylinders\": 4, \"Displacement\": 114.0, \"Horsepower\": 91.0, \"Weight_in_lbs\": 2582, \"Acceleration\": 14.0, \"Year\": \"1973-01-01T00:00:00\", \"Origin\": \"Europe\"}, {\"Name\": \"volvo 144ea\", \"Miles_per_Gallon\": 19.0, \"Cylinders\": 4, \"Displacement\": 121.0, \"Horsepower\": 112.0, \"Weight_in_lbs\": 2868, \"Acceleration\": 15.5, \"Year\": \"1973-01-01T00:00:00\", \"Origin\": \"Europe\"}, {\"Name\": \"dodge dart custom\", \"Miles_per_Gallon\": 15.0, \"Cylinders\": 8, \"Displacement\": 318.0, \"Horsepower\": 150.0, \"Weight_in_lbs\": 3399, \"Acceleration\": 11.0, \"Year\": \"1973-01-01T00:00:00\", \"Origin\": \"USA\"}, {\"Name\": \"saab 99le\", \"Miles_per_Gallon\": 24.0, \"Cylinders\": 4, \"Displacement\": 121.0, \"Horsepower\": 110.0, \"Weight_in_lbs\": 2660, \"Acceleration\": 14.0, \"Year\": \"1973-01-01T00:00:00\", \"Origin\": \"Europe\"}, {\"Name\": \"toyota mark ii\", \"Miles_per_Gallon\": 20.0, \"Cylinders\": 6, \"Displacement\": 156.0, \"Horsepower\": 122.0, \"Weight_in_lbs\": 2807, \"Acceleration\": 13.5, \"Year\": \"1973-01-01T00:00:00\", \"Origin\": \"Japan\"}, {\"Name\": \"oldsmobile omega\", \"Miles_per_Gallon\": 11.0, \"Cylinders\": 8, \"Displacement\": 350.0, \"Horsepower\": 180.0, \"Weight_in_lbs\": 3664, \"Acceleration\": 11.0, \"Year\": \"1973-01-01T00:00:00\", \"Origin\": \"USA\"}, {\"Name\": \"plymouth duster\", \"Miles_per_Gallon\": 20.0, \"Cylinders\": 6, \"Displacement\": 198.0, \"Horsepower\": 95.0, \"Weight_in_lbs\": 3102, \"Acceleration\": 16.5, \"Year\": \"1974-01-01T00:00:00\", \"Origin\": \"USA\"}, {\"Name\": \"ford maverick\", \"Miles_per_Gallon\": 21.0, \"Cylinders\": 6, \"Displacement\": 200.0, \"Horsepower\": null, \"Weight_in_lbs\": 2875, \"Acceleration\": 17.0, \"Year\": \"1974-01-01T00:00:00\", \"Origin\": \"USA\"}, {\"Name\": \"amc hornet\", \"Miles_per_Gallon\": 19.0, \"Cylinders\": 6, \"Displacement\": 232.0, \"Horsepower\": 100.0, \"Weight_in_lbs\": 2901, \"Acceleration\": 16.0, \"Year\": \"1974-01-01T00:00:00\", \"Origin\": \"USA\"}, {\"Name\": \"chevrolet nova\", \"Miles_per_Gallon\": 15.0, \"Cylinders\": 6, \"Displacement\": 250.0, \"Horsepower\": 100.0, \"Weight_in_lbs\": 3336, \"Acceleration\": 17.0, \"Year\": \"1974-01-01T00:00:00\", \"Origin\": \"USA\"}, {\"Name\": \"datsun b210\", \"Miles_per_Gallon\": 31.0, \"Cylinders\": 4, \"Displacement\": 79.0, \"Horsepower\": 67.0, \"Weight_in_lbs\": 1950, \"Acceleration\": 19.0, \"Year\": \"1974-01-01T00:00:00\", \"Origin\": \"Japan\"}, {\"Name\": \"ford pinto\", \"Miles_per_Gallon\": 26.0, \"Cylinders\": 4, \"Displacement\": 122.0, \"Horsepower\": 80.0, \"Weight_in_lbs\": 2451, \"Acceleration\": 16.5, \"Year\": \"1974-01-01T00:00:00\", \"Origin\": \"USA\"}, {\"Name\": \"toyota corolla 1200\", \"Miles_per_Gallon\": 32.0, \"Cylinders\": 4, \"Displacement\": 71.0, \"Horsepower\": 65.0, \"Weight_in_lbs\": 1836, \"Acceleration\": 21.0, \"Year\": \"1974-01-01T00:00:00\", \"Origin\": \"Japan\"}, {\"Name\": \"chevrolet vega\", \"Miles_per_Gallon\": 25.0, \"Cylinders\": 4, \"Displacement\": 140.0, \"Horsepower\": 75.0, \"Weight_in_lbs\": 2542, \"Acceleration\": 17.0, \"Year\": \"1974-01-01T00:00:00\", \"Origin\": \"USA\"}, {\"Name\": \"chevrolet chevelle malibu classic\", \"Miles_per_Gallon\": 16.0, \"Cylinders\": 6, \"Displacement\": 250.0, \"Horsepower\": 100.0, \"Weight_in_lbs\": 3781, \"Acceleration\": 17.0, \"Year\": \"1974-01-01T00:00:00\", \"Origin\": \"USA\"}, {\"Name\": \"amc matador\", \"Miles_per_Gallon\": 16.0, \"Cylinders\": 6, \"Displacement\": 258.0, \"Horsepower\": 110.0, \"Weight_in_lbs\": 3632, \"Acceleration\": 18.0, \"Year\": \"1974-01-01T00:00:00\", \"Origin\": \"USA\"}, {\"Name\": \"plymouth satellite sebring\", \"Miles_per_Gallon\": 18.0, \"Cylinders\": 6, \"Displacement\": 225.0, \"Horsepower\": 105.0, \"Weight_in_lbs\": 3613, \"Acceleration\": 16.5, \"Year\": \"1974-01-01T00:00:00\", \"Origin\": \"USA\"}, {\"Name\": \"ford gran torino\", \"Miles_per_Gallon\": 16.0, \"Cylinders\": 8, \"Displacement\": 302.0, \"Horsepower\": 140.0, \"Weight_in_lbs\": 4141, \"Acceleration\": 14.0, \"Year\": \"1974-01-01T00:00:00\", \"Origin\": \"USA\"}, {\"Name\": \"buick century luxus (sw)\", \"Miles_per_Gallon\": 13.0, \"Cylinders\": 8, \"Displacement\": 350.0, \"Horsepower\": 150.0, \"Weight_in_lbs\": 4699, \"Acceleration\": 14.5, \"Year\": \"1974-01-01T00:00:00\", \"Origin\": \"USA\"}, {\"Name\": \"dodge coronet custom (sw)\", \"Miles_per_Gallon\": 14.0, \"Cylinders\": 8, \"Displacement\": 318.0, \"Horsepower\": 150.0, \"Weight_in_lbs\": 4457, \"Acceleration\": 13.5, \"Year\": \"1974-01-01T00:00:00\", \"Origin\": \"USA\"}, {\"Name\": \"ford gran torino (sw)\", \"Miles_per_Gallon\": 14.0, \"Cylinders\": 8, \"Displacement\": 302.0, \"Horsepower\": 140.0, \"Weight_in_lbs\": 4638, \"Acceleration\": 16.0, \"Year\": \"1974-01-01T00:00:00\", \"Origin\": \"USA\"}, {\"Name\": \"amc matador (sw)\", \"Miles_per_Gallon\": 14.0, \"Cylinders\": 8, \"Displacement\": 304.0, \"Horsepower\": 150.0, \"Weight_in_lbs\": 4257, \"Acceleration\": 15.5, \"Year\": \"1974-01-01T00:00:00\", \"Origin\": \"USA\"}, {\"Name\": \"audi fox\", \"Miles_per_Gallon\": 29.0, \"Cylinders\": 4, \"Displacement\": 98.0, \"Horsepower\": 83.0, \"Weight_in_lbs\": 2219, \"Acceleration\": 16.5, \"Year\": \"1974-01-01T00:00:00\", \"Origin\": \"Europe\"}, {\"Name\": \"volkswagen dasher\", \"Miles_per_Gallon\": 26.0, \"Cylinders\": 4, \"Displacement\": 79.0, \"Horsepower\": 67.0, \"Weight_in_lbs\": 1963, \"Acceleration\": 15.5, \"Year\": \"1974-01-01T00:00:00\", \"Origin\": \"Europe\"}, {\"Name\": \"opel manta\", \"Miles_per_Gallon\": 26.0, \"Cylinders\": 4, \"Displacement\": 97.0, \"Horsepower\": 78.0, \"Weight_in_lbs\": 2300, \"Acceleration\": 14.5, \"Year\": \"1974-01-01T00:00:00\", \"Origin\": \"Europe\"}, {\"Name\": \"toyota corona\", \"Miles_per_Gallon\": 31.0, \"Cylinders\": 4, \"Displacement\": 76.0, \"Horsepower\": 52.0, \"Weight_in_lbs\": 1649, \"Acceleration\": 16.5, \"Year\": \"1974-01-01T00:00:00\", \"Origin\": \"Japan\"}, {\"Name\": \"datsun 710\", \"Miles_per_Gallon\": 32.0, \"Cylinders\": 4, \"Displacement\": 83.0, \"Horsepower\": 61.0, \"Weight_in_lbs\": 2003, \"Acceleration\": 19.0, \"Year\": \"1974-01-01T00:00:00\", \"Origin\": \"Japan\"}, {\"Name\": \"dodge colt\", \"Miles_per_Gallon\": 28.0, \"Cylinders\": 4, \"Displacement\": 90.0, \"Horsepower\": 75.0, \"Weight_in_lbs\": 2125, \"Acceleration\": 14.5, \"Year\": \"1974-01-01T00:00:00\", \"Origin\": \"USA\"}, {\"Name\": \"fiat 128\", \"Miles_per_Gallon\": 24.0, \"Cylinders\": 4, \"Displacement\": 90.0, \"Horsepower\": 75.0, \"Weight_in_lbs\": 2108, \"Acceleration\": 15.5, \"Year\": \"1974-01-01T00:00:00\", \"Origin\": \"Europe\"}, {\"Name\": \"fiat 124 tc\", \"Miles_per_Gallon\": 26.0, \"Cylinders\": 4, \"Displacement\": 116.0, \"Horsepower\": 75.0, \"Weight_in_lbs\": 2246, \"Acceleration\": 14.0, \"Year\": \"1974-01-01T00:00:00\", \"Origin\": \"Europe\"}, {\"Name\": \"honda civic\", \"Miles_per_Gallon\": 24.0, \"Cylinders\": 4, \"Displacement\": 120.0, \"Horsepower\": 97.0, \"Weight_in_lbs\": 2489, \"Acceleration\": 15.0, \"Year\": \"1974-01-01T00:00:00\", \"Origin\": \"Japan\"}, {\"Name\": \"subaru\", \"Miles_per_Gallon\": 26.0, \"Cylinders\": 4, \"Displacement\": 108.0, \"Horsepower\": 93.0, \"Weight_in_lbs\": 2391, \"Acceleration\": 15.5, \"Year\": \"1974-01-01T00:00:00\", \"Origin\": \"Japan\"}, {\"Name\": \"fiat x1.9\", \"Miles_per_Gallon\": 31.0, \"Cylinders\": 4, \"Displacement\": 79.0, \"Horsepower\": 67.0, \"Weight_in_lbs\": 2000, \"Acceleration\": 16.0, \"Year\": \"1974-01-01T00:00:00\", \"Origin\": \"Europe\"}, {\"Name\": \"plymouth valiant custom\", \"Miles_per_Gallon\": 19.0, \"Cylinders\": 6, \"Displacement\": 225.0, \"Horsepower\": 95.0, \"Weight_in_lbs\": 3264, \"Acceleration\": 16.0, \"Year\": \"1975-01-01T00:00:00\", \"Origin\": \"USA\"}, {\"Name\": \"chevrolet nova\", \"Miles_per_Gallon\": 18.0, \"Cylinders\": 6, \"Displacement\": 250.0, \"Horsepower\": 105.0, \"Weight_in_lbs\": 3459, \"Acceleration\": 16.0, \"Year\": \"1975-01-01T00:00:00\", \"Origin\": \"USA\"}, {\"Name\": \"mercury monarch\", \"Miles_per_Gallon\": 15.0, \"Cylinders\": 6, \"Displacement\": 250.0, \"Horsepower\": 72.0, \"Weight_in_lbs\": 3432, \"Acceleration\": 21.0, \"Year\": \"1975-01-01T00:00:00\", \"Origin\": \"USA\"}, {\"Name\": \"ford maverick\", \"Miles_per_Gallon\": 15.0, \"Cylinders\": 6, \"Displacement\": 250.0, \"Horsepower\": 72.0, \"Weight_in_lbs\": 3158, \"Acceleration\": 19.5, \"Year\": \"1975-01-01T00:00:00\", \"Origin\": \"USA\"}, {\"Name\": \"pontiac catalina\", \"Miles_per_Gallon\": 16.0, \"Cylinders\": 8, \"Displacement\": 400.0, \"Horsepower\": 170.0, \"Weight_in_lbs\": 4668, \"Acceleration\": 11.5, \"Year\": \"1975-01-01T00:00:00\", \"Origin\": \"USA\"}, {\"Name\": \"chevrolet bel air\", \"Miles_per_Gallon\": 15.0, \"Cylinders\": 8, \"Displacement\": 350.0, \"Horsepower\": 145.0, \"Weight_in_lbs\": 4440, \"Acceleration\": 14.0, \"Year\": \"1975-01-01T00:00:00\", \"Origin\": \"USA\"}, {\"Name\": \"plymouth grand fury\", \"Miles_per_Gallon\": 16.0, \"Cylinders\": 8, \"Displacement\": 318.0, \"Horsepower\": 150.0, \"Weight_in_lbs\": 4498, \"Acceleration\": 14.5, \"Year\": \"1975-01-01T00:00:00\", \"Origin\": \"USA\"}, {\"Name\": \"ford ltd\", \"Miles_per_Gallon\": 14.0, \"Cylinders\": 8, \"Displacement\": 351.0, \"Horsepower\": 148.0, \"Weight_in_lbs\": 4657, \"Acceleration\": 13.5, \"Year\": \"1975-01-01T00:00:00\", \"Origin\": \"USA\"}, {\"Name\": \"buick century\", \"Miles_per_Gallon\": 17.0, \"Cylinders\": 6, \"Displacement\": 231.0, \"Horsepower\": 110.0, \"Weight_in_lbs\": 3907, \"Acceleration\": 21.0, \"Year\": \"1975-01-01T00:00:00\", \"Origin\": \"USA\"}, {\"Name\": \"chevroelt chevelle malibu\", \"Miles_per_Gallon\": 16.0, \"Cylinders\": 6, \"Displacement\": 250.0, \"Horsepower\": 105.0, \"Weight_in_lbs\": 3897, \"Acceleration\": 18.5, \"Year\": \"1975-01-01T00:00:00\", \"Origin\": \"USA\"}, {\"Name\": \"amc matador\", \"Miles_per_Gallon\": 15.0, \"Cylinders\": 6, \"Displacement\": 258.0, \"Horsepower\": 110.0, \"Weight_in_lbs\": 3730, \"Acceleration\": 19.0, \"Year\": \"1975-01-01T00:00:00\", \"Origin\": \"USA\"}, {\"Name\": \"plymouth fury\", \"Miles_per_Gallon\": 18.0, \"Cylinders\": 6, \"Displacement\": 225.0, \"Horsepower\": 95.0, \"Weight_in_lbs\": 3785, \"Acceleration\": 19.0, \"Year\": \"1975-01-01T00:00:00\", \"Origin\": \"USA\"}, {\"Name\": \"buick skyhawk\", \"Miles_per_Gallon\": 21.0, \"Cylinders\": 6, \"Displacement\": 231.0, \"Horsepower\": 110.0, \"Weight_in_lbs\": 3039, \"Acceleration\": 15.0, \"Year\": \"1975-01-01T00:00:00\", \"Origin\": \"USA\"}, {\"Name\": \"chevrolet monza 2+2\", \"Miles_per_Gallon\": 20.0, \"Cylinders\": 8, \"Displacement\": 262.0, \"Horsepower\": 110.0, \"Weight_in_lbs\": 3221, \"Acceleration\": 13.5, \"Year\": \"1975-01-01T00:00:00\", \"Origin\": \"USA\"}, {\"Name\": \"ford mustang ii\", \"Miles_per_Gallon\": 13.0, \"Cylinders\": 8, \"Displacement\": 302.0, \"Horsepower\": 129.0, \"Weight_in_lbs\": 3169, \"Acceleration\": 12.0, \"Year\": \"1975-01-01T00:00:00\", \"Origin\": \"USA\"}, {\"Name\": \"toyota corolla\", \"Miles_per_Gallon\": 29.0, \"Cylinders\": 4, \"Displacement\": 97.0, \"Horsepower\": 75.0, \"Weight_in_lbs\": 2171, \"Acceleration\": 16.0, \"Year\": \"1975-01-01T00:00:00\", \"Origin\": \"Japan\"}, {\"Name\": \"ford pinto\", \"Miles_per_Gallon\": 23.0, \"Cylinders\": 4, \"Displacement\": 140.0, \"Horsepower\": 83.0, \"Weight_in_lbs\": 2639, \"Acceleration\": 17.0, \"Year\": \"1975-01-01T00:00:00\", \"Origin\": \"USA\"}, {\"Name\": \"amc gremlin\", \"Miles_per_Gallon\": 20.0, \"Cylinders\": 6, \"Displacement\": 232.0, \"Horsepower\": 100.0, \"Weight_in_lbs\": 2914, \"Acceleration\": 16.0, \"Year\": \"1975-01-01T00:00:00\", \"Origin\": \"USA\"}, {\"Name\": \"pontiac astro\", \"Miles_per_Gallon\": 23.0, \"Cylinders\": 4, \"Displacement\": 140.0, \"Horsepower\": 78.0, \"Weight_in_lbs\": 2592, \"Acceleration\": 18.5, \"Year\": \"1975-01-01T00:00:00\", \"Origin\": \"USA\"}, {\"Name\": \"toyota corona\", \"Miles_per_Gallon\": 24.0, \"Cylinders\": 4, \"Displacement\": 134.0, \"Horsepower\": 96.0, \"Weight_in_lbs\": 2702, \"Acceleration\": 13.5, \"Year\": \"1975-01-01T00:00:00\", \"Origin\": \"Japan\"}, {\"Name\": \"volkswagen dasher\", \"Miles_per_Gallon\": 25.0, \"Cylinders\": 4, \"Displacement\": 90.0, \"Horsepower\": 71.0, \"Weight_in_lbs\": 2223, \"Acceleration\": 16.5, \"Year\": \"1975-01-01T00:00:00\", \"Origin\": \"Europe\"}, {\"Name\": \"datsun 710\", \"Miles_per_Gallon\": 24.0, \"Cylinders\": 4, \"Displacement\": 119.0, \"Horsepower\": 97.0, \"Weight_in_lbs\": 2545, \"Acceleration\": 17.0, \"Year\": \"1975-01-01T00:00:00\", \"Origin\": \"Japan\"}, {\"Name\": \"ford pinto\", \"Miles_per_Gallon\": 18.0, \"Cylinders\": 6, \"Displacement\": 171.0, \"Horsepower\": 97.0, \"Weight_in_lbs\": 2984, \"Acceleration\": 14.5, \"Year\": \"1975-01-01T00:00:00\", \"Origin\": \"USA\"}, {\"Name\": \"volkswagen rabbit\", \"Miles_per_Gallon\": 29.0, \"Cylinders\": 4, \"Displacement\": 90.0, \"Horsepower\": 70.0, \"Weight_in_lbs\": 1937, \"Acceleration\": 14.0, \"Year\": \"1975-01-01T00:00:00\", \"Origin\": \"Europe\"}, {\"Name\": \"amc pacer\", \"Miles_per_Gallon\": 19.0, \"Cylinders\": 6, \"Displacement\": 232.0, \"Horsepower\": 90.0, \"Weight_in_lbs\": 3211, \"Acceleration\": 17.0, \"Year\": \"1975-01-01T00:00:00\", \"Origin\": \"USA\"}, {\"Name\": \"audi 100ls\", \"Miles_per_Gallon\": 23.0, \"Cylinders\": 4, \"Displacement\": 115.0, \"Horsepower\": 95.0, \"Weight_in_lbs\": 2694, \"Acceleration\": 15.0, \"Year\": \"1975-01-01T00:00:00\", \"Origin\": \"Europe\"}, {\"Name\": \"peugeot 504\", \"Miles_per_Gallon\": 23.0, \"Cylinders\": 4, \"Displacement\": 120.0, \"Horsepower\": 88.0, \"Weight_in_lbs\": 2957, \"Acceleration\": 17.0, \"Year\": \"1975-01-01T00:00:00\", \"Origin\": \"Europe\"}, {\"Name\": \"volvo 244dl\", \"Miles_per_Gallon\": 22.0, \"Cylinders\": 4, \"Displacement\": 121.0, \"Horsepower\": 98.0, \"Weight_in_lbs\": 2945, \"Acceleration\": 14.5, \"Year\": \"1975-01-01T00:00:00\", \"Origin\": \"Europe\"}, {\"Name\": \"saab 99le\", \"Miles_per_Gallon\": 25.0, \"Cylinders\": 4, \"Displacement\": 121.0, \"Horsepower\": 115.0, \"Weight_in_lbs\": 2671, \"Acceleration\": 13.5, \"Year\": \"1975-01-01T00:00:00\", \"Origin\": \"Europe\"}, {\"Name\": \"honda civic cvcc\", \"Miles_per_Gallon\": 33.0, \"Cylinders\": 4, \"Displacement\": 91.0, \"Horsepower\": 53.0, \"Weight_in_lbs\": 1795, \"Acceleration\": 17.5, \"Year\": \"1975-01-01T00:00:00\", \"Origin\": \"Japan\"}, {\"Name\": \"fiat 131\", \"Miles_per_Gallon\": 28.0, \"Cylinders\": 4, \"Displacement\": 107.0, \"Horsepower\": 86.0, \"Weight_in_lbs\": 2464, \"Acceleration\": 15.5, \"Year\": \"1976-01-01T00:00:00\", \"Origin\": \"Europe\"}, {\"Name\": \"opel 1900\", \"Miles_per_Gallon\": 25.0, \"Cylinders\": 4, \"Displacement\": 116.0, \"Horsepower\": 81.0, \"Weight_in_lbs\": 2220, \"Acceleration\": 16.9, \"Year\": \"1976-01-01T00:00:00\", \"Origin\": \"Europe\"}, {\"Name\": \"capri ii\", \"Miles_per_Gallon\": 25.0, \"Cylinders\": 4, \"Displacement\": 140.0, \"Horsepower\": 92.0, \"Weight_in_lbs\": 2572, \"Acceleration\": 14.9, \"Year\": \"1976-01-01T00:00:00\", \"Origin\": \"USA\"}, {\"Name\": \"dodge colt\", \"Miles_per_Gallon\": 26.0, \"Cylinders\": 4, \"Displacement\": 98.0, \"Horsepower\": 79.0, \"Weight_in_lbs\": 2255, \"Acceleration\": 17.7, \"Year\": \"1976-01-01T00:00:00\", \"Origin\": \"USA\"}, {\"Name\": \"renault 12tl\", \"Miles_per_Gallon\": 27.0, \"Cylinders\": 4, \"Displacement\": 101.0, \"Horsepower\": 83.0, \"Weight_in_lbs\": 2202, \"Acceleration\": 15.3, \"Year\": \"1976-01-01T00:00:00\", \"Origin\": \"Europe\"}, {\"Name\": \"chevrolet chevelle malibu classic\", \"Miles_per_Gallon\": 17.5, \"Cylinders\": 8, \"Displacement\": 305.0, \"Horsepower\": 140.0, \"Weight_in_lbs\": 4215, \"Acceleration\": 13.0, \"Year\": \"1976-01-01T00:00:00\", \"Origin\": \"USA\"}, {\"Name\": \"dodge coronet brougham\", \"Miles_per_Gallon\": 16.0, \"Cylinders\": 8, \"Displacement\": 318.0, \"Horsepower\": 150.0, \"Weight_in_lbs\": 4190, \"Acceleration\": 13.0, \"Year\": \"1976-01-01T00:00:00\", \"Origin\": \"USA\"}, {\"Name\": \"amc matador\", \"Miles_per_Gallon\": 15.5, \"Cylinders\": 8, \"Displacement\": 304.0, \"Horsepower\": 120.0, \"Weight_in_lbs\": 3962, \"Acceleration\": 13.9, \"Year\": \"1976-01-01T00:00:00\", \"Origin\": \"USA\"}, {\"Name\": \"ford gran torino\", \"Miles_per_Gallon\": 14.5, \"Cylinders\": 8, \"Displacement\": 351.0, \"Horsepower\": 152.0, \"Weight_in_lbs\": 4215, \"Acceleration\": 12.8, \"Year\": \"1976-01-01T00:00:00\", \"Origin\": \"USA\"}, {\"Name\": \"plymouth valiant\", \"Miles_per_Gallon\": 22.0, \"Cylinders\": 6, \"Displacement\": 225.0, \"Horsepower\": 100.0, \"Weight_in_lbs\": 3233, \"Acceleration\": 15.4, \"Year\": \"1976-01-01T00:00:00\", \"Origin\": \"USA\"}, {\"Name\": \"chevrolet nova\", \"Miles_per_Gallon\": 22.0, \"Cylinders\": 6, \"Displacement\": 250.0, \"Horsepower\": 105.0, \"Weight_in_lbs\": 3353, \"Acceleration\": 14.5, \"Year\": \"1976-01-01T00:00:00\", \"Origin\": \"USA\"}, {\"Name\": \"ford maverick\", \"Miles_per_Gallon\": 24.0, \"Cylinders\": 6, \"Displacement\": 200.0, \"Horsepower\": 81.0, \"Weight_in_lbs\": 3012, \"Acceleration\": 17.6, \"Year\": \"1976-01-01T00:00:00\", \"Origin\": \"USA\"}, {\"Name\": \"amc hornet\", \"Miles_per_Gallon\": 22.5, \"Cylinders\": 6, \"Displacement\": 232.0, \"Horsepower\": 90.0, \"Weight_in_lbs\": 3085, \"Acceleration\": 17.6, \"Year\": \"1976-01-01T00:00:00\", \"Origin\": \"USA\"}, {\"Name\": \"chevrolet chevette\", \"Miles_per_Gallon\": 29.0, \"Cylinders\": 4, \"Displacement\": 85.0, \"Horsepower\": 52.0, \"Weight_in_lbs\": 2035, \"Acceleration\": 22.2, \"Year\": \"1976-01-01T00:00:00\", \"Origin\": \"USA\"}, {\"Name\": \"chevrolet woody\", \"Miles_per_Gallon\": 24.5, \"Cylinders\": 4, \"Displacement\": 98.0, \"Horsepower\": 60.0, \"Weight_in_lbs\": 2164, \"Acceleration\": 22.1, \"Year\": \"1976-01-01T00:00:00\", \"Origin\": \"USA\"}, {\"Name\": \"vw rabbit\", \"Miles_per_Gallon\": 29.0, \"Cylinders\": 4, \"Displacement\": 90.0, \"Horsepower\": 70.0, \"Weight_in_lbs\": 1937, \"Acceleration\": 14.2, \"Year\": \"1976-01-01T00:00:00\", \"Origin\": \"Europe\"}, {\"Name\": \"honda civic\", \"Miles_per_Gallon\": 33.0, \"Cylinders\": 4, \"Displacement\": 91.0, \"Horsepower\": 53.0, \"Weight_in_lbs\": 1795, \"Acceleration\": 17.4, \"Year\": \"1976-01-01T00:00:00\", \"Origin\": \"Japan\"}, {\"Name\": \"dodge aspen se\", \"Miles_per_Gallon\": 20.0, \"Cylinders\": 6, \"Displacement\": 225.0, \"Horsepower\": 100.0, \"Weight_in_lbs\": 3651, \"Acceleration\": 17.7, \"Year\": \"1976-01-01T00:00:00\", \"Origin\": \"USA\"}, {\"Name\": \"ford granada ghia\", \"Miles_per_Gallon\": 18.0, \"Cylinders\": 6, \"Displacement\": 250.0, \"Horsepower\": 78.0, \"Weight_in_lbs\": 3574, \"Acceleration\": 21.0, \"Year\": \"1976-01-01T00:00:00\", \"Origin\": \"USA\"}, {\"Name\": \"pontiac ventura sj\", \"Miles_per_Gallon\": 18.5, \"Cylinders\": 6, \"Displacement\": 250.0, \"Horsepower\": 110.0, \"Weight_in_lbs\": 3645, \"Acceleration\": 16.2, \"Year\": \"1976-01-01T00:00:00\", \"Origin\": \"USA\"}, {\"Name\": \"amc pacer d/l\", \"Miles_per_Gallon\": 17.5, \"Cylinders\": 6, \"Displacement\": 258.0, \"Horsepower\": 95.0, \"Weight_in_lbs\": 3193, \"Acceleration\": 17.8, \"Year\": \"1976-01-01T00:00:00\", \"Origin\": \"USA\"}, {\"Name\": \"volkswagen rabbit\", \"Miles_per_Gallon\": 29.5, \"Cylinders\": 4, \"Displacement\": 97.0, \"Horsepower\": 71.0, \"Weight_in_lbs\": 1825, \"Acceleration\": 12.2, \"Year\": \"1976-01-01T00:00:00\", \"Origin\": \"Europe\"}, {\"Name\": \"datsun b-210\", \"Miles_per_Gallon\": 32.0, \"Cylinders\": 4, \"Displacement\": 85.0, \"Horsepower\": 70.0, \"Weight_in_lbs\": 1990, \"Acceleration\": 17.0, \"Year\": \"1976-01-01T00:00:00\", \"Origin\": \"Japan\"}, {\"Name\": \"toyota corolla\", \"Miles_per_Gallon\": 28.0, \"Cylinders\": 4, \"Displacement\": 97.0, \"Horsepower\": 75.0, \"Weight_in_lbs\": 2155, \"Acceleration\": 16.4, \"Year\": \"1976-01-01T00:00:00\", \"Origin\": \"Japan\"}, {\"Name\": \"ford pinto\", \"Miles_per_Gallon\": 26.5, \"Cylinders\": 4, \"Displacement\": 140.0, \"Horsepower\": 72.0, \"Weight_in_lbs\": 2565, \"Acceleration\": 13.6, \"Year\": \"1976-01-01T00:00:00\", \"Origin\": \"USA\"}, {\"Name\": \"volvo 245\", \"Miles_per_Gallon\": 20.0, \"Cylinders\": 4, \"Displacement\": 130.0, \"Horsepower\": 102.0, \"Weight_in_lbs\": 3150, \"Acceleration\": 15.7, \"Year\": \"1976-01-01T00:00:00\", \"Origin\": \"Europe\"}, {\"Name\": \"plymouth volare premier v8\", \"Miles_per_Gallon\": 13.0, \"Cylinders\": 8, \"Displacement\": 318.0, \"Horsepower\": 150.0, \"Weight_in_lbs\": 3940, \"Acceleration\": 13.2, \"Year\": \"1976-01-01T00:00:00\", \"Origin\": \"USA\"}, {\"Name\": \"peugeot 504\", \"Miles_per_Gallon\": 19.0, \"Cylinders\": 4, \"Displacement\": 120.0, \"Horsepower\": 88.0, \"Weight_in_lbs\": 3270, \"Acceleration\": 21.9, \"Year\": \"1976-01-01T00:00:00\", \"Origin\": \"Europe\"}, {\"Name\": \"toyota mark ii\", \"Miles_per_Gallon\": 19.0, \"Cylinders\": 6, \"Displacement\": 156.0, \"Horsepower\": 108.0, \"Weight_in_lbs\": 2930, \"Acceleration\": 15.5, \"Year\": \"1976-01-01T00:00:00\", \"Origin\": \"Japan\"}, {\"Name\": \"mercedes-benz 280s\", \"Miles_per_Gallon\": 16.5, \"Cylinders\": 6, \"Displacement\": 168.0, \"Horsepower\": 120.0, \"Weight_in_lbs\": 3820, \"Acceleration\": 16.7, \"Year\": \"1976-01-01T00:00:00\", \"Origin\": \"Europe\"}, {\"Name\": \"cadillac seville\", \"Miles_per_Gallon\": 16.5, \"Cylinders\": 8, \"Displacement\": 350.0, \"Horsepower\": 180.0, \"Weight_in_lbs\": 4380, \"Acceleration\": 12.1, \"Year\": \"1976-01-01T00:00:00\", \"Origin\": \"USA\"}, {\"Name\": \"chevy c10\", \"Miles_per_Gallon\": 13.0, \"Cylinders\": 8, \"Displacement\": 350.0, \"Horsepower\": 145.0, \"Weight_in_lbs\": 4055, \"Acceleration\": 12.0, \"Year\": \"1976-01-01T00:00:00\", \"Origin\": \"USA\"}, {\"Name\": \"ford f108\", \"Miles_per_Gallon\": 13.0, \"Cylinders\": 8, \"Displacement\": 302.0, \"Horsepower\": 130.0, \"Weight_in_lbs\": 3870, \"Acceleration\": 15.0, \"Year\": \"1976-01-01T00:00:00\", \"Origin\": \"USA\"}, {\"Name\": \"dodge d100\", \"Miles_per_Gallon\": 13.0, \"Cylinders\": 8, \"Displacement\": 318.0, \"Horsepower\": 150.0, \"Weight_in_lbs\": 3755, \"Acceleration\": 14.0, \"Year\": \"1976-01-01T00:00:00\", \"Origin\": \"USA\"}, {\"Name\": \"honda Accelerationord cvcc\", \"Miles_per_Gallon\": 31.5, \"Cylinders\": 4, \"Displacement\": 98.0, \"Horsepower\": 68.0, \"Weight_in_lbs\": 2045, \"Acceleration\": 18.5, \"Year\": \"1977-01-01T00:00:00\", \"Origin\": \"Japan\"}, {\"Name\": \"buick opel isuzu deluxe\", \"Miles_per_Gallon\": 30.0, \"Cylinders\": 4, \"Displacement\": 111.0, \"Horsepower\": 80.0, \"Weight_in_lbs\": 2155, \"Acceleration\": 14.8, \"Year\": \"1977-01-01T00:00:00\", \"Origin\": \"USA\"}, {\"Name\": \"renault 5 gtl\", \"Miles_per_Gallon\": 36.0, \"Cylinders\": 4, \"Displacement\": 79.0, \"Horsepower\": 58.0, \"Weight_in_lbs\": 1825, \"Acceleration\": 18.6, \"Year\": \"1977-01-01T00:00:00\", \"Origin\": \"Europe\"}, {\"Name\": \"plymouth arrow gs\", \"Miles_per_Gallon\": 25.5, \"Cylinders\": 4, \"Displacement\": 122.0, \"Horsepower\": 96.0, \"Weight_in_lbs\": 2300, \"Acceleration\": 15.5, \"Year\": \"1977-01-01T00:00:00\", \"Origin\": \"USA\"}, {\"Name\": \"datsun f-10 hatchback\", \"Miles_per_Gallon\": 33.5, \"Cylinders\": 4, \"Displacement\": 85.0, \"Horsepower\": 70.0, \"Weight_in_lbs\": 1945, \"Acceleration\": 16.8, \"Year\": \"1977-01-01T00:00:00\", \"Origin\": \"Japan\"}, {\"Name\": \"chevrolet caprice classic\", \"Miles_per_Gallon\": 17.5, \"Cylinders\": 8, \"Displacement\": 305.0, \"Horsepower\": 145.0, \"Weight_in_lbs\": 3880, \"Acceleration\": 12.5, \"Year\": \"1977-01-01T00:00:00\", \"Origin\": \"USA\"}, {\"Name\": \"oldsmobile cutlass supreme\", \"Miles_per_Gallon\": 17.0, \"Cylinders\": 8, \"Displacement\": 260.0, \"Horsepower\": 110.0, \"Weight_in_lbs\": 4060, \"Acceleration\": 19.0, \"Year\": \"1977-01-01T00:00:00\", \"Origin\": \"USA\"}, {\"Name\": \"dodge monaco brougham\", \"Miles_per_Gallon\": 15.5, \"Cylinders\": 8, \"Displacement\": 318.0, \"Horsepower\": 145.0, \"Weight_in_lbs\": 4140, \"Acceleration\": 13.7, \"Year\": \"1977-01-01T00:00:00\", \"Origin\": \"USA\"}, {\"Name\": \"mercury cougar brougham\", \"Miles_per_Gallon\": 15.0, \"Cylinders\": 8, \"Displacement\": 302.0, \"Horsepower\": 130.0, \"Weight_in_lbs\": 4295, \"Acceleration\": 14.9, \"Year\": \"1977-01-01T00:00:00\", \"Origin\": \"USA\"}, {\"Name\": \"chevrolet concours\", \"Miles_per_Gallon\": 17.5, \"Cylinders\": 6, \"Displacement\": 250.0, \"Horsepower\": 110.0, \"Weight_in_lbs\": 3520, \"Acceleration\": 16.4, \"Year\": \"1977-01-01T00:00:00\", \"Origin\": \"USA\"}, {\"Name\": \"buick skylark\", \"Miles_per_Gallon\": 20.5, \"Cylinders\": 6, \"Displacement\": 231.0, \"Horsepower\": 105.0, \"Weight_in_lbs\": 3425, \"Acceleration\": 16.9, \"Year\": \"1977-01-01T00:00:00\", \"Origin\": \"USA\"}, {\"Name\": \"plymouth volare custom\", \"Miles_per_Gallon\": 19.0, \"Cylinders\": 6, \"Displacement\": 225.0, \"Horsepower\": 100.0, \"Weight_in_lbs\": 3630, \"Acceleration\": 17.7, \"Year\": \"1977-01-01T00:00:00\", \"Origin\": \"USA\"}, {\"Name\": \"ford granada\", \"Miles_per_Gallon\": 18.5, \"Cylinders\": 6, \"Displacement\": 250.0, \"Horsepower\": 98.0, \"Weight_in_lbs\": 3525, \"Acceleration\": 19.0, \"Year\": \"1977-01-01T00:00:00\", \"Origin\": \"USA\"}, {\"Name\": \"pontiac grand prix lj\", \"Miles_per_Gallon\": 16.0, \"Cylinders\": 8, \"Displacement\": 400.0, \"Horsepower\": 180.0, \"Weight_in_lbs\": 4220, \"Acceleration\": 11.1, \"Year\": \"1977-01-01T00:00:00\", \"Origin\": \"USA\"}, {\"Name\": \"chevrolet monte carlo landau\", \"Miles_per_Gallon\": 15.5, \"Cylinders\": 8, \"Displacement\": 350.0, \"Horsepower\": 170.0, \"Weight_in_lbs\": 4165, \"Acceleration\": 11.4, \"Year\": \"1977-01-01T00:00:00\", \"Origin\": \"USA\"}, {\"Name\": \"chrysler cordoba\", \"Miles_per_Gallon\": 15.5, \"Cylinders\": 8, \"Displacement\": 400.0, \"Horsepower\": 190.0, \"Weight_in_lbs\": 4325, \"Acceleration\": 12.2, \"Year\": \"1977-01-01T00:00:00\", \"Origin\": \"USA\"}, {\"Name\": \"ford thunderbird\", \"Miles_per_Gallon\": 16.0, \"Cylinders\": 8, \"Displacement\": 351.0, \"Horsepower\": 149.0, \"Weight_in_lbs\": 4335, \"Acceleration\": 14.5, \"Year\": \"1977-01-01T00:00:00\", \"Origin\": \"USA\"}, {\"Name\": \"volkswagen rabbit custom\", \"Miles_per_Gallon\": 29.0, \"Cylinders\": 4, \"Displacement\": 97.0, \"Horsepower\": 78.0, \"Weight_in_lbs\": 1940, \"Acceleration\": 14.5, \"Year\": \"1977-01-01T00:00:00\", \"Origin\": \"Europe\"}, {\"Name\": \"pontiac sunbird coupe\", \"Miles_per_Gallon\": 24.5, \"Cylinders\": 4, \"Displacement\": 151.0, \"Horsepower\": 88.0, \"Weight_in_lbs\": 2740, \"Acceleration\": 16.0, \"Year\": \"1977-01-01T00:00:00\", \"Origin\": \"USA\"}, {\"Name\": \"toyota corolla liftback\", \"Miles_per_Gallon\": 26.0, \"Cylinders\": 4, \"Displacement\": 97.0, \"Horsepower\": 75.0, \"Weight_in_lbs\": 2265, \"Acceleration\": 18.2, \"Year\": \"1977-01-01T00:00:00\", \"Origin\": \"Japan\"}, {\"Name\": \"ford mustang ii 2+2\", \"Miles_per_Gallon\": 25.5, \"Cylinders\": 4, \"Displacement\": 140.0, \"Horsepower\": 89.0, \"Weight_in_lbs\": 2755, \"Acceleration\": 15.8, \"Year\": \"1977-01-01T00:00:00\", \"Origin\": \"USA\"}, {\"Name\": \"chevrolet chevette\", \"Miles_per_Gallon\": 30.5, \"Cylinders\": 4, \"Displacement\": 98.0, \"Horsepower\": 63.0, \"Weight_in_lbs\": 2051, \"Acceleration\": 17.0, \"Year\": \"1977-01-01T00:00:00\", \"Origin\": \"USA\"}, {\"Name\": \"dodge colt m/m\", \"Miles_per_Gallon\": 33.5, \"Cylinders\": 4, \"Displacement\": 98.0, \"Horsepower\": 83.0, \"Weight_in_lbs\": 2075, \"Acceleration\": 15.9, \"Year\": \"1977-01-01T00:00:00\", \"Origin\": \"USA\"}, {\"Name\": \"subaru dl\", \"Miles_per_Gallon\": 30.0, \"Cylinders\": 4, \"Displacement\": 97.0, \"Horsepower\": 67.0, \"Weight_in_lbs\": 1985, \"Acceleration\": 16.4, \"Year\": \"1977-01-01T00:00:00\", \"Origin\": \"Japan\"}, {\"Name\": \"volkswagen dasher\", \"Miles_per_Gallon\": 30.5, \"Cylinders\": 4, \"Displacement\": 97.0, \"Horsepower\": 78.0, \"Weight_in_lbs\": 2190, \"Acceleration\": 14.1, \"Year\": \"1977-01-01T00:00:00\", \"Origin\": \"Europe\"}, {\"Name\": \"datsun 810\", \"Miles_per_Gallon\": 22.0, \"Cylinders\": 6, \"Displacement\": 146.0, \"Horsepower\": 97.0, \"Weight_in_lbs\": 2815, \"Acceleration\": 14.5, \"Year\": \"1977-01-01T00:00:00\", \"Origin\": \"Japan\"}, {\"Name\": \"bmw 320i\", \"Miles_per_Gallon\": 21.5, \"Cylinders\": 4, \"Displacement\": 121.0, \"Horsepower\": 110.0, \"Weight_in_lbs\": 2600, \"Acceleration\": 12.8, \"Year\": \"1977-01-01T00:00:00\", \"Origin\": \"Europe\"}, {\"Name\": \"mazda rx-4\", \"Miles_per_Gallon\": 21.5, \"Cylinders\": 3, \"Displacement\": 80.0, \"Horsepower\": 110.0, \"Weight_in_lbs\": 2720, \"Acceleration\": 13.5, \"Year\": \"1977-01-01T00:00:00\", \"Origin\": \"Japan\"}, {\"Name\": \"volkswagen rabbit custom diesel\", \"Miles_per_Gallon\": 43.1, \"Cylinders\": 4, \"Displacement\": 90.0, \"Horsepower\": 48.0, \"Weight_in_lbs\": 1985, \"Acceleration\": 21.5, \"Year\": \"1978-01-01T00:00:00\", \"Origin\": \"Europe\"}, {\"Name\": \"ford fiesta\", \"Miles_per_Gallon\": 36.1, \"Cylinders\": 4, \"Displacement\": 98.0, \"Horsepower\": 66.0, \"Weight_in_lbs\": 1800, \"Acceleration\": 14.4, \"Year\": \"1978-01-01T00:00:00\", \"Origin\": \"USA\"}, {\"Name\": \"mazda glc deluxe\", \"Miles_per_Gallon\": 32.8, \"Cylinders\": 4, \"Displacement\": 78.0, \"Horsepower\": 52.0, \"Weight_in_lbs\": 1985, \"Acceleration\": 19.4, \"Year\": \"1978-01-01T00:00:00\", \"Origin\": \"Japan\"}, {\"Name\": \"datsun b210 gx\", \"Miles_per_Gallon\": 39.4, \"Cylinders\": 4, \"Displacement\": 85.0, \"Horsepower\": 70.0, \"Weight_in_lbs\": 2070, \"Acceleration\": 18.6, \"Year\": \"1978-01-01T00:00:00\", \"Origin\": \"Japan\"}, {\"Name\": \"honda civic cvcc\", \"Miles_per_Gallon\": 36.1, \"Cylinders\": 4, \"Displacement\": 91.0, \"Horsepower\": 60.0, \"Weight_in_lbs\": 1800, \"Acceleration\": 16.4, \"Year\": \"1978-01-01T00:00:00\", \"Origin\": \"Japan\"}, {\"Name\": \"oldsmobile cutlass salon brougham\", \"Miles_per_Gallon\": 19.9, \"Cylinders\": 8, \"Displacement\": 260.0, \"Horsepower\": 110.0, \"Weight_in_lbs\": 3365, \"Acceleration\": 15.5, \"Year\": \"1978-01-01T00:00:00\", \"Origin\": \"USA\"}, {\"Name\": \"dodge diplomat\", \"Miles_per_Gallon\": 19.4, \"Cylinders\": 8, \"Displacement\": 318.0, \"Horsepower\": 140.0, \"Weight_in_lbs\": 3735, \"Acceleration\": 13.2, \"Year\": \"1978-01-01T00:00:00\", \"Origin\": \"USA\"}, {\"Name\": \"mercury monarch ghia\", \"Miles_per_Gallon\": 20.2, \"Cylinders\": 8, \"Displacement\": 302.0, \"Horsepower\": 139.0, \"Weight_in_lbs\": 3570, \"Acceleration\": 12.8, \"Year\": \"1978-01-01T00:00:00\", \"Origin\": \"USA\"}, {\"Name\": \"pontiac phoenix lj\", \"Miles_per_Gallon\": 19.2, \"Cylinders\": 6, \"Displacement\": 231.0, \"Horsepower\": 105.0, \"Weight_in_lbs\": 3535, \"Acceleration\": 19.2, \"Year\": \"1978-01-01T00:00:00\", \"Origin\": \"USA\"}, {\"Name\": \"chevrolet malibu\", \"Miles_per_Gallon\": 20.5, \"Cylinders\": 6, \"Displacement\": 200.0, \"Horsepower\": 95.0, \"Weight_in_lbs\": 3155, \"Acceleration\": 18.2, \"Year\": \"1978-01-01T00:00:00\", \"Origin\": \"USA\"}, {\"Name\": \"ford fairmont (auto)\", \"Miles_per_Gallon\": 20.2, \"Cylinders\": 6, \"Displacement\": 200.0, \"Horsepower\": 85.0, \"Weight_in_lbs\": 2965, \"Acceleration\": 15.8, \"Year\": \"1978-01-01T00:00:00\", \"Origin\": \"USA\"}, {\"Name\": \"ford fairmont (man)\", \"Miles_per_Gallon\": 25.1, \"Cylinders\": 4, \"Displacement\": 140.0, \"Horsepower\": 88.0, \"Weight_in_lbs\": 2720, \"Acceleration\": 15.4, \"Year\": \"1978-01-01T00:00:00\", \"Origin\": \"USA\"}, {\"Name\": \"plymouth volare\", \"Miles_per_Gallon\": 20.5, \"Cylinders\": 6, \"Displacement\": 225.0, \"Horsepower\": 100.0, \"Weight_in_lbs\": 3430, \"Acceleration\": 17.2, \"Year\": \"1978-01-01T00:00:00\", \"Origin\": \"USA\"}, {\"Name\": \"amc concord\", \"Miles_per_Gallon\": 19.4, \"Cylinders\": 6, \"Displacement\": 232.0, \"Horsepower\": 90.0, \"Weight_in_lbs\": 3210, \"Acceleration\": 17.2, \"Year\": \"1978-01-01T00:00:00\", \"Origin\": \"USA\"}, {\"Name\": \"buick century special\", \"Miles_per_Gallon\": 20.6, \"Cylinders\": 6, \"Displacement\": 231.0, \"Horsepower\": 105.0, \"Weight_in_lbs\": 3380, \"Acceleration\": 15.8, \"Year\": \"1978-01-01T00:00:00\", \"Origin\": \"USA\"}, {\"Name\": \"mercury zephyr\", \"Miles_per_Gallon\": 20.8, \"Cylinders\": 6, \"Displacement\": 200.0, \"Horsepower\": 85.0, \"Weight_in_lbs\": 3070, \"Acceleration\": 16.7, \"Year\": \"1978-01-01T00:00:00\", \"Origin\": \"USA\"}, {\"Name\": \"dodge aspen\", \"Miles_per_Gallon\": 18.6, \"Cylinders\": 6, \"Displacement\": 225.0, \"Horsepower\": 110.0, \"Weight_in_lbs\": 3620, \"Acceleration\": 18.7, \"Year\": \"1978-01-01T00:00:00\", \"Origin\": \"USA\"}, {\"Name\": \"amc concord d/l\", \"Miles_per_Gallon\": 18.1, \"Cylinders\": 6, \"Displacement\": 258.0, \"Horsepower\": 120.0, \"Weight_in_lbs\": 3410, \"Acceleration\": 15.1, \"Year\": \"1978-01-01T00:00:00\", \"Origin\": \"USA\"}, {\"Name\": \"chevrolet monte carlo landau\", \"Miles_per_Gallon\": 19.2, \"Cylinders\": 8, \"Displacement\": 305.0, \"Horsepower\": 145.0, \"Weight_in_lbs\": 3425, \"Acceleration\": 13.2, \"Year\": \"1978-01-01T00:00:00\", \"Origin\": \"USA\"}, {\"Name\": \"buick regal sport coupe (turbo)\", \"Miles_per_Gallon\": 17.7, \"Cylinders\": 6, \"Displacement\": 231.0, \"Horsepower\": 165.0, \"Weight_in_lbs\": 3445, \"Acceleration\": 13.4, \"Year\": \"1978-01-01T00:00:00\", \"Origin\": \"USA\"}, {\"Name\": \"ford futura\", \"Miles_per_Gallon\": 18.1, \"Cylinders\": 8, \"Displacement\": 302.0, \"Horsepower\": 139.0, \"Weight_in_lbs\": 3205, \"Acceleration\": 11.2, \"Year\": \"1978-01-01T00:00:00\", \"Origin\": \"USA\"}, {\"Name\": \"dodge magnum xe\", \"Miles_per_Gallon\": 17.5, \"Cylinders\": 8, \"Displacement\": 318.0, \"Horsepower\": 140.0, \"Weight_in_lbs\": 4080, \"Acceleration\": 13.7, \"Year\": \"1978-01-01T00:00:00\", \"Origin\": \"USA\"}, {\"Name\": \"chevrolet chevette\", \"Miles_per_Gallon\": 30.0, \"Cylinders\": 4, \"Displacement\": 98.0, \"Horsepower\": 68.0, \"Weight_in_lbs\": 2155, \"Acceleration\": 16.5, \"Year\": \"1978-01-01T00:00:00\", \"Origin\": \"USA\"}, {\"Name\": \"toyota corona\", \"Miles_per_Gallon\": 27.5, \"Cylinders\": 4, \"Displacement\": 134.0, \"Horsepower\": 95.0, \"Weight_in_lbs\": 2560, \"Acceleration\": 14.2, \"Year\": \"1978-01-01T00:00:00\", \"Origin\": \"Japan\"}, {\"Name\": \"datsun 510\", \"Miles_per_Gallon\": 27.2, \"Cylinders\": 4, \"Displacement\": 119.0, \"Horsepower\": 97.0, \"Weight_in_lbs\": 2300, \"Acceleration\": 14.7, \"Year\": \"1978-01-01T00:00:00\", \"Origin\": \"Japan\"}, {\"Name\": \"dodge omni\", \"Miles_per_Gallon\": 30.9, \"Cylinders\": 4, \"Displacement\": 105.0, \"Horsepower\": 75.0, \"Weight_in_lbs\": 2230, \"Acceleration\": 14.5, \"Year\": \"1978-01-01T00:00:00\", \"Origin\": \"USA\"}, {\"Name\": \"toyota celica gt liftback\", \"Miles_per_Gallon\": 21.1, \"Cylinders\": 4, \"Displacement\": 134.0, \"Horsepower\": 95.0, \"Weight_in_lbs\": 2515, \"Acceleration\": 14.8, \"Year\": \"1978-01-01T00:00:00\", \"Origin\": \"Japan\"}, {\"Name\": \"plymouth sapporo\", \"Miles_per_Gallon\": 23.2, \"Cylinders\": 4, \"Displacement\": 156.0, \"Horsepower\": 105.0, \"Weight_in_lbs\": 2745, \"Acceleration\": 16.7, \"Year\": \"1978-01-01T00:00:00\", \"Origin\": \"USA\"}, {\"Name\": \"oldsmobile starfire sx\", \"Miles_per_Gallon\": 23.8, \"Cylinders\": 4, \"Displacement\": 151.0, \"Horsepower\": 85.0, \"Weight_in_lbs\": 2855, \"Acceleration\": 17.6, \"Year\": \"1978-01-01T00:00:00\", \"Origin\": \"USA\"}, {\"Name\": \"datsun 200-sx\", \"Miles_per_Gallon\": 23.9, \"Cylinders\": 4, \"Displacement\": 119.0, \"Horsepower\": 97.0, \"Weight_in_lbs\": 2405, \"Acceleration\": 14.9, \"Year\": \"1978-01-01T00:00:00\", \"Origin\": \"Japan\"}, {\"Name\": \"audi 5000\", \"Miles_per_Gallon\": 20.3, \"Cylinders\": 5, \"Displacement\": 131.0, \"Horsepower\": 103.0, \"Weight_in_lbs\": 2830, \"Acceleration\": 15.9, \"Year\": \"1978-01-01T00:00:00\", \"Origin\": \"Europe\"}, {\"Name\": \"volvo 264gl\", \"Miles_per_Gallon\": 17.0, \"Cylinders\": 6, \"Displacement\": 163.0, \"Horsepower\": 125.0, \"Weight_in_lbs\": 3140, \"Acceleration\": 13.6, \"Year\": \"1978-01-01T00:00:00\", \"Origin\": \"Europe\"}, {\"Name\": \"saab 99gle\", \"Miles_per_Gallon\": 21.6, \"Cylinders\": 4, \"Displacement\": 121.0, \"Horsepower\": 115.0, \"Weight_in_lbs\": 2795, \"Acceleration\": 15.7, \"Year\": \"1978-01-01T00:00:00\", \"Origin\": \"Europe\"}, {\"Name\": \"peugeot 604sl\", \"Miles_per_Gallon\": 16.2, \"Cylinders\": 6, \"Displacement\": 163.0, \"Horsepower\": 133.0, \"Weight_in_lbs\": 3410, \"Acceleration\": 15.8, \"Year\": \"1978-01-01T00:00:00\", \"Origin\": \"Europe\"}, {\"Name\": \"volkswagen scirocco\", \"Miles_per_Gallon\": 31.5, \"Cylinders\": 4, \"Displacement\": 89.0, \"Horsepower\": 71.0, \"Weight_in_lbs\": 1990, \"Acceleration\": 14.9, \"Year\": \"1978-01-01T00:00:00\", \"Origin\": \"Europe\"}, {\"Name\": \"honda Accelerationord lx\", \"Miles_per_Gallon\": 29.5, \"Cylinders\": 4, \"Displacement\": 98.0, \"Horsepower\": 68.0, \"Weight_in_lbs\": 2135, \"Acceleration\": 16.6, \"Year\": \"1978-01-01T00:00:00\", \"Origin\": \"Japan\"}, {\"Name\": \"pontiac lemans v6\", \"Miles_per_Gallon\": 21.5, \"Cylinders\": 6, \"Displacement\": 231.0, \"Horsepower\": 115.0, \"Weight_in_lbs\": 3245, \"Acceleration\": 15.4, \"Year\": \"1979-01-01T00:00:00\", \"Origin\": \"USA\"}, {\"Name\": \"mercury zephyr 6\", \"Miles_per_Gallon\": 19.8, \"Cylinders\": 6, \"Displacement\": 200.0, \"Horsepower\": 85.0, \"Weight_in_lbs\": 2990, \"Acceleration\": 18.2, \"Year\": \"1979-01-01T00:00:00\", \"Origin\": \"USA\"}, {\"Name\": \"ford fairmont 4\", \"Miles_per_Gallon\": 22.3, \"Cylinders\": 4, \"Displacement\": 140.0, \"Horsepower\": 88.0, \"Weight_in_lbs\": 2890, \"Acceleration\": 17.3, \"Year\": \"1979-01-01T00:00:00\", \"Origin\": \"USA\"}, {\"Name\": \"amc concord dl 6\", \"Miles_per_Gallon\": 20.2, \"Cylinders\": 6, \"Displacement\": 232.0, \"Horsepower\": 90.0, \"Weight_in_lbs\": 3265, \"Acceleration\": 18.2, \"Year\": \"1979-01-01T00:00:00\", \"Origin\": \"USA\"}, {\"Name\": \"dodge aspen 6\", \"Miles_per_Gallon\": 20.6, \"Cylinders\": 6, \"Displacement\": 225.0, \"Horsepower\": 110.0, \"Weight_in_lbs\": 3360, \"Acceleration\": 16.6, \"Year\": \"1979-01-01T00:00:00\", \"Origin\": \"USA\"}, {\"Name\": \"chevrolet caprice classic\", \"Miles_per_Gallon\": 17.0, \"Cylinders\": 8, \"Displacement\": 305.0, \"Horsepower\": 130.0, \"Weight_in_lbs\": 3840, \"Acceleration\": 15.4, \"Year\": \"1979-01-01T00:00:00\", \"Origin\": \"USA\"}, {\"Name\": \"ford ltd landau\", \"Miles_per_Gallon\": 17.6, \"Cylinders\": 8, \"Displacement\": 302.0, \"Horsepower\": 129.0, \"Weight_in_lbs\": 3725, \"Acceleration\": 13.4, \"Year\": \"1979-01-01T00:00:00\", \"Origin\": \"USA\"}, {\"Name\": \"mercury grand marquis\", \"Miles_per_Gallon\": 16.5, \"Cylinders\": 8, \"Displacement\": 351.0, \"Horsepower\": 138.0, \"Weight_in_lbs\": 3955, \"Acceleration\": 13.2, \"Year\": \"1979-01-01T00:00:00\", \"Origin\": \"USA\"}, {\"Name\": \"dodge st. regis\", \"Miles_per_Gallon\": 18.2, \"Cylinders\": 8, \"Displacement\": 318.0, \"Horsepower\": 135.0, \"Weight_in_lbs\": 3830, \"Acceleration\": 15.2, \"Year\": \"1979-01-01T00:00:00\", \"Origin\": \"USA\"}, {\"Name\": \"buick estate wagon (sw)\", \"Miles_per_Gallon\": 16.9, \"Cylinders\": 8, \"Displacement\": 350.0, \"Horsepower\": 155.0, \"Weight_in_lbs\": 4360, \"Acceleration\": 14.9, \"Year\": \"1979-01-01T00:00:00\", \"Origin\": \"USA\"}, {\"Name\": \"ford country squire (sw)\", \"Miles_per_Gallon\": 15.5, \"Cylinders\": 8, \"Displacement\": 351.0, \"Horsepower\": 142.0, \"Weight_in_lbs\": 4054, \"Acceleration\": 14.3, \"Year\": \"1979-01-01T00:00:00\", \"Origin\": \"USA\"}, {\"Name\": \"chevrolet malibu classic (sw)\", \"Miles_per_Gallon\": 19.2, \"Cylinders\": 8, \"Displacement\": 267.0, \"Horsepower\": 125.0, \"Weight_in_lbs\": 3605, \"Acceleration\": 15.0, \"Year\": \"1979-01-01T00:00:00\", \"Origin\": \"USA\"}, {\"Name\": \"chrysler lebaron town @ country (sw)\", \"Miles_per_Gallon\": 18.5, \"Cylinders\": 8, \"Displacement\": 360.0, \"Horsepower\": 150.0, \"Weight_in_lbs\": 3940, \"Acceleration\": 13.0, \"Year\": \"1979-01-01T00:00:00\", \"Origin\": \"USA\"}, {\"Name\": \"vw rabbit custom\", \"Miles_per_Gallon\": 31.9, \"Cylinders\": 4, \"Displacement\": 89.0, \"Horsepower\": 71.0, \"Weight_in_lbs\": 1925, \"Acceleration\": 14.0, \"Year\": \"1979-01-01T00:00:00\", \"Origin\": \"Europe\"}, {\"Name\": \"maxda glc deluxe\", \"Miles_per_Gallon\": 34.1, \"Cylinders\": 4, \"Displacement\": 86.0, \"Horsepower\": 65.0, \"Weight_in_lbs\": 1975, \"Acceleration\": 15.2, \"Year\": \"1979-01-01T00:00:00\", \"Origin\": \"Japan\"}, {\"Name\": \"dodge colt hatchback custom\", \"Miles_per_Gallon\": 35.7, \"Cylinders\": 4, \"Displacement\": 98.0, \"Horsepower\": 80.0, \"Weight_in_lbs\": 1915, \"Acceleration\": 14.4, \"Year\": \"1979-01-01T00:00:00\", \"Origin\": \"USA\"}, {\"Name\": \"amc spirit dl\", \"Miles_per_Gallon\": 27.4, \"Cylinders\": 4, \"Displacement\": 121.0, \"Horsepower\": 80.0, \"Weight_in_lbs\": 2670, \"Acceleration\": 15.0, \"Year\": \"1979-01-01T00:00:00\", \"Origin\": \"USA\"}, {\"Name\": \"mercedes benz 300d\", \"Miles_per_Gallon\": 25.4, \"Cylinders\": 5, \"Displacement\": 183.0, \"Horsepower\": 77.0, \"Weight_in_lbs\": 3530, \"Acceleration\": 20.1, \"Year\": \"1979-01-01T00:00:00\", \"Origin\": \"Europe\"}, {\"Name\": \"cadillac eldorado\", \"Miles_per_Gallon\": 23.0, \"Cylinders\": 8, \"Displacement\": 350.0, \"Horsepower\": 125.0, \"Weight_in_lbs\": 3900, \"Acceleration\": 17.4, \"Year\": \"1979-01-01T00:00:00\", \"Origin\": \"USA\"}, {\"Name\": \"peugeot 504\", \"Miles_per_Gallon\": 27.2, \"Cylinders\": 4, \"Displacement\": 141.0, \"Horsepower\": 71.0, \"Weight_in_lbs\": 3190, \"Acceleration\": 24.8, \"Year\": \"1979-01-01T00:00:00\", \"Origin\": \"Europe\"}, {\"Name\": \"oldsmobile cutlass salon brougham\", \"Miles_per_Gallon\": 23.9, \"Cylinders\": 8, \"Displacement\": 260.0, \"Horsepower\": 90.0, \"Weight_in_lbs\": 3420, \"Acceleration\": 22.2, \"Year\": \"1979-01-01T00:00:00\", \"Origin\": \"USA\"}, {\"Name\": \"plymouth horizon\", \"Miles_per_Gallon\": 34.2, \"Cylinders\": 4, \"Displacement\": 105.0, \"Horsepower\": 70.0, \"Weight_in_lbs\": 2200, \"Acceleration\": 13.2, \"Year\": \"1979-01-01T00:00:00\", \"Origin\": \"USA\"}, {\"Name\": \"plymouth horizon tc3\", \"Miles_per_Gallon\": 34.5, \"Cylinders\": 4, \"Displacement\": 105.0, \"Horsepower\": 70.0, \"Weight_in_lbs\": 2150, \"Acceleration\": 14.9, \"Year\": \"1979-01-01T00:00:00\", \"Origin\": \"USA\"}, {\"Name\": \"datsun 210\", \"Miles_per_Gallon\": 31.8, \"Cylinders\": 4, \"Displacement\": 85.0, \"Horsepower\": 65.0, \"Weight_in_lbs\": 2020, \"Acceleration\": 19.2, \"Year\": \"1979-01-01T00:00:00\", \"Origin\": \"Japan\"}, {\"Name\": \"fiat strada custom\", \"Miles_per_Gallon\": 37.3, \"Cylinders\": 4, \"Displacement\": 91.0, \"Horsepower\": 69.0, \"Weight_in_lbs\": 2130, \"Acceleration\": 14.7, \"Year\": \"1979-01-01T00:00:00\", \"Origin\": \"Europe\"}, {\"Name\": \"buick skylark limited\", \"Miles_per_Gallon\": 28.4, \"Cylinders\": 4, \"Displacement\": 151.0, \"Horsepower\": 90.0, \"Weight_in_lbs\": 2670, \"Acceleration\": 16.0, \"Year\": \"1979-01-01T00:00:00\", \"Origin\": \"USA\"}, {\"Name\": \"chevrolet citation\", \"Miles_per_Gallon\": 28.8, \"Cylinders\": 6, \"Displacement\": 173.0, \"Horsepower\": 115.0, \"Weight_in_lbs\": 2595, \"Acceleration\": 11.3, \"Year\": \"1979-01-01T00:00:00\", \"Origin\": \"USA\"}, {\"Name\": \"oldsmobile omega brougham\", \"Miles_per_Gallon\": 26.8, \"Cylinders\": 6, \"Displacement\": 173.0, \"Horsepower\": 115.0, \"Weight_in_lbs\": 2700, \"Acceleration\": 12.9, \"Year\": \"1979-01-01T00:00:00\", \"Origin\": \"USA\"}, {\"Name\": \"pontiac phoenix\", \"Miles_per_Gallon\": 33.5, \"Cylinders\": 4, \"Displacement\": 151.0, \"Horsepower\": 90.0, \"Weight_in_lbs\": 2556, \"Acceleration\": 13.2, \"Year\": \"1979-01-01T00:00:00\", \"Origin\": \"USA\"}, {\"Name\": \"vw rabbit\", \"Miles_per_Gallon\": 41.5, \"Cylinders\": 4, \"Displacement\": 98.0, \"Horsepower\": 76.0, \"Weight_in_lbs\": 2144, \"Acceleration\": 14.7, \"Year\": \"1980-01-01T00:00:00\", \"Origin\": \"Europe\"}, {\"Name\": \"toyota corolla tercel\", \"Miles_per_Gallon\": 38.1, \"Cylinders\": 4, \"Displacement\": 89.0, \"Horsepower\": 60.0, \"Weight_in_lbs\": 1968, \"Acceleration\": 18.8, \"Year\": \"1980-01-01T00:00:00\", \"Origin\": \"Japan\"}, {\"Name\": \"chevrolet chevette\", \"Miles_per_Gallon\": 32.1, \"Cylinders\": 4, \"Displacement\": 98.0, \"Horsepower\": 70.0, \"Weight_in_lbs\": 2120, \"Acceleration\": 15.5, \"Year\": \"1980-01-01T00:00:00\", \"Origin\": \"USA\"}, {\"Name\": \"datsun 310\", \"Miles_per_Gallon\": 37.2, \"Cylinders\": 4, \"Displacement\": 86.0, \"Horsepower\": 65.0, \"Weight_in_lbs\": 2019, \"Acceleration\": 16.4, \"Year\": \"1980-01-01T00:00:00\", \"Origin\": \"Japan\"}, {\"Name\": \"chevrolet citation\", \"Miles_per_Gallon\": 28.0, \"Cylinders\": 4, \"Displacement\": 151.0, \"Horsepower\": 90.0, \"Weight_in_lbs\": 2678, \"Acceleration\": 16.5, \"Year\": \"1980-01-01T00:00:00\", \"Origin\": \"USA\"}, {\"Name\": \"ford fairmont\", \"Miles_per_Gallon\": 26.4, \"Cylinders\": 4, \"Displacement\": 140.0, \"Horsepower\": 88.0, \"Weight_in_lbs\": 2870, \"Acceleration\": 18.1, \"Year\": \"1980-01-01T00:00:00\", \"Origin\": \"USA\"}, {\"Name\": \"amc concord\", \"Miles_per_Gallon\": 24.3, \"Cylinders\": 4, \"Displacement\": 151.0, \"Horsepower\": 90.0, \"Weight_in_lbs\": 3003, \"Acceleration\": 20.1, \"Year\": \"1980-01-01T00:00:00\", \"Origin\": \"USA\"}, {\"Name\": \"dodge aspen\", \"Miles_per_Gallon\": 19.1, \"Cylinders\": 6, \"Displacement\": 225.0, \"Horsepower\": 90.0, \"Weight_in_lbs\": 3381, \"Acceleration\": 18.7, \"Year\": \"1980-01-01T00:00:00\", \"Origin\": \"USA\"}, {\"Name\": \"audi 4000\", \"Miles_per_Gallon\": 34.3, \"Cylinders\": 4, \"Displacement\": 97.0, \"Horsepower\": 78.0, \"Weight_in_lbs\": 2188, \"Acceleration\": 15.8, \"Year\": \"1980-01-01T00:00:00\", \"Origin\": \"Europe\"}, {\"Name\": \"toyota corona liftback\", \"Miles_per_Gallon\": 29.8, \"Cylinders\": 4, \"Displacement\": 134.0, \"Horsepower\": 90.0, \"Weight_in_lbs\": 2711, \"Acceleration\": 15.5, \"Year\": \"1980-01-01T00:00:00\", \"Origin\": \"Japan\"}, {\"Name\": \"mazda 626\", \"Miles_per_Gallon\": 31.3, \"Cylinders\": 4, \"Displacement\": 120.0, \"Horsepower\": 75.0, \"Weight_in_lbs\": 2542, \"Acceleration\": 17.5, \"Year\": \"1980-01-01T00:00:00\", \"Origin\": \"Japan\"}, {\"Name\": \"datsun 510 hatchback\", \"Miles_per_Gallon\": 37.0, \"Cylinders\": 4, \"Displacement\": 119.0, \"Horsepower\": 92.0, \"Weight_in_lbs\": 2434, \"Acceleration\": 15.0, \"Year\": \"1980-01-01T00:00:00\", \"Origin\": \"Japan\"}, {\"Name\": \"toyota corolla\", \"Miles_per_Gallon\": 32.2, \"Cylinders\": 4, \"Displacement\": 108.0, \"Horsepower\": 75.0, \"Weight_in_lbs\": 2265, \"Acceleration\": 15.2, \"Year\": \"1980-01-01T00:00:00\", \"Origin\": \"Japan\"}, {\"Name\": \"mazda glc\", \"Miles_per_Gallon\": 46.6, \"Cylinders\": 4, \"Displacement\": 86.0, \"Horsepower\": 65.0, \"Weight_in_lbs\": 2110, \"Acceleration\": 17.9, \"Year\": \"1980-01-01T00:00:00\", \"Origin\": \"Japan\"}, {\"Name\": \"dodge colt\", \"Miles_per_Gallon\": 27.9, \"Cylinders\": 4, \"Displacement\": 156.0, \"Horsepower\": 105.0, \"Weight_in_lbs\": 2800, \"Acceleration\": 14.4, \"Year\": \"1980-01-01T00:00:00\", \"Origin\": \"USA\"}, {\"Name\": \"datsun 210\", \"Miles_per_Gallon\": 40.8, \"Cylinders\": 4, \"Displacement\": 85.0, \"Horsepower\": 65.0, \"Weight_in_lbs\": 2110, \"Acceleration\": 19.2, \"Year\": \"1980-01-01T00:00:00\", \"Origin\": \"Japan\"}, {\"Name\": \"vw rabbit c (diesel)\", \"Miles_per_Gallon\": 44.3, \"Cylinders\": 4, \"Displacement\": 90.0, \"Horsepower\": 48.0, \"Weight_in_lbs\": 2085, \"Acceleration\": 21.7, \"Year\": \"1980-01-01T00:00:00\", \"Origin\": \"Europe\"}, {\"Name\": \"vw dasher (diesel)\", \"Miles_per_Gallon\": 43.4, \"Cylinders\": 4, \"Displacement\": 90.0, \"Horsepower\": 48.0, \"Weight_in_lbs\": 2335, \"Acceleration\": 23.7, \"Year\": \"1980-01-01T00:00:00\", \"Origin\": \"Europe\"}, {\"Name\": \"audi 5000s (diesel)\", \"Miles_per_Gallon\": 36.4, \"Cylinders\": 5, \"Displacement\": 121.0, \"Horsepower\": 67.0, \"Weight_in_lbs\": 2950, \"Acceleration\": 19.9, \"Year\": \"1980-01-01T00:00:00\", \"Origin\": \"Europe\"}, {\"Name\": \"mercedes-benz 240d\", \"Miles_per_Gallon\": 30.0, \"Cylinders\": 4, \"Displacement\": 146.0, \"Horsepower\": 67.0, \"Weight_in_lbs\": 3250, \"Acceleration\": 21.8, \"Year\": \"1980-01-01T00:00:00\", \"Origin\": \"Europe\"}, {\"Name\": \"honda civic 1500 gl\", \"Miles_per_Gallon\": 44.6, \"Cylinders\": 4, \"Displacement\": 91.0, \"Horsepower\": 67.0, \"Weight_in_lbs\": 1850, \"Acceleration\": 13.8, \"Year\": \"1980-01-01T00:00:00\", \"Origin\": \"Japan\"}, {\"Name\": \"renault lecar deluxe\", \"Miles_per_Gallon\": 40.9, \"Cylinders\": 4, \"Displacement\": 85.0, \"Horsepower\": null, \"Weight_in_lbs\": 1835, \"Acceleration\": 17.3, \"Year\": \"1980-01-01T00:00:00\", \"Origin\": \"Europe\"}, {\"Name\": \"subaru dl\", \"Miles_per_Gallon\": 33.8, \"Cylinders\": 4, \"Displacement\": 97.0, \"Horsepower\": 67.0, \"Weight_in_lbs\": 2145, \"Acceleration\": 18.0, \"Year\": \"1980-01-01T00:00:00\", \"Origin\": \"Japan\"}, {\"Name\": \"vokswagen rabbit\", \"Miles_per_Gallon\": 29.8, \"Cylinders\": 4, \"Displacement\": 89.0, \"Horsepower\": 62.0, \"Weight_in_lbs\": 1845, \"Acceleration\": 15.3, \"Year\": \"1980-01-01T00:00:00\", \"Origin\": \"Europe\"}, {\"Name\": \"datsun 280-zx\", \"Miles_per_Gallon\": 32.7, \"Cylinders\": 6, \"Displacement\": 168.0, \"Horsepower\": 132.0, \"Weight_in_lbs\": 2910, \"Acceleration\": 11.4, \"Year\": \"1980-01-01T00:00:00\", \"Origin\": \"Japan\"}, {\"Name\": \"mazda rx-7 gs\", \"Miles_per_Gallon\": 23.7, \"Cylinders\": 3, \"Displacement\": 70.0, \"Horsepower\": 100.0, \"Weight_in_lbs\": 2420, \"Acceleration\": 12.5, \"Year\": \"1980-01-01T00:00:00\", \"Origin\": \"Japan\"}, {\"Name\": \"triumph tr7 coupe\", \"Miles_per_Gallon\": 35.0, \"Cylinders\": 4, \"Displacement\": 122.0, \"Horsepower\": 88.0, \"Weight_in_lbs\": 2500, \"Acceleration\": 15.1, \"Year\": \"1980-01-01T00:00:00\", \"Origin\": \"Europe\"}, {\"Name\": \"ford mustang cobra\", \"Miles_per_Gallon\": 23.6, \"Cylinders\": 4, \"Displacement\": 140.0, \"Horsepower\": null, \"Weight_in_lbs\": 2905, \"Acceleration\": 14.3, \"Year\": \"1980-01-01T00:00:00\", \"Origin\": \"USA\"}, {\"Name\": \"honda Accelerationord\", \"Miles_per_Gallon\": 32.4, \"Cylinders\": 4, \"Displacement\": 107.0, \"Horsepower\": 72.0, \"Weight_in_lbs\": 2290, \"Acceleration\": 17.0, \"Year\": \"1980-01-01T00:00:00\", \"Origin\": \"Japan\"}, {\"Name\": \"plymouth reliant\", \"Miles_per_Gallon\": 27.2, \"Cylinders\": 4, \"Displacement\": 135.0, \"Horsepower\": 84.0, \"Weight_in_lbs\": 2490, \"Acceleration\": 15.7, \"Year\": \"1982-01-01T00:00:00\", \"Origin\": \"USA\"}, {\"Name\": \"buick skylark\", \"Miles_per_Gallon\": 26.6, \"Cylinders\": 4, \"Displacement\": 151.0, \"Horsepower\": 84.0, \"Weight_in_lbs\": 2635, \"Acceleration\": 16.4, \"Year\": \"1982-01-01T00:00:00\", \"Origin\": \"USA\"}, {\"Name\": \"dodge aries wagon (sw)\", \"Miles_per_Gallon\": 25.8, \"Cylinders\": 4, \"Displacement\": 156.0, \"Horsepower\": 92.0, \"Weight_in_lbs\": 2620, \"Acceleration\": 14.4, \"Year\": \"1982-01-01T00:00:00\", \"Origin\": \"USA\"}, {\"Name\": \"chevrolet citation\", \"Miles_per_Gallon\": 23.5, \"Cylinders\": 6, \"Displacement\": 173.0, \"Horsepower\": 110.0, \"Weight_in_lbs\": 2725, \"Acceleration\": 12.6, \"Year\": \"1982-01-01T00:00:00\", \"Origin\": \"USA\"}, {\"Name\": \"plymouth reliant\", \"Miles_per_Gallon\": 30.0, \"Cylinders\": 4, \"Displacement\": 135.0, \"Horsepower\": 84.0, \"Weight_in_lbs\": 2385, \"Acceleration\": 12.9, \"Year\": \"1982-01-01T00:00:00\", \"Origin\": \"USA\"}, {\"Name\": \"toyota starlet\", \"Miles_per_Gallon\": 39.1, \"Cylinders\": 4, \"Displacement\": 79.0, \"Horsepower\": 58.0, \"Weight_in_lbs\": 1755, \"Acceleration\": 16.9, \"Year\": \"1982-01-01T00:00:00\", \"Origin\": \"Japan\"}, {\"Name\": \"plymouth champ\", \"Miles_per_Gallon\": 39.0, \"Cylinders\": 4, \"Displacement\": 86.0, \"Horsepower\": 64.0, \"Weight_in_lbs\": 1875, \"Acceleration\": 16.4, \"Year\": \"1982-01-01T00:00:00\", \"Origin\": \"USA\"}, {\"Name\": \"honda civic 1300\", \"Miles_per_Gallon\": 35.1, \"Cylinders\": 4, \"Displacement\": 81.0, \"Horsepower\": 60.0, \"Weight_in_lbs\": 1760, \"Acceleration\": 16.1, \"Year\": \"1982-01-01T00:00:00\", \"Origin\": \"Japan\"}, {\"Name\": \"subaru\", \"Miles_per_Gallon\": 32.3, \"Cylinders\": 4, \"Displacement\": 97.0, \"Horsepower\": 67.0, \"Weight_in_lbs\": 2065, \"Acceleration\": 17.8, \"Year\": \"1982-01-01T00:00:00\", \"Origin\": \"Japan\"}, {\"Name\": \"datsun 210\", \"Miles_per_Gallon\": 37.0, \"Cylinders\": 4, \"Displacement\": 85.0, \"Horsepower\": 65.0, \"Weight_in_lbs\": 1975, \"Acceleration\": 19.4, \"Year\": \"1982-01-01T00:00:00\", \"Origin\": \"Japan\"}, {\"Name\": \"toyota tercel\", \"Miles_per_Gallon\": 37.7, \"Cylinders\": 4, \"Displacement\": 89.0, \"Horsepower\": 62.0, \"Weight_in_lbs\": 2050, \"Acceleration\": 17.3, \"Year\": \"1982-01-01T00:00:00\", \"Origin\": \"Japan\"}, {\"Name\": \"mazda glc 4\", \"Miles_per_Gallon\": 34.1, \"Cylinders\": 4, \"Displacement\": 91.0, \"Horsepower\": 68.0, \"Weight_in_lbs\": 1985, \"Acceleration\": 16.0, \"Year\": \"1982-01-01T00:00:00\", \"Origin\": \"Japan\"}, {\"Name\": \"plymouth horizon 4\", \"Miles_per_Gallon\": 34.7, \"Cylinders\": 4, \"Displacement\": 105.0, \"Horsepower\": 63.0, \"Weight_in_lbs\": 2215, \"Acceleration\": 14.9, \"Year\": \"1982-01-01T00:00:00\", \"Origin\": \"USA\"}, {\"Name\": \"ford escort 4w\", \"Miles_per_Gallon\": 34.4, \"Cylinders\": 4, \"Displacement\": 98.0, \"Horsepower\": 65.0, \"Weight_in_lbs\": 2045, \"Acceleration\": 16.2, \"Year\": \"1982-01-01T00:00:00\", \"Origin\": \"USA\"}, {\"Name\": \"ford escort 2h\", \"Miles_per_Gallon\": 29.9, \"Cylinders\": 4, \"Displacement\": 98.0, \"Horsepower\": 65.0, \"Weight_in_lbs\": 2380, \"Acceleration\": 20.7, \"Year\": \"1982-01-01T00:00:00\", \"Origin\": \"USA\"}, {\"Name\": \"volkswagen jetta\", \"Miles_per_Gallon\": 33.0, \"Cylinders\": 4, \"Displacement\": 105.0, \"Horsepower\": 74.0, \"Weight_in_lbs\": 2190, \"Acceleration\": 14.2, \"Year\": \"1982-01-01T00:00:00\", \"Origin\": \"Europe\"}, {\"Name\": \"renault 18i\", \"Miles_per_Gallon\": 34.5, \"Cylinders\": 4, \"Displacement\": 100.0, \"Horsepower\": null, \"Weight_in_lbs\": 2320, \"Acceleration\": 15.8, \"Year\": \"1982-01-01T00:00:00\", \"Origin\": \"Europe\"}, {\"Name\": \"honda prelude\", \"Miles_per_Gallon\": 33.7, \"Cylinders\": 4, \"Displacement\": 107.0, \"Horsepower\": 75.0, \"Weight_in_lbs\": 2210, \"Acceleration\": 14.4, \"Year\": \"1982-01-01T00:00:00\", \"Origin\": \"Japan\"}, {\"Name\": \"toyota corolla\", \"Miles_per_Gallon\": 32.4, \"Cylinders\": 4, \"Displacement\": 108.0, \"Horsepower\": 75.0, \"Weight_in_lbs\": 2350, \"Acceleration\": 16.8, \"Year\": \"1982-01-01T00:00:00\", \"Origin\": \"Japan\"}, {\"Name\": \"datsun 200sx\", \"Miles_per_Gallon\": 32.9, \"Cylinders\": 4, \"Displacement\": 119.0, \"Horsepower\": 100.0, \"Weight_in_lbs\": 2615, \"Acceleration\": 14.8, \"Year\": \"1982-01-01T00:00:00\", \"Origin\": \"Japan\"}, {\"Name\": \"mazda 626\", \"Miles_per_Gallon\": 31.6, \"Cylinders\": 4, \"Displacement\": 120.0, \"Horsepower\": 74.0, \"Weight_in_lbs\": 2635, \"Acceleration\": 18.3, \"Year\": \"1982-01-01T00:00:00\", \"Origin\": \"Japan\"}, {\"Name\": \"peugeot 505s turbo diesel\", \"Miles_per_Gallon\": 28.1, \"Cylinders\": 4, \"Displacement\": 141.0, \"Horsepower\": 80.0, \"Weight_in_lbs\": 3230, \"Acceleration\": 20.4, \"Year\": \"1982-01-01T00:00:00\", \"Origin\": \"Europe\"}, {\"Name\": \"saab 900s\", \"Miles_per_Gallon\": null, \"Cylinders\": 4, \"Displacement\": 121.0, \"Horsepower\": 110.0, \"Weight_in_lbs\": 2800, \"Acceleration\": 15.4, \"Year\": \"1982-01-01T00:00:00\", \"Origin\": \"Europe\"}, {\"Name\": \"volvo diesel\", \"Miles_per_Gallon\": 30.7, \"Cylinders\": 6, \"Displacement\": 145.0, \"Horsepower\": 76.0, \"Weight_in_lbs\": 3160, \"Acceleration\": 19.6, \"Year\": \"1982-01-01T00:00:00\", \"Origin\": \"Europe\"}, {\"Name\": \"toyota cressida\", \"Miles_per_Gallon\": 25.4, \"Cylinders\": 6, \"Displacement\": 168.0, \"Horsepower\": 116.0, \"Weight_in_lbs\": 2900, \"Acceleration\": 12.6, \"Year\": \"1982-01-01T00:00:00\", \"Origin\": \"Japan\"}, {\"Name\": \"datsun 810 maxima\", \"Miles_per_Gallon\": 24.2, \"Cylinders\": 6, \"Displacement\": 146.0, \"Horsepower\": 120.0, \"Weight_in_lbs\": 2930, \"Acceleration\": 13.8, \"Year\": \"1982-01-01T00:00:00\", \"Origin\": \"Japan\"}, {\"Name\": \"buick century\", \"Miles_per_Gallon\": 22.4, \"Cylinders\": 6, \"Displacement\": 231.0, \"Horsepower\": 110.0, \"Weight_in_lbs\": 3415, \"Acceleration\": 15.8, \"Year\": \"1982-01-01T00:00:00\", \"Origin\": \"USA\"}, {\"Name\": \"oldsmobile cutlass ls\", \"Miles_per_Gallon\": 26.6, \"Cylinders\": 8, \"Displacement\": 350.0, \"Horsepower\": 105.0, \"Weight_in_lbs\": 3725, \"Acceleration\": 19.0, \"Year\": \"1982-01-01T00:00:00\", \"Origin\": \"USA\"}, {\"Name\": \"ford granada gl\", \"Miles_per_Gallon\": 20.2, \"Cylinders\": 6, \"Displacement\": 200.0, \"Horsepower\": 88.0, \"Weight_in_lbs\": 3060, \"Acceleration\": 17.1, \"Year\": \"1982-01-01T00:00:00\", \"Origin\": \"USA\"}, {\"Name\": \"chrysler lebaron salon\", \"Miles_per_Gallon\": 17.6, \"Cylinders\": 6, \"Displacement\": 225.0, \"Horsepower\": 85.0, \"Weight_in_lbs\": 3465, \"Acceleration\": 16.6, \"Year\": \"1982-01-01T00:00:00\", \"Origin\": \"USA\"}, {\"Name\": \"chevrolet cavalier\", \"Miles_per_Gallon\": 28.0, \"Cylinders\": 4, \"Displacement\": 112.0, \"Horsepower\": 88.0, \"Weight_in_lbs\": 2605, \"Acceleration\": 19.6, \"Year\": \"1982-01-01T00:00:00\", \"Origin\": \"USA\"}, {\"Name\": \"chevrolet cavalier wagon\", \"Miles_per_Gallon\": 27.0, \"Cylinders\": 4, \"Displacement\": 112.0, \"Horsepower\": 88.0, \"Weight_in_lbs\": 2640, \"Acceleration\": 18.6, \"Year\": \"1982-01-01T00:00:00\", \"Origin\": \"USA\"}, {\"Name\": \"chevrolet cavalier 2-door\", \"Miles_per_Gallon\": 34.0, \"Cylinders\": 4, \"Displacement\": 112.0, \"Horsepower\": 88.0, \"Weight_in_lbs\": 2395, \"Acceleration\": 18.0, \"Year\": \"1982-01-01T00:00:00\", \"Origin\": \"USA\"}, {\"Name\": \"pontiac j2000 se hatchback\", \"Miles_per_Gallon\": 31.0, \"Cylinders\": 4, \"Displacement\": 112.0, \"Horsepower\": 85.0, \"Weight_in_lbs\": 2575, \"Acceleration\": 16.2, \"Year\": \"1982-01-01T00:00:00\", \"Origin\": \"USA\"}, {\"Name\": \"dodge aries se\", \"Miles_per_Gallon\": 29.0, \"Cylinders\": 4, \"Displacement\": 135.0, \"Horsepower\": 84.0, \"Weight_in_lbs\": 2525, \"Acceleration\": 16.0, \"Year\": \"1982-01-01T00:00:00\", \"Origin\": \"USA\"}, {\"Name\": \"pontiac phoenix\", \"Miles_per_Gallon\": 27.0, \"Cylinders\": 4, \"Displacement\": 151.0, \"Horsepower\": 90.0, \"Weight_in_lbs\": 2735, \"Acceleration\": 18.0, \"Year\": \"1982-01-01T00:00:00\", \"Origin\": \"USA\"}, {\"Name\": \"ford fairmont futura\", \"Miles_per_Gallon\": 24.0, \"Cylinders\": 4, \"Displacement\": 140.0, \"Horsepower\": 92.0, \"Weight_in_lbs\": 2865, \"Acceleration\": 16.4, \"Year\": \"1982-01-01T00:00:00\", \"Origin\": \"USA\"}, {\"Name\": \"amc concord dl\", \"Miles_per_Gallon\": 23.0, \"Cylinders\": 4, \"Displacement\": 151.0, \"Horsepower\": null, \"Weight_in_lbs\": 3035, \"Acceleration\": 20.5, \"Year\": \"1982-01-01T00:00:00\", \"Origin\": \"USA\"}, {\"Name\": \"volkswagen rabbit l\", \"Miles_per_Gallon\": 36.0, \"Cylinders\": 4, \"Displacement\": 105.0, \"Horsepower\": 74.0, \"Weight_in_lbs\": 1980, \"Acceleration\": 15.3, \"Year\": \"1982-01-01T00:00:00\", \"Origin\": \"Europe\"}, {\"Name\": \"mazda glc custom l\", \"Miles_per_Gallon\": 37.0, \"Cylinders\": 4, \"Displacement\": 91.0, \"Horsepower\": 68.0, \"Weight_in_lbs\": 2025, \"Acceleration\": 18.2, \"Year\": \"1982-01-01T00:00:00\", \"Origin\": \"Japan\"}, {\"Name\": \"mazda glc custom\", \"Miles_per_Gallon\": 31.0, \"Cylinders\": 4, \"Displacement\": 91.0, \"Horsepower\": 68.0, \"Weight_in_lbs\": 1970, \"Acceleration\": 17.6, \"Year\": \"1982-01-01T00:00:00\", \"Origin\": \"Japan\"}, {\"Name\": \"plymouth horizon miser\", \"Miles_per_Gallon\": 38.0, \"Cylinders\": 4, \"Displacement\": 105.0, \"Horsepower\": 63.0, \"Weight_in_lbs\": 2125, \"Acceleration\": 14.7, \"Year\": \"1982-01-01T00:00:00\", \"Origin\": \"USA\"}, {\"Name\": \"mercury lynx l\", \"Miles_per_Gallon\": 36.0, \"Cylinders\": 4, \"Displacement\": 98.0, \"Horsepower\": 70.0, \"Weight_in_lbs\": 2125, \"Acceleration\": 17.3, \"Year\": \"1982-01-01T00:00:00\", \"Origin\": \"USA\"}, {\"Name\": \"nissan stanza xe\", \"Miles_per_Gallon\": 36.0, \"Cylinders\": 4, \"Displacement\": 120.0, \"Horsepower\": 88.0, \"Weight_in_lbs\": 2160, \"Acceleration\": 14.5, \"Year\": \"1982-01-01T00:00:00\", \"Origin\": \"Japan\"}, {\"Name\": \"honda Accelerationord\", \"Miles_per_Gallon\": 36.0, \"Cylinders\": 4, \"Displacement\": 107.0, \"Horsepower\": 75.0, \"Weight_in_lbs\": 2205, \"Acceleration\": 14.5, \"Year\": \"1982-01-01T00:00:00\", \"Origin\": \"Japan\"}, {\"Name\": \"toyota corolla\", \"Miles_per_Gallon\": 34.0, \"Cylinders\": 4, \"Displacement\": 108.0, \"Horsepower\": 70.0, \"Weight_in_lbs\": 2245, \"Acceleration\": 16.9, \"Year\": \"1982-01-01T00:00:00\", \"Origin\": \"Japan\"}, {\"Name\": \"honda civic\", \"Miles_per_Gallon\": 38.0, \"Cylinders\": 4, \"Displacement\": 91.0, \"Horsepower\": 67.0, \"Weight_in_lbs\": 1965, \"Acceleration\": 15.0, \"Year\": \"1982-01-01T00:00:00\", \"Origin\": \"Japan\"}, {\"Name\": \"honda civic (auto)\", \"Miles_per_Gallon\": 32.0, \"Cylinders\": 4, \"Displacement\": 91.0, \"Horsepower\": 67.0, \"Weight_in_lbs\": 1965, \"Acceleration\": 15.7, \"Year\": \"1982-01-01T00:00:00\", \"Origin\": \"Japan\"}, {\"Name\": \"datsun 310 gx\", \"Miles_per_Gallon\": 38.0, \"Cylinders\": 4, \"Displacement\": 91.0, \"Horsepower\": 67.0, \"Weight_in_lbs\": 1995, \"Acceleration\": 16.2, \"Year\": \"1982-01-01T00:00:00\", \"Origin\": \"Japan\"}, {\"Name\": \"buick century limited\", \"Miles_per_Gallon\": 25.0, \"Cylinders\": 6, \"Displacement\": 181.0, \"Horsepower\": 110.0, \"Weight_in_lbs\": 2945, \"Acceleration\": 16.4, \"Year\": \"1982-01-01T00:00:00\", \"Origin\": \"USA\"}, {\"Name\": \"oldsmobile cutlass ciera (diesel)\", \"Miles_per_Gallon\": 38.0, \"Cylinders\": 6, \"Displacement\": 262.0, \"Horsepower\": 85.0, \"Weight_in_lbs\": 3015, \"Acceleration\": 17.0, \"Year\": \"1982-01-01T00:00:00\", \"Origin\": \"USA\"}, {\"Name\": \"chrysler lebaron medallion\", \"Miles_per_Gallon\": 26.0, \"Cylinders\": 4, \"Displacement\": 156.0, \"Horsepower\": 92.0, \"Weight_in_lbs\": 2585, \"Acceleration\": 14.5, \"Year\": \"1982-01-01T00:00:00\", \"Origin\": \"USA\"}, {\"Name\": \"ford granada l\", \"Miles_per_Gallon\": 22.0, \"Cylinders\": 6, \"Displacement\": 232.0, \"Horsepower\": 112.0, \"Weight_in_lbs\": 2835, \"Acceleration\": 14.7, \"Year\": \"1982-01-01T00:00:00\", \"Origin\": \"USA\"}, {\"Name\": \"toyota celica gt\", \"Miles_per_Gallon\": 32.0, \"Cylinders\": 4, \"Displacement\": 144.0, \"Horsepower\": 96.0, \"Weight_in_lbs\": 2665, \"Acceleration\": 13.9, \"Year\": \"1982-01-01T00:00:00\", \"Origin\": \"Japan\"}, {\"Name\": \"dodge charger 2.2\", \"Miles_per_Gallon\": 36.0, \"Cylinders\": 4, \"Displacement\": 135.0, \"Horsepower\": 84.0, \"Weight_in_lbs\": 2370, \"Acceleration\": 13.0, \"Year\": \"1982-01-01T00:00:00\", \"Origin\": \"USA\"}, {\"Name\": \"chevrolet camaro\", \"Miles_per_Gallon\": 27.0, \"Cylinders\": 4, \"Displacement\": 151.0, \"Horsepower\": 90.0, \"Weight_in_lbs\": 2950, \"Acceleration\": 17.3, \"Year\": \"1982-01-01T00:00:00\", \"Origin\": \"USA\"}, {\"Name\": \"ford mustang gl\", \"Miles_per_Gallon\": 27.0, \"Cylinders\": 4, \"Displacement\": 140.0, \"Horsepower\": 86.0, \"Weight_in_lbs\": 2790, \"Acceleration\": 15.6, \"Year\": \"1982-01-01T00:00:00\", \"Origin\": \"USA\"}, {\"Name\": \"vw pickup\", \"Miles_per_Gallon\": 44.0, \"Cylinders\": 4, \"Displacement\": 97.0, \"Horsepower\": 52.0, \"Weight_in_lbs\": 2130, \"Acceleration\": 24.6, \"Year\": \"1982-01-01T00:00:00\", \"Origin\": \"Europe\"}, {\"Name\": \"dodge rampage\", \"Miles_per_Gallon\": 32.0, \"Cylinders\": 4, \"Displacement\": 135.0, \"Horsepower\": 84.0, \"Weight_in_lbs\": 2295, \"Acceleration\": 11.6, \"Year\": \"1982-01-01T00:00:00\", \"Origin\": \"USA\"}, {\"Name\": \"ford ranger\", \"Miles_per_Gallon\": 28.0, \"Cylinders\": 4, \"Displacement\": 120.0, \"Horsepower\": 79.0, \"Weight_in_lbs\": 2625, \"Acceleration\": 18.6, \"Year\": \"1982-01-01T00:00:00\", \"Origin\": \"USA\"}, {\"Name\": \"chevy s-10\", \"Miles_per_Gallon\": 31.0, \"Cylinders\": 4, \"Displacement\": 119.0, \"Horsepower\": 82.0, \"Weight_in_lbs\": 2720, \"Acceleration\": 19.4, \"Year\": \"1982-01-01T00:00:00\", \"Origin\": \"USA\"}]}}, {\"mode\": \"vega-lite\"});\n",
       "</script>"
      ],
      "text/plain": [
       "alt.Chart(...)"
      ]
     },
     "execution_count": 33,
     "metadata": {},
     "output_type": "execute_result"
    }
   ],
   "source": [
    "alt.Chart(source).mark_tick().encode(\n",
    "    x='Horsepower:Q',\n",
    "    y='Cylinders:O'\n",
    ")"
   ]
  },
  {
   "cell_type": "markdown",
   "metadata": {},
   "source": [
    "### mark_rect()"
   ]
  },
  {
   "cell_type": "code",
   "execution_count": 35,
   "metadata": {},
   "outputs": [],
   "source": [
    "x, y = np.meshgrid(range(-5, 5), range(-5, 5))\n",
    "z = x ** 2 + y ** 2"
   ]
  },
  {
   "cell_type": "code",
   "execution_count": 37,
   "metadata": {},
   "outputs": [
    {
     "data": {
      "text/plain": [
       "array([[-5, -4, -3, -2, -1,  0,  1,  2,  3,  4],\n",
       "       [-5, -4, -3, -2, -1,  0,  1,  2,  3,  4],\n",
       "       [-5, -4, -3, -2, -1,  0,  1,  2,  3,  4],\n",
       "       [-5, -4, -3, -2, -1,  0,  1,  2,  3,  4],\n",
       "       [-5, -4, -3, -2, -1,  0,  1,  2,  3,  4],\n",
       "       [-5, -4, -3, -2, -1,  0,  1,  2,  3,  4],\n",
       "       [-5, -4, -3, -2, -1,  0,  1,  2,  3,  4],\n",
       "       [-5, -4, -3, -2, -1,  0,  1,  2,  3,  4],\n",
       "       [-5, -4, -3, -2, -1,  0,  1,  2,  3,  4],\n",
       "       [-5, -4, -3, -2, -1,  0,  1,  2,  3,  4]])"
      ]
     },
     "execution_count": 37,
     "metadata": {},
     "output_type": "execute_result"
    }
   ],
   "source": [
    "x"
   ]
  },
  {
   "cell_type": "code",
   "execution_count": 36,
   "metadata": {},
   "outputs": [
    {
     "data": {
      "text/plain": [
       "array([-5, -4, -3, -2, -1,  0,  1,  2,  3,  4, -5, -4, -3, -2, -1,  0,  1,\n",
       "        2,  3,  4, -5, -4, -3, -2, -1,  0,  1,  2,  3,  4, -5, -4, -3, -2,\n",
       "       -1,  0,  1,  2,  3,  4, -5, -4, -3, -2, -1,  0,  1,  2,  3,  4, -5,\n",
       "       -4, -3, -2, -1,  0,  1,  2,  3,  4, -5, -4, -3, -2, -1,  0,  1,  2,\n",
       "        3,  4, -5, -4, -3, -2, -1,  0,  1,  2,  3,  4, -5, -4, -3, -2, -1,\n",
       "        0,  1,  2,  3,  4, -5, -4, -3, -2, -1,  0,  1,  2,  3,  4])"
      ]
     },
     "execution_count": 36,
     "metadata": {},
     "output_type": "execute_result"
    }
   ],
   "source": [
    "x.ravel()"
   ]
  },
  {
   "cell_type": "code",
   "execution_count": 38,
   "metadata": {},
   "outputs": [
    {
     "data": {
      "text/html": [
       "\n",
       "<div id=\"altair-viz-7c4af92726574155a85e8dd7e034f515\"></div>\n",
       "<script type=\"text/javascript\">\n",
       "  (function(spec, embedOpt){\n",
       "    let outputDiv = document.currentScript.previousElementSibling;\n",
       "    if (outputDiv.id !== \"altair-viz-7c4af92726574155a85e8dd7e034f515\") {\n",
       "      outputDiv = document.getElementById(\"altair-viz-7c4af92726574155a85e8dd7e034f515\");\n",
       "    }\n",
       "    const paths = {\n",
       "      \"vega\": \"https://cdn.jsdelivr.net/npm//vega@5?noext\",\n",
       "      \"vega-lib\": \"https://cdn.jsdelivr.net/npm//vega-lib?noext\",\n",
       "      \"vega-lite\": \"https://cdn.jsdelivr.net/npm//vega-lite@4.8.1?noext\",\n",
       "      \"vega-embed\": \"https://cdn.jsdelivr.net/npm//vega-embed@6?noext\",\n",
       "    };\n",
       "\n",
       "    function loadScript(lib) {\n",
       "      return new Promise(function(resolve, reject) {\n",
       "        var s = document.createElement('script');\n",
       "        s.src = paths[lib];\n",
       "        s.async = true;\n",
       "        s.onload = () => resolve(paths[lib]);\n",
       "        s.onerror = () => reject(`Error loading script: ${paths[lib]}`);\n",
       "        document.getElementsByTagName(\"head\")[0].appendChild(s);\n",
       "      });\n",
       "    }\n",
       "\n",
       "    function showError(err) {\n",
       "      outputDiv.innerHTML = `<div class=\"error\" style=\"color:red;\">${err}</div>`;\n",
       "      throw err;\n",
       "    }\n",
       "\n",
       "    function displayChart(vegaEmbed) {\n",
       "      vegaEmbed(outputDiv, spec, embedOpt)\n",
       "        .catch(err => showError(`Javascript Error: ${err.message}<br>This usually means there's a typo in your chart specification. See the javascript console for the full traceback.`));\n",
       "    }\n",
       "\n",
       "    if(typeof define === \"function\" && define.amd) {\n",
       "      requirejs.config({paths});\n",
       "      require([\"vega-embed\"], displayChart, err => showError(`Error loading script: ${err.message}`));\n",
       "    } else if (typeof vegaEmbed === \"function\") {\n",
       "      displayChart(vegaEmbed);\n",
       "    } else {\n",
       "      loadScript(\"vega\")\n",
       "        .then(() => loadScript(\"vega-lite\"))\n",
       "        .then(() => loadScript(\"vega-embed\"))\n",
       "        .catch(showError)\n",
       "        .then(() => displayChart(vegaEmbed));\n",
       "    }\n",
       "  })({\"config\": {\"view\": {\"continuousWidth\": 400, \"continuousHeight\": 300}}, \"data\": {\"name\": \"data-1487c93b91dee61ec4c167e470e512f4\"}, \"mark\": \"rect\", \"encoding\": {\"color\": {\"type\": \"quantitative\", \"field\": \"z\"}, \"x\": {\"type\": \"ordinal\", \"field\": \"x\"}, \"y\": {\"type\": \"ordinal\", \"field\": \"y\"}}, \"$schema\": \"https://vega.github.io/schema/vega-lite/v4.8.1.json\", \"datasets\": {\"data-1487c93b91dee61ec4c167e470e512f4\": [{\"x\": -5, \"y\": -5, \"z\": 50}, {\"x\": -4, \"y\": -5, \"z\": 41}, {\"x\": -3, \"y\": -5, \"z\": 34}, {\"x\": -2, \"y\": -5, \"z\": 29}, {\"x\": -1, \"y\": -5, \"z\": 26}, {\"x\": 0, \"y\": -5, \"z\": 25}, {\"x\": 1, \"y\": -5, \"z\": 26}, {\"x\": 2, \"y\": -5, \"z\": 29}, {\"x\": 3, \"y\": -5, \"z\": 34}, {\"x\": 4, \"y\": -5, \"z\": 41}, {\"x\": -5, \"y\": -4, \"z\": 41}, {\"x\": -4, \"y\": -4, \"z\": 32}, {\"x\": -3, \"y\": -4, \"z\": 25}, {\"x\": -2, \"y\": -4, \"z\": 20}, {\"x\": -1, \"y\": -4, \"z\": 17}, {\"x\": 0, \"y\": -4, \"z\": 16}, {\"x\": 1, \"y\": -4, \"z\": 17}, {\"x\": 2, \"y\": -4, \"z\": 20}, {\"x\": 3, \"y\": -4, \"z\": 25}, {\"x\": 4, \"y\": -4, \"z\": 32}, {\"x\": -5, \"y\": -3, \"z\": 34}, {\"x\": -4, \"y\": -3, \"z\": 25}, {\"x\": -3, \"y\": -3, \"z\": 18}, {\"x\": -2, \"y\": -3, \"z\": 13}, {\"x\": -1, \"y\": -3, \"z\": 10}, {\"x\": 0, \"y\": -3, \"z\": 9}, {\"x\": 1, \"y\": -3, \"z\": 10}, {\"x\": 2, \"y\": -3, \"z\": 13}, {\"x\": 3, \"y\": -3, \"z\": 18}, {\"x\": 4, \"y\": -3, \"z\": 25}, {\"x\": -5, \"y\": -2, \"z\": 29}, {\"x\": -4, \"y\": -2, \"z\": 20}, {\"x\": -3, \"y\": -2, \"z\": 13}, {\"x\": -2, \"y\": -2, \"z\": 8}, {\"x\": -1, \"y\": -2, \"z\": 5}, {\"x\": 0, \"y\": -2, \"z\": 4}, {\"x\": 1, \"y\": -2, \"z\": 5}, {\"x\": 2, \"y\": -2, \"z\": 8}, {\"x\": 3, \"y\": -2, \"z\": 13}, {\"x\": 4, \"y\": -2, \"z\": 20}, {\"x\": -5, \"y\": -1, \"z\": 26}, {\"x\": -4, \"y\": -1, \"z\": 17}, {\"x\": -3, \"y\": -1, \"z\": 10}, {\"x\": -2, \"y\": -1, \"z\": 5}, {\"x\": -1, \"y\": -1, \"z\": 2}, {\"x\": 0, \"y\": -1, \"z\": 1}, {\"x\": 1, \"y\": -1, \"z\": 2}, {\"x\": 2, \"y\": -1, \"z\": 5}, {\"x\": 3, \"y\": -1, \"z\": 10}, {\"x\": 4, \"y\": -1, \"z\": 17}, {\"x\": -5, \"y\": 0, \"z\": 25}, {\"x\": -4, \"y\": 0, \"z\": 16}, {\"x\": -3, \"y\": 0, \"z\": 9}, {\"x\": -2, \"y\": 0, \"z\": 4}, {\"x\": -1, \"y\": 0, \"z\": 1}, {\"x\": 0, \"y\": 0, \"z\": 0}, {\"x\": 1, \"y\": 0, \"z\": 1}, {\"x\": 2, \"y\": 0, \"z\": 4}, {\"x\": 3, \"y\": 0, \"z\": 9}, {\"x\": 4, \"y\": 0, \"z\": 16}, {\"x\": -5, \"y\": 1, \"z\": 26}, {\"x\": -4, \"y\": 1, \"z\": 17}, {\"x\": -3, \"y\": 1, \"z\": 10}, {\"x\": -2, \"y\": 1, \"z\": 5}, {\"x\": -1, \"y\": 1, \"z\": 2}, {\"x\": 0, \"y\": 1, \"z\": 1}, {\"x\": 1, \"y\": 1, \"z\": 2}, {\"x\": 2, \"y\": 1, \"z\": 5}, {\"x\": 3, \"y\": 1, \"z\": 10}, {\"x\": 4, \"y\": 1, \"z\": 17}, {\"x\": -5, \"y\": 2, \"z\": 29}, {\"x\": -4, \"y\": 2, \"z\": 20}, {\"x\": -3, \"y\": 2, \"z\": 13}, {\"x\": -2, \"y\": 2, \"z\": 8}, {\"x\": -1, \"y\": 2, \"z\": 5}, {\"x\": 0, \"y\": 2, \"z\": 4}, {\"x\": 1, \"y\": 2, \"z\": 5}, {\"x\": 2, \"y\": 2, \"z\": 8}, {\"x\": 3, \"y\": 2, \"z\": 13}, {\"x\": 4, \"y\": 2, \"z\": 20}, {\"x\": -5, \"y\": 3, \"z\": 34}, {\"x\": -4, \"y\": 3, \"z\": 25}, {\"x\": -3, \"y\": 3, \"z\": 18}, {\"x\": -2, \"y\": 3, \"z\": 13}, {\"x\": -1, \"y\": 3, \"z\": 10}, {\"x\": 0, \"y\": 3, \"z\": 9}, {\"x\": 1, \"y\": 3, \"z\": 10}, {\"x\": 2, \"y\": 3, \"z\": 13}, {\"x\": 3, \"y\": 3, \"z\": 18}, {\"x\": 4, \"y\": 3, \"z\": 25}, {\"x\": -5, \"y\": 4, \"z\": 41}, {\"x\": -4, \"y\": 4, \"z\": 32}, {\"x\": -3, \"y\": 4, \"z\": 25}, {\"x\": -2, \"y\": 4, \"z\": 20}, {\"x\": -1, \"y\": 4, \"z\": 17}, {\"x\": 0, \"y\": 4, \"z\": 16}, {\"x\": 1, \"y\": 4, \"z\": 17}, {\"x\": 2, \"y\": 4, \"z\": 20}, {\"x\": 3, \"y\": 4, \"z\": 25}, {\"x\": 4, \"y\": 4, \"z\": 32}]}}, {\"mode\": \"vega-lite\"});\n",
       "</script>"
      ],
      "text/plain": [
       "alt.Chart(...)"
      ]
     },
     "execution_count": 38,
     "metadata": {},
     "output_type": "execute_result"
    }
   ],
   "source": [
    "source = pd.DataFrame({'x': x.ravel(),\n",
    "                     'y': y.ravel(),\n",
    "                     'z': z.ravel()})\n",
    "\n",
    "alt.Chart(source).mark_rect().encode(\n",
    "    x='x:O',\n",
    "    y='y:O',\n",
    "    color='z:Q'\n",
    ")"
   ]
  },
  {
   "cell_type": "code",
   "execution_count": 102,
   "metadata": {},
   "outputs": [
    {
     "data": {
      "text/html": [
       "<div>\n",
       "<style scoped>\n",
       "    .dataframe tbody tr th:only-of-type {\n",
       "        vertical-align: middle;\n",
       "    }\n",
       "\n",
       "    .dataframe tbody tr th {\n",
       "        vertical-align: top;\n",
       "    }\n",
       "\n",
       "    .dataframe thead th {\n",
       "        text-align: right;\n",
       "    }\n",
       "</style>\n",
       "<table border=\"1\" class=\"dataframe\">\n",
       "  <thead>\n",
       "    <tr style=\"text-align: right;\">\n",
       "      <th></th>\n",
       "      <th>Gene_count</th>\n",
       "      <th>Description</th>\n",
       "      <th>-log(qvalue)</th>\n",
       "      <th>GeneRatio</th>\n",
       "      <th>Category</th>\n",
       "    </tr>\n",
       "  </thead>\n",
       "  <tbody>\n",
       "    <tr>\n",
       "      <th>0</th>\n",
       "      <td>1</td>\n",
       "      <td>G1</td>\n",
       "      <td>15</td>\n",
       "      <td>0.01</td>\n",
       "      <td>GO BP</td>\n",
       "    </tr>\n",
       "    <tr>\n",
       "      <th>1</th>\n",
       "      <td>2</td>\n",
       "      <td>G2</td>\n",
       "      <td>100</td>\n",
       "      <td>0.50</td>\n",
       "      <td>GO CC</td>\n",
       "    </tr>\n",
       "    <tr>\n",
       "      <th>2</th>\n",
       "      <td>3</td>\n",
       "      <td>G3</td>\n",
       "      <td>12</td>\n",
       "      <td>0.08</td>\n",
       "      <td>GO MF</td>\n",
       "    </tr>\n",
       "    <tr>\n",
       "      <th>3</th>\n",
       "      <td>4</td>\n",
       "      <td>G4</td>\n",
       "      <td>80</td>\n",
       "      <td>0.10</td>\n",
       "      <td>GO BP</td>\n",
       "    </tr>\n",
       "    <tr>\n",
       "      <th>4</th>\n",
       "      <td>5</td>\n",
       "      <td>G5</td>\n",
       "      <td>20</td>\n",
       "      <td>0.25</td>\n",
       "      <td>GO CC</td>\n",
       "    </tr>\n",
       "    <tr>\n",
       "      <th>5</th>\n",
       "      <td>6</td>\n",
       "      <td>G6</td>\n",
       "      <td>50</td>\n",
       "      <td>0.20</td>\n",
       "      <td>GO MF</td>\n",
       "    </tr>\n",
       "  </tbody>\n",
       "</table>\n",
       "</div>"
      ],
      "text/plain": [
       "   Gene_count Description  -log(qvalue)  GeneRatio Category\n",
       "0           1          G1            15       0.01    GO BP\n",
       "1           2          G2           100       0.50    GO CC\n",
       "2           3          G3            12       0.08    GO MF\n",
       "3           4          G4            80       0.10    GO BP\n",
       "4           5          G5            20       0.25    GO CC\n",
       "5           6          G6            50       0.20    GO MF"
      ]
     },
     "execution_count": 102,
     "metadata": {},
     "output_type": "execute_result"
    }
   ],
   "source": [
    "df_gene_expr = pd.DataFrame({'Gene_count':[1,2,3,4,5,6],\n",
    "                             'Description':['G1','G2','G3','G4','G5','G6'],\n",
    "                            '-log(qvalue)':[15,100,12,80,20,50],\n",
    "                            'GeneRatio':[0.01,0.5,0.08,0.1,0.25,0.2],\n",
    "                            'Category':['GO BP','GO CC','GO MF','GO BP','GO CC','GO MF']})\n",
    "df_gene_expr"
   ]
  },
  {
   "cell_type": "code",
   "execution_count": 95,
   "metadata": {},
   "outputs": [
    {
     "data": {
      "text/html": [
       "<div>\n",
       "<style scoped>\n",
       "    .dataframe tbody tr th:only-of-type {\n",
       "        vertical-align: middle;\n",
       "    }\n",
       "\n",
       "    .dataframe tbody tr th {\n",
       "        vertical-align: top;\n",
       "    }\n",
       "\n",
       "    .dataframe thead th {\n",
       "        text-align: right;\n",
       "    }\n",
       "</style>\n",
       "<table border=\"1\" class=\"dataframe\">\n",
       "  <thead>\n",
       "    <tr style=\"text-align: right;\">\n",
       "      <th></th>\n",
       "      <th>Gene_count</th>\n",
       "      <th>Description</th>\n",
       "      <th>qvalue</th>\n",
       "      <th>GeneRatio</th>\n",
       "      <th>Category</th>\n",
       "    </tr>\n",
       "  </thead>\n",
       "  <tbody>\n",
       "    <tr>\n",
       "      <th>0</th>\n",
       "      <td>1</td>\n",
       "      <td>G1</td>\n",
       "      <td>15</td>\n",
       "      <td>0.01</td>\n",
       "      <td>GO BP</td>\n",
       "    </tr>\n",
       "    <tr>\n",
       "      <th>3</th>\n",
       "      <td>4</td>\n",
       "      <td>G4</td>\n",
       "      <td>80</td>\n",
       "      <td>0.10</td>\n",
       "      <td>GO BP</td>\n",
       "    </tr>\n",
       "  </tbody>\n",
       "</table>\n",
       "</div>"
      ],
      "text/plain": [
       "   Gene_count Description  qvalue  GeneRatio Category\n",
       "0           1          G1      15       0.01    GO BP\n",
       "3           4          G4      80       0.10    GO BP"
      ]
     },
     "execution_count": 95,
     "metadata": {},
     "output_type": "execute_result"
    }
   ],
   "source": [
    "df_gene_expr_bp = df_gene_expr.query('Category==\"GO BP\"')\n",
    "df_gene_expr_bp"
   ]
  },
  {
   "cell_type": "code",
   "execution_count": 96,
   "metadata": {},
   "outputs": [
    {
     "data": {
      "text/html": [
       "<div>\n",
       "<style scoped>\n",
       "    .dataframe tbody tr th:only-of-type {\n",
       "        vertical-align: middle;\n",
       "    }\n",
       "\n",
       "    .dataframe tbody tr th {\n",
       "        vertical-align: top;\n",
       "    }\n",
       "\n",
       "    .dataframe thead th {\n",
       "        text-align: right;\n",
       "    }\n",
       "</style>\n",
       "<table border=\"1\" class=\"dataframe\">\n",
       "  <thead>\n",
       "    <tr style=\"text-align: right;\">\n",
       "      <th></th>\n",
       "      <th>Gene_count</th>\n",
       "      <th>Description</th>\n",
       "      <th>qvalue</th>\n",
       "      <th>GeneRatio</th>\n",
       "      <th>Category</th>\n",
       "    </tr>\n",
       "  </thead>\n",
       "  <tbody>\n",
       "    <tr>\n",
       "      <th>1</th>\n",
       "      <td>2</td>\n",
       "      <td>G2</td>\n",
       "      <td>100</td>\n",
       "      <td>0.50</td>\n",
       "      <td>GO CC</td>\n",
       "    </tr>\n",
       "    <tr>\n",
       "      <th>4</th>\n",
       "      <td>5</td>\n",
       "      <td>G5</td>\n",
       "      <td>20</td>\n",
       "      <td>0.25</td>\n",
       "      <td>GO CC</td>\n",
       "    </tr>\n",
       "  </tbody>\n",
       "</table>\n",
       "</div>"
      ],
      "text/plain": [
       "   Gene_count Description  qvalue  GeneRatio Category\n",
       "1           2          G2     100       0.50    GO CC\n",
       "4           5          G5      20       0.25    GO CC"
      ]
     },
     "execution_count": 96,
     "metadata": {},
     "output_type": "execute_result"
    }
   ],
   "source": [
    "df_gene_expr_cc = df_gene_expr.query('Category==\"GO CC\"')\n",
    "df_gene_expr_cc"
   ]
  },
  {
   "cell_type": "code",
   "execution_count": 97,
   "metadata": {},
   "outputs": [
    {
     "data": {
      "text/html": [
       "<div>\n",
       "<style scoped>\n",
       "    .dataframe tbody tr th:only-of-type {\n",
       "        vertical-align: middle;\n",
       "    }\n",
       "\n",
       "    .dataframe tbody tr th {\n",
       "        vertical-align: top;\n",
       "    }\n",
       "\n",
       "    .dataframe thead th {\n",
       "        text-align: right;\n",
       "    }\n",
       "</style>\n",
       "<table border=\"1\" class=\"dataframe\">\n",
       "  <thead>\n",
       "    <tr style=\"text-align: right;\">\n",
       "      <th></th>\n",
       "      <th>Gene_count</th>\n",
       "      <th>Description</th>\n",
       "      <th>qvalue</th>\n",
       "      <th>GeneRatio</th>\n",
       "      <th>Category</th>\n",
       "    </tr>\n",
       "  </thead>\n",
       "  <tbody>\n",
       "    <tr>\n",
       "      <th>2</th>\n",
       "      <td>3</td>\n",
       "      <td>G3</td>\n",
       "      <td>12</td>\n",
       "      <td>0.08</td>\n",
       "      <td>GO MF</td>\n",
       "    </tr>\n",
       "    <tr>\n",
       "      <th>5</th>\n",
       "      <td>6</td>\n",
       "      <td>G6</td>\n",
       "      <td>50</td>\n",
       "      <td>0.20</td>\n",
       "      <td>GO MF</td>\n",
       "    </tr>\n",
       "  </tbody>\n",
       "</table>\n",
       "</div>"
      ],
      "text/plain": [
       "   Gene_count Description  qvalue  GeneRatio Category\n",
       "2           3          G3      12       0.08    GO MF\n",
       "5           6          G6      50       0.20    GO MF"
      ]
     },
     "execution_count": 97,
     "metadata": {},
     "output_type": "execute_result"
    }
   ],
   "source": [
    "df_gene_expr_mf = df_gene_expr.query('Category==\"GO MF\"')\n",
    "df_gene_expr_mf"
   ]
  },
  {
   "cell_type": "code",
   "execution_count": 103,
   "metadata": {},
   "outputs": [
    {
     "data": {
      "text/html": [
       "\n",
       "<div id=\"altair-viz-54854109aca34cf2a5b636d1e0f44553\"></div>\n",
       "<script type=\"text/javascript\">\n",
       "  (function(spec, embedOpt){\n",
       "    let outputDiv = document.currentScript.previousElementSibling;\n",
       "    if (outputDiv.id !== \"altair-viz-54854109aca34cf2a5b636d1e0f44553\") {\n",
       "      outputDiv = document.getElementById(\"altair-viz-54854109aca34cf2a5b636d1e0f44553\");\n",
       "    }\n",
       "    const paths = {\n",
       "      \"vega\": \"https://cdn.jsdelivr.net/npm//vega@5?noext\",\n",
       "      \"vega-lib\": \"https://cdn.jsdelivr.net/npm//vega-lib?noext\",\n",
       "      \"vega-lite\": \"https://cdn.jsdelivr.net/npm//vega-lite@4.8.1?noext\",\n",
       "      \"vega-embed\": \"https://cdn.jsdelivr.net/npm//vega-embed@6?noext\",\n",
       "    };\n",
       "\n",
       "    function loadScript(lib) {\n",
       "      return new Promise(function(resolve, reject) {\n",
       "        var s = document.createElement('script');\n",
       "        s.src = paths[lib];\n",
       "        s.async = true;\n",
       "        s.onload = () => resolve(paths[lib]);\n",
       "        s.onerror = () => reject(`Error loading script: ${paths[lib]}`);\n",
       "        document.getElementsByTagName(\"head\")[0].appendChild(s);\n",
       "      });\n",
       "    }\n",
       "\n",
       "    function showError(err) {\n",
       "      outputDiv.innerHTML = `<div class=\"error\" style=\"color:red;\">${err}</div>`;\n",
       "      throw err;\n",
       "    }\n",
       "\n",
       "    function displayChart(vegaEmbed) {\n",
       "      vegaEmbed(outputDiv, spec, embedOpt)\n",
       "        .catch(err => showError(`Javascript Error: ${err.message}<br>This usually means there's a typo in your chart specification. See the javascript console for the full traceback.`));\n",
       "    }\n",
       "\n",
       "    if(typeof define === \"function\" && define.amd) {\n",
       "      requirejs.config({paths});\n",
       "      require([\"vega-embed\"], displayChart, err => showError(`Error loading script: ${err.message}`));\n",
       "    } else if (typeof vegaEmbed === \"function\") {\n",
       "      displayChart(vegaEmbed);\n",
       "    } else {\n",
       "      loadScript(\"vega\")\n",
       "        .then(() => loadScript(\"vega-lite\"))\n",
       "        .then(() => loadScript(\"vega-embed\"))\n",
       "        .catch(showError)\n",
       "        .then(() => displayChart(vegaEmbed));\n",
       "    }\n",
       "  })({\"config\": {\"view\": {\"continuousWidth\": 400, \"continuousHeight\": 300}}, \"data\": {\"name\": \"data-1890031f750bee61ed1a8139b39cb131\"}, \"mark\": \"point\", \"encoding\": {\"color\": {\"type\": \"quantitative\", \"field\": \"-log(qvalue)\", \"scale\": {\"range\": [\"green\", \"yellow\", \"red\"]}}, \"shape\": {\"type\": \"nominal\", \"field\": \"Category\"}, \"size\": {\"type\": \"quantitative\", \"field\": \"GeneRatio\"}, \"x\": {\"type\": \"quantitative\", \"field\": \"Gene_count\"}, \"y\": {\"type\": \"ordinal\", \"field\": \"Description\"}}, \"height\": 400, \"width\": 400, \"$schema\": \"https://vega.github.io/schema/vega-lite/v4.8.1.json\", \"datasets\": {\"data-1890031f750bee61ed1a8139b39cb131\": [{\"Gene_count\": 1, \"Description\": \"G1\", \"-log(qvalue)\": 15, \"GeneRatio\": 0.01, \"Category\": \"GO BP\"}, {\"Gene_count\": 2, \"Description\": \"G2\", \"-log(qvalue)\": 100, \"GeneRatio\": 0.5, \"Category\": \"GO CC\"}, {\"Gene_count\": 3, \"Description\": \"G3\", \"-log(qvalue)\": 12, \"GeneRatio\": 0.08, \"Category\": \"GO MF\"}, {\"Gene_count\": 4, \"Description\": \"G4\", \"-log(qvalue)\": 80, \"GeneRatio\": 0.1, \"Category\": \"GO BP\"}, {\"Gene_count\": 5, \"Description\": \"G5\", \"-log(qvalue)\": 20, \"GeneRatio\": 0.25, \"Category\": \"GO CC\"}, {\"Gene_count\": 6, \"Description\": \"G6\", \"-log(qvalue)\": 50, \"GeneRatio\": 0.2, \"Category\": \"GO MF\"}]}}, {\"mode\": \"vega-lite\"});\n",
       "</script>"
      ],
      "text/plain": [
       "alt.Chart(...)"
      ]
     },
     "execution_count": 103,
     "metadata": {},
     "output_type": "execute_result"
    }
   ],
   "source": [
    "alt.Chart(df_gene_expr).mark_point().encode(\n",
    "    x='Gene_count:Q',\n",
    "    y='Description:O',\n",
    "    color=alt.Color('-log(qvalue):Q', scale=alt.Scale(range=['green','yellow','red'])),\n",
    "    size='GeneRatio:Q',\n",
    "    shape='Category'\n",
    ").properties(width=400, height=400)"
   ]
  },
  {
   "cell_type": "markdown",
   "metadata": {},
   "source": [
    "### GO分析气泡图altair实现"
   ]
  },
  {
   "cell_type": "code",
   "execution_count": 104,
   "metadata": {},
   "outputs": [
    {
     "data": {
      "text/html": [
       "<div>\n",
       "<style scoped>\n",
       "    .dataframe tbody tr th:only-of-type {\n",
       "        vertical-align: middle;\n",
       "    }\n",
       "\n",
       "    .dataframe tbody tr th {\n",
       "        vertical-align: top;\n",
       "    }\n",
       "\n",
       "    .dataframe thead th {\n",
       "        text-align: right;\n",
       "    }\n",
       "</style>\n",
       "<table border=\"1\" class=\"dataframe\">\n",
       "  <thead>\n",
       "    <tr style=\"text-align: right;\">\n",
       "      <th></th>\n",
       "      <th>GO</th>\n",
       "      <th>NS</th>\n",
       "      <th>enrichment</th>\n",
       "      <th>name</th>\n",
       "      <th>ratio_in_study</th>\n",
       "      <th>ratio_in_pop</th>\n",
       "      <th>p_uncorrected</th>\n",
       "      <th>depth</th>\n",
       "      <th>study_count</th>\n",
       "      <th>p_fdr_bh</th>\n",
       "      <th>study_items</th>\n",
       "    </tr>\n",
       "  </thead>\n",
       "  <tbody>\n",
       "    <tr>\n",
       "      <th>0</th>\n",
       "      <td>GO:0006414</td>\n",
       "      <td>BP</td>\n",
       "      <td>e</td>\n",
       "      <td>translational elongation</td>\n",
       "      <td>4/132</td>\n",
       "      <td>31/27006</td>\n",
       "      <td>1.548757e-05</td>\n",
       "      <td>6</td>\n",
       "      <td>4</td>\n",
       "      <td>2.796680e-03</td>\n",
       "      <td>Capana01g003452, Capana06g002575, Capana11g000...</td>\n",
       "    </tr>\n",
       "    <tr>\n",
       "      <th>1</th>\n",
       "      <td>GO:0034250</td>\n",
       "      <td>BP</td>\n",
       "      <td>e</td>\n",
       "      <td>positive regulation of cellular amide metaboli...</td>\n",
       "      <td>3/132</td>\n",
       "      <td>12/27006</td>\n",
       "      <td>2.431426e-05</td>\n",
       "      <td>6</td>\n",
       "      <td>3</td>\n",
       "      <td>4.139676e-03</td>\n",
       "      <td>Capana04g001753, Capana04g001754, Capana05g000103</td>\n",
       "    </tr>\n",
       "    <tr>\n",
       "      <th>2</th>\n",
       "      <td>GO:0045727</td>\n",
       "      <td>BP</td>\n",
       "      <td>e</td>\n",
       "      <td>positive regulation of translation</td>\n",
       "      <td>3/132</td>\n",
       "      <td>12/27006</td>\n",
       "      <td>2.431426e-05</td>\n",
       "      <td>8</td>\n",
       "      <td>3</td>\n",
       "      <td>4.139676e-03</td>\n",
       "      <td>Capana04g001753, Capana04g001754, Capana05g000103</td>\n",
       "    </tr>\n",
       "    <tr>\n",
       "      <th>3</th>\n",
       "      <td>GO:0009536</td>\n",
       "      <td>CC</td>\n",
       "      <td>e</td>\n",
       "      <td>plastid</td>\n",
       "      <td>16/132</td>\n",
       "      <td>478/27006</td>\n",
       "      <td>1.735849e-09</td>\n",
       "      <td>5</td>\n",
       "      <td>16</td>\n",
       "      <td>6.084660e-07</td>\n",
       "      <td>Capana00g001461, Capana00g001712, Capana01g000...</td>\n",
       "    </tr>\n",
       "    <tr>\n",
       "      <th>4</th>\n",
       "      <td>GO:0009507</td>\n",
       "      <td>CC</td>\n",
       "      <td>e</td>\n",
       "      <td>chloroplast</td>\n",
       "      <td>15/132</td>\n",
       "      <td>419/27006</td>\n",
       "      <td>2.339385e-09</td>\n",
       "      <td>6</td>\n",
       "      <td>15</td>\n",
       "      <td>7.744665e-07</td>\n",
       "      <td>Capana00g001712, Capana01g000505, Capana01g001...</td>\n",
       "    </tr>\n",
       "  </tbody>\n",
       "</table>\n",
       "</div>"
      ],
      "text/plain": [
       "           GO  NS enrichment  \\\n",
       "0  GO:0006414  BP          e   \n",
       "1  GO:0034250  BP          e   \n",
       "2  GO:0045727  BP          e   \n",
       "3  GO:0009536  CC          e   \n",
       "4  GO:0009507  CC          e   \n",
       "\n",
       "                                                name ratio_in_study  \\\n",
       "0                           translational elongation          4/132   \n",
       "1  positive regulation of cellular amide metaboli...          3/132   \n",
       "2                 positive regulation of translation          3/132   \n",
       "3                                            plastid         16/132   \n",
       "4                                        chloroplast         15/132   \n",
       "\n",
       "  ratio_in_pop  p_uncorrected  depth  study_count      p_fdr_bh  \\\n",
       "0     31/27006   1.548757e-05      6            4  2.796680e-03   \n",
       "1     12/27006   2.431426e-05      6            3  4.139676e-03   \n",
       "2     12/27006   2.431426e-05      8            3  4.139676e-03   \n",
       "3    478/27006   1.735849e-09      5           16  6.084660e-07   \n",
       "4    419/27006   2.339385e-09      6           15  7.744665e-07   \n",
       "\n",
       "                                         study_items  \n",
       "0  Capana01g003452, Capana06g002575, Capana11g000...  \n",
       "1  Capana04g001753, Capana04g001754, Capana05g000103  \n",
       "2  Capana04g001753, Capana04g001754, Capana05g000103  \n",
       "3  Capana00g001461, Capana00g001712, Capana01g000...  \n",
       "4  Capana00g001712, Capana01g000505, Capana01g001...  "
      ]
     },
     "execution_count": 104,
     "metadata": {},
     "output_type": "execute_result"
    }
   ],
   "source": [
    "go_data_df = pd.read_excel('GO_fruit_filter2.xlsx')\n",
    "go_data_df.head()"
   ]
  },
  {
   "cell_type": "code",
   "execution_count": 120,
   "metadata": {},
   "outputs": [],
   "source": [
    "core_go_data_df = go_data_df.iloc[:,[1,3,4,8,9]].copy()"
   ]
  },
  {
   "cell_type": "code",
   "execution_count": 114,
   "metadata": {},
   "outputs": [
    {
     "data": {
      "text/html": [
       "<div>\n",
       "<style scoped>\n",
       "    .dataframe tbody tr th:only-of-type {\n",
       "        vertical-align: middle;\n",
       "    }\n",
       "\n",
       "    .dataframe tbody tr th {\n",
       "        vertical-align: top;\n",
       "    }\n",
       "\n",
       "    .dataframe thead th {\n",
       "        text-align: right;\n",
       "    }\n",
       "</style>\n",
       "<table border=\"1\" class=\"dataframe\">\n",
       "  <thead>\n",
       "    <tr style=\"text-align: right;\">\n",
       "      <th></th>\n",
       "      <th>NS</th>\n",
       "      <th>name</th>\n",
       "      <th>ratio_in_study</th>\n",
       "      <th>study_count</th>\n",
       "      <th>p_fdr_bh</th>\n",
       "    </tr>\n",
       "  </thead>\n",
       "  <tbody>\n",
       "    <tr>\n",
       "      <th>0</th>\n",
       "      <td>BP</td>\n",
       "      <td>translational elongation</td>\n",
       "      <td>4/132</td>\n",
       "      <td>4</td>\n",
       "      <td>2.796680e-03</td>\n",
       "    </tr>\n",
       "    <tr>\n",
       "      <th>1</th>\n",
       "      <td>BP</td>\n",
       "      <td>positive regulation of cellular amide metaboli...</td>\n",
       "      <td>3/132</td>\n",
       "      <td>3</td>\n",
       "      <td>4.139676e-03</td>\n",
       "    </tr>\n",
       "    <tr>\n",
       "      <th>2</th>\n",
       "      <td>BP</td>\n",
       "      <td>positive regulation of translation</td>\n",
       "      <td>3/132</td>\n",
       "      <td>3</td>\n",
       "      <td>4.139676e-03</td>\n",
       "    </tr>\n",
       "    <tr>\n",
       "      <th>3</th>\n",
       "      <td>CC</td>\n",
       "      <td>plastid</td>\n",
       "      <td>16/132</td>\n",
       "      <td>16</td>\n",
       "      <td>6.084660e-07</td>\n",
       "    </tr>\n",
       "    <tr>\n",
       "      <th>4</th>\n",
       "      <td>CC</td>\n",
       "      <td>chloroplast</td>\n",
       "      <td>15/132</td>\n",
       "      <td>15</td>\n",
       "      <td>7.744665e-07</td>\n",
       "    </tr>\n",
       "  </tbody>\n",
       "</table>\n",
       "</div>"
      ],
      "text/plain": [
       "   NS                                               name ratio_in_study  \\\n",
       "0  BP                           translational elongation          4/132   \n",
       "1  BP  positive regulation of cellular amide metaboli...          3/132   \n",
       "2  BP                 positive regulation of translation          3/132   \n",
       "3  CC                                            plastid         16/132   \n",
       "4  CC                                        chloroplast         15/132   \n",
       "\n",
       "   study_count      p_fdr_bh  \n",
       "0            4  2.796680e-03  \n",
       "1            3  4.139676e-03  \n",
       "2            3  4.139676e-03  \n",
       "3           16  6.084660e-07  \n",
       "4           15  7.744665e-07  "
      ]
     },
     "execution_count": 114,
     "metadata": {},
     "output_type": "execute_result"
    }
   ],
   "source": []
  },
  {
   "cell_type": "code",
   "execution_count": 121,
   "metadata": {},
   "outputs": [],
   "source": [
    "real_count = np.array([int(i.split('/')[0]) for i in core_go_data_df['ratio_in_study'].values])\n",
    "diff_count = np.array([int(i.split('/')[1]) for i in core_go_data_df['ratio_in_study'].values])\n",
    "GeneRatio = real_count / diff_count"
   ]
  },
  {
   "cell_type": "code",
   "execution_count": 122,
   "metadata": {},
   "outputs": [
    {
     "data": {
      "text/html": [
       "<div>\n",
       "<style scoped>\n",
       "    .dataframe tbody tr th:only-of-type {\n",
       "        vertical-align: middle;\n",
       "    }\n",
       "\n",
       "    .dataframe tbody tr th {\n",
       "        vertical-align: top;\n",
       "    }\n",
       "\n",
       "    .dataframe thead th {\n",
       "        text-align: right;\n",
       "    }\n",
       "</style>\n",
       "<table border=\"1\" class=\"dataframe\">\n",
       "  <thead>\n",
       "    <tr style=\"text-align: right;\">\n",
       "      <th></th>\n",
       "      <th>NS</th>\n",
       "      <th>name</th>\n",
       "      <th>ratio_in_study</th>\n",
       "      <th>study_count</th>\n",
       "      <th>p_fdr_bh</th>\n",
       "      <th>GeneRatio</th>\n",
       "    </tr>\n",
       "  </thead>\n",
       "  <tbody>\n",
       "    <tr>\n",
       "      <th>0</th>\n",
       "      <td>BP</td>\n",
       "      <td>translational elongation</td>\n",
       "      <td>4/132</td>\n",
       "      <td>4</td>\n",
       "      <td>2.796680e-03</td>\n",
       "      <td>0.030303</td>\n",
       "    </tr>\n",
       "    <tr>\n",
       "      <th>1</th>\n",
       "      <td>BP</td>\n",
       "      <td>positive regulation of cellular amide metaboli...</td>\n",
       "      <td>3/132</td>\n",
       "      <td>3</td>\n",
       "      <td>4.139676e-03</td>\n",
       "      <td>0.022727</td>\n",
       "    </tr>\n",
       "    <tr>\n",
       "      <th>2</th>\n",
       "      <td>BP</td>\n",
       "      <td>positive regulation of translation</td>\n",
       "      <td>3/132</td>\n",
       "      <td>3</td>\n",
       "      <td>4.139676e-03</td>\n",
       "      <td>0.022727</td>\n",
       "    </tr>\n",
       "    <tr>\n",
       "      <th>3</th>\n",
       "      <td>CC</td>\n",
       "      <td>plastid</td>\n",
       "      <td>16/132</td>\n",
       "      <td>16</td>\n",
       "      <td>6.084660e-07</td>\n",
       "      <td>0.121212</td>\n",
       "    </tr>\n",
       "    <tr>\n",
       "      <th>4</th>\n",
       "      <td>CC</td>\n",
       "      <td>chloroplast</td>\n",
       "      <td>15/132</td>\n",
       "      <td>15</td>\n",
       "      <td>7.744665e-07</td>\n",
       "      <td>0.113636</td>\n",
       "    </tr>\n",
       "  </tbody>\n",
       "</table>\n",
       "</div>"
      ],
      "text/plain": [
       "   NS                                               name ratio_in_study  \\\n",
       "0  BP                           translational elongation          4/132   \n",
       "1  BP  positive regulation of cellular amide metaboli...          3/132   \n",
       "2  BP                 positive regulation of translation          3/132   \n",
       "3  CC                                            plastid         16/132   \n",
       "4  CC                                        chloroplast         15/132   \n",
       "\n",
       "   study_count      p_fdr_bh  GeneRatio  \n",
       "0            4  2.796680e-03   0.030303  \n",
       "1            3  4.139676e-03   0.022727  \n",
       "2            3  4.139676e-03   0.022727  \n",
       "3           16  6.084660e-07   0.121212  \n",
       "4           15  7.744665e-07   0.113636  "
      ]
     },
     "execution_count": 122,
     "metadata": {},
     "output_type": "execute_result"
    }
   ],
   "source": [
    "core_go_data_df['GeneRatio'] = GeneRatio\n",
    "core_go_data_df.head()"
   ]
  },
  {
   "cell_type": "code",
   "execution_count": 126,
   "metadata": {},
   "outputs": [],
   "source": [
    "core_go_data_df['-log(qvalue)'] = -np.log10(core_go_data_df['-log(qvalue)'].values)"
   ]
  },
  {
   "cell_type": "code",
   "execution_count": 127,
   "metadata": {},
   "outputs": [
    {
     "data": {
      "text/html": [
       "<div>\n",
       "<style scoped>\n",
       "    .dataframe tbody tr th:only-of-type {\n",
       "        vertical-align: middle;\n",
       "    }\n",
       "\n",
       "    .dataframe tbody tr th {\n",
       "        vertical-align: top;\n",
       "    }\n",
       "\n",
       "    .dataframe thead th {\n",
       "        text-align: right;\n",
       "    }\n",
       "</style>\n",
       "<table border=\"1\" class=\"dataframe\">\n",
       "  <thead>\n",
       "    <tr style=\"text-align: right;\">\n",
       "      <th></th>\n",
       "      <th>Category</th>\n",
       "      <th>Description</th>\n",
       "      <th>ratio_in_study</th>\n",
       "      <th>Gene_count</th>\n",
       "      <th>-log(qvalue)</th>\n",
       "      <th>GeneRatio</th>\n",
       "    </tr>\n",
       "  </thead>\n",
       "  <tbody>\n",
       "    <tr>\n",
       "      <th>0</th>\n",
       "      <td>BP</td>\n",
       "      <td>translational elongation</td>\n",
       "      <td>4/132</td>\n",
       "      <td>4</td>\n",
       "      <td>2.553357</td>\n",
       "      <td>0.030303</td>\n",
       "    </tr>\n",
       "    <tr>\n",
       "      <th>1</th>\n",
       "      <td>BP</td>\n",
       "      <td>positive regulation of cellular amide metaboli...</td>\n",
       "      <td>3/132</td>\n",
       "      <td>3</td>\n",
       "      <td>2.383034</td>\n",
       "      <td>0.022727</td>\n",
       "    </tr>\n",
       "    <tr>\n",
       "      <th>2</th>\n",
       "      <td>BP</td>\n",
       "      <td>positive regulation of translation</td>\n",
       "      <td>3/132</td>\n",
       "      <td>3</td>\n",
       "      <td>2.383034</td>\n",
       "      <td>0.022727</td>\n",
       "    </tr>\n",
       "    <tr>\n",
       "      <th>3</th>\n",
       "      <td>CC</td>\n",
       "      <td>plastid</td>\n",
       "      <td>16/132</td>\n",
       "      <td>16</td>\n",
       "      <td>6.215764</td>\n",
       "      <td>0.121212</td>\n",
       "    </tr>\n",
       "    <tr>\n",
       "      <th>4</th>\n",
       "      <td>CC</td>\n",
       "      <td>chloroplast</td>\n",
       "      <td>15/132</td>\n",
       "      <td>15</td>\n",
       "      <td>6.110997</td>\n",
       "      <td>0.113636</td>\n",
       "    </tr>\n",
       "  </tbody>\n",
       "</table>\n",
       "</div>"
      ],
      "text/plain": [
       "  Category                                        Description ratio_in_study  \\\n",
       "0       BP                           translational elongation          4/132   \n",
       "1       BP  positive regulation of cellular amide metaboli...          3/132   \n",
       "2       BP                 positive regulation of translation          3/132   \n",
       "3       CC                                            plastid         16/132   \n",
       "4       CC                                        chloroplast         15/132   \n",
       "\n",
       "   Gene_count  -log(qvalue)  GeneRatio  \n",
       "0           4      2.553357   0.030303  \n",
       "1           3      2.383034   0.022727  \n",
       "2           3      2.383034   0.022727  \n",
       "3          16      6.215764   0.121212  \n",
       "4          15      6.110997   0.113636  "
      ]
     },
     "execution_count": 127,
     "metadata": {},
     "output_type": "execute_result"
    }
   ],
   "source": [
    "core_go_data_df.columns = ['Category','Description','ratio_in_study','Gene_count','-log(qvalue)','GeneRatio']\n",
    "core_go_data_df.head()"
   ]
  },
  {
   "cell_type": "code",
   "execution_count": 235,
   "metadata": {},
   "outputs": [
    {
     "data": {
      "text/html": [
       "\n",
       "<div id=\"altair-viz-889011da5b7a4612a2b23e01c2e1e1c6\"></div>\n",
       "<script type=\"text/javascript\">\n",
       "  (function(spec, embedOpt){\n",
       "    let outputDiv = document.currentScript.previousElementSibling;\n",
       "    if (outputDiv.id !== \"altair-viz-889011da5b7a4612a2b23e01c2e1e1c6\") {\n",
       "      outputDiv = document.getElementById(\"altair-viz-889011da5b7a4612a2b23e01c2e1e1c6\");\n",
       "    }\n",
       "    const paths = {\n",
       "      \"vega\": \"https://cdn.jsdelivr.net/npm//vega@5?noext\",\n",
       "      \"vega-lib\": \"https://cdn.jsdelivr.net/npm//vega-lib?noext\",\n",
       "      \"vega-lite\": \"https://cdn.jsdelivr.net/npm//vega-lite@4.8.1?noext\",\n",
       "      \"vega-embed\": \"https://cdn.jsdelivr.net/npm//vega-embed@6?noext\",\n",
       "    };\n",
       "\n",
       "    function loadScript(lib) {\n",
       "      return new Promise(function(resolve, reject) {\n",
       "        var s = document.createElement('script');\n",
       "        s.src = paths[lib];\n",
       "        s.async = true;\n",
       "        s.onload = () => resolve(paths[lib]);\n",
       "        s.onerror = () => reject(`Error loading script: ${paths[lib]}`);\n",
       "        document.getElementsByTagName(\"head\")[0].appendChild(s);\n",
       "      });\n",
       "    }\n",
       "\n",
       "    function showError(err) {\n",
       "      outputDiv.innerHTML = `<div class=\"error\" style=\"color:red;\">${err}</div>`;\n",
       "      throw err;\n",
       "    }\n",
       "\n",
       "    function displayChart(vegaEmbed) {\n",
       "      vegaEmbed(outputDiv, spec, embedOpt)\n",
       "        .catch(err => showError(`Javascript Error: ${err.message}<br>This usually means there's a typo in your chart specification. See the javascript console for the full traceback.`));\n",
       "    }\n",
       "\n",
       "    if(typeof define === \"function\" && define.amd) {\n",
       "      requirejs.config({paths});\n",
       "      require([\"vega-embed\"], displayChart, err => showError(`Error loading script: ${err.message}`));\n",
       "    } else if (typeof vegaEmbed === \"function\") {\n",
       "      displayChart(vegaEmbed);\n",
       "    } else {\n",
       "      loadScript(\"vega\")\n",
       "        .then(() => loadScript(\"vega-lite\"))\n",
       "        .then(() => loadScript(\"vega-embed\"))\n",
       "        .catch(showError)\n",
       "        .then(() => displayChart(vegaEmbed));\n",
       "    }\n",
       "  })({\"config\": {\"view\": {\"continuousWidth\": 400, \"continuousHeight\": 300}, \"axisX\": {\"labelFontSize\": 12, \"titleFontSize\": 20}, \"axisY\": {\"labelFontSize\": 12, \"labelLimit\": -1, \"titleFontSize\": 20, \"titlePadding\": 210}, \"legend\": {\"labelFontSize\": 12, \"rowPadding\": 5, \"titleFontSize\": 12}}, \"data\": {\"name\": \"data-ee0d1b987dd68cbff9764df570dab0e7\"}, \"mark\": {\"type\": \"point\", \"color\": \"white\"}, \"encoding\": {\"fill\": {\"type\": \"quantitative\", \"field\": \"-log(qvalue)\", \"scale\": {\"range\": [\"green\", \"yellow\", \"red\"]}}, \"shape\": {\"type\": \"nominal\", \"field\": \"Category\"}, \"size\": {\"type\": \"quantitative\", \"field\": \"GeneRatio\"}, \"x\": {\"type\": \"quantitative\", \"field\": \"Gene_count\"}, \"y\": {\"type\": \"nominal\", \"field\": \"Description\"}}, \"height\": 400, \"width\": 400, \"$schema\": \"https://vega.github.io/schema/vega-lite/v4.8.1.json\", \"datasets\": {\"data-ee0d1b987dd68cbff9764df570dab0e7\": [{\"Category\": \"BP\", \"Description\": \"translational elongation\", \"ratio_in_study\": \"4/132\", \"Gene_count\": 4, \"-log(qvalue)\": 2.553357193487274, \"GeneRatio\": 0.030303030303030304}, {\"Category\": \"BP\", \"Description\": \"positive regulation of cellular amide metabolic process\", \"ratio_in_study\": \"3/132\", \"Gene_count\": 3, \"-log(qvalue)\": 2.383033689971556, \"GeneRatio\": 0.022727272727272728}, {\"Category\": \"BP\", \"Description\": \"positive regulation of translation\", \"ratio_in_study\": \"3/132\", \"Gene_count\": 3, \"-log(qvalue)\": 2.383033689971556, \"GeneRatio\": 0.022727272727272728}, {\"Category\": \"CC\", \"Description\": \"plastid\", \"ratio_in_study\": \"16/132\", \"Gene_count\": 16, \"-log(qvalue)\": 6.215763712029817, \"GeneRatio\": 0.12121212121212122}, {\"Category\": \"CC\", \"Description\": \"chloroplast\", \"ratio_in_study\": \"15/132\", \"Gene_count\": 15, \"-log(qvalue)\": 6.1109973464453216, \"GeneRatio\": 0.11363636363636363}, {\"Category\": \"CC\", \"Description\": \"chloroplast stroma\", \"ratio_in_study\": \"8/132\", \"Gene_count\": 8, \"-log(qvalue)\": 4.977733365623085, \"GeneRatio\": 0.06060606060606061}, {\"Category\": \"CC\", \"Description\": \"plastid stroma\", \"ratio_in_study\": \"8/132\", \"Gene_count\": 8, \"-log(qvalue)\": 4.974597651196445, \"GeneRatio\": 0.06060606060606061}, {\"Category\": \"CC\", \"Description\": \"thylakoid\", \"ratio_in_study\": \"5/132\", \"Gene_count\": 5, \"-log(qvalue)\": 3.7992530893602243, \"GeneRatio\": 0.03787878787878788}, {\"Category\": \"CC\", \"Description\": \"plastid part\", \"ratio_in_study\": \"12/132\", \"Gene_count\": 12, \"-log(qvalue)\": 3.358996788996013, \"GeneRatio\": 0.09090909090909091}, {\"Category\": \"CC\", \"Description\": \"cytoplasmic part\", \"ratio_in_study\": \"33/132\", \"Gene_count\": 33, \"-log(qvalue)\": 2.8153268182318243, \"GeneRatio\": 0.25}, {\"Category\": \"MF\", \"Description\": \"GTPase activity\", \"ratio_in_study\": \"35/132\", \"Gene_count\": 35, \"-log(qvalue)\": 35.93914658003087, \"GeneRatio\": 0.26515151515151514}, {\"Category\": \"MF\", \"Description\": \"guanyl nucleotide binding\", \"ratio_in_study\": \"39/132\", \"Gene_count\": 39, \"-log(qvalue)\": 35.93914658003087, \"GeneRatio\": 0.29545454545454547}, {\"Category\": \"MF\", \"Description\": \"purine nucleoside binding\", \"ratio_in_study\": \"39/132\", \"Gene_count\": 39, \"-log(qvalue)\": 35.93914658003087, \"GeneRatio\": 0.29545454545454547}, {\"Category\": \"MF\", \"Description\": \"guanyl ribonucleotide binding\", \"ratio_in_study\": \"39/132\", \"Gene_count\": 39, \"-log(qvalue)\": 35.93914658003087, \"GeneRatio\": 0.29545454545454547}, {\"Category\": \"MF\", \"Description\": \"GTP binding\", \"ratio_in_study\": \"39/132\", \"Gene_count\": 39, \"-log(qvalue)\": 35.93914658003087, \"GeneRatio\": 0.29545454545454547}, {\"Category\": \"MF\", \"Description\": \"purine ribonucleoside binding\", \"ratio_in_study\": \"39/132\", \"Gene_count\": 39, \"-log(qvalue)\": 35.93914658003087, \"GeneRatio\": 0.29545454545454547}, {\"Category\": \"MF\", \"Description\": \"ribonucleoside binding\", \"ratio_in_study\": \"39/132\", \"Gene_count\": 39, \"-log(qvalue)\": 34.09603557086077, \"GeneRatio\": 0.29545454545454547}, {\"Category\": \"MF\", \"Description\": \"nucleoside binding\", \"ratio_in_study\": \"39/132\", \"Gene_count\": 39, \"-log(qvalue)\": 34.09603557086077, \"GeneRatio\": 0.29545454545454547}, {\"Category\": \"MF\", \"Description\": \"translation factor activity, RNA binding\", \"ratio_in_study\": \"25/132\", \"Gene_count\": 25, \"-log(qvalue)\": 22.839124638397887, \"GeneRatio\": 0.1893939393939394}, {\"Category\": \"MF\", \"Description\": \"translation elongation factor activity\", \"ratio_in_study\": \"18/132\", \"Gene_count\": 18, \"-log(qvalue)\": 21.689821488559925, \"GeneRatio\": 0.13636363636363635}, {\"Category\": \"MF\", \"Description\": \"nucleoside-triphosphatase activity\", \"ratio_in_study\": \"36/132\", \"Gene_count\": 36, \"-log(qvalue)\": 15.074311920231404, \"GeneRatio\": 0.2727272727272727}, {\"Category\": \"MF\", \"Description\": \"pyrophosphatase activity\", \"ratio_in_study\": \"36/132\", \"Gene_count\": 36, \"-log(qvalue)\": 14.62609568142638, \"GeneRatio\": 0.2727272727272727}, {\"Category\": \"MF\", \"Description\": \"hydrolase activity, acting on acid anhydrides, in phosphorus-containing anhydrides\", \"ratio_in_study\": \"36/132\", \"Gene_count\": 36, \"-log(qvalue)\": 14.606865761987367, \"GeneRatio\": 0.2727272727272727}, {\"Category\": \"MF\", \"Description\": \"hydrolase activity, acting on acid anhydrides\", \"ratio_in_study\": \"36/132\", \"Gene_count\": 36, \"-log(qvalue)\": 14.467913414824547, \"GeneRatio\": 0.2727272727272727}, {\"Category\": \"MF\", \"Description\": \"RNA binding\", \"ratio_in_study\": \"33/132\", \"Gene_count\": 33, \"-log(qvalue)\": 13.949061813991051, \"GeneRatio\": 0.25}, {\"Category\": \"MF\", \"Description\": \"purine ribonucleoside triphosphate binding\", \"ratio_in_study\": \"51/132\", \"Gene_count\": 51, \"-log(qvalue)\": 7.184842560789335, \"GeneRatio\": 0.38636363636363635}]}}, {\"mode\": \"vega-lite\"});\n",
       "</script>"
      ],
      "text/plain": [
       "alt.Chart(...)"
      ]
     },
     "execution_count": 235,
     "metadata": {},
     "output_type": "execute_result"
    }
   ],
   "source": [
    "go_point_chart = alt.Chart(core_go_data_df).mark_point(color='white').encode(\n",
    "    x='Gene_count:Q',\n",
    "    y='Description:N',\n",
    "    size='GeneRatio:Q',\n",
    "    shape='Category',\n",
    "    fill=alt.Color('-log(qvalue):Q', scale=alt.Scale(range=['green','yellow','red'])),\n",
    ").properties(width=400, height=400)\n",
    "go_point_chart.configure_axisX(labelFontSize=12,titleFontSize=20)\\\n",
    ".configure_axisY(labelFontSize=12,titleFontSize=20,labelLimit=-1,titlePadding=210)\\\n",
    ".configure_legend(\n",
    "    labelFontSize=12,\n",
    "    titleFontSize=12,\n",
    "    rowPadding=5\n",
    ")\n",
    "#fillColor='#EEEEEE',\n",
    "#padding=2,"
   ]
  },
  {
   "cell_type": "markdown",
   "metadata": {},
   "source": [
    "---"
   ]
  },
  {
   "cell_type": "markdown",
   "metadata": {},
   "source": [
    "### Including Index Data"
   ]
  },
  {
   "cell_type": "code",
   "execution_count": 43,
   "metadata": {},
   "outputs": [
    {
     "data": {
      "text/html": [
       "<div>\n",
       "<style scoped>\n",
       "    .dataframe tbody tr th:only-of-type {\n",
       "        vertical-align: middle;\n",
       "    }\n",
       "\n",
       "    .dataframe tbody tr th {\n",
       "        vertical-align: top;\n",
       "    }\n",
       "\n",
       "    .dataframe thead th {\n",
       "        text-align: right;\n",
       "    }\n",
       "</style>\n",
       "<table border=\"1\" class=\"dataframe\">\n",
       "  <thead>\n",
       "    <tr style=\"text-align: right;\">\n",
       "      <th></th>\n",
       "      <th>value</th>\n",
       "    </tr>\n",
       "  </thead>\n",
       "  <tbody>\n",
       "    <tr>\n",
       "      <th>2018-01-01</th>\n",
       "      <td>1.764052</td>\n",
       "    </tr>\n",
       "    <tr>\n",
       "      <th>2018-01-02</th>\n",
       "      <td>2.164210</td>\n",
       "    </tr>\n",
       "    <tr>\n",
       "      <th>2018-01-03</th>\n",
       "      <td>3.142948</td>\n",
       "    </tr>\n",
       "    <tr>\n",
       "      <th>2018-01-04</th>\n",
       "      <td>5.383841</td>\n",
       "    </tr>\n",
       "    <tr>\n",
       "      <th>2018-01-05</th>\n",
       "      <td>7.251399</td>\n",
       "    </tr>\n",
       "  </tbody>\n",
       "</table>\n",
       "</div>"
      ],
      "text/plain": [
       "               value\n",
       "2018-01-01  1.764052\n",
       "2018-01-02  2.164210\n",
       "2018-01-03  3.142948\n",
       "2018-01-04  5.383841\n",
       "2018-01-05  7.251399"
      ]
     },
     "execution_count": 43,
     "metadata": {},
     "output_type": "execute_result"
    }
   ],
   "source": [
    "rand = np.random.RandomState(0)\n",
    "\n",
    "time_data = pd.DataFrame({'value': rand.randn(100).cumsum()},\n",
    "                    index=pd.date_range('2018', freq='D', periods=100))\n",
    "time_data.head()"
   ]
  },
  {
   "cell_type": "code",
   "execution_count": 45,
   "metadata": {},
   "outputs": [
    {
     "data": {
      "text/html": [
       "<div>\n",
       "<style scoped>\n",
       "    .dataframe tbody tr th:only-of-type {\n",
       "        vertical-align: middle;\n",
       "    }\n",
       "\n",
       "    .dataframe tbody tr th {\n",
       "        vertical-align: top;\n",
       "    }\n",
       "\n",
       "    .dataframe thead th {\n",
       "        text-align: right;\n",
       "    }\n",
       "</style>\n",
       "<table border=\"1\" class=\"dataframe\">\n",
       "  <thead>\n",
       "    <tr style=\"text-align: right;\">\n",
       "      <th></th>\n",
       "      <th>index</th>\n",
       "      <th>value</th>\n",
       "    </tr>\n",
       "  </thead>\n",
       "  <tbody>\n",
       "    <tr>\n",
       "      <th>0</th>\n",
       "      <td>2018-01-01</td>\n",
       "      <td>1.764052</td>\n",
       "    </tr>\n",
       "    <tr>\n",
       "      <th>1</th>\n",
       "      <td>2018-01-02</td>\n",
       "      <td>2.164210</td>\n",
       "    </tr>\n",
       "    <tr>\n",
       "      <th>2</th>\n",
       "      <td>2018-01-03</td>\n",
       "      <td>3.142948</td>\n",
       "    </tr>\n",
       "    <tr>\n",
       "      <th>3</th>\n",
       "      <td>2018-01-04</td>\n",
       "      <td>5.383841</td>\n",
       "    </tr>\n",
       "    <tr>\n",
       "      <th>4</th>\n",
       "      <td>2018-01-05</td>\n",
       "      <td>7.251399</td>\n",
       "    </tr>\n",
       "  </tbody>\n",
       "</table>\n",
       "</div>"
      ],
      "text/plain": [
       "       index     value\n",
       "0 2018-01-01  1.764052\n",
       "1 2018-01-02  2.164210\n",
       "2 2018-01-03  3.142948\n",
       "3 2018-01-04  5.383841\n",
       "4 2018-01-05  7.251399"
      ]
     },
     "execution_count": 45,
     "metadata": {},
     "output_type": "execute_result"
    }
   ],
   "source": [
    "time_data.reset_index().head()"
   ]
  },
  {
   "cell_type": "code",
   "execution_count": 46,
   "metadata": {},
   "outputs": [
    {
     "data": {
      "text/html": [
       "\n",
       "<div id=\"altair-viz-285aba59a32d4bd7a219d6684a6e5e80\"></div>\n",
       "<script type=\"text/javascript\">\n",
       "  (function(spec, embedOpt){\n",
       "    let outputDiv = document.currentScript.previousElementSibling;\n",
       "    if (outputDiv.id !== \"altair-viz-285aba59a32d4bd7a219d6684a6e5e80\") {\n",
       "      outputDiv = document.getElementById(\"altair-viz-285aba59a32d4bd7a219d6684a6e5e80\");\n",
       "    }\n",
       "    const paths = {\n",
       "      \"vega\": \"https://cdn.jsdelivr.net/npm//vega@5?noext\",\n",
       "      \"vega-lib\": \"https://cdn.jsdelivr.net/npm//vega-lib?noext\",\n",
       "      \"vega-lite\": \"https://cdn.jsdelivr.net/npm//vega-lite@4.8.1?noext\",\n",
       "      \"vega-embed\": \"https://cdn.jsdelivr.net/npm//vega-embed@6?noext\",\n",
       "    };\n",
       "\n",
       "    function loadScript(lib) {\n",
       "      return new Promise(function(resolve, reject) {\n",
       "        var s = document.createElement('script');\n",
       "        s.src = paths[lib];\n",
       "        s.async = true;\n",
       "        s.onload = () => resolve(paths[lib]);\n",
       "        s.onerror = () => reject(`Error loading script: ${paths[lib]}`);\n",
       "        document.getElementsByTagName(\"head\")[0].appendChild(s);\n",
       "      });\n",
       "    }\n",
       "\n",
       "    function showError(err) {\n",
       "      outputDiv.innerHTML = `<div class=\"error\" style=\"color:red;\">${err}</div>`;\n",
       "      throw err;\n",
       "    }\n",
       "\n",
       "    function displayChart(vegaEmbed) {\n",
       "      vegaEmbed(outputDiv, spec, embedOpt)\n",
       "        .catch(err => showError(`Javascript Error: ${err.message}<br>This usually means there's a typo in your chart specification. See the javascript console for the full traceback.`));\n",
       "    }\n",
       "\n",
       "    if(typeof define === \"function\" && define.amd) {\n",
       "      requirejs.config({paths});\n",
       "      require([\"vega-embed\"], displayChart, err => showError(`Error loading script: ${err.message}`));\n",
       "    } else if (typeof vegaEmbed === \"function\") {\n",
       "      displayChart(vegaEmbed);\n",
       "    } else {\n",
       "      loadScript(\"vega\")\n",
       "        .then(() => loadScript(\"vega-lite\"))\n",
       "        .then(() => loadScript(\"vega-embed\"))\n",
       "        .catch(showError)\n",
       "        .then(() => displayChart(vegaEmbed));\n",
       "    }\n",
       "  })({\"config\": {\"view\": {\"continuousWidth\": 400, \"continuousHeight\": 300}}, \"data\": {\"name\": \"data-dd19c1c673ba91c82c2873cf9b033163\"}, \"mark\": \"line\", \"encoding\": {\"x\": {\"type\": \"temporal\", \"field\": \"index\"}, \"y\": {\"type\": \"quantitative\", \"field\": \"value\"}}, \"$schema\": \"https://vega.github.io/schema/vega-lite/v4.8.1.json\", \"datasets\": {\"data-dd19c1c673ba91c82c2873cf9b033163\": [{\"index\": \"2018-01-01T00:00:00\", \"value\": 1.764052345967664}, {\"index\": \"2018-01-02T00:00:00\", \"value\": 2.1642095543348874}, {\"index\": \"2018-01-03T00:00:00\", \"value\": 3.1429475384406267}, {\"index\": \"2018-01-04T00:00:00\", \"value\": 5.3838407376420845}, {\"index\": \"2018-01-05T00:00:00\", \"value\": 7.251398727792052}, {\"index\": \"2018-01-06T00:00:00\", \"value\": 6.274120847915642}, {\"index\": \"2018-01-07T00:00:00\", \"value\": 7.224209265441231}, {\"index\": \"2018-01-08T00:00:00\", \"value\": 7.072852057143533}, {\"index\": \"2018-01-09T00:00:00\", \"value\": 6.969633205349975}, {\"index\": \"2018-01-10T00:00:00\", \"value\": 7.380231707288347}, {\"index\": \"2018-01-11T00:00:00\", \"value\": 7.524275278449225}, {\"index\": \"2018-01-12T00:00:00\", \"value\": 8.9785487854122}, {\"index\": \"2018-01-13T00:00:00\", \"value\": 9.739586510559192}, {\"index\": \"2018-01-14T00:00:00\", \"value\": 9.86126152705202}, {\"index\": \"2018-01-15T00:00:00\", \"value\": 10.305124759797446}, {\"index\": \"2018-01-16T00:00:00\", \"value\": 10.638799087171712}, {\"index\": \"2018-01-17T00:00:00\", \"value\": 12.132878160329318}, {\"index\": \"2018-01-18T00:00:00\", \"value\": 11.927719896563516}, {\"index\": \"2018-01-19T00:00:00\", \"value\": 12.240787598214418}, {\"index\": \"2018-01-20T00:00:00\", \"value\": 11.386691858912693}, {\"index\": \"2018-01-21T00:00:00\", \"value\": 8.833702043078613}, {\"index\": \"2018-01-22T00:00:00\", \"value\": 9.487320638518973}, {\"index\": \"2018-01-23T00:00:00\", \"value\": 10.35175683737848}, {\"index\": \"2018-01-24T00:00:00\", \"value\": 9.609591816972037}, {\"index\": \"2018-01-25T00:00:00\", \"value\": 11.879346440959644}, {\"index\": \"2018-01-26T00:00:00\", \"value\": 10.424980766360878}, {\"index\": \"2018-01-27T00:00:00\", \"value\": 10.470739283662324}, {\"index\": \"2018-01-28T00:00:00\", \"value\": 10.28355543363649}, {\"index\": \"2018-01-29T00:00:00\", \"value\": 11.816334647994948}, {\"index\": \"2018-01-30T00:00:00\", \"value\": 13.285693417895233}, {\"index\": \"2018-01-31T00:00:00\", \"value\": 13.44064084359215}, {\"index\": \"2018-02-01T00:00:00\", \"value\": 13.818803363194323}, {\"index\": \"2018-02-02T00:00:00\", \"value\": 12.93101761556421}, {\"index\": \"2018-02-03T00:00:00\", \"value\": 10.950221147340283}, {\"index\": \"2018-02-04T00:00:00\", \"value\": 10.60230899801413}, {\"index\": \"2018-02-05T00:00:00\", \"value\": 10.758657967118111}, {\"index\": \"2018-02-06T00:00:00\", \"value\": 11.988948647845833}, {\"index\": \"2018-02-07T00:00:00\", \"value\": 13.191328496630245}, {\"index\": \"2018-02-08T00:00:00\", \"value\": 12.804001679222292}, {\"index\": \"2018-02-09T00:00:00\", \"value\": 12.501698928646956}, {\"index\": \"2018-02-10T00:00:00\", \"value\": 11.453145963579864}, {\"index\": \"2018-02-11T00:00:00\", \"value\": 10.033128026400888}, {\"index\": \"2018-02-12T00:00:00\", \"value\": 8.326857835775876}, {\"index\": \"2018-02-13T00:00:00\", \"value\": 10.277633231007666}, {\"index\": \"2018-02-14T00:00:00\", \"value\": 9.767981049256013}, {\"index\": \"2018-02-15T00:00:00\", \"value\": 9.329906747644827}, {\"index\": \"2018-02-16T00:00:00\", \"value\": 8.0771113875949}, {\"index\": \"2018-02-17T00:00:00\", \"value\": 8.85460174342681}, {\"index\": \"2018-02-18T00:00:00\", \"value\": 7.240703895868859}, {\"index\": \"2018-02-19T00:00:00\", \"value\": 7.02796361565489}, {\"index\": \"2018-02-20T00:00:00\", \"value\": 6.132497054461215}, {\"index\": \"2018-02-21T00:00:00\", \"value\": 6.519399552320477}, {\"index\": \"2018-02-22T00:00:00\", \"value\": 6.008594414751604}, {\"index\": \"2018-02-23T00:00:00\", \"value\": 4.827962230629192}, {\"index\": \"2018-02-24T00:00:00\", \"value\": 4.799780002290537}, {\"index\": \"2018-02-25T00:00:00\", \"value\": 5.228111872820954}, {\"index\": \"2018-02-26T00:00:00\", \"value\": 5.294629095204122}, {\"index\": \"2018-02-27T00:00:00\", \"value\": 5.597100992943904}, {\"index\": \"2018-02-28T00:00:00\", \"value\": 4.962778899262941}, {\"index\": \"2018-03-01T00:00:00\", \"value\": 4.600037733275802}, {\"index\": \"2018-03-02T00:00:00\", \"value\": 3.927577285499851}, {\"index\": \"2018-03-03T00:00:00\", \"value\": 3.56802412395931}, {\"index\": \"2018-03-04T00:00:00\", \"value\": 2.7548778419148556}, {\"index\": \"2018-03-05T00:00:00\", \"value\": 1.0285952395831788}, {\"index\": \"2018-03-06T00:00:00\", \"value\": 1.2060213818369316}, {\"index\": \"2018-03-07T00:00:00\", \"value\": 0.8042404456286698}, {\"index\": \"2018-03-08T00:00:00\", \"value\": -0.8259579013373748}, {\"index\": \"2018-03-09T00:00:00\", \"value\": -0.3631756458116006}, {\"index\": \"2018-03-10T00:00:00\", \"value\": -1.2704740101948429}, {\"index\": \"2018-03-11T00:00:00\", \"value\": -1.218528614398704}, {\"index\": \"2018-03-12T00:00:00\", \"value\": -0.4894380522211671}, {\"index\": \"2018-03-13T00:00:00\", \"value\": -0.36045514146375646}, {\"index\": \"2018-03-14T00:00:00\", \"value\": 0.7789455430795442}, {\"index\": \"2018-03-15T00:00:00\", \"value\": -0.4558802772741084}, {\"index\": \"2018-03-16T00:00:00\", \"value\": -0.0535386360965594}, {\"index\": \"2018-03-17T00:00:00\", \"value\": -0.7383487270368726}, {\"index\": \"2018-03-18T00:00:00\", \"value\": -1.6091458762187543}, {\"index\": \"2018-03-19T00:00:00\", \"value\": -2.1879955409831697}, {\"index\": \"2018-03-20T00:00:00\", \"value\": -2.4995480731105424}, {\"index\": \"2018-03-21T00:00:00\", \"value\": -2.443382730880797}, {\"index\": \"2018-03-22T00:00:00\", \"value\": -3.6085325716641536}, {\"index\": \"2018-03-23T00:00:00\", \"value\": -2.7077060847099665}, {\"index\": \"2018-03-24T00:00:00\", \"value\": -2.242043644979507}, {\"index\": \"2018-03-25T00:00:00\", \"value\": -3.7782873312567307}, {\"index\": \"2018-03-26T00:00:00\", \"value\": -2.290035137461131}, {\"index\": \"2018-03-27T00:00:00\", \"value\": -0.3941459614305478}, {\"index\": \"2018-03-28T00:00:00\", \"value\": 0.7846336097291029}, {\"index\": \"2018-03-29T00:00:00\", \"value\": 0.604708773916752}, {\"index\": \"2018-03-30T00:00:00\", \"value\": -0.4660438475937905}, {\"index\": \"2018-03-31T00:00:00\", \"value\": 0.5884078793373462}, {\"index\": \"2018-04-01T00:00:00\", \"value\": 0.18523093236416655}, {\"index\": \"2018-04-02T00:00:00\", \"value\": 1.407676002746594}, {\"index\": \"2018-04-03T00:00:00\", \"value\": 1.6159509808234542}, {\"index\": \"2018-04-04T00:00:00\", \"value\": 2.5925900173071668}, {\"index\": \"2018-04-05T00:00:00\", \"value\": 2.9489564144815685}, {\"index\": \"2018-04-06T00:00:00\", \"value\": 3.6555295826735166}, {\"index\": \"2018-04-07T00:00:00\", \"value\": 3.666029603394337}, {\"index\": \"2018-04-08T00:00:00\", \"value\": 5.4519000973001726}, {\"index\": \"2018-04-09T00:00:00\", \"value\": 5.578812190003792}, {\"index\": \"2018-04-10T00:00:00\", \"value\": 5.980801553448494}]}}, {\"mode\": \"vega-lite\"});\n",
       "</script>"
      ],
      "text/plain": [
       "alt.Chart(...)"
      ]
     },
     "execution_count": 46,
     "metadata": {},
     "output_type": "execute_result"
    }
   ],
   "source": [
    "alt.Chart(time_data.reset_index()).mark_line().encode(\n",
    "    x='index:T',\n",
    "    y='value:Q'\n",
    ")"
   ]
  },
  {
   "cell_type": "markdown",
   "metadata": {},
   "source": [
    "### Graticule Generator"
   ]
  },
  {
   "cell_type": "code",
   "execution_count": 52,
   "metadata": {},
   "outputs": [
    {
     "data": {
      "text/html": [
       "\n",
       "<div id=\"altair-viz-4607e8c4919e4a1daa541f32fd9429df\"></div>\n",
       "<script type=\"text/javascript\">\n",
       "  (function(spec, embedOpt){\n",
       "    let outputDiv = document.currentScript.previousElementSibling;\n",
       "    if (outputDiv.id !== \"altair-viz-4607e8c4919e4a1daa541f32fd9429df\") {\n",
       "      outputDiv = document.getElementById(\"altair-viz-4607e8c4919e4a1daa541f32fd9429df\");\n",
       "    }\n",
       "    const paths = {\n",
       "      \"vega\": \"https://cdn.jsdelivr.net/npm//vega@5?noext\",\n",
       "      \"vega-lib\": \"https://cdn.jsdelivr.net/npm//vega-lib?noext\",\n",
       "      \"vega-lite\": \"https://cdn.jsdelivr.net/npm//vega-lite@4.8.1?noext\",\n",
       "      \"vega-embed\": \"https://cdn.jsdelivr.net/npm//vega-embed@6?noext\",\n",
       "    };\n",
       "\n",
       "    function loadScript(lib) {\n",
       "      return new Promise(function(resolve, reject) {\n",
       "        var s = document.createElement('script');\n",
       "        s.src = paths[lib];\n",
       "        s.async = true;\n",
       "        s.onload = () => resolve(paths[lib]);\n",
       "        s.onerror = () => reject(`Error loading script: ${paths[lib]}`);\n",
       "        document.getElementsByTagName(\"head\")[0].appendChild(s);\n",
       "      });\n",
       "    }\n",
       "\n",
       "    function showError(err) {\n",
       "      outputDiv.innerHTML = `<div class=\"error\" style=\"color:red;\">${err}</div>`;\n",
       "      throw err;\n",
       "    }\n",
       "\n",
       "    function displayChart(vegaEmbed) {\n",
       "      vegaEmbed(outputDiv, spec, embedOpt)\n",
       "        .catch(err => showError(`Javascript Error: ${err.message}<br>This usually means there's a typo in your chart specification. See the javascript console for the full traceback.`));\n",
       "    }\n",
       "\n",
       "    if(typeof define === \"function\" && define.amd) {\n",
       "      requirejs.config({paths});\n",
       "      require([\"vega-embed\"], displayChart, err => showError(`Error loading script: ${err.message}`));\n",
       "    } else if (typeof vegaEmbed === \"function\") {\n",
       "      displayChart(vegaEmbed);\n",
       "    } else {\n",
       "      loadScript(\"vega\")\n",
       "        .then(() => loadScript(\"vega-lite\"))\n",
       "        .then(() => loadScript(\"vega-embed\"))\n",
       "        .catch(showError)\n",
       "        .then(() => displayChart(vegaEmbed));\n",
       "    }\n",
       "  })({\"config\": {\"view\": {\"continuousWidth\": 400, \"continuousHeight\": 300}}, \"data\": {\"graticule\": {\"step\": [15, 15]}}, \"mark\": {\"type\": \"geoshape\", \"stroke\": \"black\"}, \"projection\": {\"rotate\": [0, 0, 0], \"type\": \"orthographic\"}, \"$schema\": \"https://vega.github.io/schema/vega-lite/v4.8.1.json\"}, {\"mode\": \"vega-lite\"});\n",
       "</script>"
      ],
      "text/plain": [
       "alt.Chart(...)"
      ]
     },
     "execution_count": 52,
     "metadata": {},
     "output_type": "execute_result"
    }
   ],
   "source": [
    "data = alt.graticule(step=[15, 15])\n",
    "\n",
    "alt.Chart(data).mark_geoshape(stroke='black').project(\n",
    "    'orthographic',\n",
    "    rotate=[0, 0, 0]\n",
    ")"
   ]
  },
  {
   "cell_type": "code",
   "execution_count": 87,
   "metadata": {},
   "outputs": [
    {
     "data": {
      "text/html": [
       "\n",
       "<div id=\"altair-viz-7e40a380191c490b9bf8dd098e212104\"></div>\n",
       "<script type=\"text/javascript\">\n",
       "  (function(spec, embedOpt){\n",
       "    let outputDiv = document.currentScript.previousElementSibling;\n",
       "    if (outputDiv.id !== \"altair-viz-7e40a380191c490b9bf8dd098e212104\") {\n",
       "      outputDiv = document.getElementById(\"altair-viz-7e40a380191c490b9bf8dd098e212104\");\n",
       "    }\n",
       "    const paths = {\n",
       "      \"vega\": \"https://cdn.jsdelivr.net/npm//vega@5?noext\",\n",
       "      \"vega-lib\": \"https://cdn.jsdelivr.net/npm//vega-lib?noext\",\n",
       "      \"vega-lite\": \"https://cdn.jsdelivr.net/npm//vega-lite@4.8.1?noext\",\n",
       "      \"vega-embed\": \"https://cdn.jsdelivr.net/npm//vega-embed@6?noext\",\n",
       "    };\n",
       "\n",
       "    function loadScript(lib) {\n",
       "      return new Promise(function(resolve, reject) {\n",
       "        var s = document.createElement('script');\n",
       "        s.src = paths[lib];\n",
       "        s.async = true;\n",
       "        s.onload = () => resolve(paths[lib]);\n",
       "        s.onerror = () => reject(`Error loading script: ${paths[lib]}`);\n",
       "        document.getElementsByTagName(\"head\")[0].appendChild(s);\n",
       "      });\n",
       "    }\n",
       "\n",
       "    function showError(err) {\n",
       "      outputDiv.innerHTML = `<div class=\"error\" style=\"color:red;\">${err}</div>`;\n",
       "      throw err;\n",
       "    }\n",
       "\n",
       "    function displayChart(vegaEmbed) {\n",
       "      vegaEmbed(outputDiv, spec, embedOpt)\n",
       "        .catch(err => showError(`Javascript Error: ${err.message}<br>This usually means there's a typo in your chart specification. See the javascript console for the full traceback.`));\n",
       "    }\n",
       "\n",
       "    if(typeof define === \"function\" && define.amd) {\n",
       "      requirejs.config({paths});\n",
       "      require([\"vega-embed\"], displayChart, err => showError(`Error loading script: ${err.message}`));\n",
       "    } else if (typeof vegaEmbed === \"function\") {\n",
       "      displayChart(vegaEmbed);\n",
       "    } else {\n",
       "      loadScript(\"vega\")\n",
       "        .then(() => loadScript(\"vega-lite\"))\n",
       "        .then(() => loadScript(\"vega-embed\"))\n",
       "        .catch(showError)\n",
       "        .then(() => displayChart(vegaEmbed));\n",
       "    }\n",
       "  })({\"config\": {\"view\": {\"continuousWidth\": 400, \"continuousHeight\": 300}}, \"data\": {\"name\": \"data-fcb18c7a3bbcdae3588c58a36a433f67\"}, \"mark\": {\"type\": \"square\", \"size\": 400}, \"encoding\": {\"color\": {\"type\": \"quantitative\", \"field\": \"value\", \"scale\": {\"range\": [\"green\", \"yellow\", \"red\"]}}, \"x\": {\"type\": \"ordinal\", \"field\": \"days_between\"}, \"y\": {\"type\": \"quantitative\", \"axis\": {\"values\": [1, 2]}, \"field\": \"person\"}}, \"height\": 400, \"width\": 400, \"$schema\": \"https://vega.github.io/schema/vega-lite/v4.8.1.json\", \"datasets\": {\"data-fcb18c7a3bbcdae3588c58a36a433f67\": [{\"days_between\": \"A\", \"person\": 1, \"value\": 10}, {\"days_between\": \"B\", \"person\": 1, \"value\": 11}, {\"days_between\": \"C\", \"person\": 1, \"value\": 12}, {\"days_between\": \"D\", \"person\": 1, \"value\": 13}, {\"days_between\": \"E\", \"person\": 1, \"value\": 14}, {\"days_between\": \"F\", \"person\": 1, \"value\": 15}, {\"days_between\": \"A\", \"person\": 2, \"value\": 10}, {\"days_between\": \"B\", \"person\": 2, \"value\": 11}, {\"days_between\": \"C\", \"person\": 2, \"value\": 12}, {\"days_between\": \"D\", \"person\": 2, \"value\": 13}, {\"days_between\": \"E\", \"person\": 2, \"value\": 14}, {\"days_between\": \"F\", \"person\": 2, \"value\": 15}]}}, {\"mode\": \"vega-lite\"});\n",
       "</script>"
      ],
      "text/plain": [
       "alt.Chart(...)"
      ]
     },
     "execution_count": 87,
     "metadata": {},
     "output_type": "execute_result"
    }
   ],
   "source": [
    "df=pd.DataFrame({'days_between': [1, 2, 3, 4, 5, 6, 1, 2, 3, 4, 5, 6],\n",
    "                 'person': [1, 1, 1, 1, 1, 1, 2, 2, 2, 2, 2,2],\n",
    "                 'value': [10,11,12,13,14,15,10,11,12,13,14,15]})\n",
    "df['days_between'] = df['days_between'].map({i + 1: 'ABCDEF'[i] for i in range(6)})\n",
    "\n",
    "circle_alt = alt.Chart(df).mark_circle(size=400).encode(\n",
    "    x=alt.X('days_between:O'),\n",
    "    y=alt.Y('person:Q', axis=alt.Axis(values=[1,2])),\n",
    "    color=alt.Color('value:Q', scale=alt.Scale(range=['green','yellow','red']))\n",
    ").properties(width=400, height=400)\n",
    "\n",
    "circle_alt.mark_square(size=400).encode(\n",
    "    x=alt.X('days_between:O'),\n",
    "    y=alt.Y('person:Q', axis=alt.Axis(values=[1,2])),\n",
    "    color=alt.Color('value:Q', scale=alt.Scale(range=['green','yellow','red']))\n",
    ").properties(width=400, height=400)"
   ]
  }
 ],
 "metadata": {
  "kernelspec": {
   "display_name": "Python 3",
   "language": "python",
   "name": "python3"
  },
  "language_info": {
   "codemirror_mode": {
    "name": "ipython",
    "version": 3
   },
   "file_extension": ".py",
   "mimetype": "text/x-python",
   "name": "python",
   "nbconvert_exporter": "python",
   "pygments_lexer": "ipython3",
   "version": "3.7.4"
  },
  "toc": {
   "base_numbering": 1,
   "nav_menu": {},
   "number_sections": true,
   "sideBar": true,
   "skip_h1_title": false,
   "title_cell": "Table of Contents",
   "title_sidebar": "Contents",
   "toc_cell": false,
   "toc_position": {},
   "toc_section_display": true,
   "toc_window_display": false
  }
 },
 "nbformat": 4,
 "nbformat_minor": 2
}
